{
  "cells": [
    {
      "cell_type": "markdown",
      "id": "daf8602b",
      "metadata": {},
      "source": [
        "## Writing Guide (After working, delete this cell and commit)\n",
        "\n",
        "### Markdown Grammar Requests\n",
        "- Emphasis is \"**\" in bold\n",
        "- Variables, functions, module names, etc. are backticked (\\`)\n",
        "- Important! Leave 1 space on both sides of backticks and bold\n",
        "- Example: In the next step, we will perform \\*\\*query routing** and \\*\\*document evaluation**. - 2 newlines (enter key twice!) when moving to the next line\n",
        "### Use abbreviation official notation\n",
        "- e.g., Llama (O) LlaMa (X)\n",
        "### Guidelines for writing code comments\n",
        "- Comments should be detailed\n",
        "- However, adding them on every line can be counterproductive\n",
        "### Data\n",
        "- Always refer to the `data` folder for the data path\n",
        "- In case of data copyright, include a link and description for downloading (not included in the data folder)\n",
        "### Images\n",
        "- Add images to the `assets` folder\n",
        "- Specify image paths using markdown syntax\n",
        "- Example: \\!\\[adaptive-rag](./assets/langgraph-adaptive-rag.png)\n",
        "- Image file name\n",
        "- All **lowercase English**\n",
        "- No spaces, replace spaces with `-` hyphens\n",
        "- jupyter notebook file name + image title + numbers if necessary (01, 02, 03, ...)\n",
        "- Example: If `10-LangGraph-Self-RAG.ipynb`\n",
        "\n",
        "```\n",
        "Image file name:\n",
        "\n",
        "- `10-langgraph-self-rag-flow-explanation.png` : OK\n",
        "- `10-langgraph-self-rag-flow-explanation-01.png`: OK\n",
        "- `10-langgraph-self-rag-flow-explanation-02.png`: OK\n",
        "\n",
        "```\n",
        "### Jupyter Notebook output\n",
        "- Commit as is with all output\n",
        "### pip usage\n",
        "- The pip command in the environment setting / package installation guide must be `%pip`, not `!pip`\n",
        "### Anchor related guide\n",
        "- Anchors in the table of contents must be exactly the same text as each heading, all lowercase letters after the # symbol, and only one dash\n",
        "- Example: `#environment-setup`\n",
        "- Incorrect examples: `#Environment-Setup`, `#environment--setup`\n",
        "- Note: [Section links in GitHub docs](https://docs.github.com/en/get-started/writing-on-github/getting-started-with-writing-and-formatting-on-github/basic-writing-and-formatting-syntax#section-links)\n",
        "\n",
        "---\n",
        "*(End of work guide. When you're done, delete this cell and commit!)*\n",
        "\n",
        "*(⬇️⬇️Start writing the tutorial from below⬇️⬇️)*"
      ]
    },
    {
      "cell_type": "markdown",
      "id": "635d8ebb",
      "metadata": {},
      "source": [
        "# Title\n",
        "\n",
        "*(Fill in your name and Github link in `Author`, fill in `Design` only if there is collaboration with the design team, `Peer Review` `Colab&Github Badge` are processed in batches without individual writing)*\n",
        "*(Delete after writing the content)*\n",
        "\n",
        "- Author: [your_name](github_link)\n",
        "- Design:\n",
        "- Peer Review:\n",
        "- This is a part of [LangChain Open Tutorial](https://github.com/LangChain-OpenTutorial/LangChain-OpenTutorial)\n",
        "\n",
        "[![Open in Colab](https://colab.research.google.com/assets/colab-badge.svg)](https://colab.research.google.com/github/LangChain-OpenTutorial/LangChain-OpenTutorial/blob/main/99-TEMPLATE/00-BASE-TEMPLATE-EXAMPLE.ipynb) [![Open in GitHub](https://img.shields.io/badge/Open%20in%20GitHub-181717?style=flat-square&logo=github&logoColor=white)](https://github.com/LangChain-OpenTutorial/LangChain-OpenTutorial/blob/main/99-TEMPLATE/00-BASE-TEMPLATE-EXAMPLE.ipynb)\n",
        "\n",
        "## Overview\n",
        "\n",
        "*(Mention the purpose of the tutorial / what it will mainly cover, please write at least 3 sentences. Recommended)*\n",
        "*(Delete after writing content)*\n",
        "\n",
        "...\n",
        "\n",
        "### Table of Contents\n",
        "\n",
        "*(Table of Contents for this tutorial, Bullet points in anchored link format, No capitalization in anchors, Only one dash \"-\")*\n",
        "*(Delete after writing content)*\n",
        "\n",
        "- [Overview](#overview)\n",
        "- [Environment Setup](#environment-setup)\n",
        "- [...](#...)\n",
        "\n",
        "### References\n",
        "\n",
        "*(Leave all sources and package API References used. End with \"---\" under References)*\n",
        "*(Delete after writing content)*\n",
        "\n",
        "- [LangChain](https://blog.langchain.dev/)\n",
        "- [...](...)\n",
        "----"
      ]
    },
    {
      "cell_type": "markdown",
      "id": "c6c7aba4",
      "metadata": {},
      "source": [
        "## Environment Setup\n",
        "\n",
        "Setting up your environment is the first step. See the [Environment Setup](https://wikidocs.net/257836) guide for more details.\n",
        "\n",
        "\n",
        "**[Note]**\n",
        "\n",
        "The langchain-opentutorial is a package of easy-to-use environment setup guidance, useful functions and utilities for tutorials.\n",
        "Check out the  [`langchain-opentutorial`](https://github.com/LangChain-OpenTutorial/langchain-opentutorial-pypi) for more details."
      ]
    },
    {
      "cell_type": "code",
      "execution_count": 1,
      "id": "21943adb",
      "metadata": {},
      "outputs": [],
      "source": [
        "%%capture --no-stderr\n",
        "%pip install langchain-opentutorial"
      ]
    },
    {
      "cell_type": "code",
      "execution_count": 3,
      "id": "f25ec196",
      "metadata": {},
      "outputs": [
        {
          "name": "stderr",
          "output_type": "stream",
          "text": [
            "\n",
            "\u001b[1m[\u001b[0m\u001b[34;49mnotice\u001b[0m\u001b[1;39;49m]\u001b[0m\u001b[39;49m A new release of pip is available: \u001b[0m\u001b[31;49m24.2\u001b[0m\u001b[39;49m -> \u001b[0m\u001b[32;49m24.3.1\u001b[0m\n",
            "\u001b[1m[\u001b[0m\u001b[34;49mnotice\u001b[0m\u001b[1;39;49m]\u001b[0m\u001b[39;49m To update, run: \u001b[0m\u001b[32;49mpip install --upgrade pip\u001b[0m\n"
          ]
        }
      ],
      "source": [
        "# Install required packages\n",
        "from langchain_opentutorial import package\n",
        "\n",
        "package.install(\n",
        "    [\n",
        "        \"langsmith\",\n",
        "        \"langchain\",\n",
        "        \"langchain_core\",\n",
        "        \"langchain-anthropic\",\n",
        "        \"langchain_community\",\n",
        "        \"langchain_text_splitters\",\n",
        "        \"langchain_openai\",\n",
        "    ],\n",
        "    verbose=False,\n",
        "    upgrade=False,\n",
        ")"
      ]
    },
    {
      "cell_type": "markdown",
      "id": "690a9ae0",
      "metadata": {},
      "source": [
        "You can set API keys in a `.env` file or set them manually.\n",
        "\n",
        "[Note] If you’re not using the `.env` file, no worries! Just enter the keys directly in the cell below, and you’re good to go."
      ]
    },
    {
      "cell_type": "code",
      "execution_count": null,
      "id": "327c2c7c",
      "metadata": {},
      "outputs": [],
      "source": [
        "from dotenv import load_dotenv\n",
        "from langchain_opentutorial import set_env\n",
        "\n",
        "# Attempt to load environment variables from a .env file; if unsuccessful, set them manually.\n",
        "if not load_dotenv():\n",
        "    set_env(\n",
        "        {\n",
        "            \"OPENAI_API_KEY\": \"\",\n",
        "            \"LANGCHAIN_API_KEY\": \"\",\n",
        "            \"LANGCHAIN_TRACING_V2\": \"true\",\n",
        "            \"LANGCHAIN_ENDPOINT\": \"https://api.smith.langchain.com\",\n",
        "            \"LANGCHAIN_PROJECT\": \"\",  # set the project name same as the title\n",
        "        }\n",
        "    )"
      ]
    },
    {
      "cell_type": "markdown",
      "id": "aa00c3f4",
      "metadata": {},
      "source": [
        "## Subheading\n",
        "\n",
        "### Subcategories of subheadings\n",
        "\n",
        "*(### Only use up to 3. No more than that)*"
      ]
    },
    {
      "cell_type": "code",
      "execution_count": 4,
      "id": "69cb77da",
      "metadata": {},
      "outputs": [],
      "source": []
    }
  ],
  "metadata": {
    "kernelspec": {
      "display_name": "langchain-kr-lwwSZlnu-py3.11",
      "language": "python",
      "name": "python3"
    },
    "language_info": {
      "codemirror_mode": {
        "name": "ipython",
        "version": 3
      },
      "file_extension": ".py",
      "mimetype": "text/x-python",
      "name": "python",
      "nbconvert_exporter": "python",
      "pygments_lexer": "ipython3",
      "version": "3.11.10"
    }
  },
  "nbformat": 4,
  "nbformat_minor": 5
}
