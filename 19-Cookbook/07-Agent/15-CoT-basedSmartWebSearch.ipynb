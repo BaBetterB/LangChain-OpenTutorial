{
 "cells": [
  {
   "cell_type": "markdown",
   "metadata": {},
   "source": [
    "# CoT Based Smart Web Search\n",
    "\n",
    "- Author: [syshin0116](https://github.com/syshin0116)\n",
    "- Design: \n",
    "- Peer Review: \n",
    "- This is a part of [LangChain Open Tutorial](https://github.com/LangChain-OpenTutorial/LangChain-OpenTutorial)\n",
    "\n",
    "[![Open in Colab](https://colab.research.google.com/assets/colab-badge.svg)](https://colab.research.google.com/github/LangChain-OpenTutorial/LangChain-OpenTutorial/blob/main/19-Cookbook/07-Agent/15-CoT-basedSmartWebSearch.ipynb) [![Open in GitHub](https://img.shields.io/badge/Open%20in%20GitHub-181717?style=flat-square&logo=github&logoColor=white)](https://github.com/LangChain-OpenTutorial/LangChain-OpenTutorial/blob/main/19-Cookbook/07-Agent/15-CoT-basedSmartWebSearch.ipynb)\n",
    "\n",
    "## Overview\n",
    "\n",
    "This tutorial demonstrates a chain-of-thought (CoT) based smart web search approach designed to build a plan-and-execute style QA chatbot. The system breaks down complex user queries into a sequence of actionable steps such as **search**, **extraction**, **reasoning**, and **response generation**. It leverages language models to perform each task, ensuring that every phase of the process is handled efficiently and accurately.\n",
    "\n",
    "Throughout the tutorial, you will learn how to set up your environment, install the necessary packages, and define key data models using `Pydantic`. These models enforce a structured workflow by representing each task step (e.g., **search**, **think**, and **respond**) and by specifying how references and final outputs should be formatted in markdown.\n",
    "\n",
    "The workflow is composed of multiple nodes, each responsible for a specific phase of the processing pipeline. You will see how the system generates a plan from a user query, retrieves raw information from the web, extracts and summarizes the relevant data, optionally refines the results through additional reasoning, and finally compiles a comprehensive answer. The nodes are dynamically connected through a routing function that adapts to the current state of the process.\n",
    "\n",
    "A key aspect of this tutorial is the integration of asynchronous execution, which allows the entire workflow to run in real time. This not only improves performance but also provides immediate feedback during long-running tasks, making it easier to monitor and debug the process.\n",
    "\n",
    "### Key Features\n",
    "\n",
    "- **Chain-of-Thought Query Expansion**: Breaks down complex queries into manageable steps.\n",
    "- **Modular Workflow**: Separates the process into distinct nodes for planning, searching, extracting, reasoning, and responding.\n",
    "- **Asynchronous Execution**: Enables real-time streaming and monitoring of the workflow.\n",
    "- **Dynamic Task Routing**: Adapts the processing sequence based on the current state, ensuring efficient task handling.\n",
    "- **Robust Data Modeling**: Uses `Pydantic` to enforce data consistency and type safety throughout the system.\n",
    "### Table of Contents\n",
    "\n",
    "- [Overview](#overview)\n",
    "- [Environment Setup](#environment-setup)\n",
    "- [Data Models and Type Definitions](#data-models-and-type-definitions)\n",
    "- [Define Nodes for the Workflow](#define-nodes-for-the-workflow)\n",
    "- [Route Tasks and Compile Workflow](#route-tasks-and-compile-workflow)\n",
    "- [Run Workflow](#run-workflow)\n",
    "\n",
    "### References\n",
    "\n",
    "- [Language Agent Tree Search Unifies Reasoning Acting and Planning in Language Models](https://arxiv.org/abs/2310.04406)\n",
    "- [Building (and Breaking) WebLangChain](https://blog.langchain.dev/weblangchain/)\n",
    "- [Plan-and-Execute Agents](https://blog.langchain.dev/planning-agents/)\n",
    "- [CopilotKit](https://github.com/CopilotKit/CopilotKit)\n",
    "----"
   ]
  },
  {
   "cell_type": "markdown",
   "metadata": {},
   "source": [
    "## Environment Setup\n",
    "\n",
    "Setting up your environment is the first step. See the [Environment Setup](https://wikidocs.net/257836) guide for more details.\n",
    "\n",
    "\n",
    "**[Note]**\n",
    "\n",
    "The langchain-opentutorial is a package of easy-to-use environment setup guidance, useful functions and utilities for tutorials.\n",
    "Check out the  [`langchain-opentutorial`](https://github.com/LangChain-OpenTutorial/langchain-opentutorial-pypi) for more details."
   ]
  },
  {
   "cell_type": "code",
   "execution_count": 1,
   "metadata": {},
   "outputs": [],
   "source": [
    "%%capture --no-stderr\n",
    "%pip install langchain-opentutorial"
   ]
  },
  {
   "cell_type": "markdown",
   "metadata": {},
   "source": [
    "# Install required packages\n",
    "from langchain_opentutorial import package\n",
    "\n",
    "package.install(\n",
    "    [\n",
    "        \"langsmith\",\n",
    "        \"langchain\",\n",
    "        \"langchain_core\",\n",
    "        \"langchain-anthropic\",\n",
    "        \"langchain_community\",\n",
    "        \"langchain_text_splitters\",\n",
    "        \"langchain_openai\",\n",
    "    ],\n",
    "    verbose=False,\n",
    "    upgrade=False,\n",
    ")"
   ]
  },
  {
   "cell_type": "code",
   "execution_count": 2,
   "metadata": {},
   "outputs": [
    {
     "name": "stderr",
     "output_type": "stream",
     "text": [
      "\n",
      "\u001b[1m[\u001b[0m\u001b[34;49mnotice\u001b[0m\u001b[1;39;49m]\u001b[0m\u001b[39;49m A new release of pip is available: \u001b[0m\u001b[31;49m24.2\u001b[0m\u001b[39;49m -> \u001b[0m\u001b[32;49m25.0\u001b[0m\n",
      "\u001b[1m[\u001b[0m\u001b[34;49mnotice\u001b[0m\u001b[1;39;49m]\u001b[0m\u001b[39;49m To update, run: \u001b[0m\u001b[32;49mpip install --upgrade pip\u001b[0m\n"
     ]
    }
   ],
   "source": [
    "# Install required packages\n",
    "from langchain_opentutorial import package\n",
    "\n",
    "package.install(\n",
    "    [\"duckduckgo-search\"],\n",
    "    verbose=False,\n",
    "    upgrade=False,\n",
    ")"
   ]
  },
  {
   "cell_type": "code",
   "execution_count": 3,
   "metadata": {},
   "outputs": [
    {
     "name": "stdout",
     "output_type": "stream",
     "text": [
      "Environment variables have been set successfully.\n"
     ]
    }
   ],
   "source": [
    "# Set environment variables\n",
    "from langchain_opentutorial import set_env\n",
    "\n",
    "set_env(\n",
    "    {\n",
    "        \"OPENAI_API_KEY\": \"\",\n",
    "        \"LANGCHAIN_API_KEY\": \"\",\n",
    "        \"LANGCHAIN_TRACING_V2\": \"true\",\n",
    "        \"LANGCHAIN_ENDPOINT\": \"https://api.smith.langchain.com\",\n",
    "        \"LANGCHAIN_PROJECT\": \"COT-based-smart-websearch\",\n",
    "        \"TAVILY_API_KEY\": \"\",\n",
    "    }\n",
    ")"
   ]
  },
  {
   "cell_type": "markdown",
   "metadata": {},
   "source": [
    "You can alternatively set API keys such as `OPENAI_API_KEY` in a `.env` file and load them.\n",
    "\n",
    "[Note] This is not necessary if you've already set the required API keys in previous steps."
   ]
  },
  {
   "cell_type": "code",
   "execution_count": 4,
   "metadata": {},
   "outputs": [
    {
     "data": {
      "text/plain": [
       "True"
      ]
     },
     "execution_count": 4,
     "metadata": {},
     "output_type": "execute_result"
    }
   ],
   "source": [
    "# Load API keys from .env file\n",
    "from dotenv import load_dotenv\n",
    "\n",
    "load_dotenv(override=True)"
   ]
  },
  {
   "cell_type": "code",
   "execution_count": 5,
   "metadata": {},
   "outputs": [],
   "source": [
    "# import for asynchronous tasks\n",
    "import asyncio\n",
    "import nest_asyncio\n",
    "\n",
    "nest_asyncio.apply()"
   ]
  },
  {
   "cell_type": "markdown",
   "metadata": {},
   "source": [
    "## Data Models and Type Definitions\n",
    "\n",
    "This section lays the foundation for the entire tutorial by defining the key data structures using `Pydantic`. \n",
    "\n",
    "It provides clear models for representing each step in the research process (i.e., **search**, **think**, and **respond**), as well as the structure of references and the final markdown response. \n",
    "\n",
    "Using these models ensures data consistency and type safety throughout the workflow."
   ]
  },
  {
   "cell_type": "code",
   "execution_count": 6,
   "metadata": {},
   "outputs": [],
   "source": [
    "from pydantic import BaseModel, Field\n",
    "from typing import Literal\n",
    "from langchain.tools import tool\n",
    "from typing import List, Optional, Annotated\n",
    "from langgraph.graph import MessagesState\n",
    "import operator\n",
    "from typing_extensions import TypedDict\n",
    "from pprint import pprint\n",
    "\n",
    "\n",
    "class TaskStep(BaseModel):\n",
    "    \"\"\"\n",
    "    Model for a task step in the research process\n",
    "    Types:\n",
    "      - \"search\": Retrieve raw information from the web\n",
    "      - \"think\": (Optional) Further analyze or refine extracted data from search\n",
    "      - \"respond\": Generate the final answer\n",
    "    \"\"\"\n",
    "\n",
    "    id: str = Field(description=\"Unique identifier for the step\")\n",
    "    description: str = Field(\n",
    "        description='Step description, e.g., \"Search for latest AI news\"'\n",
    "    )\n",
    "    status: Literal[\"pending\", \"in_progress\", \"completed\"] = Field(\n",
    "        description='Step status: \"pending\", \"in_progress\", or \"completed\"'\n",
    "    )\n",
    "    type: Literal[\"search\", \"think\", \"respond\"] = Field(\n",
    "        description='Step type: \"search\", \"think\", or \"respond\"'\n",
    "    )\n",
    "    data: dict = Field(default_factory=dict, description=\"Additional data for the step\")\n",
    "    search_result: Optional[List] = Field(description=\"The search result\")\n",
    "    result: Optional[List] = Field(description=\"The result of the step\")\n",
    "\n",
    "\n",
    "class TaskSteps(BaseModel):\n",
    "    \"\"\"\n",
    "    Model for a list of task steps\n",
    "    \"\"\"\n",
    "\n",
    "    steps: List[TaskStep] = Field(description=\"List of task steps\")\n",
    "\n",
    "\n",
    "class Reference(BaseModel):\n",
    "    \"\"\"\n",
    "    Schema for a reference\n",
    "    \"\"\"\n",
    "\n",
    "    citation_id: int = Field(description=\"The citation id starting from 1\")\n",
    "    title: str = Field(description=\"The title of the reference\")\n",
    "    url: str = Field(description=\"The url of the reference\")\n",
    "\n",
    "\n",
    "class FinalResponse(BaseModel):\n",
    "    \"\"\"\n",
    "    Schema for the final response\n",
    "    \"\"\"\n",
    "\n",
    "    markdown: str = Field(\n",
    "        description=\"The markdown formatted final response with inline citations. If you add any headings, make sure to start at level (##)\"\n",
    "    )\n",
    "    references: list[Reference] = Field(description=\"A list of references\")"
   ]
  },
  {
   "cell_type": "markdown",
   "metadata": {},
   "source": [
    "### Define Agent and Worker State\n",
    "\n",
    "In this part, two distinct state models are defined: one for the overall agent and one for individual worker tasks.\n",
    "\n",
    "The **agent state** encapsulates the full progress of the system, including all processing steps, search results, and the final answer.\n",
    "\n",
    "The **worker state** focuses on managing the current task being executed.\n",
    "\n",
    "This separation enhances modularity and simplifies debugging and maintenance."
   ]
  },
  {
   "cell_type": "code",
   "execution_count": 7,
   "metadata": {},
   "outputs": [],
   "source": [
    "class AgentState(MessagesState):\n",
    "    \"\"\"\n",
    "    The state of the agent.\n",
    "    Contains the model identifier, a list of steps, and the final answer.\n",
    "    \"\"\"\n",
    "\n",
    "    steps: Annotated[list, operator.add]\n",
    "    search_result: Annotated[str, operator.add]\n",
    "    extraction_result: Optional[str]\n",
    "    think_result: Optional[str]\n",
    "    answer: Optional[str]\n",
    "\n",
    "\n",
    "class WorkerState(TypedDict):\n",
    "    steps: Annotated[list, operator.add]\n",
    "    current_step: TaskStep"
   ]
  },
  {
   "cell_type": "markdown",
   "metadata": {},
   "source": [
    "### Initialize Chat Models\n",
    "This header covers the initialization of the language models that drive the workflow.\n",
    "\n",
    "Two chat models are set up: one optimized for **smart processing** (using enhanced reasoning capabilities) and another for **fast execution** (for tasks requiring quicker responses).\n",
    "\n",
    "This dual-model approach allows the system to balance quality and speed depending on the task at hand."
   ]
  },
  {
   "cell_type": "code",
   "execution_count": 8,
   "metadata": {},
   "outputs": [],
   "source": [
    "from langchain_openai import ChatOpenAI\n",
    "\n",
    "smart_model = ChatOpenAI(model=\"gpt-4o\", temperature=0.5)\n",
    "fast_model = ChatOpenAI(model=\"gpt-4o-mini\", temperature=0.5)"
   ]
  },
  {
   "cell_type": "markdown",
   "metadata": {},
   "source": [
    "## Define Nodes for the Workflow\n",
    "This section explains how the workflow is decomposed into discrete, manageable nodes.\n",
    "\n",
    "Each node represents a specific phase in processing the user query—from planning steps, fetching information, refining data, to generating the final answer.\n",
    "\n",
    "This modular design simplifies both debugging and future enhancements."
   ]
  },
  {
   "cell_type": "markdown",
   "metadata": {},
   "source": [
    "### Plan Steps Node\n",
    "The **plan steps node** is the entry point of the workflow.\n",
    "\n",
    "It takes the user's query and generates a structured plan outlining the necessary steps to answer it.\n",
    "\n",
    "These steps include creating search tasks, optional think tasks for deeper analysis, and a final respond task to craft the answer.\n",
    "\n",
    "A well-defined plan here is crucial for effective execution in later nodes."
   ]
  },
  {
   "cell_type": "code",
   "execution_count": 9,
   "metadata": {},
   "outputs": [],
   "source": [
    "from datetime import datetime\n",
    "from langchain_core.messages import HumanMessage, SystemMessage\n",
    "from langchain_core.runnables import RunnableConfig\n",
    "\n",
    "\n",
    "async def plan_steps_node(state: AgentState, config: RunnableConfig):\n",
    "    \"\"\"\n",
    "    Generate a plan of steps for the research process.\n",
    "    The plan should include steps of type \"search\", and \"respond\".\n",
    "    Optionally, a \"think\" step may be included if further analysis is desired.\n",
    "    \"\"\"\n",
    "    instructions = f\"\"\"\n",
    "You are an assistant specialized in breaking down complex queries into actionable steps.\n",
    "\n",
    "Generate a plan of steps to find the answer to the user's query.\n",
    "If the query is simple, you may directly create one \"respond\" step.\n",
    "\n",
    "Divide the query into the following steps:\n",
    "- First, create one or more \"search\" steps to retrieve raw information from the web.\n",
    "- Optionally, create a \"think\" step to analyze the extracted data further.\n",
    "- Finally, create a \"respond\" step to generate the final answer in markdown format.\n",
    "\n",
    "Current date: {datetime.now().strftime(\"%Y-%m-%d\")}.\n",
    "\"\"\"\n",
    "    response = await smart_model.with_structured_output(TaskSteps).ainvoke(\n",
    "        [\n",
    "            SystemMessage(content=instructions),\n",
    "            HumanMessage(\n",
    "                content=state[\"messages\"][0].content,\n",
    "            ),\n",
    "        ],\n",
    "        config,\n",
    "    )\n",
    "\n",
    "    return {\"steps\": response.steps}"
   ]
  },
  {
   "cell_type": "markdown",
   "metadata": {},
   "source": [
    "### Search Node\n",
    "In the **search node**, the system actively retrieves information from the web.\n",
    "\n",
    "It generates multiple search queries based on the current task description and invokes an external search tool (i.e., `TavilySearchResults`).\n",
    "\n",
    "This node gathers the raw data needed for subsequent processing and updates the task state accordingly."
   ]
  },
  {
   "cell_type": "code",
   "execution_count": 10,
   "metadata": {},
   "outputs": [],
   "source": [
    "import json\n",
    "import asyncio\n",
    "from datetime import datetime\n",
    "from langchain_community.tools import TavilySearchResults\n",
    "from langchain_core.messages import SystemMessage, HumanMessage\n",
    "\n",
    "\n",
    "async def search_node(state: WorkerState, config: RunnableConfig):\n",
    "    \"\"\"\n",
    "    Execute a pending \"search\" step.\n",
    "    This node generates multiple search queries for the current step and then invokes\n",
    "    the Tavily search tool for each query. The results are aggregated and stored in the current step's data.\n",
    "    \"\"\"\n",
    "\n",
    "    # Initialize the Tavily search tool\n",
    "    tavily_tool = TavilySearchResults(\n",
    "        max_results=3,\n",
    "        search_depth=\"advanced\",\n",
    "        include_answer=True,\n",
    "        include_raw_content=True,\n",
    "        include_images=False,\n",
    "    )\n",
    "\n",
    "    # Retrieve the steps list and current step from WorkerState\n",
    "    steps_list = state.get(\"steps\", [])\n",
    "    current_step = state.get(\"current_step\")\n",
    "    if current_step is None:\n",
    "        raise ValueError(\"No pending search step found in WorkerState.\")\n",
    "\n",
    "    # Prepare system and human instructions for generating multiple queries\n",
    "    system_instructions = f\"\"\"\n",
    "You are an AI assistant specialized in generating search queries.\n",
    "Based on the following step description, generate multiple relevant search queries.\n",
    "Current date: {datetime.now().strftime(\"%Y-%m-%d\")}.\n",
    "\"\"\"\n",
    "    human_instructions = f\"Current step: {current_step.description}\"\n",
    "\n",
    "    # Bind the search tool to the model and invoke it with the messages\n",
    "    model = smart_model.bind_tools([tavily_tool], tool_choice=tavily_tool.name)\n",
    "    response = await model.ainvoke(\n",
    "        [\n",
    "            SystemMessage(content=system_instructions),\n",
    "            HumanMessage(content=human_instructions),\n",
    "        ],\n",
    "        config,\n",
    "    )\n",
    "\n",
    "    tool_msg = await tavily_tool.ainvoke(response.tool_calls[0])\n",
    "    current_step.status = \"completed\"\n",
    "\n",
    "    return {\"search_result\": tool_msg.content}"
   ]
  },
  {
   "cell_type": "markdown",
   "metadata": {},
   "source": [
    "### Extraction Node\n",
    "\n",
    "Once the raw data is collected, the **extraction node** processes this information by summarizing and highlighting the most relevant details.\n",
    "\n",
    "It extracts key data points and reference links while formatting the output in markdown.\n",
    "\n",
    "This focused summarization reduces noise and improves the quality of the final answer."
   ]
  },
  {
   "cell_type": "code",
   "execution_count": 11,
   "metadata": {},
   "outputs": [],
   "source": [
    "async def extraction_node(state: AgentState, config: RunnableConfig):\n",
    "    \"\"\"\n",
    "    Extract and summarize key information from raw search results.\n",
    "    This node should run immediately after a search step.\n",
    "    \"\"\"\n",
    "\n",
    "    raw_search_results = state[\"search_result\"]\n",
    "    system_instructions = f\"\"\"\n",
    "You are an assistant that summarizes raw search results.\n",
    "Please extract and summarize the relevant information, including key data and reference links.\n",
    "DO NOT INCLUDE ANY EXTRA INFORMATION. ALL OF THE INFORMATION YOU ARE LOOKING FOR IS IN THE SEARCH RESULTS.\n",
    "DO NOT answer the user's query yet. Just summarize the search results.\n",
    "\n",
    "Use markdown formatting and put the references inline and the links at the end.\n",
    "Like this:\n",
    "This is a sentence with a reference to a source[1] and another reference[2].\n",
    "[1]: [Title of Source 1](http://example.com/source1)\n",
    "[2]: [Title of Source 2](http://example.com/source2)\n",
    "\"\"\"\n",
    "    human_instructions = f\"Raw search results: {raw_search_results}\"\n",
    "    response = await fast_model.ainvoke(\n",
    "        [\n",
    "            state[\"messages\"][0].content,\n",
    "            SystemMessage(content=system_instructions),\n",
    "            HumanMessage(content=human_instructions),\n",
    "        ],\n",
    "        config,\n",
    "    )\n",
    "\n",
    "    return {\"extracton_result\": response.content}"
   ]
  },
  {
   "cell_type": "markdown",
   "metadata": {},
   "source": [
    "### Think Node\n",
    "The **think node** provides an optional but valuable reasoning phase.\n",
    "\n",
    "If further analysis is required, this node refines and reorganizes the extracted data to enhance clarity and detail.\n",
    "\n",
    "It acts as an intermediary step to bridge the gap between raw information and a coherent final answer."
   ]
  },
  {
   "cell_type": "code",
   "execution_count": 12,
   "metadata": {},
   "outputs": [],
   "source": [
    "async def think_node(state: AgentState, config: RunnableConfig):\n",
    "    \"\"\"\n",
    "    Optionally process the extracted information for further analysis.\n",
    "    This node is executed if there is a pending \"think\" step.\n",
    "    \"\"\"\n",
    "    steps_list = state.get(\"steps\", [])\n",
    "    current_step = next(\n",
    "        (\n",
    "            step\n",
    "            for step in steps_list\n",
    "            if step.status == \"pending\" and step.type == \"think\"\n",
    "        ),\n",
    "        None,\n",
    "    )\n",
    "\n",
    "    print(current_step)\n",
    "\n",
    "    # System and Human Instructions\n",
    "    system_instructions = \"\"\"\n",
    "You are an advanced reasoning AI designed to analyze and refine information.\n",
    "Carefully evaluate the provided data to enhance its clarity and completeness.\n",
    "\"\"\"\n",
    "\n",
    "    human_instructions = f\"\"\"\n",
    "Based on the following extracted data:\n",
    "{steps_list}\n",
    "Please analyze and refine the information before generating the final answer.\n",
    "\"\"\"\n",
    "\n",
    "    response = await fast_model.ainvoke(\n",
    "        [\n",
    "            SystemMessage(content=system_instructions),\n",
    "            HumanMessage(content=human_instructions),\n",
    "        ],\n",
    "        config,\n",
    "    )\n",
    "\n",
    "    # Update the current step using dictionary assignment\n",
    "    current_step.status = \"completed\"\n",
    "    return {\"think_result\": response.content}"
   ]
  },
  {
   "cell_type": "markdown",
   "metadata": {},
   "source": [
    "### Response Node\n",
    "\n",
    "The **response node** aggregates all processed information from previous steps to generate the final answer.\n",
    "\n",
    "It formats the response in markdown, including inline citations and links, ensuring the output is clear and well-referenced."
   ]
  },
  {
   "cell_type": "code",
   "execution_count": 13,
   "metadata": {},
   "outputs": [],
   "source": [
    "import json\n",
    "from langchain_core.messages import HumanMessage\n",
    "from langchain_core.runnables import RunnableConfig\n",
    "from langchain.tools import tool\n",
    "from pydantic import BaseModel, Field\n",
    "\n",
    "\n",
    "async def response_node(state: AgentState, config: RunnableConfig):\n",
    "    \"\"\"\n",
    "    Generate the final answer using the aggregated information.\n",
    "    \"\"\"\n",
    "\n",
    "    system_message = f\"\"\"\n",
    "Based on the following steps to answer the user's query, generate a clear and concise final answer in markdown format.\n",
    "\n",
    "All steps:\n",
    "{state[\"steps\"]}\n",
    "\n",
    "Put the references inline and the links at the end.\n",
    "\n",
    "Like this:\n",
    "This is a sentence with a reference to a source[1] and another reference[2].\n",
    "[1]: [Title of Source 1](http://example.com/source1)\n",
    "[2]: [Title of Source 2](http://example.com/source2)\n",
    "\"\"\"\n",
    "\n",
    "    response = await smart_model.with_structured_output(FinalResponse).ainvoke(\n",
    "        [\n",
    "            state[\"messages\"][0].content,\n",
    "            HumanMessage(content=system_message),\n",
    "        ],\n",
    "        config,\n",
    "    )\n",
    "\n",
    "    return {\"answer\": response}"
   ]
  },
  {
   "cell_type": "markdown",
   "metadata": {},
   "source": [
    "## Route Tasks and Compile Workflow\n",
    "\n",
    "This section describes how tasks are dynamically routed between nodes based on the current state.\n",
    "\n",
    "It explains the logic behind selecting the appropriate node for each pending task and compiling these nodes into a cohesive workflow graph.\n",
    "\n",
    "This dynamic routing enables efficient management of complex multi-step processes."
   ]
  },
  {
   "cell_type": "markdown",
   "metadata": {},
   "source": [
    "### Task Router Function\n",
    "\n",
    "The **task router function** evaluates the current state and determines which node should execute next.\n",
    "\n",
    "It checks for pending **search**, **think**, or **respond** tasks and routes them accordingly.\n",
    "\n",
    "This function is vital for ensuring that the workflow remains adaptive and responsive to real-time data."
   ]
  },
  {
   "cell_type": "code",
   "execution_count": 14,
   "metadata": {},
   "outputs": [],
   "source": [
    "from langgraph.constants import Send\n",
    "from langgraph.graph import END\n",
    "\n",
    "\n",
    "def task_router(state):\n",
    "    \"\"\"\n",
    "    Route to the appropriate node based on the pending step type.\n",
    "    - If a pending \"search\" step exists, dispatch it (via Send) so that search_node\n",
    "      executes and then flows automatically into extraction_node.\n",
    "    - Else if a pending \"think\" step exists, route to think_node.\n",
    "    - Else if a pending \"respond\" step exists, route to response_node.\n",
    "    - If no pending steps remain, return END.\n",
    "    \"\"\"\n",
    "    steps_list = state.get(\"steps\", [])\n",
    "\n",
    "    pending_search = [\n",
    "        step\n",
    "        for step in steps_list\n",
    "        if step.status == \"pending\" and step.type == \"search\"\n",
    "    ]\n",
    "    if pending_search:\n",
    "        return [\n",
    "            Send(\"search_node\", {\"steps\": steps_list, \"current_step\": step})\n",
    "            for step in pending_search\n",
    "        ]\n",
    "    pending_think = [\n",
    "        step for step in steps_list if step.status == \"pending\" and step.type == \"think\"\n",
    "    ]\n",
    "    if pending_think:\n",
    "        return \"think_node\"\n",
    "    pending_respond = [\n",
    "        step\n",
    "        for step in steps_list\n",
    "        if step.status == \"pending\" and step.type == \"respond\"\n",
    "    ]\n",
    "    if pending_respond:\n",
    "        return \"response_node\"\n",
    "    return END"
   ]
  },
  {
   "cell_type": "markdown",
   "metadata": {},
   "source": [
    "### Build Workflow Graph\n",
    "\n",
    "Here, all the individual nodes are assembled into a complete workflow graph.\n",
    "\n",
    "The graph defines the flow from initial planning to the final response, with conditional edges dictating transitions between nodes.\n",
    "\n",
    "This mapping of the workflow simplifies understanding the overall process and aids in future modifications."
   ]
  },
  {
   "cell_type": "code",
   "execution_count": 15,
   "metadata": {},
   "outputs": [],
   "source": [
    "from langgraph.graph import StateGraph\n",
    "from langgraph.checkpoint.memory import MemorySaver\n",
    "\n",
    "workflow = StateGraph(AgentState)\n",
    "workflow.add_node(\"plan_steps_node\", plan_steps_node)\n",
    "workflow.add_node(\"search_node\", search_node)\n",
    "workflow.add_node(\"extraction_node\", extraction_node)\n",
    "workflow.add_node(\"think_node\", think_node)\n",
    "workflow.add_node(\"response_node\", response_node)\n",
    "\n",
    "workflow.set_entry_point(\"plan_steps_node\")\n",
    "\n",
    "# After planning, route according to pending step types.\n",
    "workflow.add_conditional_edges(\n",
    "    \"plan_steps_node\", task_router, [\"search_node\", \"think_node\", \"response_node\"]\n",
    ")\n",
    "# Ensure search_node automatically flows to extraction_node.\n",
    "workflow.add_edge(\"search_node\", \"extraction_node\")\n",
    "# After extraction, re-run the router to decide if a think step is needed.\n",
    "workflow.add_conditional_edges(\n",
    "    \"extraction_node\", task_router, [\"think_node\", \"response_node\"]\n",
    ")\n",
    "# If a think node exists, its output flows to the response node.\n",
    "workflow.add_edge(\"think_node\", \"response_node\")\n",
    "workflow.add_edge(\"response_node\", END)\n",
    "\n",
    "memory = MemorySaver()\n",
    "graph = workflow.compile(checkpointer=memory)"
   ]
  },
  {
   "cell_type": "markdown",
   "metadata": {},
   "source": [
    "### Visualize Graph\n",
    "\n",
    "Visualization is an important step for both debugging and comprehension.\n",
    "\n",
    "In this section, the compiled workflow graph is rendered visually, allowing developers to see how data flows between nodes.\n",
    "\n",
    "This step is invaluable for verifying that all components are correctly connected and for identifying potential bottlenecks."
   ]
  },
  {
   "cell_type": "code",
   "execution_count": 16,
   "metadata": {},
   "outputs": [
    {
     "data": {
      "image/png": "[encoded data removed]",
      "text/plain": [
       "<IPython.core.display.Image object>"
      ]
     },
     "metadata": {},
     "output_type": "display_data"
    }
   ],
   "source": [
    "from langchain_opentutorial.graphs import visualize_graph\n",
    "\n",
    "visualize_graph(graph)"
   ]
  },
  {
   "cell_type": "markdown",
   "metadata": {},
   "source": [
    "## Run Workflow\n",
    "\n",
    "This section details the execution phase of the workflow.\n",
    "\n",
    "It explains how the entire system is run from start to finish using asynchronous execution, which enables real-time monitoring and interaction."
   ]
  },
  {
   "cell_type": "markdown",
   "metadata": {},
   "source": [
    "### Streaming Graph Execution\n",
    "\n",
    "The **streaming graph execution** part describes how the workflow graph is run asynchronously.\n",
    "\n",
    "It captures and streams the results in real time, providing immediate feedback on each node's output.\n",
    "\n",
    "This approach is especially useful for long-running tasks, as it keeps the user informed of the system’s progress."
   ]
  },
  {
   "cell_type": "code",
   "execution_count": 17,
   "metadata": {},
   "outputs": [],
   "source": [
    "import asyncio\n",
    "from typing import Any, Dict, List, Callable\n",
    "from langchain_core.runnables import RunnableConfig\n",
    "from langgraph.graph.state import CompiledStateGraph\n",
    "\n",
    "\n",
    "async def astream_graph(\n",
    "    graph: CompiledStateGraph,\n",
    "    inputs: Dict[str, Any],\n",
    "    config: RunnableConfig,\n",
    "    node_names: List[str] = [],\n",
    "    callback: Callable[[Dict[str, str]], None] = None,\n",
    "):\n",
    "    \"\"\"\n",
    "    LangGraph의 실행 결과를 비동기 방식으로 스트리밍하여 출력하는 함수입니다.\n",
    "\n",
    "    매개변수:\n",
    "    - graph (CompiledStateGraph): 실행할 컴파일된 LangGraph 객체\n",
    "    - inputs (dict): 그래프에 전달할 입력값 딕셔너리\n",
    "    - config (RunnableConfig): 실행 설정\n",
    "    - node_names (List[str], optional): 출력할 노드 이름 목록 (빈 리스트면 모든 노드 출력)\n",
    "    - callback (Callable[[Dict[str, str]], None], optional): 각 청크 처리를 위한 콜백 함수 (기본값: None)\n",
    "      콜백 함수는 {\"node\": str, \"content\": str} 형태의 딕셔너리를 인자로 받습니다.\n",
    "\n",
    "    반환값:\n",
    "    - None: 함수는 스트리밍 결과를 출력만 하고 반환값은 없습니다.\n",
    "    \"\"\"\n",
    "    prev_node = \"\"\n",
    "    async for chunk_msg, metadata in graph.astream(\n",
    "        inputs, config, stream_mode=\"messages\"\n",
    "    ):\n",
    "        curr_node = metadata[\"langgraph_node\"]\n",
    "\n",
    "        # node_names가 비어있거나 현재 노드가 node_names에 포함된 경우에만 처리\n",
    "        if not node_names or curr_node in node_names:\n",
    "            if callback:\n",
    "                callback({\"node\": curr_node, \"content\": chunk_msg.content})\n",
    "            else:\n",
    "                # 노드가 변경될 때마다 헤더를 출력\n",
    "                if curr_node != prev_node:\n",
    "                    print(\"\\n\" + \"=\" * 60)\n",
    "                    print(f\"🔄 Node: \\033[1;36m{curr_node}\\033[0m 🔄\")\n",
    "                    print(\"=\" * 60)\n",
    "\n",
    "                # 쿼리 정보가 있으면 출력\n",
    "                tool_calls = chunk_msg.additional_kwargs.get(\"tool_calls\", [])\n",
    "                if tool_calls:\n",
    "                    # print(f\"🔍 Query: \", end=\"\")\n",
    "                    for tool_call in tool_calls:\n",
    "                        query = tool_call.get(\"function\", {}).get(\"arguments\", \"\")\n",
    "                        if query:\n",
    "\n",
    "                            print(f\"{query}\", end=\"\", flush=True)\n",
    "                else:\n",
    "                    # 쿼리 정보가 없으면 content 출력\n",
    "                    content = chunk_msg.content\n",
    "                    if content:\n",
    "                        print(content, end=\"\", flush=True)\n",
    "\n",
    "            prev_node = curr_node"
   ]
  },
  {
   "cell_type": "markdown",
   "metadata": {},
   "source": [
    "### Configure and Run Workflow Graph\n",
    "\n",
    "Before running the workflow, configuration parameters and input data are set up in this section.\n",
    "\n",
    "It outlines the process of initializing the graph with these settings and executing it with a sample query.\n",
    "\n",
    "This step-by-step setup demonstrates how the system processes information from planning to final answer generation."
   ]
  },
  {
   "cell_type": "code",
   "execution_count": 18,
   "metadata": {},
   "outputs": [],
   "source": [
    "# Configuration\n",
    "config = {\n",
    "    \"configurable\": {\n",
    "        \"thread_id\": 11,  # temporary thread ID for testing\n",
    "    },\n",
    "}\n",
    "\n",
    "inputs = AgentState(\n",
    "    messages=[\n",
    "        HumanMessage(\n",
    "            content=\"How did the implementation of artificial intelligence in supply chain management during the COVID-19 pandemic impact global trade efficiency, and what are the current trends and future projections for AI-driven supply chains in the next decade?\"\n",
    "        )\n",
    "    ],\n",
    "    steps=[],\n",
    "    answer=None,\n",
    ")"
   ]
  },
  {
   "cell_type": "code",
   "execution_count": 19,
   "metadata": {},
   "outputs": [
    {
     "name": "stdout",
     "output_type": "stream",
     "text": [
      "\n",
      "============================================================\n",
      "🔄 Node: \u001b[1;36mplan_steps_node\u001b[0m 🔄\n",
      "============================================================\n",
      "{\"steps\":[{\"id\":\"1\",\"description\":\"Search for information on the impact of AI in supply chain management during the COVID-19 pandemic on global trade efficiency.\",\"status\":\"pending\",\"type\":\"search\",\"search_result\":null,\"result\":null},{\"id\":\"2\",\"description\":\"Search for current trends in AI-driven supply chains.\",\"status\":\"pending\",\"type\":\"search\",\"search_result\":null,\"result\":null},{\"id\":\"3\",\"description\":\"Search for future projections for AI-driven supply chains in the next decade.\",\"status\":\"pending\",\"type\":\"search\",\"search_result\":null,\"result\":null},{\"id\":\"4\",\"description\":\"Analyze the collected data to assess the impact, current trends, and future projections of AI in supply chain management.\",\"status\":\"pending\",\"type\":\"think\",\"search_result\":null,\"result\":null},{\"id\":\"5\",\"description\":\"Respond with a comprehensive summary of the impact of AI on supply chain management during COVID-19, current trends, and future projections.\",\"status\":\"pending\",\"type\":\"respond\",\"search_result\":null,\"result\":null}]}\n",
      "============================================================\n",
      "🔄 Node: \u001b[1;36msearch_node\u001b[0m 🔄\n",
      "============================================================\n",
      "{\"query\":\"AI-driven supply chains future{\"query\":\"impact of AI in supply chain management during COVID-19 projections 2030 pandemic on global trade efficiency\"}s\"}{\"query\":\"current trends in AI-driven supply chains 2025\"}\n",
      "============================================================\n",
      "🔄 Node: \u001b[1;36mextraction_node\u001b[0m 🔄\n",
      "============================================================\n",
      "The implementation of artificial intelligence (AI) in supply chain management during the COVID-19 pandemic significantly impacted global trade efficiency. AI tools facilitated the analysis of complex supply chain networks, allowing businesses to identify vulnerabilities and optimize operations amidst disruptions. A study highlighted that the integration of AI-powered supply chain analytics enhanced operational and financial performance, particularly when paired with strong alliance management capabilities[1][2]. Despite the pandemic's challenges, 92% of businesses continued technology investments, underscoring the value of digital supply chains in navigating disruptions[3].\n",
      "\n",
      "Current trends indicate that AI will increasingly optimize inventory management, demand forecasting, and supply chain planning. By 2025, AI-driven decision-making is expected to redefine supply chain operations, with a focus on real-time insights and enhanced visibility through AI-powered IoT technologies[4][5]. The integration of robotics and AI is projected to further transform logistics, improving efficiency and reducing costs, leading to a new era of smart logistics by 2030[6][7].\n",
      "\n",
      "Future projections suggest that AI and robotics will play pivotal roles in shaping supply chain strategies, enhancing accuracy in demand forecasting and operational efficiency. The evolving landscape will demand accountability and clarity, making explainable AI (XAI) crucial for effective supply chain management[8][9].\n",
      "\n",
      "[1]: [How COVID Broke Supply Chains and How AI and Blockchain Could Fix Them](https://theconversation.com/how-covid-broke-supply-chains-and-how-ai-and-blockchain-could-fix-them-163140)  \n",
      "[2]: [Facilitating Artificial Intelligence Powered Supply Chain Analytics](https://www.sciencedirect.com/science/article/pii/S001985012100095X)  \n",
      "[3]: [How COVID-19 Impacted Supply Chains and What Comes Next](https://www.ey.com/en_us/insights/supply-chain/how-covid-19-impacted-supply-chains-and-what-comes-next)  \n",
      "[4]: [Top 10 Supply Chain Trends for 2025](https://www.supplychaintoday.com/top-10-supply-chain-trends-for-2025/)  \n",
      "[5]: [5 AI-Driven Trends Shaping the Supply Chain Planning in 2025](https://inteli-chain.com/5-ai-driven-trends-shaping-the-supply-chain-planning-in-2025/)  \n",
      "[6]: [The Future of Smart Logistics: Robotics and AI Transforming Supply Chains by 2030](https://www.jusdaglobal.com/en/article/future-smart-logistics-robotics-ai-transforming-supply-chains-2030/)  \n",
      "[7]: [AI and Robotics as Catalysts for Next-Generation Supply Chain Solutions](https://www.jusdaglobal.com/en/article/future-smart-logistics-robotics-ai-transforming-supply-chains-20301/)  \n",
      "[8]: [The Role of AI in the Smart Supply Chain](https://www.jusdaglobal.com/en/article/ai-robotics-shaping-smart-supply-chain-2030/)  \n",
      "[9]: [AI in Demand Forecasting and Predictive Analytics](https://www.jusdaglobal.com/en/article/ai-robotics-shaping-smart-supply-chain-2030/)id='4' description='Analyze the collected data to assess the impact, current trends, and future projections of AI in supply chain management.' status='pending' type='think' data={} search_result=None result=None\n",
      "\n",
      "============================================================\n",
      "🔄 Node: \u001b[1;36mthink_node\u001b[0m 🔄\n",
      "============================================================\n",
      "The provided data outlines a series of task steps related to researching the impact of artificial intelligence (AI) on supply chain management, particularly in the context of the COVID-19 pandemic, current trends, and future projections. Here is a refined analysis of the information:\n",
      "\n",
      "### Task Steps Overview\n",
      "\n",
      "1. **Task Step 1: Research on COVID-19 Impact**\n",
      "   - **Description**: Investigate how AI influenced supply chain management during the COVID-19 pandemic and its effect on global trade efficiency.\n",
      "   - **Status**: Completed\n",
      "   - **Type**: Search\n",
      "   - **Observations**: This task sets the foundation for understanding the historical context and immediate implications of AI in supply chains during a global crisis.\n",
      "\n",
      "2. **Task Step 2: Current Trends in AI-Driven Supply Chains**\n",
      "   - **Description**: Explore ongoing trends in the integration of AI within supply chain processes.\n",
      "   - **Status**: Completed\n",
      "   - **Type**: Search\n",
      "   - **Observations**: This task is crucial for identifying how AI technologies are currently being utilized and their operational effectiveness in supply chains.\n",
      "\n",
      "3. **Task Step 3: Future Projections for AI in Supply Chains**\n",
      "   - **Description**: Research predictions and expectations for the role of AI in supply chains over the next decade.\n",
      "   - **Status**: Completed\n",
      "   - **Type**: Search\n",
      "   - **Observations**: This task aims to provide foresight into how AI will shape supply chain management, which is essential for strategic planning.\n",
      "\n",
      "4. **Task Step 4: Data Analysis**\n",
      "   - **Description**: Analyze the data gathered from the previous research to assess the impact, current trends, and future projections of AI in supply chain management.\n",
      "   - **Status**: Pending\n",
      "   - **Type**: Think\n",
      "   - **Observations**: This step is critical for synthesizing the information and drawing meaningful conclusions from the research findings.\n",
      "\n",
      "5. **Task Step 5: Comprehensive Summary**\n",
      "   - **Description**: Prepare a detailed summary of the findings regarding the impact of AI on supply chain management during COVID-19, current trends, and future projections.\n",
      "   - **Status**: Pending\n",
      "   - **Type**: Respond\n",
      "   - **Observations**: This final task aims to communicate the insights effectively, making them accessible for stakeholders or decision-makers.\n",
      "\n",
      "### Recommendations for Completion\n",
      "\n",
      "To enhance clarity and completeness, consider the following recommendations:\n",
      "\n",
      "- **Data Collection**: Ensure that the collected data from the search tasks (Steps 1-3) is documented and organized for easy reference during the analysis (Step 4).\n",
      "  \n",
      "- **Analysis Framework**: Develop a structured approach for analyzing the data in Step 4. This may include key performance indicators (KPIs), qualitative insights, and quantitative data comparisons to provide a comprehensive view.\n",
      "\n",
      "- **Summary Structure**: In Step 5, outline the summary to include:\n",
      "  - An introduction to the importance of AI in supply chain management.\n",
      "  - A section on the historical impact during COVID-19.\n",
      "  - An analysis of current trends with examples.\n",
      "  - Future projections with potential challenges and opportunities.\n",
      "\n",
      "- **Stakeholder Engagement**: Consider involving relevant stakeholders in the analysis and summary phases to ensure that the findings are aligned with practical needs and expectations.\n",
      "\n",
      "By following these recommendations, the final output will not only be comprehensive but also actionable for stakeholders interested in the intersection of AI and supply chain management.\n",
      "============================================================\n",
      "🔄 Node: \u001b[1;36mresponse_node\u001b[0m 🔄\n",
      "============================================================\n",
      "{\"markdown\":\"## Impact of AI on Supply Chain Management During COVID-19\\n\\nThe implementation of artificial intelligence (AI) in supply chain management during the COVID-19 pandemic significantly improved global trade efficiency by addressing disruptions and enhancing resilience. AI technologies enabled better demand forecasting, inventory management, and logistics optimization, which were crucial as supply chains faced unprecedented challenges. For instance, AI-driven analytics allowed companies to predict demand surges and adjust their supply strategies accordingly, minimizing delays and shortages[1]. Moreover, AI facilitated real-time tracking and visibility across the supply chain, helping businesses to quickly adapt to changing conditions and maintain operational continuity[2].\\n\\n## Current Trends in AI-Driven Supply Chains\\n\\nCurrently, AI in supply chains is focused on increasing automation, enhancing decision-making, and improving sustainability. Automation through AI-driven robotics and machine learning algorithms is streamlining operations by reducing human error and increasing speed and accuracy. Decision-making is being enhanced through advanced data analytics, which provide insights that help businesses respond swiftly to market changes. Additionally, AI is playing a pivotal role in driving sustainability by optimizing resource use and reducing waste[3].\\n\\n## Future Projections for AI-Driven Supply Chains\\n\\nLooking ahead, AI is expected to transform supply chains over the next decade by further integrating advanced technologies such as the Internet of Things (IoT) and blockchain for greater transparency and efficiency. AI-driven supply chains will likely become more autonomous, with increased use of predictive analytics and machine learning to anticipate disruptions and optimize operations proactively. Furthermore, as AI technologies continue to evolve, they are expected to contribute to more sustainable practices, helping companies meet environmental goals and comply with regulations[4].\\n\\n[1]: [How AI Helped Supply Chains During COVID-19](https://www.example.com/ai-supply-chain-covid)\\n[2]: [The Role of AI in Supply Chain Management](https://www.example.com/role-of-ai-supply-chain)\\n[3]: [Current Trends in AI-Driven Supply Chains](https://www.example.com/ai-supply-chain-trends)\\n[4]: [Future of AI in Supply Chains](https://www.example.com/ai-supply-chain-future)\",\"references\":[{\"citation_id\":1,\"title\":\"How AI Helped Supply Chains During COVID-19\",\"url\":\"https://www.example.com/ai-supply-chain-covid\"},{\"citation_id\":2,\"title\":\"The Role of AI in Supply Chain Management\",\"url\":\"https://www.example.com/role-of-ai-supply-chain\"},{\"citation_id\":3,\"title\":\"Current Trends in AI-Driven Supply Chains\",\"url\":\"https://www.example.com/ai-supply-chain-trends\"},{\"citation_id\":4,\"title\":\"Future of AI in Supply Chains\",\"url\":\"https://www.example.com/ai-supply-chain-future\"}]}"
     ]
    }
   ],
   "source": [
    "# Execute the graph asynchronously\n",
    "await astream_graph(graph, inputs, config=config)"
   ]
  },
  {
   "cell_type": "markdown",
   "metadata": {},
   "source": [
    "### Examine Final State and Display Answer\n",
    "\n",
    "Finally, this section explains how to retrieve and display the final results of the workflow.\n",
    "\n",
    "It shows how to access the final state, render the answer in markdown, and print the references.\n",
    "\n",
    "This final step ensures that the output is clear, well-formatted, and properly referenced, effectively concluding the end-to-end demonstration of the system."
   ]
  },
  {
   "cell_type": "code",
   "execution_count": 20,
   "metadata": {},
   "outputs": [
    {
     "data": {
      "text/plain": [
       "{'messages': [HumanMessage(content='How did the implementation of artificial intelligence in supply chain management during the COVID-19 pandemic impact global trade efficiency, and what are the current trends and future projections for AI-driven supply chains in the next decade?', additional_kwargs={}, response_metadata={}, id='29646c75-d959-476d-b6ff-cf232e114ff6')],\n",
       " 'steps': [TaskStep(id='1', description='Search for information on the impact of AI in supply chain management during the COVID-19 pandemic on global trade efficiency.', status='completed', type='search', data={}, search_result=None, result=None),\n",
       "  TaskStep(id='2', description='Search for current trends in AI-driven supply chains.', status='completed', type='search', data={}, search_result=None, result=None),\n",
       "  TaskStep(id='3', description='Search for future projections for AI-driven supply chains in the next decade.', status='completed', type='search', data={}, search_result=None, result=None),\n",
       "  TaskStep(id='4', description='Analyze the collected data to assess the impact, current trends, and future projections of AI in supply chain management.', status='completed', type='think', data={}, search_result=None, result=None),\n",
       "  TaskStep(id='5', description='Respond with a comprehensive summary of the impact of AI on supply chain management during COVID-19, current trends, and future projections.', status='pending', type='respond', data={}, search_result=None, result=None)],\n",
       " 'search_result': '[{\"url\": \"https://theconversation.com/how-covid-broke-supply-chains-and-how-ai-and-blockchain-could-fix-them-163140\", \"content\": \"The longer the chain and the more complex the dependence, the greater the exposure of any point to the disruption of another one, and to mandated shutdowns.\\\\n They help us ask: which patterns of connections are likely to lead to delay and trade credit contagion and which are more robust?\\\\nUsing these tools, we can create large-scale simulators of global supply chains responding to a wide variety of shocks and then use machine learning techniques to detect the problematic parts of the chain. The problem of adopting technology in the presence of positive externalities (whereby firms adopting the technology in turn improve the operations of external parties) is an old one in economics, but now these externalities are systemic in nature: the effects propagate along the chains. This is all the more true if we consider the full length of the chain, where transactions need to be verified by several parties: participants in the supply chain, insurance and reinsurance firms.\\\\n In recent decades, supply chains became lean, and they lengthened as they became more cost-efficient: more and more steps were added in the manufacture and transportation of any given product in the name of speed and cost.\"}, {\"url\": \"https://www.sciencedirect.com/science/article/pii/S001985012100095X\", \"content\": \"Facilitating artificial intelligence powered supply chain analytics through alliance management during the pandemic crises in the B2B context - ScienceDirect Facilitating artificial intelligence powered supply chain analytics through alliance management during the pandemic crises in the B2B context Using the dynamic capabilities view, we studied alliance management capability (AMC) and artificial intelligence (AI) driven supply chain analytics capability (AI-SCAC) as dynamic capabilities, under the moderating effect of environmental dynamism. We found that alliance management capability under the mediating effect of artificial intelligence-powered supply chain analytics capability enhances the operational and financial performance of the organization. Moreover, we also observed that the alliance management capability has a significant effect on artificial intelligence-powered supply chain analytics capability under the moderating effect of environmental dynamism.\"}, {\"url\": \"https://www.ey.com/en_us/insights/supply-chain/how-covid-19-impacted-supply-chains-and-what-comes-next\", \"content\": \"The survey looked at topics including COVID-19 impact on supply chains, priorities for the next 1—3 years and the path to digital/autonomous supply chains. ... But during the COVID-19 pandemic, 92% did not halt technology investments. This speaks to the value of a digital supply chain in helping enterprises navigate disruptive forces and\"}][{\"url\": \"https://www.supplychaintoday.com/top-10-supply-chain-trends-for-2025/\", \"content\": \"Top 10 Supply Chain Trends for 2025. Automation Supply Chain Supply Chain Automation Supply Chain Supply Chain Automation Supply Chain Supply Chain Top 10 Supply Chain Trends for 2025. These are the top 10 supply chain trends for 2025. Collection of Supply Chain CHEAT SHEETS. Top 10 Supply Chain Trends for 2025 AI-Driven Decision Making: Artificial intelligence will be increasingly used to optimize inventory management, demand forecasting, and supply chain planning. Supply Chain Quotes “Artificial Intelligence will revolutionize supply chain in ways that haven’t even been thought of yet.” ~Dave Waters Supply Chain Resources Supply Chain CHEAT SHEETS Artificial Intelligence Supply Chain Innovation. Artificial Intelligence (AI) will Revolutionize Global Supply Chains. Supply Chain Posts A Supply Chain View.\"}, {\"url\": \"https://inteli-chain.com/5-ai-driven-trends-shaping-the-supply-chain-planning-in-2025/\", \"content\": \"5 AI-Driven Trends Shaping the Supply Chain Planning in 2025\\u200b - intelichain 5 AI-Driven Trends Shaping the Supply Chain Planning in 2025 AI-Powered Progress: A Look at Supply Chain Innovations for 2025 As AI’s role expands, so does the demand for accountability and clarity, making XAI a cornerstone of supply chain strategy. Similarly, AI-driven tools in S&OP can optimize inventory levels and align supply with demand, but human judgment is essential to account for strategic priorities and unforeseen events. Generative AI in Supply Chain: Reinventing Creativity and Efficiency* As AI becomes deeply embedded in supply chain, the stakes for data security have never been higher. The integration of AI into the supply chain has reached unprecedented levels.\"}, {\"url\": \"https://www.aioneers.com/blog/top-10-supply-chain-trends-2025-ai-automation-and-innovation\", \"content\": \"Top 10 Supply Chain Trends 2025: AI Automation and Innovation From autonomous supply chain operations that can optimize logistics and procurement in real-time to predictive analytics that anticipate disruptions, AI is set to redefine how supply chains function. 4. Enhanced Supply Chain Visibility with AI-powered IoT: The Need for Real-Time Insights Implementation Strategy: Businesses can build customer-centric supply chains by integrating customer data into demand forecasting models, implementing flexible logistics options, and using AI to tailor products and services to individual preferences. ERP integration eliminates silos, provides end-to-end visibility, and streamlines operations, improving efficiency and decision-making across the supply chain. Blog May 30, 2024 ### 5 Reasons to Join AIOsphere 24: Unlocking Tomorrow\\'s AI-Driven Supply Chain Events  By aioneers\"}][{\"url\": \"https://www.jusdaglobal.com/en/article/future-smart-logistics-robotics-ai-transforming-supply-chains-2030/\", \"content\": \"The Future of Smart Logistics: Robotics and AI Transforming Supply Chains by 2030 The Future of Smart Logistics: Robotics and AI Transforming Supply Chains by 2030 By 2030, the integration of these technologies will lead to a new era of Smart Logistics, optimizing every aspect of supply chain management. AI-driven predictive analytics and demand forecasting optimize supply chain operations. Route optimization through AI reduces transportation costs and improves delivery times. Integration of Robotics and AI in Smart Logistics Robotics and AI integration in Smart Logistics significantly enhances accuracy and speed. The integration of robotics and AI contributes to substantial cost reductions in Smart Logistics. Integrating robotics and AI into existing logistics systems presents challenges. AI-driven autonomous vehicles will transform logistics and supply chains.\"}, {\"url\": \"https://www.jusdaglobal.com/en/article/future-smart-logistics-robotics-ai-transforming-supply-chains-20301/\", \"content\": \"The Future of Smart Logistics: Robotics and AI Transforming Supply Chains by 2030 The Path to 2030: AI and Robotics as Catalysts for Next-Generation Supply Chain Solutions Smart logistics represents the future of supply chain management. AI-driven systems will enhance efficiency, reduce costs, and improve accuracy. AI technology entered the logistics scene with data analysis. The Business Case for AI in Supply Chains AI and robotics bring a new level of efficiency to supply chains. AI and robotics enhance accuracy in supply chains. AI-driven Supply Chain Management Software AI-driven supply chain management software transforms logistics operations. Accurate data enables AI to function effectively, enhancing overall supply chain performance. Robotics and AI hold transformative potential for supply chains.\"}, {\"url\": \"https://www.jusdaglobal.com/en/article/ai-robotics-shaping-smart-supply-chain-2030/\", \"content\": \"The Role of AI in the Smart Supply Chain Image Source: unsplash AI in Demand Forecasting Predictive Analytics AI-driven predictive analytics revolutionizes demand forecasting. Companies leverage AI to analyze vast datasets, identifying patterns and trends. This analysis enables more accurate predictions of future demand. For example, AI models can forecast sales trends, helping businesses\"}]',\n",
       " 'think_result': 'The provided data outlines a series of task steps related to researching the impact of artificial intelligence (AI) on supply chain management, particularly in the context of the COVID-19 pandemic, current trends, and future projections. Here is a refined analysis of the information:\\n\\n### Task Steps Overview\\n\\n1. **Task Step 1: Research on COVID-19 Impact**\\n   - **Description**: Investigate how AI influenced supply chain management during the COVID-19 pandemic and its effect on global trade efficiency.\\n   - **Status**: Completed\\n   - **Type**: Search\\n   - **Observations**: This task sets the foundation for understanding the historical context and immediate implications of AI in supply chains during a global crisis.\\n\\n2. **Task Step 2: Current Trends in AI-Driven Supply Chains**\\n   - **Description**: Explore ongoing trends in the integration of AI within supply chain processes.\\n   - **Status**: Completed\\n   - **Type**: Search\\n   - **Observations**: This task is crucial for identifying how AI technologies are currently being utilized and their operational effectiveness in supply chains.\\n\\n3. **Task Step 3: Future Projections for AI in Supply Chains**\\n   - **Description**: Research predictions and expectations for the role of AI in supply chains over the next decade.\\n   - **Status**: Completed\\n   - **Type**: Search\\n   - **Observations**: This task aims to provide foresight into how AI will shape supply chain management, which is essential for strategic planning.\\n\\n4. **Task Step 4: Data Analysis**\\n   - **Description**: Analyze the data gathered from the previous research to assess the impact, current trends, and future projections of AI in supply chain management.\\n   - **Status**: Pending\\n   - **Type**: Think\\n   - **Observations**: This step is critical for synthesizing the information and drawing meaningful conclusions from the research findings.\\n\\n5. **Task Step 5: Comprehensive Summary**\\n   - **Description**: Prepare a detailed summary of the findings regarding the impact of AI on supply chain management during COVID-19, current trends, and future projections.\\n   - **Status**: Pending\\n   - **Type**: Respond\\n   - **Observations**: This final task aims to communicate the insights effectively, making them accessible for stakeholders or decision-makers.\\n\\n### Recommendations for Completion\\n\\nTo enhance clarity and completeness, consider the following recommendations:\\n\\n- **Data Collection**: Ensure that the collected data from the search tasks (Steps 1-3) is documented and organized for easy reference during the analysis (Step 4).\\n  \\n- **Analysis Framework**: Develop a structured approach for analyzing the data in Step 4. This may include key performance indicators (KPIs), qualitative insights, and quantitative data comparisons to provide a comprehensive view.\\n\\n- **Summary Structure**: In Step 5, outline the summary to include:\\n  - An introduction to the importance of AI in supply chain management.\\n  - A section on the historical impact during COVID-19.\\n  - An analysis of current trends with examples.\\n  - Future projections with potential challenges and opportunities.\\n\\n- **Stakeholder Engagement**: Consider involving relevant stakeholders in the analysis and summary phases to ensure that the findings are aligned with practical needs and expectations.\\n\\nBy following these recommendations, the final output will not only be comprehensive but also actionable for stakeholders interested in the intersection of AI and supply chain management.',\n",
       " 'answer': FinalResponse(markdown='## Impact of AI on Supply Chain Management During COVID-19\\n\\nThe implementation of artificial intelligence (AI) in supply chain management during the COVID-19 pandemic significantly improved global trade efficiency by addressing disruptions and enhancing resilience. AI technologies enabled better demand forecasting, inventory management, and logistics optimization, which were crucial as supply chains faced unprecedented challenges. For instance, AI-driven analytics allowed companies to predict demand surges and adjust their supply strategies accordingly, minimizing delays and shortages[1]. Moreover, AI facilitated real-time tracking and visibility across the supply chain, helping businesses to quickly adapt to changing conditions and maintain operational continuity[2].\\n\\n## Current Trends in AI-Driven Supply Chains\\n\\nCurrently, AI in supply chains is focused on increasing automation, enhancing decision-making, and improving sustainability. Automation through AI-driven robotics and machine learning algorithms is streamlining operations by reducing human error and increasing speed and accuracy. Decision-making is being enhanced through advanced data analytics, which provide insights that help businesses respond swiftly to market changes. Additionally, AI is playing a pivotal role in driving sustainability by optimizing resource use and reducing waste[3].\\n\\n## Future Projections for AI-Driven Supply Chains\\n\\nLooking ahead, AI is expected to transform supply chains over the next decade by further integrating advanced technologies such as the Internet of Things (IoT) and blockchain for greater transparency and efficiency. AI-driven supply chains will likely become more autonomous, with increased use of predictive analytics and machine learning to anticipate disruptions and optimize operations proactively. Furthermore, as AI technologies continue to evolve, they are expected to contribute to more sustainable practices, helping companies meet environmental goals and comply with regulations[4].\\n\\n[1]: [How AI Helped Supply Chains During COVID-19](https://www.example.com/ai-supply-chain-covid)\\n[2]: [The Role of AI in Supply Chain Management](https://www.example.com/role-of-ai-supply-chain)\\n[3]: [Current Trends in AI-Driven Supply Chains](https://www.example.com/ai-supply-chain-trends)\\n[4]: [Future of AI in Supply Chains](https://www.example.com/ai-supply-chain-future)', references=[Reference(citation_id=1, title='How AI Helped Supply Chains During COVID-19', url='https://www.example.com/ai-supply-chain-covid'), Reference(citation_id=2, title='The Role of AI in Supply Chain Management', url='https://www.example.com/role-of-ai-supply-chain'), Reference(citation_id=3, title='Current Trends in AI-Driven Supply Chains', url='https://www.example.com/ai-supply-chain-trends'), Reference(citation_id=4, title='Future of AI in Supply Chains', url='https://www.example.com/ai-supply-chain-future')])}"
      ]
     },
     "execution_count": 20,
     "metadata": {},
     "output_type": "execute_result"
    }
   ],
   "source": [
    "# Example states\n",
    "graph.get_state(config).values"
   ]
  },
  {
   "cell_type": "code",
   "execution_count": 21,
   "metadata": {},
   "outputs": [
    {
     "data": {
      "text/markdown": [
       "## Impact of AI on Supply Chain Management During COVID-19\n",
       "\n",
       "The implementation of artificial intelligence (AI) in supply chain management during the COVID-19 pandemic significantly improved global trade efficiency by addressing disruptions and enhancing resilience. AI technologies enabled better demand forecasting, inventory management, and logistics optimization, which were crucial as supply chains faced unprecedented challenges. For instance, AI-driven analytics allowed companies to predict demand surges and adjust their supply strategies accordingly, minimizing delays and shortages[1]. Moreover, AI facilitated real-time tracking and visibility across the supply chain, helping businesses to quickly adapt to changing conditions and maintain operational continuity[2].\n",
       "\n",
       "## Current Trends in AI-Driven Supply Chains\n",
       "\n",
       "Currently, AI in supply chains is focused on increasing automation, enhancing decision-making, and improving sustainability. Automation through AI-driven robotics and machine learning algorithms is streamlining operations by reducing human error and increasing speed and accuracy. Decision-making is being enhanced through advanced data analytics, which provide insights that help businesses respond swiftly to market changes. Additionally, AI is playing a pivotal role in driving sustainability by optimizing resource use and reducing waste[3].\n",
       "\n",
       "## Future Projections for AI-Driven Supply Chains\n",
       "\n",
       "Looking ahead, AI is expected to transform supply chains over the next decade by further integrating advanced technologies such as the Internet of Things (IoT) and blockchain for greater transparency and efficiency. AI-driven supply chains will likely become more autonomous, with increased use of predictive analytics and machine learning to anticipate disruptions and optimize operations proactively. Furthermore, as AI technologies continue to evolve, they are expected to contribute to more sustainable practices, helping companies meet environmental goals and comply with regulations[4].\n",
       "\n",
       "[1]: [How AI Helped Supply Chains During COVID-19](https://www.example.com/ai-supply-chain-covid)\n",
       "[2]: [The Role of AI in Supply Chain Management](https://www.example.com/role-of-ai-supply-chain)\n",
       "[3]: [Current Trends in AI-Driven Supply Chains](https://www.example.com/ai-supply-chain-trends)\n",
       "[4]: [Future of AI in Supply Chains](https://www.example.com/ai-supply-chain-future)"
      ],
      "text/plain": [
       "<IPython.core.display.Markdown object>"
      ]
     },
     "execution_count": 21,
     "metadata": {},
     "output_type": "execute_result"
    }
   ],
   "source": [
    "from IPython.display import Markdown\n",
    "\n",
    "# Examine the final markdown answer\n",
    "Markdown(graph.get_state(config).values[\"answer\"].markdown)"
   ]
  },
  {
   "cell_type": "code",
   "execution_count": 22,
   "metadata": {},
   "outputs": [
    {
     "name": "stdout",
     "output_type": "stream",
     "text": [
      "[Reference(citation_id=1, title='How AI Helped Supply Chains During COVID-19', url='https://www.example.com/ai-supply-chain-covid'),\n",
      " Reference(citation_id=2, title='The Role of AI in Supply Chain Management', url='https://www.example.com/role-of-ai-supply-chain'),\n",
      " Reference(citation_id=3, title='Current Trends in AI-Driven Supply Chains', url='https://www.example.com/ai-supply-chain-trends'),\n",
      " Reference(citation_id=4, title='Future of AI in Supply Chains', url='https://www.example.com/ai-supply-chain-future')]\n"
     ]
    }
   ],
   "source": [
    "# Examine references\n",
    "pprint(graph.get_state(config).values[\"answer\"].references)"
   ]
  }
 ],
 "metadata": {
  "kernelspec": {
   "display_name": "langchain-opentutorial-F0L5SJfm-py3.11",
   "language": "python",
   "name": "python3"
  },
  "language_info": {
   "codemirror_mode": {
    "name": "ipython",
    "version": 3
   },
   "file_extension": ".py",
   "mimetype": "text/x-python",
   "name": "python",
   "nbconvert_exporter": "python",
   "pygments_lexer": "ipython3",
   "version": "3.11.5"
  }
 },
 "nbformat": 4,
 "nbformat_minor": 2
}
