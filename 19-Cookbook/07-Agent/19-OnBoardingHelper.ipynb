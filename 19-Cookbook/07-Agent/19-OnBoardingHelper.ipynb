{
 "cells": [
  {
   "cell_type": "markdown",
   "metadata": {},
   "source": [
    "# Multimodal RAG\n",
    "\n",
    "- Author: [Mark](https://github.com/obov)\n",
    "- Design:\n",
    "- Peer Review :\n",
    "- This is a part of [LangChain Open Tutorial](https://github.com/LangChain-OpenTutorial/LangChain-OpenTutorial)\n",
    "\n",
    "## Overview\n",
    "\n",
    "This tutorial demonstrates how to build an **Onboarding Helper** using **LangChain**, designed to centralize and leverage **Notion-based documentation** for new employees. By integrating structured data from Notion pages, databases, and wikis into a **Retrieval-Augmented Generation (RAG)** system, the solution enables seamless access to company protocols, role-specific guides, and FAQs. New hires can query this unified knowledge base in natural language to rapidly adapt to their roles.\n",
    "\n",
    "### Table of Contents\n",
    "\n",
    "- [Overview](#overview)\n",
    "- [Environment Setup](#environment-setup)\n",
    "- [Notion Database Setup](#Notion-Database-Setup)\n",
    "- [Setup Vector Store](#Setup-Vector-Store)\n",
    "- [Building Agent](#building-agent)\n",
    "- [Chat with Agent](#chat-with-agent)\n",
    "\n",
    "### References\n"
   ]
  },
  {
   "cell_type": "markdown",
   "metadata": {},
   "source": [
    "## Environment Setup\n",
    "\n",
    "Set up the environment. You may refer to [Environment Setup](https://wikidocs.net/257836) for more details.\n",
    "\n",
    "**[Note]**\n",
    "\n",
    "- `langchain-opentutorial` is a package that provides a set of easy-to-use environment setup, useful functions and utilities for tutorials.\n",
    "- You can checkout the [`langchain-opentutorial`](https://github.com/LangChain-OpenTutorial/langchain-opentutorial-pypi) for more details.\n"
   ]
  },
  {
   "cell_type": "code",
   "execution_count": 1,
   "metadata": {},
   "outputs": [],
   "source": [
    "%%capture --no-stderr\n",
    "%pip install langchain-opentutorial"
   ]
  },
  {
   "cell_type": "code",
   "execution_count": 2,
   "metadata": {},
   "outputs": [],
   "source": [
    "# Install required packages\n",
    "from langchain_opentutorial import package\n",
    "\n",
    "package.install(\n",
    "    [\n",
    "        \"langchain-community\",\n",
    "        \"langchain-openai\",\n",
    "        \"langchain-chroma\",\n",
    "    ],\n",
    "    verbose=False,\n",
    "    upgrade=False,\n",
    ")"
   ]
  },
  {
   "cell_type": "code",
   "execution_count": 3,
   "metadata": {},
   "outputs": [
    {
     "name": "stdout",
     "output_type": "stream",
     "text": [
      "Environment variables have been set successfully.\n"
     ]
    }
   ],
   "source": [
    "# Set environment variables\n",
    "from langchain_opentutorial import set_env\n",
    "\n",
    "set_env(\n",
    "    {\n",
    "        \"LANGCHAIN_API_KEY\": \"\",\n",
    "        \"LANGCHAIN_TRACING_V2\": \"true\",\n",
    "        \"LANGCHAIN_ENDPOINT\": \"https://api.smith.langchain.com\",\n",
    "        \"LANGCHAIN_PROJECT\": \"07-Agent\",\n",
    "        \"UPSTAGE_API_KEY\": \"\",\n",
    "    }\n",
    ")"
   ]
  },
  {
   "cell_type": "code",
   "execution_count": 4,
   "metadata": {},
   "outputs": [
    {
     "data": {
      "text/plain": [
       "True"
      ]
     },
     "execution_count": 4,
     "metadata": {},
     "output_type": "execute_result"
    }
   ],
   "source": [
    "from dotenv import load_dotenv\n",
    "\n",
    "load_dotenv(override=True)"
   ]
  },
  {
   "cell_type": "markdown",
   "metadata": {},
   "source": [
    "## Notion Database Setup\n",
    "\n",
    "We use **Notion** as our central hub for team wikis, documentation, and task management. Think of it as a flexible digital workspace that combines note-taking, databases, and collaboration tools.\n",
    "\n",
    "Key Concepts of Notion:\n",
    "\n",
    "- **Pages**: Individual documents (like this guide) for text, images, or embedded content.\n",
    "- **Databases**: Structured tables that organize information (e.g., tasks, project trackers, SOPs) with filter/sort capabilities.\n",
    "\n",
    "### Example Database\n",
    "\n",
    "You can view with the **exact Notion database** used in this tutorial here: [Tutorial Example Database](https://shrouded-lantana-c42.notion.site/1870d31b38698044b3f2fdd3c2c15e4c?v=1870d31b38698086a4dd000cd1ddd37a&pvs=4)\n",
    "\n",
    "There is a list of documents for Retrieval Augmented Generation (RAG). Every document is augmented for this tutorial. Names and contents are all virtual data.\n",
    "\n",
    "### Setup Notion Integration\n",
    "\n",
    "to use Notion as a knowledge base, you need to create a Notion integration.\n",
    "\n",
    "#### 1. Get API Key\n",
    "\n",
    "1. **Go to Notion Developers**:  \n",
    "   Log in to [Notion Developers](https://developers.notion.com) → Click \"View my integrations\".\n",
    "2. **Create a New Integration**:\n",
    "   - Click \"New integration\".\n",
    "   - Name it (e.g., MyApp Integration).\n",
    "   - Select your workspace.\n",
    "   - Set permissions:\n",
    "     - Read content\n",
    "     - Update content (if needed)\n",
    "3. **Copy the API Key**:  \n",
    "   After creation, copy the **Internal Integration Token**\n",
    "4. **More Information**:\n",
    "   - [Notion API Documentation](https://developers.notion.com/reference/intro)\n",
    "   - [Notion API Key](https://developers.notion.com/docs/create-a-notion-integration)\n",
    "\n",
    "#### 2. Find Database ID\n",
    "\n",
    "1. **Open Notion Database**:\n",
    "   Go to the database you or your team want to use → Click \"Share\" → \"Copy link\".\n",
    "\n",
    "2. **Extract the ID**:  \n",
    "   The URL looks like:  \n",
    "   https://www.notion.so/your-workspace/{DATABASE_ID}?v=...  \n",
    "   Copy the **32-character string** between / and ? (e.g., 1870d31b38698044b3f2fdd3c2c15e4c).\n"
   ]
  },
  {
   "cell_type": "code",
   "execution_count": 16,
   "metadata": {},
   "outputs": [
    {
     "data": {
      "text/plain": [
       "[Document(metadata={'tags': ['Team: Product Planning'], 'title': '2024 Reflection (Summary by Sooyoung Kang)', 'id': '1870d31b-3869-81a2-a81c-dafeeefdaf70'}, page_content='Organizing Handover Documents\\n  \\n\\tAt the start of project involvement, materials from the previous manager were scattered, making it hard to grasp the workflow.  \\n\\tConsolidated key files (reports, spreadsheets, emails, etc.) into a unified folder and added tags for better searchability.  \\n\\tReduced schedule delays caused by incomplete handovers and provided the same structure to new team members.\\nImproving Email/Slack Communication\\n  \\n\\tWork-related messages were split between email and Slack, causing late replies or overlooked items.  \\n\\tDefined collaboration tool usage rules (e.g., urgency levels, audience scope) within the department to minimize confusion.  \\n\\tUsed email for official records and Slack for real-time discussions, improving response times and clarity.\\nUnderstanding Accounting/Expense Procedures\\n  \\n\\tBudget allocations and expense reports were mixed during product planning, causing confusion at month-end.  \\n\\tStreamlined with the Finance Team by unifying the budget request and expense report into a single form, setting monthly due dates.  \\n\\tShared real-time spending updates to prevent overspending or missing entries.\\nCollaborating on Order Data Analysis\\n  \\n\\tThe Planning Team requested order data from Web Dev and Logistics for marketing strategies, but formats varied widely.  \\n\\tStandardized order data (column names, date formats, etc.) after cross-department discussions and published regular reports.  \\n\\tIncorporated analysis results into new product launch schedules and inventory management, improving forecast accuracy.\\nEmergency Issue Response Process\\n  \\n\\tA product defect mid-season led to a surge of exchanges/returns, but no clear ownership caused customer dissatisfaction.  \\n\\tThe CS, Logistics, and Planning Teams together established a step-by-step procedure (receive issue → check inventory → send replacements).  \\n\\tFaster resolution reduced customer complaints and saved time on internal reorganization.\\nExpanding Participation in Internal Presentation Sessions\\n  \\n\\tQuarterly internal presentations were mostly led by senior staff, leaving little space for junior insights.  \\n\\tEncouraged voluntary topic submissions, allowing shorter case studies or project outcomes to be shared.  \\n\\tImproved overall team expertise and sparked new collaborative ideas, strengthening the organization’s capabilities.'),\n",
       " Document(metadata={'tags': ['Team: Product Planning'], 'title': '2022 Reflection (Summary by Yuna Kim)', 'id': '1870d31b-3869-81a7-894a-fb1d82d9ab39'}, page_content='Organizing the New Product Planning Process\\n  \\n\\tDuring the initial summer season project, she standardized planning templates and workflows.  \\n\\tExisting documents (e.g., market research, product specs, cost sheets) were consolidated into a single format.  \\n\\tDefined roles at each stage to reduce confusion and enhance collaboration.\\nDefining Market Research Scope\\n  \\n\\tFor specific items (like UV-protective apparel), she pre-determined target demographics and regions to avoid duplicate research.  \\n\\tSet a clear timeframe, metrics, and sample size in advance to structure the information.  \\n\\tEstablished guidelines to keep market research both focused and efficient.\\nEstablishing Cross-Department Communication\\n  \\n\\tClarified when new product concepts should be shared to sync schedules with Web Development and Logistics.  \\n\\tCreated a checklist of key personnel, essential documents, and deadlines to increase transparency.  \\n\\tIssued immediate notifications about schedule changes to minimize delays.\\nProject Timeline Management\\n  \\n\\tDistinguished task priorities based on urgency and importance during initial scheduling.  \\n\\tReduced confusion by assigning responsibilities and setting milestones (step-by-step deadlines).  \\n\\tMonitored progress regularly, communicating any changes promptly.\\nCollaboration Tool Usage Guidelines\\n  \\n\\tDistributed a reference guide for setting permissions and sharing documents via Google Workspace, Slack, etc.  \\n\\tStandardized common templates and folder structures to prevent file duplication.  \\n\\tHeld training and Q&A sessions so each department followed a consistent workflow and improved proficiency.\\nDividing Tasks for the Fall Season Renewal Project\\n  \\n\\tFor fall product renewals, ensured that market research and internal reports didn’t overlap by assigning specific points of contact.  \\n\\tUnified department schedules in a single management tool to track conflicts in real time.  \\n\\tShared deliverables at each phase to address any delays early on.\\nEstablishing Sample Quality Inspection Standards\\n  \\n\\tDocumented specialized checks (e.g., for functional materials) in collaboration with the QA Team.  \\n\\tConducted a step-by-step verification process involving Planning, Purchasing, and QA when samples arrived.  \\n\\tImmediately shared any recheck requirements and updated project timelines accordingly.\\nStructuring Product Detail Information\\n  \\n\\tSeparated essential product specifications from supplementary info, uploading them in stages.  \\n\\tPrioritized necessary details at launch to meet deadlines.  \\n\\tReserved a follow-up update period for post-launch revisions or enhancements.\\nPrice Negotiation Process with Partners\\n  \\n\\tClearly set core terms (target unit cost, MOQ, delivery dates) before negotiations.  \\n\\tReviewed existing contracts and negotiation materials in advance to establish standard conditions, documenting changes promptly.  \\n\\tIncorporated any negotiation updates into internal reporting for transparent progress tracking.\\nPreparing Internal Presentation Materials\\n  \\n\\tFinalized the topic and scope beforehand to reduce redundant content.  \\n\\tUtilized a standard template (citations, data sources, images) to structure slides systematically.  \\n\\tConducted rehearsals to identify errors and integrated feedback into the final version, boosting presentation quality.'),\n",
       " Document(metadata={'tags': ['Guide'], 'title': 'Essential Onboarding Guide for New Employees at XYZ Shopping Mall (Fictional Scenario)', 'id': '1870d31b-3869-81ed-b447-e9aad1407ee9'}, page_content=\"1. Email & Notification Settings (Google Workspace)\\nXYZ Shopping Mall uses \\nGoogle Workspace\\n for internal emails and collaboration tools.  \\nUpon joining, the \\nIT Department\\n provides initial account information as follows:\\nCompany Email Account\\n  \\nExample: `firstname.lastname@xyzshop.com`  \\nA temporary password is issued (via email or printed document).\\nFirst-Time Login & Password Change\\n  \\n1) Go to [https://mail.google.com/](https://mail.google.com/)  \\n2) Enter your `firstname.lastname@xyzshop.com` credentials with the temporary password  \\n3) After logging in, change your password via \\nSecurity Settings\\n  \\n4) Set up two-factor authentication (2FA) (e.g., phone number, Google Authenticator) for added security\\nEmail Alerts/Filters\\n  \\nClick the gear icon (Settings) in Gmail → “See all settings”  \\nNotifications\\n: In the “General” tab, enable/disable \\ndesktop notifications\\n, configure mobile app notifications  \\nFilters/Labels\\n: In “Filters and Blocked Addresses,” create filters for teams/projects  \\n\\tExample: `subject:([Urgent])` → automatically add a “Urgent” label  \\n\\tExample: `from:(cfo@xyzshop.com)` → apply a “Finance” label, always show desktop notification  \\nPriority Inbox\\n: Arrange key emails at the top, mark specific senders as VIP\\nCalendar Alerts Integration\\n  \\nGo to [Google Calendar](https://calendar.google.com/) to see your schedule and team calendars  \\nFor new events, set both email and push (mobile) notifications  \\nSubscribe to shared calendars (e.g., weekly stand-up meetings, department head sessions) for a comprehensive overview\\n2. Leave/Absence Requests\\n2.1 Automated Email Bot\\nXYZ Shopping Mall uses a Gmail-based automation system called the \\n“Leave Bot.”\\nLeave Request Email Format\\n  \\nRecipient\\n: `leave-bot@xyzshop.com`  \\nSubject\\n: `[Leave Request] John Doe – 3/14 (Tue)`  \\nBody Example\\n:  \\n\\t```\\n\\tHello Leave Bot,\\n\\tI'd like to request paid leave on March 14 (Tuesday) due to personal matters.\\n\\tTeam Lead: Hyunju Lee\\n\\tCoverage: Yuna Kim\\n\\tAdditional Notes: None\\n\\tThank you.\\n\\t```\\nIndicating your \\nteam lead\\n is essential, as the bot automatically routes for approval.\\nApproval & Calendar Update\\n  \\nThe Leave Bot checks for approval (via an automated email) from the designated \\nteam lead\\n.  \\nOnce approved, the bot sends a confirmation email to the requestor and all relevant team members.  \\nThe approved date is automatically marked as “Out of Office” in the \\nGoogle Calendar\\n.\\nPartial Days or Half-Day Leave\\n  \\nUse the same email format but specify “Half-Day (AM/PM)” or the times (e.g., 09:00–13:00).  \\nThe calendar then blocks only the specified hours.\\n3. Conference Room Booking\\nXYZ Shopping Mall uses an internal portal, [meet.xyzshop.com](https://meet.xyzshop.com/), to reserve meeting rooms.\\nLogin\\n  \\nSingle Sign-On (SSO) with your `@xyzshop.com` account  \\nApprove “Meeting Room Booking” permissions when prompted\\nView Meeting Rooms & Schedule\\n  \\nRooms per floor, e.g., “10F-Alpha Room,” “10F-Beta Room,” “11F-Gamma Room,” etc.  \\nCheck availability in a calendar view; click an open time slot to proceed with booking.\\nBooking Procedure\\n  \\nFill out the request form: “Meeting Title / Number of Attendees / Required Equipment (projector, video conference tools, etc.)”  \\nOnce booked, a \\nGoogle Calendar invite\\n is automatically sent to all participants.  \\nIf there’s a conflict, the system suggests an alternative room or time.\\nCancellation/Changes\\n  \\nClick “Cancel” on the reservation detail page → the event is removed from the calendar, and cancellation notices go to all invitees.  \\nThe same applies for changes, keeping everyone updated.\\n4. Parking & Transportation Support\\n4.1 Parking\\nCompany Parking Portal\\n: [parking.xyzshop.com](https://parking.xyzshop.com/)  \\nVehicle Registration\\n  \\nLog in, enter license plate number, car model, and employee ID.  \\nOnce approved, you can reserve a parking spot in advance.  \\nParking Reservation\\n  \\nSelect date/time → the system confirms availability and finalizes the booking.  \\nIf full, you join a waitlist; cancellations trigger an automatic notification.  \\nParking Fees\\n  \\nFull-time employees may use a monthly pass (partially subsidized by the company).  \\nContractors/interns pay an hourly rate.  \\nNight parking (10 PM–8 AM) offered at a 50% discount.\\n4.2 Transportation Subsidies\\nPublic Transportation\\n  \\nFor those living in the metropolitan area, monthly “transport expense” reimbursement is offered.  \\nSubmit either your transit card usage screenshot or receipts to `conduct@xyzshop.com`; the allowance is included in your next paycheck.  \\nTaxi Fare\\n  \\nIf you work past 10 PM, upload your taxi receipt to the company expense system. Reimbursement is processed within a week.  \\nCompany Shuttle\\n  \\nOperates between a designated subway station and the office during peak commute hours.\\n5. Office/Building Information\\nAccess Card (Security Badge)\\n  \\nIssued by the IT security team during onboarding; report loss immediately to `security@xyzshop.com`.  \\nSome restricted zones (server room, R&D area) require additional clearance.\\nEmergency Exits & Fire Extinguishers\\n  \\nCheck the floor map (near elevator lobbies) for locations.  \\nParticipate in periodic fire drills (1–2 times a year).\\nBreak Room/Cafeteria\\n  \\nEach floor has a small lounge with complimentary drinks/snacks.  \\nA large cafeteria on B1 floor offers lunch/dinner (payment via meal card or employee ID).  \\nDiscounted salad bar every Friday.\\n6. Printer/Multifunction Device Usage\\nDriver Installation\\n  \\nGo to the [IT Portal](https://portal.xyzshop.com/) → “Downloads” → choose the correct driver for your OS (Windows/Mac/Linux).  \\nOperation\\n  \\nLog in to the printer/copier with your employee ID → print, copy, or scan.  \\nIf toner or paper runs low, contact the General Affairs (extension 101).  \\nScan to Email\\n  \\nOn the device panel, select “Scan” → “Email” → enter your `@xyzshop.com` address. A PDF is emailed automatically.  \\nIf an error occurs, on-screen troubleshooting instructions appear (e.g., paper jam).\\n7. Company Wi-Fi & Security\\nWi-Fi Access\\n  \\nSSID: `XYZSHOP-Office` (both 5GHz and 2.4GHz)  \"),\n",
       " Document(metadata={'tags': ['Meeting', 'Team: Marketing', 'Team: Purchasing', 'Team: Logistics', 'Team: Web Development', 'Team: Product Planning'], 'title': 'Meeting Minutes – January 5, 2025 (Team Leads)', 'id': '1870d31b-3869-8100-95bf-d6e8c67300ba'}, page_content='1. Meeting Overview\\nDate:\\n Monday, January 5, 2025, 10:00 AM – 11:30 AM\\nLocation:\\n Main Conference Room, 10th Floor, Headquarters\\nAttendees (Team Leads):\\n  \\nHyunju Lee (Product Planning Team Lead)  \\nJiyun Baek (Marketing Team Lead) – \\nRecorder\\n  \\nJunho Park (Purchasing Team Lead)  \\nKyung-ho Lee (Logistics Team Lead)  \\nYoung-hoon Choi (Web Development Team Lead)\\n2. Purpose of the Meeting\\nDiscuss company-wide strategies for launching and marketing new summer products in 2025\\nReview cross-departmental \\ncollaboration scenarios\\n and share anticipated risks\\nExplore proactive methods to achieve \\nstrong performance results\\n3. Summary of Discussions\\n3.1 Meeting Leadership and Atmosphere\\nJunho Park (Purchasing Team Lead)\\n took the lead in this meeting, showing strong determination to achieve \\ntop performance\\n.\\nThere was no formal presentation (PPT) prepared; instead, each team lead \\nfreely\\n shared updates and opinions.\\n3.2 New Product Launch Timeline & Key Issues\\nProduct Planning Team (Hyunju Lee)\\n“We’ll inspect the initial sample batch around mid-January, and plan to finalize products by early February. We aim to enhance our popular portable cooling device line from last year, plus expand our range of UV-protective clothing.”\\nEmphasized that \\ndesign elements\\n (patterns, color schemes, etc.) related to the new product concept remain in preliminary stages, requiring collaboration with the \\nMarketing Team\\n.\\nPurchasing Team (Junho Park)\\nLeading Statement\\n: “We must reach our target quantities as early as possible this year. Since many of these new products are imported, \\nmanaging delivery schedules\\n is crucial.”\\nProvided an update on price negotiations with Chinese and Southeast Asian partners: “Due to significant raw material price fluctuations, the quotes we received are about 5% higher than last year. We’ll negotiate further to avoid any impact on performance, and consider alternative suppliers if necessary.”\\n“Ideally, I want to complete \\nthe first round of incoming shipments\\n before the end of February, so we can start sales in early March.”\\nMarketing Team (Jiyun Baek, Recorder)\\n“We’re preparing teaser events on our existing social media channels (Instagram, TikTok, YouTube), aiming to start a \\npre-order\\n promotion around mid-February.”\\n“Once the new product’s design motif is confirmed, I’ll quickly produce influencer-focused mockups for viral marketing and share them.”\\nUrged \\nrapid coordination\\n with the Purchasing Team so any production delays do not push back the pre-order launch date.\\nLogistics Team (Kyung-ho Lee)\\n“We’ve begun partially reorganizing the warehouse and plan to upgrade our WMS (Warehouse Management System) in the new year. Once the initial shipment schedule is set, please inform us of the volume, dimensions, and arrival dates.”\\nWarned that a \\nsignificant spike\\n in incoming shipments could raise logistics costs or strain storage capacity: “We should coordinate with other departments in advance to spread out schedules.”\\n“Right after launch, a surge in orders might occur, so cooperating with courier services or shipping agencies is critical.”\\nWeb Development Team (Young-hoon Choi)\\n“We intend to update the main website banner and product detail page templates in line with the product reveal.”\\nProvided a progress report on the \\nUI/UX renewal\\n: “Our first-half goal is to enhance responsive design, and we’re reviewing server expansion in advance to manage higher traffic during the summer.”\\nMentioned potential setbacks if the Marketing Team and Product Planning Team \\ndeliver product content\\n (images, videos, copywriting) later than planned.\\n4. Decisions and Action Items\\nManaging Product Quantities and Delivery (Purchasing → Product Planning, Logistics)\\nThe Purchasing Team (Junho Park) will wrap up additional negotiations with Chinese and Southeast Asian suppliers by late January, then share the finalized initial shipment quantities and arrival dates with the Product Planning and Logistics teams.\\nThey will prioritize a schedule that enables \\ndelivery before the end of February\\n, but will reassess other suppliers if necessary.\\nMarketing Promotion Schedule (Marketing → Web Dev, Product Planning)\\nThe Marketing Team (Jiyun Baek) will finalize an \\nSNS teaser\\n plan aimed at mid-February pre-orders → complete preliminary concepts (storyboards, influencer lists, etc.) by mid-January.\\nOnce the product design concept is fixed (anticipated in early February), the Product Planning Team (Hyunju Lee) will notify the Web Dev and Marketing teams → triggering banner creation and product detail page design.\\nLogistics Optimization Measures (Logistics → Web Dev, Purchasing)\\nIf large-volume shipments arrive at the end of February, Logistics Team Lead (Kyung-ho Lee) will prepare and share a \\nwarehouse reorganization plan\\n.\\nWork with the Web Development Team to refine \\nreal-time inventory tracking\\n.\\nIf needed, re-check \\ncontract conditions\\n with courier and shipping agencies (pick-up frequency, costs, etc.).\\nWebsite Updates (Web Dev → Marketing, Product Planning)\\nYoung-hoon Choi will draft a schedule for updating new product listings and the main page by January 10.\\nCoordinate with the Marketing Team on \\nbanner placement\\n and potential video content; quickly integrate \\nproduct specs\\n and descriptions provided by the Product Planning Team.\\n5. Major Concerns and Requests\\nJunho Park (Purchasing Team Lead)\\n: “We must secure our target quantity without compromising profit margins through strong price negotiations. If any department encounters lack of cooperation, let me know immediately so I can mediate.”  \\nClearly emphasized \\ncommitment to hitting performance targets\\n, pushing for swift execution.\\nHyunju Lee (Product Planning Team Lead)\\n: Voiced concern that if the product concept is delayed, both marketing and web dev timelines could be affected in a chain reaction. \\nConfirming the design with suppliers\\n is critical.\\nJiyun Baek (Marketing Team Lead, Recorder)\\n: Reiterated the need for product images as soon as possible to prevent any disruptions in \\npre-orders\\n or \\nSNS promotions\\n.\\nKyung-ho Lee (Logistics Team Lead)\\n: Mentioned the potential need to \\nincrease the logistics budget\\n: “We anticipate a surge this summer and might need to consider additional staffing.”\\nYoung-hoon Choi (Web Dev Team Lead)\\n: Stressed that once the development timeline slips, revisions can become time-consuming. Requested \\nstrict adherence\\n to deadlines.\\n6. Other Discussion Points\\nInternal Schedule Coordination\\n: Agreed to hold another mid-range review meeting around mid-January (date TBD via email).\\nPotential Overseas Market\\n: Overseas (cross-border) sales are not a priority for now; primary focus remains on the domestic market.\\nCoordination with Finance Team\\n: Additional marketing campaign costs and logistics budget increases require prior discussion with the Finance (Administration) department.\\n7. Conclusion and Next Meeting\\nTentative Next Meeting:\\n Monday, January 20, 10:00 AM, same location\\nMain Agenda:\\n Confirmation of Purchasing Team negotiations, viability of finalizing the new product concept, and detailed schedule for pre-order promotions\\nMeeting adjourned at 11:30 AM\\nPrepared by:\\n Jiyun Baek (Marketing Team Lead)  \\nReviewed by:\\n Junho Park (Purchasing Team Lead, Meeting Leader)'),\n",
       " Document(metadata={'tags': ['Meeting', 'Team: Product Planning'], 'title': 'Product Planning Team Meeting Minutes on January 26, 2025', 'id': '1870d31b-3869-81d0-93d5-d916a026a7bf'}, page_content='1. Meeting Overview\\nDate/Time:\\n January 26, 2025 (Thursday), 10:00 AM – 11:30 AM\\nLocation:\\n 10th floor, small conference room in the headquarters\\nAttendees:\\n  \\nHyunju Lee (Team Lead)  \\nMinwoo Choi (Team Member A)  \\nYuna Kim (Team Member B)  \\nJihun Park (Team Member C)  \\nSooyoung Kang (Team Member D)\\n2. Purpose of Discussion\\nShare the preliminary research for the 2025 summer season product planning and use it to further define \\ncore products\\n and \\npromotion strategies\\n.\\nOrganize the parts requiring collaboration (Marketing, Purchasing, Operations Management, etc.) and coordinate schedules for follow-up tasks.\\n3. Summary of Discussions\\n3.1 Review of the Preliminary Research\\nMinwoo Choi’s Presentation:\\nShared competitor trends (particularly the growth of camping/outdoor specialty malls) and survey results.\\nEmphasized that the “Homecation” keyword trend is steadily rising among the MZ generation.\\nProjected increased demand for UV-protective apparel and portable cooling appliances (fans, mini air conditioners).\\nSooyoung Kang’s Detailed Data:\\nDetailed item list\\n (apparel, home appliances, beauty, leisure products, etc.) and brief specs.\\nVisual data (graphs, charts) summarizing the survey results → “Most essential summer item is the portable fan at 45%.”\\nComprehensive overview of each competitor’s key products and marketing points.\\n3.2 Exchange of Opinions\\nHyunju Lee (Team Lead) Comments\\n“Great job putting everything together so thoroughly, Minwoo and Sooyoung. The material is impressive and will help us plan action items quickly.”\\n“We need to decide on which product lineup to focus on today. It’s crucial to reach a broad agreement on our priority targets.”\\nEmphasized the need for \\ncross-checking\\n with Marketing and Purchasing next week given tight schedules, suggesting \\nclear prioritization\\n.\\nAdditional Suggestions from Minwoo Choi\\nNoted the need to focus on a \\nfamily lineup\\n for consumers with young children: “Lightweight camping chairs, mini fridges, and portable ice packs are all in high demand among families.”\\nExpressed concern over the sch\\nDetailed Opinions from Yuna Kim\\n“I’d love to see a \\nunique design collaboration\\n. In international markets, MZ consumers are willing to spend on products that spark a ‘collectible desire.’”\\nWarned against spreading efforts too thin by tackling too many items at once. Proposed focusing on \\n2–3 core products\\n first.\\nOffered to draft the initial document by this weekend and share it via Google Docs.\\nRisk Analysis by Jihun Park\\nCited his past experience at a large corporation, warning of “inventory management risks.”\\n“Especially for cooling-related items, large amounts of stock can remain after the peak season. We should coordinate with the \\nMarketing Team\\n on a discount or set-sale strategy from the outset.”\\nStressed the need for a smooth communication process with the Purchasing and Logistics teams: “We must have an end-to-end timeline in place.”\\nAdditional Comments from Sooyoung Kang\\n“While researching, I noticed that social media is flooded with the hashtag ‘summer must-haves.’ It might be good to plan a list of influencers or a viral marketing strategy in advance.”\\nPlans to prepare a separate report on remaining data concerning the beauty/sun care market by early next week.\\n4. Decisions and Action Items\\nDetermining Core Items (Priorities)\\nTentatively decided to focus on three categories: “Portable cooling devices (fans, coolers, etc.) / UV-protective clothing / Homecation-related decor items.”\\nLed by Yuna Kim\\n: Define specific \\ntarget customer segments\\n (families, single-person households, MZ, etc.) for each category and draft the initial plan.\\nCommunication with the Purchasing Team\\nLed by Minwoo Choi\\n: Confirm *supply feasibility*, *MOQ*, and *unit cost* for candidate products (fans, camping tables, portable ice boxes) with the Purchasing Team.\\nIf samples are available, check the Logistics Team’s incoming schedule \\nbefore the next meeting (scheduled for February 2).\\nPreemptive Strategy on Inventory & Marketing\\nLed by Jihun Park\\n: Work with the Marketing Team to plan \\nstock clearance\\n (discounts, set sales, etc.) for post-season management.\\nRequest an update from the Operations Management Team regarding the real-time inventory tracking system.\\nDetailing SNS Viral/Collaboration Ideas\\nLed by Sooyoung Kang\\n: Gather additional data on MZ/influencer trends → collaborate with Yuna Kim to draft an “SNS campaign guide.”\\nExplore the possibility of design collaborations (characters, illustrators) and create a list of potential partner organizations.\\nNext Meeting (Internal Scheduling)\\nDate: Tentatively Thursday, February 2, 2025, at 10:00 AM  \\nAgenda: Report on Purchasing Team discussions, finalize core product lineup, and plan detailed promotions.\\n5. Pending / Items for Further Discussion\\nPricing Strategy\\n: May be unstable due to exchange rate fluctuations and raw material costs → to be revisited after discussions with the Purchasing Team.\\nPackage Deal\\n: Mentioned the potential for bundling UV-protective clothing, portable fans, and cooling gel packs into a ‘summer package,’ but \\nno concrete plan\\n yet.\\nOverseas Market Expansion\\n: Idea of targeting MZ customers globally (direct international sales or open-market partnerships) is on hold. Will focus on the domestic market first.\\n6. Other Notes\\nHealth Considerations\\n: Mention made of Jihun Park’s back pain and Minwoo Choi’s parenting obligations, which could affect scheduling. Hyunju Lee (Team Lead) asked them to notify the team in advance if any adjustments are needed.\\nDocument Sharing\\n: Yuna Kim will share the tasks and timeline in Google Docs after the meeting. Everyone should \\ncheck and comment within 24 hours\\n.\\n7. Conclusion & Next Steps\\nThis meeting established the general framework for \\n2025 summer product strategies\\n (three core categories, necessary cross-department collaborations).\\nBy the next meeting, \\ncoordination with the Purchasing Team\\n and \\ndetailed SNS strategy\\n should be completed → these findings will help finalize the product lineup and promotion plans in early February.\\nMeeting End Time: 11:30 AM\\n> \\nRecorder:\\n Product Planning Team, Sooyoung Kang  \\n> \\nReviewer:\\n Hyunju Lee (Team Lead)'),\n",
       " Document(metadata={'tags': ['Research', 'Team: Product Planning'], 'title': 'Pre-Research for the 2025 Summer Season Product Preparation', 'id': '1870d31b-3869-8174-b81a-d3bf317c7997'}, page_content='1. Overview of Market Research\\nResearch Period:\\n January 15, 2025 – January 22, 2025  \\nScope of Research:\\n Domestic online shopping malls (general and specialized), international trend reports (focus on North America and Europe)  \\nResearch Methods:\\nOnline survey (300 consumers surveyed)  \\nAnalysis of best-seller rankings in domestic and international online malls  \\nMonitoring social media (Instagram, TikTok) hashtags and keywords  \\n2. Consumer Trends and Needs\\nIncrease in Outdoor Activities\\n  \\nAfter COVID, demand for travel and leisure has surged significantly since 2023–2024  \\nContinued boom in camping and glamping  \\nSales of “car camping” products up by 30% compared to the previous year\\nHome Resort & Home Picnic Craze\\n  \\nEmphasis on enjoying a cool summer at home, known as the “homecation” trend  \\nGrowing demand for items that can easily create a picnic vibe indoors or on a balcony\\nMust-Haves for Extreme Heat\\n  \\nPortable fans, portable air conditioners, ice cooler bags remain popular  \\nOngoing increase in sales of UV-protective apparel (rash guards, functional T-shirts) and sun care products (sunscreens, sun sticks)\\nMZ Generation Spending Patterns\\n  \\nHigh curiosity about new brands and products  \\nFocus on social media engagement/sharing, preferring unique or aesthetic designs and packaging  \\nValue the “experience and fun” over pure cost-effectiveness  \\n3. Competitor and Product Category Analysis\\nCompetitor A (General Mall Affiliation)\\nLaunched a “Summer Essentials” promotion in summer 2024 with strong results  \\nFocused heavily on rattan interior items & portable electronics (e.g., circulators)  \\nSaw an increase in sales of private brand cooling mats and bedding (successful viral marketing on social media)\\nCompetitor B (Fashion Specialty Mall)\\nCurrently spotlighting pleated, breathable pants and linen shirts  \\nPromoting a “daily look + resort fashion” concept, driving traffic through influencer collaborations  \\nEmploys a \\nlong-tail\\n strategy by clearing out leftover inventory at discounted prices even after the season\\nCompetitor C (Outdoor/Leisure Specialty Mall)\\nExpanding core product lines to tents, camping chairs, and portable BBQ grills  \\nLast year’s heat wave boosted sales of cooling-focused camping items (sunshade tarps, ice packs)  \\nUses KakaoTalk Plus Friend for swift CS and offers robust discounts as a key strength\\n4. Projected Demand by Item Type\\nApparel/Fashion\\n  \\nUV-protective hats, scarves, rash guards expected to see increased sales  \\nGrowth in demand for functional “cool” T-shirts/pants and quick-dry shirts  \\nLeisure/Camping Gear\\n  \\nCompact camping tables, mini fans, portable fridges  \\nLightweight folding chairs/beds with easy assembly\\nBeauty/Sun Care\\n  \\nSun sticks, sun cushion makeup, and waterproof cosmetics remain popular  \\nAfter-sun care market (aloe soothing gels, calming patches) also expanding  \\nHome Appliances/Household Goods\\n  \\nDesktop/portable fans, mini air conditioners  \\nEmergence of “cooling mist diffusers” with added aroma functions\\n5. Key Results from Customer Survey (Online, N=300)\\n“Which summer season item do you consider most essential?”\\n  \\nPortable fan (45%)  \\nUV-protective clothing (28%)  \\nSunscreen products (20%)  \\nOthers: Camping gear, cooling bedding, etc. (7%)\\n“What is the most important factor when making a purchase?”\\n  \\nFunction/Effectiveness (35%)  \\nDesign/Brand image (25%)  \\nPrice (20%)  \\nReviews/Reputation (15%)  \\nRecommendations from friends/family (5%)\\n“What are your leisure plans for this summer?”\\n (multiple answers)  \\nDomestic travel (60%)  \\nResting at home (30%)  \\nInternational travel (20%)  \\nLeisure sports (15%)  \\nCamping/car camping (10%)\\n6. Summary and Insights\\nConcentrated Demand\\n: Consistent high demand for portable cooling appliances (fans, mini air conditioners).  \\nExperience-Focused Marketing\\n: Consumers prefer not only functional aspects but also an “experience-oriented concept” for showcasing \\n“summer survival items”\\n on social media.  \\nDesign Differentiation\\n: Aim for emotional, aesthetic designs or fun character collaborations to attract the MZ generation.  \\nQuality for the Price\\n: Providing decent performance and usability at a reasonable price point likely increases purchase conversions.  \\n7. Additional Proposed Ideas\\nLimited-Edition Design Collaborations\\n  \\nCollaborate with popular illustrators or webtoon artists for co-branded portable fans, tumbler sets  \\n“Summer Life Hacks” SNS Campaign\\n  \\nRun a customer review event featuring our products + share summer lifestyle tips (home-cooking recipes, homecation styling)  \\nPackage Deals for Summer\\n  \\nCombine UV-protective clothing + portable fans + cooling gel packs into sets  \\nOffer lines dedicated to “staying at home” vs. “outdoor activities,” each with a distinct package\\n8. References\\n2024 Summer Market Trend Report (K-Trend Research Institute)  \\nSocial Media Summer Keyword Analysis (Instagram/TikTok Hashtag Data)  \\nInternal Sales Data (Comparison of category-specific sales from June to August 2023)  \\n# Notes on Responsible Parties for Preparation\\nMinwoo Choi\\n  \\nCompiled and organized the presentation materials (market research, competitor trends, consumer survey, etc.)  \\nHandled the overall presentation\\nSooyoung Kang\\n  \\nCompiled detailed item lists and specifications  \\nCreated summary graphs of the survey results  \\nEnhanced the visual aids with captured images and graphs'),\n",
       " Document(metadata={'tags': ['Members'], 'title': 'XYZ Shopping Mall Organizational Structure & Department Contact Information', 'id': '1870d31b-3869-81d4-9334-cc4bcd447ab3'}, page_content='1. General Affairs/Administration Team  \\nTeam Lead\\n: Seongmin Kim (Extension 101)  \\nMain Email\\n: support@xyz.com  \\n\\nTasks & Procedures\\n  \\nEmployee Expense Reimbursement Approval\\n  \\n\\tProcedure:  \\n\\t\\tAn employee submits a reimbursement form (including receipts) to the General Affairs/Administration Team.  \\n\\t\\tSeongmin Kim verifies the validity of expenses and checks departmental budgets.  \\n\\t\\tUpon approval, the finance officer processes the reimbursement to the employee’s bank account.  \\nBuilding Maintenance Requests\\n  \\n\\tProcedure:  \\n\\t\\tDepartments report issues (e.g., air conditioning malfunction, plumbing) to Seongmin Kim via email or internal ticket system.  \\n\\t\\tSeongmin Kim contacts the building’s maintenance contractor or in-house facility manager.  \\n\\t\\tOnce repairs are scheduled and completed, he confirms with the requesting department and updates the maintenance log.  \\nOfficial Document/Contract Seal & Approval\\n  \\n\\tProcedure:  \\n\\t\\tRelevant departments (e.g., Purchasing) draft the contract and forward it to the Administration Team.  \\n\\t\\tSeongmin Kim reviews legal/financial terms in coordination with internal legal counsel if necessary.  \\n\\t\\tIf the document meets all requirements, he applies the official company seal and records it in the document registry.  \\n2. Product Planning Team  \\nTeam Lead\\n: Hyunju Lee (Extension 201)  \\nMain Email\\n: product@xyz.com  \\n\\nTasks & Procedures\\n  \\nNew Product Concept Validation\\n  \\n\\tProcedure:  \\n\\t\\tSales data and market trends are analyzed to identify potential product concepts.  \\n\\t\\tHyunju Lee convenes a review meeting with key stakeholders (e.g., Purchasing, Marketing).  \\n\\t\\tThe final concept is documented in a “New Product Proposal,” awaiting further sample procurement.  \\nSeasonal Product Roadmap Creation\\n  \\n\\tProcedure:  \\n\\t\\tIdentify key seasonal sales windows (e.g., holidays, back-to-school).  \\n\\t\\tHyunju Lee drafts a roadmap outlining product launches, promotions, and discontinuations.  \\n\\t\\tThe roadmap is shared with Operations, Marketing, and Logistics for alignment.  \\nProduct Lifecycle Management (Discontinuation/Upgrade)\\n  \\n\\tProcedure:  \\n\\t\\tMonitor slow-moving or outdated products by analyzing monthly sales and returns data.  \\n\\t\\tHyunju Lee decides whether to discontinue or upgrade the item (in collaboration with Purchasing if a new version is needed).  \\n\\t\\tCommunicate changes to Logistics (for inventory clearance), Content Team (for webpage updates), and Marketing (for final sale promotions).  \\n3. Purchasing Team  \\nTeam Lead\\n: Junho Park (Extension 202)  \\nMain Email\\n: purchase@xyz.com\\n\\nTasks & Procedures\\n  \\nSupplier Onboarding\\n  \\n\\tProcedure:  \\n\\t\\tReceive potential supplier information from Product Planning or external inquiries.  \\n\\t\\tJunho Park reviews supplier credentials, pricing, and quality standards.  \\n\\t\\tOnce approved, the supplier is added to the vendor list with agreed terms and conditions.  \\nPrice Negotiation & Contract Finalization\\n  \\n\\tProcedure:  \\n\\t\\tCollect competitor pricing and supplier quotes for the targeted product.  \\n\\t\\tJunho Park conducts negotiation calls/emails to reach optimal cost and payment terms.  \\n\\t\\tFinalize a written contract or purchase order (PO) and forward to Administration Team for official sealing.  \\nSample Procurement for New Products\\n  \\n\\tProcedure:  \\n\\t\\tCoordinate with the Product Planning Team to identify required product samples.  \\n\\t\\tJunho Park requests samples from selected suppliers, confirming lead time and shipping costs.  \\n\\t\\tUpon receipt, forward samples to Product Planning and Operations Management for evaluation.  \\n4. Operations Management Team  \\nTeam Lead\\n: Sumin Oh (Extension 301)  \\nMain Email\\n: operation@xyz.com  \\n\\nTasks & Procedures\\n  \\nInventory Accuracy Audit\\n  \\n\\tProcedure:  \\n\\t\\tSchedule periodic checks of warehouse stock versus system records.  \\n\\t\\tSumin Oh supervises a manual count or system-based audit alongside the Logistics Team.  \\n\\t\\tDiscrepancies are investigated; if significant, the root cause is identified and reported to management.  \\nProcess Improvement & Cross-Department Coordination\\n  \\n\\tProcedure:  \\n\\t\\tGather feedback from various teams about process bottlenecks.  \\n\\t\\tSumin Oh organizes a review meeting to propose software automation or policy updates.  \\n\\t\\tImplement approved changes and monitor performance metrics to confirm improvements.  \\nInternal System User Management\\n  \\n\\tProcedure:  \\n\\t\\tCreate new employee accounts for the ERP/CRM systems upon hiring (after HR requests).  \\n\\t\\tDeactivate or reassign accounts when employees change roles or leave the company.  \\n\\t\\tSumin Oh ensures permission levels are correctly set and conducts periodic access reviews.  \\n5. Web Development Team  \\nTeam Lead\\n: Younghoon Choi (Extension 401)  \\nMain Email\\n: webdev@xyz.com  \\n\\nTasks & Procedures\\n  \\nWebsite Error Diagnosis & Fixes\\n  \\n\\tProcedure:  \\n\\t\\tReceive bug/error reports from CS or other departments.  \\n\\t\\tYounghoon Choi assigns the issue to a developer for investigation.  \\n\\t\\tAfter testing and deployment of the fix, confirm resolution with the reporting department.  \\nNew Feature Implementation (e.g., Wishlist, Advanced Filtering)\\n  \\n\\tProcedure:  \\n\\t\\tRelevant team (e.g., Marketing) submits a feature request outlining requirements.  \\n\\t\\tWeb Development drafts technical specifications, timeline, and cost estimates.  \\n\\t\\tYounghoon Choi oversees development, testing, and final launch, coordinating with stakeholders on rollout details.  \\nServer Maintenance & Security Updates\\n  \\n\\tProcedure:  \\n\\t\\tSchedule periodic server patches and security upgrades (e.g., OS updates, SSL certificate renewals).  \\n\\t\\tPerform maintenance during off-peak hours to minimize site disruption.  \\n\\t\\tVerify system stability post-update, and inform all teams of successful completion.  \\n6. Content Team  \\nTeam Lead\\n: Hyuna Bae (Extension 501)  \\nMain Email\\n: contents@xyz.com  \\n\\nTasks & Procedures\\n  \\nProduct Detail Page Creation\\n  \\n\\tProcedure:  \\n\\t\\tReceive product specs and highlights from Product Planning or Purchasing.  \\n\\t\\tHyuna Bae oversees copywriting, image capture, and layout design for the product page.  \\n\\t\\tFinalize the text and visuals, then deliver to Web Development for website upload.  \\nMarketing Media Production (Photos/Videos)\\n  \\n\\tProcedure:  \\n\\t\\tMarketing Team or management requests promotional materials (e.g., new product teaser).  \\n\\t\\tContent Team schedules a shoot, creates a storyboard, and prepares props.  \\n\\t\\tProduce, edit, and finalize the media, then distribute or upload to the relevant channels.  \\nSocial Media Content Planning\\n  \\n\\tProcedure:  \\n\\t\\tGather trending topics and brand guidelines from Marketing.  \\n\\t\\tCreate a monthly calendar of posts (images, short videos, promotional info).  \\n\\t\\tHyuna Bae reviews and approves each post, then schedules publication on social platforms.  \\n7. Logistics Team  \\nTeam Lead\\n: Kyungho Lee (Extension 601)  \\nMain Email\\n: logistics@xyz.com  \\n\\nTasks & Procedures\\n  \\nInbound Shipment & Stock Reception\\n  \\n\\tProcedure:  \\n\\t\\tConfirm ETA (Estimated Time of Arrival) with suppliers.  \\n\\t\\tUpon receiving goods, check quantities and condition against the purchase order.  \\n\\t\\tUpdate the inventory system and store products in designated warehouse areas.  \\nOutbound Shipping & Courier Coordination\\n  \\n\\tProcedure:  \\n\\t\\tAccess the order management system and print daily pick lists.  \\n\\t\\tPack items securely, generate shipping labels, and hand them over to the assigned courier.  \\n\\t\\tTrack shipments and handle any courier-related issues or delays.  \\nReturn & Exchange Management\\n  \\n\\tProcedure:  \\n\\t\\tReceive return/exchange requests from CS Team.  \\n\\t\\tInspect returned items for condition and verify eligibility (e.g., no damage).  \\n\\t\\tIf valid, restock the item or dispose of it (if defective), and update inventory accordingly.  \\n8. Customer Service (CS) Team  \\nTeam Lead\\n: Yujin Jung (Extension 701)  \\nMain Email\\n: cs@xyz.com  \\n\\nTasks & Procedures\\n  \\nCustomer Complaint Resolution\\n  \\n\\tProcedure:  \\n\\t\\tLog the complaint in the CS ticketing system (email, phone, or web form).  \\n\\t\\tInvestigate the issue (contact relevant departments if needed).  \\n\\t\\tProvide the customer with a resolution (replacement, refund, apology, etc.) and close the ticket once resolved.  \\nRefund & Exchange Processing\\n  \\n\\tProcedure:  \\n\\t\\tConfirm the customer’s purchase details and reason for refund/exchange.  \\n\\t\\tCoordinate with Logistics to handle product returns and re-ship replacements (if necessary).  \\n\\t\\tProcess monetary refunds through the finance system and notify the customer of completion.  \\nFAQ & Knowledge Base Management\\n  \\n\\tProcedure:  \\n\\t\\tTrack frequently asked questions or recurring issues.  \\n\\t\\tCreate or update FAQ entries on the website for self-service.  \\n\\t\\tYujin Jung reviews and finalizes any changes, ensuring consistency in tone and accuracy.')]"
      ]
     },
     "execution_count": 16,
     "metadata": {},
     "output_type": "execute_result"
    }
   ],
   "source": [
    "from langchain_community.document_loaders import NotionDBLoader\n",
    "\n",
    "NOTION_TOKEN = \"ntn_****\"\n",
    "DATABASE_ID = \"1870d31b38698044b3f2fdd3c2c15e4c\"\n",
    "\n",
    "loader = NotionDBLoader(\n",
    "    integration_token=NOTION_TOKEN,\n",
    "    database_id=DATABASE_ID,\n",
    ")\n",
    "\n",
    "data = loader.load()\n",
    "\n",
    "# If you can see list of documents, it means you successfully loaded the data from Notion.\n",
    "data"
   ]
  },
  {
   "cell_type": "markdown",
   "metadata": {},
   "source": [
    "## Setup Vector Store\n"
   ]
  },
  {
   "cell_type": "markdown",
   "metadata": {},
   "source": [
    "## Building Agent\n"
   ]
  },
  {
   "cell_type": "markdown",
   "metadata": {},
   "source": [
    "## Chat with Agent\n"
   ]
  }
 ],
 "metadata": {
  "kernelspec": {
   "display_name": "langchain-opentutorial-RXtDr8w5-py3.11",
   "language": "python",
   "name": "python3"
  },
  "language_info": {
   "codemirror_mode": {
    "name": "ipython",
    "version": 3
   },
   "file_extension": ".py",
   "mimetype": "text/x-python",
   "name": "python",
   "nbconvert_exporter": "python",
   "pygments_lexer": "ipython3",
   "version": "3.12.8"
  }
 },
 "nbformat": 4,
 "nbformat_minor": 2
}
