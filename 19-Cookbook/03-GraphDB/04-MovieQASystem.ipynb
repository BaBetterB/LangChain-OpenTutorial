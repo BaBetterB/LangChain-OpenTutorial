{
  "cells": [
    {
      "cell_type": "markdown",
      "id": "635d8ebb",
      "metadata": {},
      "source": [
        "# Movie QA System with Graph Database\n",
        "\n",
        "- Author: [Heesun Moon](https://github.com/MoonHeesun)\n",
        "- Design: \n",
        "- Peer Review: \n",
        "- This is a part of [LangChain Open Tutorial](https://github.com/LangChain-OpenTutorial/LangChain-OpenTutorial)\n",
        "\n",
        "[![Open in Colab](https://colab.research.google.com/assets/colab-badge.svg)](https://colab.research.google.com/github/LangChain-OpenTutorial/LangChain-OpenTutorial/blob/main/19-Cookbook/03-GraphDB/04-MovieQASystem.ipynb) [![Open in GitHub](https://img.shields.io/badge/Open%20in%20GitHub-181717?style=flat-square&logo=github&logoColor=white)](https://github.com/LangChain-OpenTutorial/LangChain-OpenTutorial/blob/main/99-TEMPLATE/00-BASE-TEMPLATE-EXAMPLE.ipynb)\n",
        "\n",
        "## Overview\n",
        "\n",
        "This tutorial covers the implementation of **a movie QA system using a graph database** with `Neo4j` .\n",
        "\n",
        "It explains the process of storing data in a graph database and implementing a `text2Cypher` conversion feature using LLMs. This allows natural language queries to be converted into Cypher queries, and the answers retrieved from the database are returned in natural language as well.\n",
        "\n",
        "![basic-workflow](./assets/04-movie-qa-system-basic-workflow.png)\n",
        "\n",
        ">### ⚠️Security Note\n",
        ">Building Q&A systems with graph databases involves executing model-generated queries, which carries inherent risks. To minimize these risks, restrict database permissions to the narrowest scope required for your chain or agent. While this reduces vulnerabilities, it does not eliminate them entirely. For more security best practices, see the [LangChain security documentation](https://python.langchain.com/docs/security/).\n",
        "\n",
        "### Table of Contents\n",
        "\n",
        "- [Overview](#overview)\n",
        "- [Environement Setup](#environment-setup)\n",
        "- [Connect to Neo4j Graph Database](#connect-to-neo4j-graph-database)\n",
        "- [Graph Schema](#graph-schema)\n",
        "- [GraphQACypherChain](#graphqacypherchain)\n",
        "\n",
        "### References\n",
        "\n",
        "- [Neo4j](https://neo4j.com/)\n",
        "- [LangChain: Build a Question Answering application over a Graph Database](https://python.langchain.com/docs/tutorials/graph/#graphqacypherchain)\n",
        "----"
      ]
    },
    {
      "cell_type": "markdown",
      "id": "c6c7aba4",
      "metadata": {},
      "source": [
        "## Environment Setup\n",
        "\n",
        "Set up the environment. You may refer to [Environment Setup](https://wikidocs.net/257836) for more details.\n",
        "\n",
        "**[Note]**\n",
        "- `langchain-opentutorial` is a package that provides a set of easy-to-use environment setup, useful functions and utilities for tutorials. \n",
        "- You can checkout the [`langchain-opentutorial`](https://github.com/LangChain-OpenTutorial/langchain-opentutorial-pypi) for more details."
      ]
    },
    {
      "cell_type": "code",
      "execution_count": null,
      "id": "21943adb",
      "metadata": {},
      "outputs": [],
      "source": [
        "%%capture --no-stderr\n",
        "%pip install langchain-opentutorial"
      ]
    },
    {
      "cell_type": "code",
      "execution_count": null,
      "id": "f25ec196",
      "metadata": {},
      "outputs": [],
      "source": [
        "# Install required packages\n",
        "from langchain_opentutorial import package\n",
        "\n",
        "package.install(\n",
        "    [\n",
        "        \"langchain\",\n",
        "        \"langchain_neo4j\",\n",
        "        \"langchain_openai\",\n",
        "    ],\n",
        "    verbose=False,\n",
        "    upgrade=False,\n",
        ")"
      ]
    },
    {
      "cell_type": "code",
      "execution_count": null,
      "id": "7f9065ea",
      "metadata": {},
      "outputs": [],
      "source": [
        "# Set environment variables\n",
        "from langchain_opentutorial import set_env\n",
        "\n",
        "set_env(\n",
        "    {\n",
        "        \"OPENAI_API_KEY\": \"\",\n",
        "        \"NEO4J_URI\": \"\",\n",
        "        \"NEO4J_USERNAME\": \"\",\n",
        "        \"NEO4J_PASSWORD\": \"\",\n",
        "        \"LANGCHAIN_API_KEY\": \"\",\n",
        "        \"LANGCHAIN_TRACING_V2\": \"true\",\n",
        "        \"LANGCHAIN_ENDPOINT\": \"https://api.smith.langchain.com\",\n",
        "        \"LANGCHAIN_PROJECT\": \"MovieQASystem\",\n",
        "    }\n",
        ")"
      ]
    },
    {
      "cell_type": "markdown",
      "id": "690a9ae0",
      "metadata": {},
      "source": [
        "You can alternatively set API keys such as `OPENAI_API_KEY` in a `.env` file and load them.\n",
        "\n",
        "[Note] This is not necessary if you've already set the required API keys in previous steps."
      ]
    },
    {
      "cell_type": "code",
      "execution_count": 2,
      "id": "4f99b5b6",
      "metadata": {},
      "outputs": [
        {
          "data": {
            "text/plain": [
              "True"
            ]
          },
          "execution_count": 2,
          "metadata": {},
          "output_type": "execute_result"
        }
      ],
      "source": [
        "# Load API keys from .env file\n",
        "from dotenv import load_dotenv\n",
        "\n",
        "load_dotenv(override=True)"
      ]
    },
    {
      "cell_type": "markdown",
      "id": "4388b420",
      "metadata": {},
      "source": [
        "## Connect to Neo4j Graph Database\n",
        "\n",
        "First, install the Neo4j graph database. This tutorial is based on `Neo4j Desktop` .\n",
        "\n",
        "- [installation](https://neo4j.com/docs/operations-manual/current/installation/)\n",
        "\n",
        "[Note] You can also set up a free, cloud-based Neo4j instance using [Neo4j Sandbox](https://neo4j.com/sandbox/), an online platform for working with graph databases.\n",
        "\n",
        "After installing, open Neo4j Desktop. A default **Example Project** should be available. We'll use this project for this tutorial.\n",
        "\n",
        "### Activate Database\n",
        "\n",
        "Click the `Start` to activate the `Movie DBMS` .\n",
        "\n",
        "![setup-01](./assets/04-movie-qa-system-setup-01.png)\n",
        "\n",
        "### Setup APOC Plugin\n",
        "\n",
        "- Open the `Movie DBMS` project.  \n",
        "- Go to the `Plugins` section.  \n",
        "- Select `APOC` and click `Install and Restart` .\n",
        "\n",
        "![setup-02](./assets/04-movie-qa-system-setup-02.png)\n",
        "\n",
        "To allow external network connections, you need to update the `neo4j.conf` file.\n",
        "\n",
        "Open the terminal in `Neo4j Desktop` .\n",
        "\n",
        "![setup-03](./assets/04-movie-qa-system-setup-03.png)\n",
        "\n",
        "Navigate to the configuration file directory and edit `neo4j.conf` ."
      ]
    },
    {
      "cell_type": "code",
      "execution_count": null,
      "id": "4b23d268",
      "metadata": {
        "vscode": {
          "languageId": "shellscript"
        }
      },
      "outputs": [],
      "source": [
        "# Change Directory\n",
        "cd conf\n",
        "# Windows\n",
        "notepad neo4j.conf\n",
        "# Linux/Mac\n",
        "nano neo4j.conf"
      ]
    },
    {
      "cell_type": "markdown",
      "id": "9972e999",
      "metadata": {},
      "source": [
        "Add or modify the following line in the `neo4j.conf` file:  \n",
        "\n",
        "- `server.default_listen_address=0.0.0.0`\n",
        "\n",
        "### Define Neo4j Credentials\n",
        "\n",
        "Next, you need to define your Neo4j credentials. If you haven't done this in the previous steps, you can define them using the `os` package.\n",
        "\n",
        "[Note] This is not necessary if you've already set the required Neo4j credentials in previous steps.\n",
        "\n",
        ">The default user account information:\n",
        ">\n",
        ">- Default username: `neo4j`\n",
        ">- Default password: `neo4j`\n",
        ">\n",
        ">You are required to change the password upon your first login."
      ]
    },
    {
      "cell_type": "code",
      "execution_count": 3,
      "id": "69cb77da",
      "metadata": {},
      "outputs": [],
      "source": [
        "import os\n",
        "\n",
        "os.environ[\"NEO4J_URI\"] = \"bolt://localhost:7687\"\n",
        "os.environ[\"NEO4J_USERNAME\"] = \"neo4j\"\n",
        "os.environ[\"NEO4J_PASSWORD\"] = \"movie1234\"  # 초기 설정으로 바꾸기기"
      ]
    },
    {
      "cell_type": "markdown",
      "id": "6d9ee22a",
      "metadata": {},
      "source": [
        "The following example demonstrates how to connect to a Neo4j database and populate it with sample data about movies and actors."
      ]
    },
    {
      "cell_type": "code",
      "execution_count": 4,
      "id": "69652e2d",
      "metadata": {},
      "outputs": [
        {
          "data": {
            "text/plain": [
              "[]"
            ]
          },
          "execution_count": 4,
          "metadata": {},
          "output_type": "execute_result"
        }
      ],
      "source": [
        "from langchain_neo4j import Neo4jGraph\n",
        "\n",
        "graph = Neo4jGraph()\n",
        "\n",
        "# Import movie information\n",
        "\n",
        "movies_query = \"\"\"\n",
        "LOAD CSV WITH HEADERS FROM \n",
        "'https://raw.githubusercontent.com/tomasonjo/blog-datasets/main/movies/movies_small.csv'\n",
        "AS row\n",
        "MERGE (m:Movie {id:row.movieId})\n",
        "SET m.released = date(row.released),\n",
        "    m.title = row.title,\n",
        "    m.imdbRating = toFloat(row.imdbRating)\n",
        "FOREACH (director in split(row.director, '|') | \n",
        "    MERGE (p:Person {name:trim(director)})\n",
        "    MERGE (p)-[:DIRECTED]->(m))\n",
        "FOREACH (actor in split(row.actors, '|') | \n",
        "    MERGE (p:Person {name:trim(actor)})\n",
        "    MERGE (p)-[:ACTED_IN]->(m))\n",
        "FOREACH (genre in split(row.genres, '|') | \n",
        "    MERGE (g:Genre {name:trim(genre)})\n",
        "    MERGE (m)-[:IN_GENRE]->(g))\n",
        "\"\"\"\n",
        "\n",
        "graph.query(movies_query)"
      ]
    },
    {
      "cell_type": "markdown",
      "id": "addfcd63",
      "metadata": {},
      "source": [
        "## Graph Schema\n",
        "\n",
        "LLMs use graph schema information to convert natural language questions into Cypher queries. The converted query is executed in the database, and the execution results are provied to the LLM for question answering."
      ]
    },
    {
      "cell_type": "code",
      "execution_count": 5,
      "id": "fe8023be",
      "metadata": {},
      "outputs": [
        {
          "name": "stdout",
          "output_type": "stream",
          "text": [
            "Node properties:\n",
            "Movie {tagline: STRING, title: STRING, released: INTEGER, id: STRING, imdbRating: FLOAT}\n",
            "Person {born: INTEGER, name: STRING}\n",
            "Genre {name: STRING}\n",
            "Relationship properties:\n",
            "ACTED_IN {roles: LIST}\n",
            "REVIEWED {summary: STRING, rating: INTEGER}\n",
            "The relationships:\n",
            "(:Movie)-[:IN_GENRE]->(:Genre)\n",
            "(:Person)-[:ACTED_IN]->(:Movie)\n",
            "(:Person)-[:DIRECTED]->(:Movie)\n",
            "(:Person)-[:PRODUCED]->(:Movie)\n",
            "(:Person)-[:WROTE]->(:Movie)\n",
            "(:Person)-[:FOLLOWS]->(:Person)\n",
            "(:Person)-[:REVIEWED]->(:Movie)\n"
          ]
        }
      ],
      "source": [
        "# Update schema\n",
        "graph.refresh_schema()\n",
        "# Print the current schema\n",
        "print(graph.schema)"
      ]
    },
    {
      "cell_type": "markdown",
      "id": "e84f148e",
      "metadata": {},
      "source": [
        "Now, let's check the enhanced schema information. Enhanced Schema Information provides a detailed overview of the graph structure, including node labels, relationship types, and property details such as data types and value ranges. This is particularly useful for generating more complex queries and leveraging LLMs for advanced use cases.\n",
        "\n",
        "To enable Enhanced Schema, set the parameter `enhanced_schema=True` when initializing the graph object.\n",
        "\n",
        "Key Features: \n",
        "\n",
        "- `Property Types` : Shows the data type (e.g., STRING, INTEGER, FLOAT) of each property.\n",
        "- `Value Ranges` : Displays minimum and maximum values for numeric fields.\n",
        "- `Examples` : Provides sample values for quick reference.\n",
        "- `Relationships` : Lists connection types between nodes and their property details."
      ]
    },
    {
      "cell_type": "code",
      "execution_count": 6,
      "id": "02ed0c8d",
      "metadata": {},
      "outputs": [
        {
          "name": "stderr",
          "output_type": "stream",
          "text": [
            "Received notification from DBMS server: {severity: WARNING} {code: Neo.ClientNotification.Statement.FeatureDeprecationWarning} {category: DEPRECATION} {title: This feature is deprecated and will be removed in future versions.} {description: The procedure has a deprecated field. ('config' used by 'apoc.meta.graphSample' is deprecated.)} {position: line: 1, column: 1, offset: 0} for query: \"CALL apoc.meta.graphSample() YIELD nodes, relationships RETURN nodes, [rel in relationships | {name:apoc.any.property(rel, 'type'), count: apoc.any.property(rel, 'count')}] AS relationships\"\n",
            "Received notification from DBMS server: {severity: WARNING} {code: Neo.ClientNotification.Statement.AggregationSkippedNull} {category: UNRECOGNIZED} {title: The query contains an aggregation function that skips null values.} {description: null value eliminated in set function.} {position: None} for query: 'MATCH (n:`Movie`)\\nWITH collect(distinct substring(toString(n.`tagline`), 0, 50)) AS `tagline_values`,\\n     collect(distinct substring(toString(n.`title`), 0, 50)) AS `title_values`,\\n     min(n.`released`) AS `released_min`,\\n     max(n.`released`) AS `released_max`,\\n     count(distinct n.`released`) AS `released_distinct`,\\n     collect(distinct substring(toString(n.`id`), 0, 50)) AS `id_values`,\\n     min(n.`imdbRating`) AS `imdbRating_min`,\\n     max(n.`imdbRating`) AS `imdbRating_max`,\\n     count(distinct n.`imdbRating`) AS `imdbRating_distinct`\\nRETURN {`tagline`: {values:`tagline_values`[..10], distinct_count: size(`tagline_values`)}, `title`: {values:`title_values`[..10], distinct_count: size(`title_values`)}, `released`: {min: toString(`released_min`), max: toString(`released_max`), distinct_count: `released_distinct`}, `id`: {values:`id_values`[..10], distinct_count: size(`id_values`)}, `imdbRating`: {min: toString(`imdbRating_min`), max: toString(`imdbRating_max`), distinct_count: `imdbRating_distinct`}} AS output'\n",
            "Received notification from DBMS server: {severity: WARNING} {code: Neo.ClientNotification.Statement.AggregationSkippedNull} {category: UNRECOGNIZED} {title: The query contains an aggregation function that skips null values.} {description: null value eliminated in set function.} {position: None} for query: 'MATCH (n:`Person`)\\nWITH min(n.`born`) AS `born_min`,\\n     max(n.`born`) AS `born_max`,\\n     count(distinct n.`born`) AS `born_distinct`,\\n     collect(distinct substring(toString(n.`name`), 0, 50)) AS `name_values`\\nRETURN {`born`: {min: toString(`born_min`), max: toString(`born_max`), distinct_count: `born_distinct`}, `name`: {values:`name_values`[..10], distinct_count: size(`name_values`)}} AS output'\n",
            "Received notification from DBMS server: {severity: WARNING} {code: Neo.ClientNotification.Statement.AggregationSkippedNull} {category: UNRECOGNIZED} {title: The query contains an aggregation function that skips null values.} {description: null value eliminated in set function.} {position: None} for query: 'MATCH ()-[n:`ACTED_IN`]->()\\nWITH min(size(n.`roles`)) AS `roles_size_min`, max(size(n.`roles`)) AS `roles_size_max`\\nRETURN {`roles`: {min_size: `roles_size_min`, max_size: `roles_size_max`}} AS output'\n"
          ]
        },
        {
          "name": "stdout",
          "output_type": "stream",
          "text": [
            "Node properties:\n",
            "- **Movie**\n",
            "  - `tagline`: STRING Example: \"Welcome to the Real World\"\n",
            "  - `title`: STRING Example: \"The Matrix\"\n",
            "  - `released`: INTEGER Min: 1964-12-16, Max: 2012\n",
            "  - `id`: STRING Example: \"1\"\n",
            "  - `imdbRating`: FLOAT Min: 2.4, Max: 9.3\n",
            "- **Person**\n",
            "  - `born`: INTEGER Min: 1929, Max: 1996\n",
            "  - `name`: STRING Example: \"Keanu Reeves\"\n",
            "- **Genre**\n",
            "  - `name`: STRING Example: \"Adventure\"\n",
            "Relationship properties:\n",
            "- **ACTED_IN**\n",
            "  - `roles`: LIST Min Size: 1, Max Size: 6\n",
            "- **REVIEWED**\n",
            "  - `summary`: STRING Available options: ['Pretty funny at times', 'Silly, but fun', 'Slapstick redeemed only by the Robin Williams and ', 'Dark, but compelling', 'An amazing journey', 'A solid romp', 'The coolest football movie ever', 'Fun, but a little far fetched']\n",
            "  - `rating`: INTEGER Min: 45, Max: 100\n",
            "The relationships:\n",
            "(:Movie)-[:IN_GENRE]->(:Genre)\n",
            "(:Person)-[:ACTED_IN]->(:Movie)\n",
            "(:Person)-[:DIRECTED]->(:Movie)\n",
            "(:Person)-[:PRODUCED]->(:Movie)\n",
            "(:Person)-[:WROTE]->(:Movie)\n",
            "(:Person)-[:FOLLOWS]->(:Person)\n",
            "(:Person)-[:REVIEWED]->(:Movie)\n"
          ]
        }
      ],
      "source": [
        "enhanced_graph = Neo4jGraph(enhanced_schema=True)\n",
        "print(enhanced_graph.schema)"
      ]
    },
    {
      "cell_type": "markdown",
      "id": "b57ffb84",
      "metadata": {},
      "source": [
        "## GraphQACypherChain\n",
        "\n",
        "The `GraphCypherQAChain` simplifies the process of querying graph databases using natural language by integrating LLMs and Neo4j. It enables users to interact with graph data through natural language queries by converting them into Cypher queries, which are executed against a Neo4j database.\n",
        "\n",
        "Key Features:\n",
        "\n",
        "- `Text-to-Cypher Conversion` : Automatically translates natural language questions into Cypher queries.\n",
        "- `Query Execution` : Executes the generated queries against a Neo4j graph database.\n",
        "- `Natural Language Answers` : Processes and formats query results into human-readable answers.\n",
        "- `LLM Integration` : Leverages Large Language Models (LLMs), like OpenAI’s GPT, for query generation and result interpretation.\n",
        "- `Enhanced Schema Support` : Can work with enhanced schema information for more accurate query generation.\n",
        "\n",
        "![chain-flow](./assets/04-movie-qa-system-chain-flow.png)"
      ]
    },
    {
      "cell_type": "code",
      "execution_count": 7,
      "id": "50d10e32",
      "metadata": {},
      "outputs": [
        {
          "name": "stdout",
          "output_type": "stream",
          "text": [
            "\n",
            "\n",
            "\u001b[1m> Entering new GraphCypherQAChain chain...\u001b[0m\n",
            "Generated Cypher:\n",
            "\u001b[32;1m\u001b[1;3mcypher\n",
            "MATCH (p:Person)-[:ACTED_IN]->(m:Movie {title: \"Casino\"})\n",
            "RETURN p.name AS cast\n",
            "\u001b[0m\n",
            "Full Context:\n",
            "\u001b[32;1m\u001b[1;3m[{'cast': 'Robert De Niro'}, {'cast': 'Joe Pesci'}, {'cast': 'Sharon Stone'}, {'cast': 'James Woods'}]\u001b[0m\n",
            "\n",
            "\u001b[1m> Finished chain.\u001b[0m\n"
          ]
        },
        {
          "data": {
            "text/plain": [
              "{'query': 'What was the cast of the Casino?',\n",
              " 'result': 'Robert De Niro, Joe Pesci, Sharon Stone, and James Woods were the cast of Casino.'}"
            ]
          },
          "execution_count": 7,
          "metadata": {},
          "output_type": "execute_result"
        }
      ],
      "source": [
        "from langchain_neo4j import GraphCypherQAChain\n",
        "from langchain_openai import ChatOpenAI\n",
        "\n",
        "llm = ChatOpenAI(model=\"gpt-4o\", temperature=0)\n",
        "chain = GraphCypherQAChain.from_llm(\n",
        "    graph=enhanced_graph, llm=llm, verbose=True, allow_dangerous_requests=True\n",
        ")\n",
        "response = chain.invoke({\"query\": \"What was the cast of the Casino?\"})\n",
        "response"
      ]
    },
    {
      "cell_type": "code",
      "execution_count": 8,
      "id": "df1bc5dd",
      "metadata": {},
      "outputs": [
        {
          "name": "stdout",
          "output_type": "stream",
          "text": [
            "\n",
            "\n",
            "\u001b[1m> Entering new GraphCypherQAChain chain...\u001b[0m\n",
            "Generated Cypher:\n",
            "\u001b[32;1m\u001b[1;3mcypher\n",
            "MATCH (m:Movie)-[:IN_GENRE]->(g:Genre {name: \"Romance\"})\n",
            "RETURN m.title, m.imdbRating\n",
            "ORDER BY m.imdbRating DESC\n",
            "LIMIT 1\n",
            "\u001b[0m\n",
            "Full Context:\n",
            "\u001b[32;1m\u001b[1;3m[{'m.title': 'Chungking Express (Chung Hing sam lam)', 'm.imdbRating': 8.1}]\u001b[0m\n",
            "\n",
            "\u001b[1m> Finished chain.\u001b[0m\n"
          ]
        },
        {
          "data": {
            "text/plain": [
              "{'query': 'Recommend the popular romance movie.',\n",
              " 'result': 'Chungking Express (Chung Hing sam lam) with an IMDb rating of 8.1 is a popular romance movie.'}"
            ]
          },
          "execution_count": 8,
          "metadata": {},
          "output_type": "execute_result"
        }
      ],
      "source": [
        "response = chain.invoke({\"query\": \"Recommend the popular romance movie.\"})\n",
        "response"
      ]
    }
  ],
  "metadata": {
    "kernelspec": {
      "display_name": ".venv",
      "language": "python",
      "name": "python3"
    },
    "language_info": {
      "codemirror_mode": {
        "name": "ipython",
        "version": 3
      },
      "file_extension": ".py",
      "mimetype": "text/x-python",
      "name": "python",
      "nbconvert_exporter": "python",
      "pygments_lexer": "ipython3",
      "version": "3.11.11"
    }
  },
  "nbformat": 4,
  "nbformat_minor": 5
}
