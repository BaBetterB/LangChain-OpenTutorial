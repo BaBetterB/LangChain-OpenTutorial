{
 "cells": [
  {
   "cell_type": "markdown",
   "id": "635d8ebb",
   "metadata": {},
   "source": [
    "# Academic Search System\n",
    "\n",
    "- Author: [Heeah Kim](https://github.com/yellowGangneng)\n",
    "- Design: \n",
    "- Peer Review: \n",
    "- This is a part of [LangChain Open Tutorial](https://github.com/LangChain-OpenTutorial/LangChain-OpenTutorial)\n",
    "\n",
    "\n",
    "[![Open in Colab](https://colab.research.google.com/assets/colab-badge.svg)](https://colab.research.google.com/github/LangChain-OpenTutorial/LangChain-OpenTutorial/blob/main/19-Cookbook/07-AcademicQASystemUsingGraphRAG.ipynb) [![Open in GitHub](https://img.shields.io/badge/Open%20in%20GitHub-181717?style=flat-square&logo=github&logoColor=white)](https://github.com/LangChain-OpenTutorial/LangChain-OpenTutorial/blob/main/19-Cookbook/07-AcademicQASystemUsingGraphRAG.ipynb)\n",
    "\n",
    "## Overview\n",
    "\n",
    "This tutorial involves loading an open academic publication dataset called *OpenAlex* into a Graph DB named *Neo4J*.\n",
    "\n",
    "Then, utilizing an LLM to generate <U>Cypher queries</U>, which are essentially queries for the Graph DB,\n",
    "and using the data obtained from these Cypher queries to produce appropriate answers to inquiries,\n",
    "we will build an *Academic Search System*.\n",
    "\n",
    "![academinc-search-system]() # TODO : academic search system img추가\n",
    "\n",
    "Before we dive into the tutorial, let's understand what **GraphRAG** is and why we should use it!\n",
    "\n",
    "**GraphRAG** is indeed the RAG we already know very well. However, it refers to the inclusion of not only vectors but also a knowledge graph in the RAG's search path.\n",
    "\n",
    "**GraphRAG** refers to the RAG we already know well, but extended to include <U>not only vectors but also a **knowledge graph** in the search path.</U>\n",
    "\n",
    "But what are the advantages of using this **GraphRAG** that we need to explore?\n",
    "The reasons are as follows.\n",
    "\n",
    "1. You can obtain more accurate and higher quality results.\n",
    "    - According to Microsoft, using **GraphRAG** allowed them to obtain more relevant contexts, which led to better answers. It also made it easier to trace the grounds for those answers. \n",
    "    - Additionally, it required 26~97% fewer tokens, resulting in cost savings and scalability benefits.\n",
    "\n",
    "2. It enhances data comprehension.\n",
    "    - When looking at vectors represented by numerous numbers, it is nearly impossible for a human to conceptually and intuitively understand them.\n",
    "    <br>![vector-data]() # TODO : vector data img추가\n",
    "    <br>However, graphs are highly intuitive. They make it much easier to understand the relationships between data.\n",
    "    <br>![graph-data]() # TODO : graph data img추가\n",
    "    <br>By exploring such intuitive graphs, you can gain new insights.\n",
    "\n",
    "3. Management becomes easier in terms of tracking, explaining, and access control.\n",
    "    - Using graphs, you can trace why certain data was selected or why errors occurred. This traceability can be used to explain the results.\n",
    "    - Additionally, you can assign data permissions within the knowledge graph, enhancing security and privacy protection.\n",
    "\n",
    "Knowing what **GraphRAG** is makes you want to use it even more, doesn't it?\n",
    "Now, let's embark on creating an *Academic Search System* together!\n",
    "\n",
    "### Table of Contents\n",
    "\n",
    "- [Overview](#overview)\n",
    "- [Environement Setup](#environment-setup)\n",
    "\n",
    "### References\n",
    "\n",
    "- [Create a Neo4j GraphRAG Workflow Using LangChain and LangGraph](https://neo4j.com/developer-blog/neo4j-graphrag-workflow-langchain-langgraph/)\n",
    "- [The GraphRAG Manifesto: Adding Knowledge to GenAI](hhttps://neo4j.com/blog/graphrag-manifesto/)\n",
    "- [Graph-Based-Literature-Review-Tool](https://github.com/vtmike2015/Graph-Based-Literature-Review-Tool/tree/main)\n",
    "- [GraphRAG : Neo4j DB와 LangChain 결합을 통한 질의응답 구현하기 (Kaggle CSV 데이터 적용하기)](https://uoahvu.tistory.com/entry/GraphRAG-Neo4j-DB%EC%99%80-LangChain-%EA%B2%B0%ED%95%A9%EC%9D%84-%ED%86%B5%ED%95%9C-%EC%A7%88%EC%9D%98%EC%9D%91%EB%8B%B5-%EA%B5%AC%ED%98%84%ED%95%98%EA%B8%B0-Kaggle-CSV-%EB%8D%B0%EC%9D%B4%ED%84%B0-%EC%A0%81%EC%9A%A9%ED%95%98%EA%B8%B0)\n",
    "----"
   ]
  },
  {
   "cell_type": "markdown",
   "id": "c6c7aba4",
   "metadata": {},
   "source": [
    "## Environment Setup\n",
    "\n",
    "Set up the environment. You may refer to [Environment Setup](https://wikidocs.net/257836) for more details.\n",
    "\n",
    "**[Note]**\n",
    "- `langchain-opentutorial` is a package that provides a set of easy-to-use environment setup, useful functions and utilities for tutorials. \n",
    "- You can checkout the [`langchain-opentutorial`](https://github.com/LangChain-OpenTutorial/langchain-opentutorial-pypi) for more details."
   ]
  },
  {
   "cell_type": "code",
   "execution_count": 9,
   "id": "21943adb",
   "metadata": {},
   "outputs": [],
   "source": [
    "%%capture --no-stderr\n",
    "!pip install langchain-opentutorial"
   ]
  },
  {
   "cell_type": "code",
   "execution_count": 10,
   "id": "f25ec196",
   "metadata": {},
   "outputs": [],
   "source": [
    "# Install required packages\n",
    "from langchain_opentutorial import package\n",
    "\n",
    "package.install(\n",
    "    [\n",
    "        \"langsmith\",\n",
    "        \"langchain\",\n",
    "        \"langchain_core\",\n",
    "        \"langchain-anthropic\",\n",
    "        \"langchain_community\",\n",
    "        \"langchain_text_splitters\",\n",
    "        \"langchain_openai\",\n",
    "    ],\n",
    "    verbose=False,\n",
    "    upgrade=False,\n",
    ")"
   ]
  },
  {
   "cell_type": "code",
   "execution_count": 11,
   "id": "7f9065ea",
   "metadata": {},
   "outputs": [
    {
     "name": "stdout",
     "output_type": "stream",
     "text": [
      "Environment variables have been set successfully.\n"
     ]
    }
   ],
   "source": [
    "# Set environment variables\n",
    "from langchain_opentutorial import set_env\n",
    "\n",
    "set_env(\n",
    "    {\n",
    "        \"OPENAI_API_KEY\": \"\",\n",
    "        \"LANGCHAIN_API_KEY\": \"\",\n",
    "        \"LANGCHAIN_TRACING_V2\": \"true\",\n",
    "        \"LANGCHAIN_ENDPOINT\": \"https://api.smith.langchain.com\",\n",
    "        \"LANGCHAIN_PROJECT\": \"Academic Search System\",  # title 과 동일하게 설정해 주세요\n",
    "    }\n",
    ")"
   ]
  },
  {
   "cell_type": "markdown",
   "id": "690a9ae0",
   "metadata": {},
   "source": [
    "You can alternatively set API keys such as `OPENAI_API_KEY` in a `.env` file and load them.\n",
    "\n",
    "[Note] This is not necessary if you've already set the required API keys in previous steps."
   ]
  },
  {
   "cell_type": "code",
   "execution_count": 20,
   "id": "4f99b5b6",
   "metadata": {},
   "outputs": [
    {
     "data": {
      "text/plain": [
       "True"
      ]
     },
     "execution_count": 20,
     "metadata": {},
     "output_type": "execute_result"
    }
   ],
   "source": [
    "# Load API keys from .env file\n",
    "from dotenv import load_dotenv\n",
    "\n",
    "load_dotenv(override=True)"
   ]
  },
  {
   "cell_type": "markdown",
   "id": "0afa9988",
   "metadata": {},
   "source": [
    "#### 패키지 추가 전까지 임시방편"
   ]
  },
  {
   "cell_type": "code",
   "execution_count": 13,
   "id": "bc7b66cb-ff74-43e8-8b64-67dbf534fd4a",
   "metadata": {
    "scrolled": true
   },
   "outputs": [
    {
     "name": "stdout",
     "output_type": "stream",
     "text": [
      "Requirement already satisfied: langchain-neo4j in c:\\users\\khak1\\appdata\\local\\pypoetry\\cache\\virtualenvs\\langchain-opentutorial-9phm1efv-py3.11\\lib\\site-packages (0.2.0)\n",
      "Requirement already satisfied: langchain<0.4.0,>=0.3.7 in c:\\users\\khak1\\appdata\\local\\pypoetry\\cache\\virtualenvs\\langchain-opentutorial-9phm1efv-py3.11\\lib\\site-packages (from langchain-neo4j) (0.3.13)\n",
      "Requirement already satisfied: langchain-core<0.4.0,>=0.3.8 in c:\\users\\khak1\\appdata\\local\\pypoetry\\cache\\virtualenvs\\langchain-opentutorial-9phm1efv-py3.11\\lib\\site-packages (from langchain-neo4j) (0.3.29)\n",
      "Requirement already satisfied: neo4j<6.0.0,>=5.25.0 in c:\\users\\khak1\\appdata\\local\\pypoetry\\cache\\virtualenvs\\langchain-opentutorial-9phm1efv-py3.11\\lib\\site-packages (from langchain-neo4j) (5.27.0)\n",
      "Requirement already satisfied: PyYAML>=5.3 in c:\\users\\khak1\\appdata\\local\\pypoetry\\cache\\virtualenvs\\langchain-opentutorial-9phm1efv-py3.11\\lib\\site-packages (from langchain<0.4.0,>=0.3.7->langchain-neo4j) (6.0.2)\n",
      "Requirement already satisfied: SQLAlchemy<3,>=1.4 in c:\\users\\khak1\\appdata\\local\\pypoetry\\cache\\virtualenvs\\langchain-opentutorial-9phm1efv-py3.11\\lib\\site-packages (from langchain<0.4.0,>=0.3.7->langchain-neo4j) (2.0.36)\n",
      "Requirement already satisfied: aiohttp<4.0.0,>=3.8.3 in c:\\users\\khak1\\appdata\\local\\pypoetry\\cache\\virtualenvs\\langchain-opentutorial-9phm1efv-py3.11\\lib\\site-packages (from langchain<0.4.0,>=0.3.7->langchain-neo4j) (3.11.11)\n",
      "Requirement already satisfied: langchain-text-splitters<0.4.0,>=0.3.3 in c:\\users\\khak1\\appdata\\local\\pypoetry\\cache\\virtualenvs\\langchain-opentutorial-9phm1efv-py3.11\\lib\\site-packages (from langchain<0.4.0,>=0.3.7->langchain-neo4j) (0.3.4)\n",
      "Requirement already satisfied: langsmith<0.3,>=0.1.17 in c:\\users\\khak1\\appdata\\local\\pypoetry\\cache\\virtualenvs\\langchain-opentutorial-9phm1efv-py3.11\\lib\\site-packages (from langchain<0.4.0,>=0.3.7->langchain-neo4j) (0.2.10)\n",
      "Requirement already satisfied: numpy<2,>=1.22.4 in c:\\users\\khak1\\appdata\\local\\pypoetry\\cache\\virtualenvs\\langchain-opentutorial-9phm1efv-py3.11\\lib\\site-packages (from langchain<0.4.0,>=0.3.7->langchain-neo4j) (1.26.4)\n",
      "Requirement already satisfied: pydantic<3.0.0,>=2.7.4 in c:\\users\\khak1\\appdata\\local\\pypoetry\\cache\\virtualenvs\\langchain-opentutorial-9phm1efv-py3.11\\lib\\site-packages (from langchain<0.4.0,>=0.3.7->langchain-neo4j) (2.9.2)\n",
      "Requirement already satisfied: requests<3,>=2 in c:\\users\\khak1\\appdata\\local\\pypoetry\\cache\\virtualenvs\\langchain-opentutorial-9phm1efv-py3.11\\lib\\site-packages (from langchain<0.4.0,>=0.3.7->langchain-neo4j) (2.32.3)\n",
      "Requirement already satisfied: tenacity!=8.4.0,<10,>=8.1.0 in c:\\users\\khak1\\appdata\\local\\pypoetry\\cache\\virtualenvs\\langchain-opentutorial-9phm1efv-py3.11\\lib\\site-packages (from langchain<0.4.0,>=0.3.7->langchain-neo4j) (9.0.0)\n",
      "Requirement already satisfied: jsonpatch<2.0,>=1.33 in c:\\users\\khak1\\appdata\\local\\pypoetry\\cache\\virtualenvs\\langchain-opentutorial-9phm1efv-py3.11\\lib\\site-packages (from langchain-core<0.4.0,>=0.3.8->langchain-neo4j) (1.33)\n",
      "Requirement already satisfied: packaging<25,>=23.2 in c:\\users\\khak1\\appdata\\local\\pypoetry\\cache\\virtualenvs\\langchain-opentutorial-9phm1efv-py3.11\\lib\\site-packages (from langchain-core<0.4.0,>=0.3.8->langchain-neo4j) (24.2)\n",
      "Requirement already satisfied: typing-extensions>=4.7 in c:\\users\\khak1\\appdata\\local\\pypoetry\\cache\\virtualenvs\\langchain-opentutorial-9phm1efv-py3.11\\lib\\site-packages (from langchain-core<0.4.0,>=0.3.8->langchain-neo4j) (4.12.2)\n",
      "Requirement already satisfied: pytz in c:\\users\\khak1\\appdata\\local\\pypoetry\\cache\\virtualenvs\\langchain-opentutorial-9phm1efv-py3.11\\lib\\site-packages (from neo4j<6.0.0,>=5.25.0->langchain-neo4j) (2024.2)\n",
      "Requirement already satisfied: aiohappyeyeballs>=2.3.0 in c:\\users\\khak1\\appdata\\local\\pypoetry\\cache\\virtualenvs\\langchain-opentutorial-9phm1efv-py3.11\\lib\\site-packages (from aiohttp<4.0.0,>=3.8.3->langchain<0.4.0,>=0.3.7->langchain-neo4j) (2.4.4)\n",
      "Requirement already satisfied: aiosignal>=1.1.2 in c:\\users\\khak1\\appdata\\local\\pypoetry\\cache\\virtualenvs\\langchain-opentutorial-9phm1efv-py3.11\\lib\\site-packages (from aiohttp<4.0.0,>=3.8.3->langchain<0.4.0,>=0.3.7->langchain-neo4j) (1.3.2)\n",
      "Requirement already satisfied: attrs>=17.3.0 in c:\\users\\khak1\\appdata\\local\\pypoetry\\cache\\virtualenvs\\langchain-opentutorial-9phm1efv-py3.11\\lib\\site-packages (from aiohttp<4.0.0,>=3.8.3->langchain<0.4.0,>=0.3.7->langchain-neo4j) (24.3.0)\n",
      "Requirement already satisfied: frozenlist>=1.1.1 in c:\\users\\khak1\\appdata\\local\\pypoetry\\cache\\virtualenvs\\langchain-opentutorial-9phm1efv-py3.11\\lib\\site-packages (from aiohttp<4.0.0,>=3.8.3->langchain<0.4.0,>=0.3.7->langchain-neo4j) (1.5.0)\n",
      "Requirement already satisfied: multidict<7.0,>=4.5 in c:\\users\\khak1\\appdata\\local\\pypoetry\\cache\\virtualenvs\\langchain-opentutorial-9phm1efv-py3.11\\lib\\site-packages (from aiohttp<4.0.0,>=3.8.3->langchain<0.4.0,>=0.3.7->langchain-neo4j) (6.1.0)\n",
      "Requirement already satisfied: propcache>=0.2.0 in c:\\users\\khak1\\appdata\\local\\pypoetry\\cache\\virtualenvs\\langchain-opentutorial-9phm1efv-py3.11\\lib\\site-packages (from aiohttp<4.0.0,>=3.8.3->langchain<0.4.0,>=0.3.7->langchain-neo4j) (0.2.1)\n",
      "Requirement already satisfied: yarl<2.0,>=1.17.0 in c:\\users\\khak1\\appdata\\local\\pypoetry\\cache\\virtualenvs\\langchain-opentutorial-9phm1efv-py3.11\\lib\\site-packages (from aiohttp<4.0.0,>=3.8.3->langchain<0.4.0,>=0.3.7->langchain-neo4j) (1.18.3)\n",
      "Requirement already satisfied: jsonpointer>=1.9 in c:\\users\\khak1\\appdata\\local\\pypoetry\\cache\\virtualenvs\\langchain-opentutorial-9phm1efv-py3.11\\lib\\site-packages (from jsonpatch<2.0,>=1.33->langchain-core<0.4.0,>=0.3.8->langchain-neo4j) (3.0.0)\n",
      "Requirement already satisfied: httpx<1,>=0.23.0 in c:\\users\\khak1\\appdata\\local\\pypoetry\\cache\\virtualenvs\\langchain-opentutorial-9phm1efv-py3.11\\lib\\site-packages (from langsmith<0.3,>=0.1.17->langchain<0.4.0,>=0.3.7->langchain-neo4j) (0.27.2)\n",
      "Requirement already satisfied: orjson<4.0.0,>=3.9.14 in c:\\users\\khak1\\appdata\\local\\pypoetry\\cache\\virtualenvs\\langchain-opentutorial-9phm1efv-py3.11\\lib\\site-packages (from langsmith<0.3,>=0.1.17->langchain<0.4.0,>=0.3.7->langchain-neo4j) (3.10.13)\n",
      "Requirement already satisfied: requests-toolbelt<2.0.0,>=1.0.0 in c:\\users\\khak1\\appdata\\local\\pypoetry\\cache\\virtualenvs\\langchain-opentutorial-9phm1efv-py3.11\\lib\\site-packages (from langsmith<0.3,>=0.1.17->langchain<0.4.0,>=0.3.7->langchain-neo4j) (1.0.0)\n",
      "Requirement already satisfied: annotated-types>=0.6.0 in c:\\users\\khak1\\appdata\\local\\pypoetry\\cache\\virtualenvs\\langchain-opentutorial-9phm1efv-py3.11\\lib\\site-packages (from pydantic<3.0.0,>=2.7.4->langchain<0.4.0,>=0.3.7->langchain-neo4j) (0.7.0)\n",
      "Requirement already satisfied: pydantic-core==2.23.4 in c:\\users\\khak1\\appdata\\local\\pypoetry\\cache\\virtualenvs\\langchain-opentutorial-9phm1efv-py3.11\\lib\\site-packages (from pydantic<3.0.0,>=2.7.4->langchain<0.4.0,>=0.3.7->langchain-neo4j) (2.23.4)\n",
      "Requirement already satisfied: charset-normalizer<4,>=2 in c:\\users\\khak1\\appdata\\local\\pypoetry\\cache\\virtualenvs\\langchain-opentutorial-9phm1efv-py3.11\\lib\\site-packages (from requests<3,>=2->langchain<0.4.0,>=0.3.7->langchain-neo4j) (3.4.1)\n",
      "Requirement already satisfied: idna<4,>=2.5 in c:\\users\\khak1\\appdata\\local\\pypoetry\\cache\\virtualenvs\\langchain-opentutorial-9phm1efv-py3.11\\lib\\site-packages (from requests<3,>=2->langchain<0.4.0,>=0.3.7->langchain-neo4j) (3.10)\n",
      "Requirement already satisfied: urllib3<3,>=1.21.1 in c:\\users\\khak1\\appdata\\local\\pypoetry\\cache\\virtualenvs\\langchain-opentutorial-9phm1efv-py3.11\\lib\\site-packages (from requests<3,>=2->langchain<0.4.0,>=0.3.7->langchain-neo4j) (2.3.0)\n",
      "Requirement already satisfied: certifi>=2017.4.17 in c:\\users\\khak1\\appdata\\local\\pypoetry\\cache\\virtualenvs\\langchain-opentutorial-9phm1efv-py3.11\\lib\\site-packages (from requests<3,>=2->langchain<0.4.0,>=0.3.7->langchain-neo4j) (2024.12.14)\n",
      "Requirement already satisfied: greenlet!=0.4.17 in c:\\users\\khak1\\appdata\\local\\pypoetry\\cache\\virtualenvs\\langchain-opentutorial-9phm1efv-py3.11\\lib\\site-packages (from SQLAlchemy<3,>=1.4->langchain<0.4.0,>=0.3.7->langchain-neo4j) (3.1.1)\n",
      "Requirement already satisfied: anyio in c:\\users\\khak1\\appdata\\local\\pypoetry\\cache\\virtualenvs\\langchain-opentutorial-9phm1efv-py3.11\\lib\\site-packages (from httpx<1,>=0.23.0->langsmith<0.3,>=0.1.17->langchain<0.4.0,>=0.3.7->langchain-neo4j) (4.8.0)\n",
      "Requirement already satisfied: httpcore==1.* in c:\\users\\khak1\\appdata\\local\\pypoetry\\cache\\virtualenvs\\langchain-opentutorial-9phm1efv-py3.11\\lib\\site-packages (from httpx<1,>=0.23.0->langsmith<0.3,>=0.1.17->langchain<0.4.0,>=0.3.7->langchain-neo4j) (1.0.7)\n",
      "Requirement already satisfied: sniffio in c:\\users\\khak1\\appdata\\local\\pypoetry\\cache\\virtualenvs\\langchain-opentutorial-9phm1efv-py3.11\\lib\\site-packages (from httpx<1,>=0.23.0->langsmith<0.3,>=0.1.17->langchain<0.4.0,>=0.3.7->langchain-neo4j) (1.3.1)\n",
      "Requirement already satisfied: h11<0.15,>=0.13 in c:\\users\\khak1\\appdata\\local\\pypoetry\\cache\\virtualenvs\\langchain-opentutorial-9phm1efv-py3.11\\lib\\site-packages (from httpcore==1.*->httpx<1,>=0.23.0->langsmith<0.3,>=0.1.17->langchain<0.4.0,>=0.3.7->langchain-neo4j) (0.14.0)\n"
     ]
    }
   ],
   "source": [
    "!pip install langchain-neo4j"
   ]
  },
  {
   "cell_type": "code",
   "execution_count": 14,
   "id": "77ce9356-72e2-4d1d-988d-5ea0206360b1",
   "metadata": {},
   "outputs": [
    {
     "name": "stdout",
     "output_type": "stream",
     "text": [
      "Requirement already satisfied: pyalex in c:\\users\\khak1\\appdata\\local\\pypoetry\\cache\\virtualenvs\\langchain-opentutorial-9phm1efv-py3.11\\lib\\site-packages (0.15.1)\n",
      "Requirement already satisfied: requests in c:\\users\\khak1\\appdata\\local\\pypoetry\\cache\\virtualenvs\\langchain-opentutorial-9phm1efv-py3.11\\lib\\site-packages (from pyalex) (2.32.3)\n",
      "Requirement already satisfied: urllib3 in c:\\users\\khak1\\appdata\\local\\pypoetry\\cache\\virtualenvs\\langchain-opentutorial-9phm1efv-py3.11\\lib\\site-packages (from pyalex) (2.3.0)\n",
      "Requirement already satisfied: charset-normalizer<4,>=2 in c:\\users\\khak1\\appdata\\local\\pypoetry\\cache\\virtualenvs\\langchain-opentutorial-9phm1efv-py3.11\\lib\\site-packages (from requests->pyalex) (3.4.1)\n",
      "Requirement already satisfied: idna<4,>=2.5 in c:\\users\\khak1\\appdata\\local\\pypoetry\\cache\\virtualenvs\\langchain-opentutorial-9phm1efv-py3.11\\lib\\site-packages (from requests->pyalex) (3.10)\n",
      "Requirement already satisfied: certifi>=2017.4.17 in c:\\users\\khak1\\appdata\\local\\pypoetry\\cache\\virtualenvs\\langchain-opentutorial-9phm1efv-py3.11\\lib\\site-packages (from requests->pyalex) (2024.12.14)\n"
     ]
    }
   ],
   "source": [
    "!pip install pyalex"
   ]
  },
  {
   "cell_type": "code",
   "execution_count": 89,
   "id": "67126ecf-8562-4078-8ed4-dc2b2b10fb93",
   "metadata": {},
   "outputs": [],
   "source": [
    "from pyalex import Works\n",
    "import json\n",
    "from neo4j import GraphDatabase\n",
    "import os\n",
    "import ast"
   ]
  },
  {
   "cell_type": "code",
   "execution_count": 86,
   "id": "31fa81fe-a1d1-4a59-bfb6-c4a35c71648c",
   "metadata": {},
   "outputs": [],
   "source": [
    "uri = os.environ[\"NEO4J_URL\"]\n",
    "username = os.environ[\"NEO4J_USERNAME\"]\n",
    "password = os.environ[\"NEO4J_PASSWORD\"]\n",
    "driver = GraphDatabase.driver(uri, auth=(username, password))"
   ]
  },
  {
   "cell_type": "code",
   "execution_count": 16,
   "id": "95f27247-7777-4cf2-89ba-af9623fbf5f1",
   "metadata": {},
   "outputs": [],
   "source": [
    "import os"
   ]
  },
  {
   "cell_type": "code",
   "execution_count": 88,
   "id": "72d354cc-ccb0-4194-bb6d-f16b0416fc42",
   "metadata": {},
   "outputs": [
    {
     "data": {
      "text/plain": [
       "'D:\\\\YellowGangneng\\\\LangChain-OpenTutorial\\\\19-Cookbook\\\\04-GraphRAG'"
      ]
     },
     "execution_count": 88,
     "metadata": {},
     "output_type": "execute_result"
    }
   ],
   "source": [
    "os.getcwd()"
   ]
  },
  {
   "cell_type": "markdown",
   "id": "a87908e9",
   "metadata": {},
   "source": [
    "사전 작업\n",
    "- 도커로 Neo4J DB 띄우기\n"
   ]
  },
  {
   "cell_type": "markdown",
   "id": "0dfa39ea",
   "metadata": {},
   "source": [
    "pyalex 이용해서 Ariticial 문헌 정보 JSON 파일로 다운받기"
   ]
  },
  {
   "cell_type": "markdown",
   "id": "310d33fc-7172-42ee-8e34-9ce05c65cdcb",
   "metadata": {},
   "source": [
    "노드 및 프로퍼티 \n",
    "\n",
    "- Works\n",
    "  - cited_by_count\n",
    "  - display_name\n",
    "  - is_paratext\n",
    "  - publication_year\n",
    "  - title\n",
    "  - type\n",
    "  - url\n",
    "  - authorships\n",
    "  - topics\n",
    "- Authorship\n",
    "  - affiliations\n",
    "  - author\n",
    "  - author_position\n",
    "- Author\n",
    "  - affiliations\n",
    "  - cited_by_count\n",
    "  - works_count\n",
    "  - title \n",
    "- Topic\n",
    "  - description\n",
    "  - display_name\n",
    "  - domain\n",
    "  - field\n",
    "  - keywords\n",
    "  - works_count"
   ]
  },
  {
   "cell_type": "code",
   "execution_count": 99,
   "id": "0c3a661b-8dd8-4e9c-982c-2d22a2a94fa8",
   "metadata": {
    "scrolled": true
   },
   "outputs": [
    {
     "name": "stdout",
     "output_type": "stream",
     "text": [
      "Kaiming He\n",
      "Leo Breiman\n",
      "Yoav Benjamini\n",
      "Stephen F. Altschul\n",
      "Stephen F. Altschul\n",
      "Karen Simonyan\n",
      "Icek Ajzen\n",
      "Olaf Ronneberger\n",
      "Alex Krizhevsky\n",
      "Yann LeCun\n"
     ]
    }
   ],
   "source": [
    "concept_id = \"C154945302\"\n",
    "\n",
    "with driver.session() as session:\n",
    "    pager = (\n",
    "\n",
    "        Works()\n",
    "\n",
    "        .filter(\n",
    "            concept={\"id\": {concept_id}}\n",
    "        )  # Concept ID = C154945302 = Artificial Intelligence 학술 문헌 데이터\n",
    "        .paginate(per_page=1, n_max=10)\n",
    "    )\n",
    "\n",
    "    for page in pager:\n",
    "        print(page[0]['authorships'][0]['author']['display_name'])\n",
    "        \n",
    "\n",
    "\n",
    "    # page_count = 1\n",
    "\n",
    "\n",
    "    # for page in pager:\n",
    "\n",
    "    #     file = \"./data/\" + concept_id + \"_Page_\" + str(page_count) + \".json\"\n",
    "\n",
    "    #     out_file = open(file, \"w\")\n",
    "\n",
    "    #     json.dump(page, out_file, indent=6)\n",
    "\n",
    "    #     out_file.close()\n",
    "\n",
    "    #     # print(page)\n",
    "    #     print(\n",
    "\n",
    "    #         \"Now Downloading Page \" + str(page_count) + \" For Concept ID \" + concept_id\n",
    "    #     )\n",
    "\n",
    "\n",
    "        page_count += 1"
   ]
  },
  {
   "cell_type": "markdown",
   "id": "80fb03b7",
   "metadata": {},
   "source": [
    "중요 프로퍼티 인덱스 생성"
   ]
  },
  {
   "cell_type": "code",
   "execution_count": 23,
   "id": "874db87b-24bb-4df5-8789-7a8b87f1f7f2",
   "metadata": {},
   "outputs": [
    {
     "data": {
      "text/plain": [
       "EagerResult(records=[], summary=<neo4j._work.summary.ResultSummary object at 0x000001F39C2C68D0>, keys=[])"
      ]
     },
     "execution_count": 23,
     "metadata": {},
     "output_type": "execute_result"
    }
   ],
   "source": [
    "driver.execute_query(\n",
    "    \"CREATE INDEX Institutions IF NOT EXISTS FOR \\\n",
    "    (i:Institutions) ON (i.id)\"\n",
    ")\n",
    "driver.execute_query(\n",
    "    \"CREATE INDEX Concept IF NOT EXISTS FOR \\\n",
    "    (i:Concept) ON (i.id)\"\n",
    ")\n",
    "driver.execute_query(\n",
    "    \"CREATE INDEX Work_ID IF NOT EXISTS FOR \\\n",
    "    (i:Work) ON (i.id)\"\n",
    ")\n",
    "driver.execute_query(\n",
    "    \"CREATE INDEX Author IF NOT EXISTS FOR \\\n",
    "    (i:Author) ON (i.id)\"\n",
    ")\n",
    "driver.execute_query(\n",
    "    \"CREATE INDEX Source IF NOT EXISTS FOR \\\n",
    "    (i:Source) ON (i.id)\"\n",
    ")\n"
   ]
  },
  {
   "cell_type": "code",
   "execution_count": null,
   "id": "668ea2f1-9485-4df2-a9c9-0ed42da4a593",
   "metadata": {},
   "outputs": [],
   "source": [
    "os.getcwd()"
   ]
  },
  {
   "cell_type": "markdown",
   "id": "ef2222ef",
   "metadata": {},
   "source": [
    "pyalex data를 저장해놓은 곳으로 이동"
   ]
  },
  {
   "cell_type": "code",
   "execution_count": 44,
   "id": "60601e26-7538-4b33-9438-565b3e6764f1",
   "metadata": {},
   "outputs": [],
   "source": [
    "os.chdir(os.getcwd() + \"/data\")"
   ]
  },
  {
   "cell_type": "code",
   "execution_count": 49,
   "id": "e3798fe4-075b-4ea1-a5c8-11bcb98b03f1",
   "metadata": {},
   "outputs": [
    {
     "data": {
      "text/plain": [
       "['C154945302_Page_1.json',\n",
       " 'C154945302_Page_10.json',\n",
       " 'C154945302_Page_100.json',\n",
       " 'C154945302_Page_11.json',\n",
       " 'C154945302_Page_12.json',\n",
       " 'C154945302_Page_13.json',\n",
       " 'C154945302_Page_14.json',\n",
       " 'C154945302_Page_15.json',\n",
       " 'C154945302_Page_16.json',\n",
       " 'C154945302_Page_17.json',\n",
       " 'C154945302_Page_18.json',\n",
       " 'C154945302_Page_19.json',\n",
       " 'C154945302_Page_2.json',\n",
       " 'C154945302_Page_20.json',\n",
       " 'C154945302_Page_21.json',\n",
       " 'C154945302_Page_22.json',\n",
       " 'C154945302_Page_23.json',\n",
       " 'C154945302_Page_24.json',\n",
       " 'C154945302_Page_25.json',\n",
       " 'C154945302_Page_26.json',\n",
       " 'C154945302_Page_27.json',\n",
       " 'C154945302_Page_28.json',\n",
       " 'C154945302_Page_29.json',\n",
       " 'C154945302_Page_3.json',\n",
       " 'C154945302_Page_30.json',\n",
       " 'C154945302_Page_31.json',\n",
       " 'C154945302_Page_32.json',\n",
       " 'C154945302_Page_33.json',\n",
       " 'C154945302_Page_34.json',\n",
       " 'C154945302_Page_35.json',\n",
       " 'C154945302_Page_36.json',\n",
       " 'C154945302_Page_37.json',\n",
       " 'C154945302_Page_38.json',\n",
       " 'C154945302_Page_39.json',\n",
       " 'C154945302_Page_4.json',\n",
       " 'C154945302_Page_40.json',\n",
       " 'C154945302_Page_41.json',\n",
       " 'C154945302_Page_42.json',\n",
       " 'C154945302_Page_43.json',\n",
       " 'C154945302_Page_44.json',\n",
       " 'C154945302_Page_45.json',\n",
       " 'C154945302_Page_46.json',\n",
       " 'C154945302_Page_47.json',\n",
       " 'C154945302_Page_48.json',\n",
       " 'C154945302_Page_49.json',\n",
       " 'C154945302_Page_5.json',\n",
       " 'C154945302_Page_50.json',\n",
       " 'C154945302_Page_51.json',\n",
       " 'C154945302_Page_52.json',\n",
       " 'C154945302_Page_53.json',\n",
       " 'C154945302_Page_54.json',\n",
       " 'C154945302_Page_55.json',\n",
       " 'C154945302_Page_56.json',\n",
       " 'C154945302_Page_57.json',\n",
       " 'C154945302_Page_58.json',\n",
       " 'C154945302_Page_59.json',\n",
       " 'C154945302_Page_6.json',\n",
       " 'C154945302_Page_60.json',\n",
       " 'C154945302_Page_61.json',\n",
       " 'C154945302_Page_62.json',\n",
       " 'C154945302_Page_63.json',\n",
       " 'C154945302_Page_64.json',\n",
       " 'C154945302_Page_65.json',\n",
       " 'C154945302_Page_66.json',\n",
       " 'C154945302_Page_67.json',\n",
       " 'C154945302_Page_68.json',\n",
       " 'C154945302_Page_69.json',\n",
       " 'C154945302_Page_7.json',\n",
       " 'C154945302_Page_70.json',\n",
       " 'C154945302_Page_71.json',\n",
       " 'C154945302_Page_72.json',\n",
       " 'C154945302_Page_73.json',\n",
       " 'C154945302_Page_74.json',\n",
       " 'C154945302_Page_75.json',\n",
       " 'C154945302_Page_76.json',\n",
       " 'C154945302_Page_77.json',\n",
       " 'C154945302_Page_78.json',\n",
       " 'C154945302_Page_79.json',\n",
       " 'C154945302_Page_8.json',\n",
       " 'C154945302_Page_80.json',\n",
       " 'C154945302_Page_81.json',\n",
       " 'C154945302_Page_82.json',\n",
       " 'C154945302_Page_83.json',\n",
       " 'C154945302_Page_84.json',\n",
       " 'C154945302_Page_85.json',\n",
       " 'C154945302_Page_86.json',\n",
       " 'C154945302_Page_87.json',\n",
       " 'C154945302_Page_88.json',\n",
       " 'C154945302_Page_89.json',\n",
       " 'C154945302_Page_9.json',\n",
       " 'C154945302_Page_90.json',\n",
       " 'C154945302_Page_91.json',\n",
       " 'C154945302_Page_92.json',\n",
       " 'C154945302_Page_93.json',\n",
       " 'C154945302_Page_94.json',\n",
       " 'C154945302_Page_95.json',\n",
       " 'C154945302_Page_96.json',\n",
       " 'C154945302_Page_97.json',\n",
       " 'C154945302_Page_98.json',\n",
       " 'C154945302_Page_99.json']"
      ]
     },
     "execution_count": 49,
     "metadata": {},
     "output_type": "execute_result"
    }
   ],
   "source": [
    "from glob import glob\n",
    "\n",
    "directory_list = glob(\"./*.json\")\n",
    "directory_list = [directory[2:] for directory in directory_list]\n",
    "directory_list"
   ]
  },
  {
   "cell_type": "markdown",
   "id": "62ad2f1f",
   "metadata": {},
   "source": [
    "다운받아 놓은 JSON 파일을 이용해 Graph DB에 데이터 첨부"
   ]
  },
  {
   "cell_type": "markdown",
   "id": "07f23058-2bf3-4c24-ad40-b6bcdfd11834",
   "metadata": {},
   "source": [
    "Neo4j Cypher 구문에 대한 간단한 설명 추가\n",
    "\n",
    "CALL ~ YIELD\n",
    "\n",
    "apoc.periodic.iterate\n",
    "\n",
    "apoc.load.json\n",
    "\n",
    "MERGE ~ SET"
   ]
  },
  {
   "cell_type": "code",
   "execution_count": 84,
   "id": "3130ddf1-001a-4f0b-9b11-3d9fdb77551c",
   "metadata": {},
   "outputs": [
    {
     "ename": "NameError",
     "evalue": "name 'directory_list' is not defined",
     "output_type": "error",
     "traceback": [
      "\u001b[1;31m---------------------------------------------------------------------------\u001b[0m",
      "\u001b[1;31mNameError\u001b[0m                                 Traceback (most recent call last)",
      "Cell \u001b[1;32mIn[84], line 1\u001b[0m\n\u001b[1;32m----> 1\u001b[0m \u001b[38;5;28;01mfor\u001b[39;00m file \u001b[38;5;129;01min\u001b[39;00m \u001b[43mdirectory_list\u001b[49m:\n\u001b[0;32m      2\u001b[0m     \u001b[38;5;28mprint\u001b[39m(\u001b[38;5;124m\"\u001b[39m\u001b[38;5;124mFile being imported: \u001b[39m\u001b[38;5;124m\"\u001b[39m \u001b[38;5;241m+\u001b[39m file)\n\u001b[0;32m      3\u001b[0m     work_node_creation \u001b[38;5;241m=\u001b[39m (\n\u001b[0;32m      4\u001b[0m         \u001b[38;5;124m\"\u001b[39m\u001b[38;5;124mCALL apoc.periodic.iterate(\u001b[39m\u001b[38;5;130;01m\\\"\u001b[39;00m\u001b[38;5;124mCALL apoc.load.json(\u001b[39m\u001b[38;5;124m'\u001b[39m\u001b[38;5;124mfile:///\u001b[39m\u001b[38;5;124m\"\u001b[39m\n\u001b[0;32m      5\u001b[0m         \u001b[38;5;241m+\u001b[39m file\n\u001b[1;32m   (...)\u001b[0m\n\u001b[0;32m     47\u001b[0m \u001b[38;5;124m        YIELD batches, total, operations\u001b[39m\u001b[38;5;124m\"\u001b[39m\n\u001b[0;32m     48\u001b[0m     )\n",
      "\u001b[1;31mNameError\u001b[0m: name 'directory_list' is not defined"
     ]
    }
   ],
   "source": [
    "for file in directory_list:\n",
    "    print(\"File being imported: \" + file)\n",
    "    work_node_creation = (\n",
    "        \"CALL apoc.periodic.iterate(\\\"CALL apoc.load.json('file:///\"\n",
    "        + file\n",
    "        + \"') YIELD value\\\",\\\"MERGE (w:Work {id: value.id}) \\\n",
    "        SET w.cited_by_count = coalesce(value.cited_by_count, ''), \\\n",
    "        w.display_name = coalesce(value.display_name, ''), \\\n",
    "        w.is_paratext = coalesce(value.is_paratext, ''), \\\n",
    "        w.language = coalesce(value.language, ''), \\\n",
    "        w.publication_date = coalesce(value.publication_date, ''), \\\n",
    "        w.publication_year = coalesce(value.publication_year, ''), \\\n",
    "        w.title = coalesce(value.title, ''), \\\n",
    "        w.type = coalesce(value.type, ''), \\\n",
    "        w.is_oa = coalesce(value.is_oa, ''), \\\n",
    "        w.license = coalesce(value.license, ''), \\\n",
    "        w.url = coalesce(value.url, '')\\\",{ batchSize: 100, \\\n",
    "        parallel: true, retries: 2} ) \\\n",
    "        YIELD batches, total, operations\"\n",
    "    )\n",
    "\n",
    "    # Uncomment the print command below to view the raw Cypher script used by Neo4j\n",
    "    # print(work_node_creation)\n",
    "\n",
    "    record, summary, keys = driver.execute_query(work_node_creation)\n",
    "    print(\"Operations executed during file import - \" + str(record[0][2]))\n",
    "    print(\"File - \" + file + \" import complete\")\n",
    "\n",
    "print(\"All works imported\")"
   ]
  },
  {
   "cell_type": "code",
   "execution_count": null,
   "id": "00539582-4245-4e41-90d9-b24a59655805",
   "metadata": {},
   "outputs": [],
   "source": [
    "for file in directory_list:\n",
    "    work_node_creation = (\n",
    "        \"CALL apoc.periodic.iterate(\\\"CALL apoc.load.json('file:///\"\n",
    "        + file\n",
    "        + \"') YIELD value\\\",\\\"MERGE (a:Author {id: value.id}) \\\n",
    "        SET w.cited_by_count = coalesce(value.cited_by_count, ''), \\\n",
    "        w.display_name = coalesce(value.display_name, ''), \\\n",
    "        w.is_paratext = coalesce(value.is_paratext, ''), \\\n",
    "        w.language = coalesce(value.language, ''), \\\n",
    "        w.publication_date = coalesce(value.publication_date, ''), \\\n",
    "        w.publication_year = coalesce(value.publication_year, ''), \\\n",
    "        w.title = coalesce(value.title, ''), \\\n",
    "        w.type = coalesce(value.type, ''), \\\n",
    "        w.url = coalesce(value.url, '')\",{ batchSize: 100, \\\n",
    "        parallel: true, retries: 2} ) \\\n",
    "        YIELD batches, total, operations\"\n",
    "    )\n",
    "\n",
    "    # Uncomment the print command below to view the raw Cypher script used by Neo4j\n",
    "    # print(work_node_creation)\n",
    "\n",
    "    record, summary, keys = driver.execute_query(work_node_creation)\n",
    "    print(\"Operations executed during file import - \" + str(record[0][2]))\n",
    "    print(\"File - \" + file + \" import complete\")\n",
    "\n",
    "print(\"All works imported\")"
   ]
  },
  {
   "cell_type": "markdown",
   "id": "b4dfa9c3-66f5-4f5a-9431-faa28edd2436",
   "metadata": {},
   "source": [
    "### LangGraph 구현"
   ]
  },
  {
   "cell_type": "code",
   "execution_count": 63,
   "id": "b5beca0b-0884-4531-b845-8e0559a611d9",
   "metadata": {
    "scrolled": true
   },
   "outputs": [],
   "source": [
    "from langchain_neo4j import GraphCypherQAChain, Neo4jGraph\n",
    "from langchain_openai import ChatOpenAI\n",
    "from langgraph.graph import START, END, StateGraph\n",
    "from langchain_core.prompts import PromptTemplate\n",
    "\n",
    "\n",
    "from typing import List, TypedDict\n",
    "from pydantic import BaseModel\n",
    "import re\n",
    "import os"
   ]
  },
  {
   "cell_type": "code",
   "execution_count": 72,
   "id": "668e1ae7",
   "metadata": {},
   "outputs": [],
   "source": [
    "graph = Neo4jGraph(\n",
    "    os.environ[\"NEO4J_URL\"],\n",
    "    os.environ[\"NEO4J_USERNAME\"],\n",
    "    os.environ[\"NEO4J_PASSWORD\"]\n",
    ")"
   ]
  },
  {
   "cell_type": "code",
   "execution_count": 73,
   "id": "e0534018",
   "metadata": {},
   "outputs": [],
   "source": [
    "llm = ChatOpenAI(\n",
    "    model=\"gpt-4o\",\n",
    "    temperature=0,\n",
    "    api_key=os.environ[\"OPENAI_API_KEY\"],\n",
    ")"
   ]
  },
  {
   "cell_type": "code",
   "execution_count": 74,
   "id": "749e76a7",
   "metadata": {},
   "outputs": [],
   "source": [
    "CYPHER_GENERATION_TEMPLATE = \"\"\"Task:Generate Cypher statement to query a graph database.\n",
    "Instructions:\n",
    "Use only the provided relationship types and properties in the schema.\n",
    "Do not use any other relationship types or properties that are not provided.\n",
    "Schema:\n",
    "{schema}\n",
    "Note: Do not include any explanations or apologies in your responses.\n",
    "Do not respond to any questions that might ask anything else than for you to construct a Cypher statement.\n",
    "Do not include any text except the generated Cypher statement.\n",
    "\n",
    "The question is:\n",
    "{question}\"\"\"\n",
    "CYPHER_GENERATION_PROMPT = PromptTemplate(\n",
    "    input_variables=[\"schema\", \"question\"], template=CYPHER_GENERATION_TEMPLATE\n",
    ")"
   ]
  },
  {
   "cell_type": "code",
   "execution_count": 75,
   "id": "8f61e4d1-b6e5-4a16-b05e-61d55747468a",
   "metadata": {},
   "outputs": [],
   "source": [
    "CYPHER_QA_TEMPLATE = \"\"\"You are an assistant that helps to form nice and human understandable answers.\n",
    "The information part contains the provided information that you must use to construct an answer.\n",
    "The provided information is authoritative, you must never doubt it or try to use your internal knowledge to correct it.\n",
    "Make the answer sound as a response to the question. Do not mention that you based the result on the given information.\n",
    "Here is an example:\n",
    "\n",
    "Question: Which managers own Neo4j stocks?\n",
    "Context:[manager:CTL LLC, manager:JANE STREET GROUP LLC]\n",
    "Helpful Answer: CTL LLC, JANE STREET GROUP LLC owns Neo4j stocks.\n",
    "\n",
    "Follow this example when generating answers.\n",
    "If the provided information is empty, say that you don't know the answer.\n",
    "Information:\n",
    "{context}\n",
    "\n",
    "Question: {question}\n",
    "Helpful Answer:\"\"\"\n",
    "CYPHER_QA_PROMPT = PromptTemplate(\n",
    "    input_variables=[\"context\", \"question\"], template=CYPHER_QA_TEMPLATE\n",
    ")"
   ]
  },
  {
   "cell_type": "code",
   "execution_count": 80,
   "id": "1ff5cfb9-6ebb-4049-9124-0bb60e1ce448",
   "metadata": {},
   "outputs": [],
   "source": [
    "chain = GraphCypherQAChain.from_llm(\n",
    "    llm, graph=graph, verbose=True, qa_prompt=CYPHER_QA_PROMPT, cypher_prompt=CYPHER_GENERATION_PROMPT,\n",
    "    allow_dangerous_requests = True\n",
    ")"
   ]
  },
  {
   "cell_type": "code",
   "execution_count": 82,
   "id": "3779bf00-83f7-4bfd-b130-c3b2aea1a3ec",
   "metadata": {},
   "outputs": [
    {
     "name": "stdout",
     "output_type": "stream",
     "text": [
      "\n",
      "\n",
      "\u001b[1m> Entering new GraphCypherQAChain chain...\u001b[0m\n",
      "Generated Cypher:\n",
      "\u001b[32;1m\u001b[1;3mcypher\n",
      "MATCH (a:Author)-[:WROTE]->(w:Work)\n",
      "RETURN a.display_name AS author, COUNT(w) AS num_papers\n",
      "ORDER BY num_papers DESC\n",
      "LIMIT 1\n",
      "\u001b[0m\n",
      "Full Context:\n",
      "\u001b[32;1m\u001b[1;3m[{'author': 'Yoshua Bengio', 'num_papers': 75}]\u001b[0m\n",
      "\n",
      "\u001b[1m> Finished chain.\u001b[0m\n"
     ]
    },
    {
     "data": {
      "text/plain": [
       "'Yoshua Bengio가 가장 논문을 많이 낸 저자입니다.'"
      ]
     },
     "execution_count": 82,
     "metadata": {},
     "output_type": "execute_result"
    }
   ],
   "source": [
    "chain.run(\"가장 논문을 많이 낸 저자가 누구야\")"
   ]
  }
 ],
 "metadata": {
  "kernelspec": {
   "display_name": "Python 3 (ipykernel)",
   "language": "python",
   "name": "python3"
  },
  "language_info": {
   "codemirror_mode": {
    "name": "ipython",
    "version": 3
   },
   "file_extension": ".py",
   "mimetype": "text/x-python",
   "name": "python",
   "nbconvert_exporter": "python",
   "pygments_lexer": "ipython3",
   "version": "3.11.8"
  }
 },
 "nbformat": 4,
 "nbformat_minor": 5
}
