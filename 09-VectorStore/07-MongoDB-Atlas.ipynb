{
  "cells": [
    {
      "cell_type": "markdown",
      "id": "635d8ebb",
      "metadata": {},
      "source": [
        "# MongoDB Atlas\n",
        "\n",
        "- Author: [Ivy Bae](https://github.com/ivybae)\n",
        "- Design:\n",
        "- Peer Review :\n",
        "- This is a part of [LangChain Open Tutorial](https://github.com/LangChain-OpenTutorial/LangChain-OpenTutorial)\n",
        "\n",
        "[![Open in Colab](https://colab.research.google.com/assets/colab-badge.svg)](https://colab.research.google.com/github/LangChain-OpenTutorial/LangChain-OpenTutorial/blob/main/09-VectorStore/07-MongoDB.ipynb) [![Open in GitHub](https://img.shields.io/badge/Open%20in%20GitHub-181717?style=flat-square&logo=github&logoColor=white)](https://github.com/LangChain-OpenTutorial/LangChain-OpenTutorial/blob/main/09-VectorStore/07-MongoDB.ipynb)\n",
        "\n",
        "## Overview\n",
        "\n",
        "This tutorial covers ...\n",
        "\n",
        "### Table of Contents\n",
        "\n",
        "- [Overview](#overview)\n",
        "- [Environement Setup](#environment-setup)\n",
        "- [Initialization](#initialization)\n",
        "- [Load Data](#load-data)\n",
        "- [Manage vector store](#manage-vector-store)\n",
        "- [Query vector store](#query-vector-store)\n",
        "\n",
        "### References\n",
        "\n",
        "- [Get Started with Atlas](https://www.mongodb.com/docs/atlas/getting-started/)\n",
        "- [Deploy a Free Cluster](https://www.mongodb.com/docs/atlas/tutorial/deploy-free-tier-cluster/)\n",
        "- [Connection Strings](https://www.mongodb.com/docs/manual/reference/connection-string/)\n",
        "- [Integrate Atlas Vector Search with LangChain](https://www.mongodb.com/docs/atlas/atlas-vector-search/ai-integrations/langchain/)\n",
        "- [Get Started with the LangChain Integration](https://www.mongodb.com/docs/atlas/atlas-vector-search/ai-integrations/langchain/get-started/)\n",
        "- [Comparison Query Operators](https://www.mongodb.com/docs/manual/reference/operator/query-comparison/)\n",
        "- [MongoDB Atlas](https://python.langchain.com/docs/integrations/vectorstores/mongodb_atlas/)\n",
        "- [Document loaders](https://python.langchain.com/docs/concepts/document_loaders/)\n",
        "\n",
        "---\n"
      ]
    },
    {
      "cell_type": "markdown",
      "id": "c6c7aba4",
      "metadata": {},
      "source": [
        "## Environment Setup\n",
        "\n",
        "Set up the environment. You may refer to [Environment Setup](https://wikidocs.net/257836) for more details.\n",
        "\n",
        "**[Note]**\n",
        "\n",
        "- `langchain-opentutorial` is a package that provides a set of easy-to-use environment setup, useful functions and utilities for tutorials.\n",
        "- You can checkout the [`langchain-opentutorial`](https://github.com/LangChain-OpenTutorial/langchain-opentutorial-pypi) for more details.\n"
      ]
    },
    {
      "cell_type": "code",
      "execution_count": 1,
      "id": "21943adb",
      "metadata": {},
      "outputs": [],
      "source": [
        "%%capture --no-stderr\n",
        "%pip install langchain-opentutorial"
      ]
    },
    {
      "cell_type": "code",
      "execution_count": 2,
      "id": "f25ec196",
      "metadata": {},
      "outputs": [
        {
          "name": "stderr",
          "output_type": "stream",
          "text": [
            "\n",
            "\u001b[1m[\u001b[0m\u001b[34;49mnotice\u001b[0m\u001b[1;39;49m]\u001b[0m\u001b[39;49m A new release of pip is available: \u001b[0m\u001b[31;49m24.1\u001b[0m\u001b[39;49m -> \u001b[0m\u001b[32;49m24.3.1\u001b[0m\n",
            "\u001b[1m[\u001b[0m\u001b[34;49mnotice\u001b[0m\u001b[1;39;49m]\u001b[0m\u001b[39;49m To update, run: \u001b[0m\u001b[32;49mpip install --upgrade pip\u001b[0m\n"
          ]
        }
      ],
      "source": [
        "# Install required packages\n",
        "from langchain_opentutorial import package\n",
        "\n",
        "package.install(\n",
        "    [\n",
        "        \"langchain_openai\",\n",
        "        \"langsmith\",\n",
        "        \"langchain_core\",\n",
        "        \"langchain_community\",\n",
        "        \"langchain-mongodb\",\n",
        "        \"pymongo\",\n",
        "        \"certifi\",\n",
        "    ],\n",
        "    verbose=False,\n",
        "    upgrade=False,\n",
        ")"
      ]
    },
    {
      "cell_type": "code",
      "execution_count": 3,
      "id": "1caacc00",
      "metadata": {},
      "outputs": [
        {
          "name": "stdout",
          "output_type": "stream",
          "text": [
            "Environment variables have been set successfully.\n"
          ]
        }
      ],
      "source": [
        "# Set environment variables\n",
        "from langchain_opentutorial import set_env\n",
        "\n",
        "set_env(\n",
        "    {\n",
        "        \"OPENAI_API_KEY\": \"\",\n",
        "        \"LANGCHAIN_API_KEY\": \"\",\n",
        "        \"MONGODB_ATLAS_CLUSTER_URI\": \"\",\n",
        "        \"LANGCHAIN_TRACING_V2\": \"true\",\n",
        "        \"LANGCHAIN_ENDPOINT\": \"https://api.smith.langchain.com\",\n",
        "        \"LANGCHAIN_PROJECT\": \"09-Ollama\",\n",
        "    }\n",
        ")"
      ]
    },
    {
      "cell_type": "markdown",
      "id": "311ebf6d",
      "metadata": {},
      "source": [
        "You can alternatively set API keys such as `OPENAI_API_KEY` in a `.env` file and load them.\n",
        "\n",
        "[Note] This is not necessary if you've already set the required API keys in previous steps.\n",
        "\n",
        "`MONGODB_ATLAS_CLUSTER_URI` is required to use **MongoDB Atlas** and is explained in the [Connect to your cluster](#connect-to-your-cluster).\n",
        "\n",
        "If you are already using **MongoDB Atlas**, you can set the cluster **connection string** to `MONGODB_ATLAS_CLUSTER_URI` in your `.env` file.\n"
      ]
    },
    {
      "cell_type": "code",
      "execution_count": 4,
      "id": "c394720f",
      "metadata": {},
      "outputs": [
        {
          "data": {
            "text/plain": [
              "True"
            ]
          },
          "execution_count": 4,
          "metadata": {},
          "output_type": "execute_result"
        }
      ],
      "source": [
        "# Load API keys from .env file\n",
        "from dotenv import load_dotenv\n",
        "\n",
        "load_dotenv(override=True)"
      ]
    },
    {
      "cell_type": "markdown",
      "id": "aa00c3f4",
      "metadata": {},
      "source": [
        "## Initialization\n",
        "\n",
        "**MongoDB Atlas** is a multi-cloud database service that provides an easy way to host and manage your data in the cloud.\n",
        "\n",
        "After you register with and log in to **Atlas**, you can create a Free cluster.\n",
        "\n",
        "**Atlas** can be started with [Atlas CLI](https://www.mongodb.com/docs/atlas/cli/current/atlas-cli-getting-started/) or **Atlas UI**.\n",
        "\n",
        "**Atlas CLI** can be difficult to use if you're not used to working with development tools, so this tutorial will walk you through how to use **Atlas UI**.\n",
        "\n",
        "### Deploy a cluster\n",
        "\n",
        "Please select the appropriate project in your **Organization**. If the project doesn't exist, you'll need to create it.\n",
        "\n",
        "If you select a project, you can create a cluster.\n",
        "\n",
        "![mongodb-atlas-project](./assets/07-mongodb-atlas-initialization-01.png)\n",
        "\n",
        "Follow the procedure below to deploy a cluster\n",
        "\n",
        "- select **Cluster**: **M0** Free cluster option\n",
        "\n",
        "> Note: You can deploy only one Free cluster per Atlas project\n",
        "\n",
        "- select **Provider**: **M0** on AWS, GCP, and Azure\n",
        "\n",
        "- select **Region**\n",
        "\n",
        "- create a database user and add your IP address settings.\n",
        "\n",
        "After you deploy a cluster, you can see the cluster you deployed as shown in the image below.\n",
        "\n",
        "![mongodb-atlas-cluster-deploy](./assets/07-mongodb-atlas-initialization-02.png)\n"
      ]
    },
    {
      "cell_type": "markdown",
      "id": "35618384",
      "metadata": {},
      "source": [
        "### Connect to your cluster\n",
        "\n",
        "Click **Get connection string** in the image above to get the cluster URI and set the value of `MONGODB_ATLAS_CLUSTER_URI` in the `.env` file.\n",
        "\n",
        "The **connection string** resembles the following example:\n",
        "\n",
        "> mongodb+srv://[databaseUser]:[databasePassword]@[clusterName].[hostName].mongodb.net/?retryWrites=true&w=majority\n",
        "\n",
        "Then go back to the [Environment Setup](#environment-setup) and run the `load_dotenv` function again.\n"
      ]
    },
    {
      "cell_type": "markdown",
      "id": "037183c7",
      "metadata": {},
      "source": [
        "### Initialize MongoDB python client\n",
        "\n",
        "To integrate with LangChain, you need to connect to the cluster using [PyMongo](https://github.com/mongodb/mongo-python-driver), the MongoDB python driver.\n"
      ]
    },
    {
      "cell_type": "code",
      "execution_count": 5,
      "id": "0980874c",
      "metadata": {},
      "outputs": [],
      "source": [
        "import os\n",
        "import certifi\n",
        "from pymongo import MongoClient\n",
        "\n",
        "MONGODB_ATLAS_CLUSTER_URI = os.getenv(\"MONGODB_ATLAS_CLUSTER_URI\")\n",
        "client = MongoClient(MONGODB_ATLAS_CLUSTER_URI, tlsCAFile=certifi.where())"
      ]
    },
    {
      "cell_type": "markdown",
      "id": "727a7ee7",
      "metadata": {},
      "source": [
        "### Initialize MongoDBAtlasVectorSearch\n",
        "\n",
        "A **MongoDB database** stores a collections of documents.\n",
        "\n",
        "Create a vector store using `MongoDBAtlasVectorSearch`.\n",
        "\n",
        "- `collection`: documents to store in the vector database\n",
        "\n",
        "- `embedding`: use OpenAI `text-embedding-3-small` model\n",
        "\n",
        "- `index_name`: index to use when querying the vector store.\n"
      ]
    },
    {
      "cell_type": "code",
      "execution_count": 6,
      "id": "b259a3a5",
      "metadata": {},
      "outputs": [],
      "source": [
        "from langchain_openai import OpenAIEmbeddings\n",
        "from langchain_mongodb import MongoDBAtlasVectorSearch\n",
        "\n",
        "embeddings = OpenAIEmbeddings(model=\"text-embedding-3-small\")\n",
        "\n",
        "ATLAS_VECTOR_SEARCH_INDEX_NAME = \"langchain-opentutorial-index\"\n",
        "DB_NAME = \"langchain-opentutorial-db\"\n",
        "COLLECTION_NAME = \"little-prince\"\n",
        "collection = client[DB_NAME][COLLECTION_NAME]\n",
        "\n",
        "vector_store = MongoDBAtlasVectorSearch(\n",
        "    collection=collection,\n",
        "    embedding=embeddings,\n",
        "    index_name=ATLAS_VECTOR_SEARCH_INDEX_NAME,\n",
        "    relevance_score_fn=\"cosine\",\n",
        ")\n",
        "vector_store.create_vector_search_index(dimensions=1536)"
      ]
    },
    {
      "cell_type": "markdown",
      "id": "3ab3c4cb",
      "metadata": {},
      "source": [
        "You can **browse collections** to see the **little-prince** collection you just created and the sample data provided by Atlas.\n",
        "\n",
        "- [available sample datasets](https://www.mongodb.com/docs/atlas/sample-data/#std-label-available-sample-datasets)\n",
        "\n",
        "![mongodb-atlas-collection](./assets/07-mongodb-atlas-database-01.png)\n",
        "\n",
        "Click the **Atlas Search tab** to see the search index **langchain-opentutorial-index** that you created.\n",
        "\n",
        "![mongodb-atlas-search-index](./assets/07-mongodb-atlas-database-02.png)\n",
        "\n",
        "In this tutorial, we will use the **little-prince** collection in the **langchain-opentutorial-db** database.\n"
      ]
    },
    {
      "cell_type": "markdown",
      "id": "1f35bcf1",
      "metadata": {},
      "source": [
        "## Load Data\n",
        "\n",
        "LangChain provides **Document loaders** that can load a variety of data sources.\n",
        "\n",
        "In this tutorial, we'll use `PyPDFLoader` to add data from the **TheLittlePrince.pdf** in the data directory to the **little-prince** collection.\n"
      ]
    },
    {
      "cell_type": "code",
      "execution_count": 7,
      "id": "1824e39a",
      "metadata": {},
      "outputs": [],
      "source": [
        "from langchain_community.document_loaders import PyPDFLoader\n",
        "\n",
        "loader = PyPDFLoader(\"./data/TheLittlePrince.pdf\")\n",
        "documents = loader.load()"
      ]
    },
    {
      "cell_type": "markdown",
      "id": "d878d78e",
      "metadata": {},
      "source": [
        "If you are working with large datasets, you can use `lazy_load` instead of the `load` method.\n",
        "\n",
        "The `load` method returns **List[Document]**, so let's check for the first **Document** object.\n"
      ]
    },
    {
      "cell_type": "code",
      "execution_count": 8,
      "id": "6f44f1e2",
      "metadata": {},
      "outputs": [
        {
          "data": {
            "text/plain": [
              "Document(metadata={'source': './data/TheLittlePrince.pdf', 'page': 0}, page_content='1!!!!!\\n!!!The Little Prince written and illustrated by Antoine de Saint Exupéry translated from the French by Katherine Woods!!!!!!')"
            ]
          },
          "execution_count": 8,
          "metadata": {},
          "output_type": "execute_result"
        }
      ],
      "source": [
        "documents[0]"
      ]
    },
    {
      "cell_type": "markdown",
      "id": "dedb0453",
      "metadata": {},
      "source": [
        "- `metadata`: data associated with content\n",
        "\n",
        "- `page_content`: string text\n",
        "\n",
        "If you open the file **TheLittePrince.pdf** and compare the contents of the first page to `page_content`, it is the same.\n"
      ]
    },
    {
      "cell_type": "markdown",
      "id": "94df4df9",
      "metadata": {},
      "source": [
        "## Manage vector store\n",
        "\n",
        "Now that you've initialized the `vector_store` and loaded the data, you can add and delete **Documents** to the **little-prince** collection.\n",
        "\n",
        "### Add\n",
        "\n",
        "- `add_documents`: Add **documents** to the `vector_store` and returns a List of IDs for the added documents.\n"
      ]
    },
    {
      "cell_type": "code",
      "execution_count": 9,
      "id": "c6b01161",
      "metadata": {},
      "outputs": [],
      "source": [
        "ids = vector_store.add_documents(documents=documents)"
      ]
    },
    {
      "cell_type": "markdown",
      "id": "619c1147",
      "metadata": {},
      "source": [
        "`delete` function allow specify the Document IDs to delete, so `ids` store the IDs of the added documents.\n",
        "\n",
        "Check the first document ID. The number of **IDs** matches the number of **documents**, and each ID is a unique value.\n"
      ]
    },
    {
      "cell_type": "code",
      "execution_count": 10,
      "id": "fd6f6de6",
      "metadata": {},
      "outputs": [
        {
          "data": {
            "text/plain": [
              "'6787965b3c24f7045d2ca706'"
            ]
          },
          "execution_count": 10,
          "metadata": {},
          "output_type": "execute_result"
        }
      ],
      "source": [
        "ids[0]"
      ]
    },
    {
      "cell_type": "markdown",
      "id": "9db46a48",
      "metadata": {},
      "source": [
        "In the image below, after adding **documents** the **STORAGE SIZE** of the collection increases and you can see the documents corresponding to each ID, such as `ids[0]`.\n",
        "\n",
        "![mongodb-atlas-add-documents](./assets/07-mongodb-atlas-vectorstore-01.png)\n",
        "\n",
        "The `embedding` field is a **vector representation of the text** data. It is used to determine similarity to the query vector for vector search.\n"
      ]
    },
    {
      "cell_type": "markdown",
      "id": "7a11e0d9",
      "metadata": {},
      "source": [
        "### Delete\n",
        "\n",
        "Create a `Document` object, add it to a **collection**, and then `delete` its data.\n"
      ]
    },
    {
      "cell_type": "code",
      "execution_count": 11,
      "id": "e1aeaf2a",
      "metadata": {},
      "outputs": [
        {
          "name": "stdout",
          "output_type": "stream",
          "text": [
            "['678796bd3c24f7045d2ca746']\n"
          ]
        }
      ],
      "source": [
        "from langchain_core.documents import Document\n",
        "\n",
        "sample_document = Document(\n",
        "    page_content=\"I am leveraging my experience as a developer to provide development education and nurture many new developers.\",\n",
        "    metadata={\"source\": \"linkedin\"},\n",
        ")\n",
        "sample_id = vector_store.add_documents([sample_document])\n",
        "print(sample_id)"
      ]
    },
    {
      "cell_type": "markdown",
      "id": "6ed0d4f1",
      "metadata": {},
      "source": [
        "**TOTAL DOCUMENTS** has increased from 64 to 65.\n",
        "\n",
        "And if you check the **Document** on the last page, you'll see that it has the **same id** as `sample_document`, and the **same text value** as `page_content`.\n",
        "\n",
        "![mongodb-atlas-last-document](./assets/07-mongodb-atlas-vectorstore-02.png)\n"
      ]
    },
    {
      "cell_type": "markdown",
      "id": "2b972279",
      "metadata": {},
      "source": [
        "You can specify the **document IDs to delete** as arguments to the `delete` function, such as `sample_id`.\n",
        "\n",
        "If you don't specify an ID, all documents added to the collection are deleted.\n"
      ]
    },
    {
      "cell_type": "code",
      "execution_count": 13,
      "id": "8969e67f",
      "metadata": {},
      "outputs": [
        {
          "data": {
            "text/plain": [
              "True"
            ]
          },
          "execution_count": 13,
          "metadata": {},
          "output_type": "execute_result"
        }
      ],
      "source": [
        "vector_store.delete(ids=sample_id)"
      ]
    },
    {
      "cell_type": "markdown",
      "id": "840e407b",
      "metadata": {},
      "source": [
        "If `True` returns, the deletion is successful.\n",
        "\n",
        "You can see that **TOTAL DOCUMENTS** has decreasesd from 65 to 64 and that `sample_document` has been deleted.\n"
      ]
    },
    {
      "cell_type": "markdown",
      "id": "29f5df61",
      "metadata": {},
      "source": [
        "## Query vector store\n",
        "\n",
        "Make a `query` related to the content of The Little Prince and see if the `vector_store` returns results from a search for similar documents.\n",
        "\n",
        "The `query` is based on the most well-known story about the relationship between the Little Prince and the Fox.\n"
      ]
    },
    {
      "cell_type": "code",
      "execution_count": 15,
      "id": "ccda34a5",
      "metadata": {},
      "outputs": [],
      "source": [
        "query = \"What does it mean to be tamed according to the fox?\""
      ]
    },
    {
      "cell_type": "markdown",
      "id": "5cd1d141",
      "metadata": {},
      "source": [
        "### Semantic Search\n",
        "\n",
        "`similarity_search` method performs a basic semantic search\n",
        "\n",
        "It returns a **List[Document]** ranked by relevance.\n"
      ]
    },
    {
      "cell_type": "code",
      "execution_count": null,
      "id": "5777d224",
      "metadata": {},
      "outputs": [
        {
          "data": {
            "text/plain": [
              "[Document(metadata={'_id': '6787965b3c24f7045d2ca734', 'source': './data/TheLittlePrince.pdf', 'page': 46}, page_content='47\\n \"Please--tame me!\" he said.  \"I want to, very much,\" the little prince replied. \"But I have not much time. I have friends to discover, and a great many things to understand.\"  \"One only understands the things that one tames,\" said the fox. \"Men have no more time to understand anything. They buy things all ready made at the shops. But there is no shop anywhere where one can buy friendship, and so men have no friends any more. If you want a friend, tame me . . .\"  \"What must I do, to tame you?\" asked the little prince.  \"You must be very patient,\" replied the fox. \"First you will sit down at a little distance from me--like that--in the grass. I shall look at you out of the corner of my eye, and you will say nothing. Words are the source of misunderstandings. But you will sit a little closer to me, every day . . .\"  The next day the little prince came back.  \"It would have been better to come back at the same hour,\" said the fox. \"If, for example, you come at four o\\'clock in the afternoon, then at three o\\'clock I shall begin to be happy. I shall feel happier and happier as the hour advances. At four o\\'clock, I shall already be worrying and jumping about. I shall show you how happy I am! But if you come at just any time, I shall never know at what hour my heart is to be ready to greet you . . . One must observe the proper rites . . .\"  \"What is a rite?\" asked the little prince.  \"Those also are actions too often neglected,\" said the fox. \"They are what make one day different from other days, one hour from other hours. There is a rite, for example, among my hunters. Every Thursday they dance with the village girls. So Thursday is a wonderful day for me! I can take a walk as far as the vineyards. But if the hunters danced at just any time, every day would be like every other day, and I should never have any vacation at all.\"   So the little prince tamed the fox. And when the hour of his departure drew near--  \"Ah,\" said the fox, \"I shall cry.\"  '),\n",
              " Document(metadata={'_id': '6787965b3c24f7045d2ca733', 'source': './data/TheLittlePrince.pdf', 'page': 45}, page_content='46\"I am looking for men,\" said the little prince. \"What does that mean--\\'tame\\'?\"  \"Men,\" said the fox. \"They have guns, and they hunt. It is very disturbing. They also raise chickens. These are their only interests. Are you looking for chickens?\"  \"No,\" said the little prince. \"I am looking for friends. What does that mean--\\'tame\\'?\"  \"It is an act too often neglected,\" said the fox. It means to establish ties.\"  \"\\'To establish ties\\'?\"  \"Just that,\" said the fox. \"To me, you are still nothing more than a little boy who is just like a hundred thousand other little boys. And I have no need of you. And you, on your part, have no need of me. To you, I am nothing more than a fox like a hundred thousand other foxes. But if you tame me, then we shall need each other. To me, you will be unique in all the world. To you, I shall be unique in all the world . . .\"  \"I am beginning to understand,\" said the little prince. \"There is a flower . . . I think that she has tamed me . . .\"  \"It is possible,\" said the fox. \"On the Earth one sees all sorts of things.\"  \"Oh, but this is not on the Earth!\" said the little prince.  The fox seemed perplexed, and very curious.  \"On another planet?\"  \"Yes.\"  \"Are there hunters on that planet?\"  \"No.\"  \"Ah, that is interesting! Are there chickens?\"  \"No.\"  \"Nothing is perfect,\" sighed the fox.  But he came back to his idea.  \"My life is very monotonous,\" the fox said. \"I hunt chickens; men hunt me. All the chickens are just alike, and all the men are just alike. And, in consequence, I am a little bored. But if you tame me, it will be as if the sun came to shine on my life. I shall know the sound of a step that will be different from all the others. Other steps send me hurrying back underneath the ground. Yours will call me, like music, out of my burrow. And then look: you see the grain-fields down yonder? I do not eat bread. Wheat is of no use to me. The wheat fields have nothing to say to me. And that is sad. But you have hair that is the color of gold. Think how wonderful that will be when you have tamed me! The grain, which is also golden, will bring me back the thought of you. And I shall love to listen to the wind in the wheat . . .\"  The fox gazed at the little prince, for a long time.  '),\n",
              " Document(metadata={'_id': '6787965b3c24f7045d2ca732', 'source': './data/TheLittlePrince.pdf', 'page': 44}, page_content='4521  It was then that the fox appeared.  \"Good morning,\" said the fox.  \"Good morning,\" the little prince responded politely, although when he turned around he saw nothing.  \"I am right here,\" the voice said, \"under the apple tree.\"  \\n \"Who are you?\" asked the little prince, and added, \"You are very pretty to look at.\"  \"I am a fox,\" the fox said.  \"Come and play with me,\" proposed the little prince. \"I am so unhappy.\"  \"I cannot play with you,\" the fox said. \"I am not tamed.\"  \"Ah! Please excuse me,\" said the little prince.  But, after some thought, he added:  \"What does that mean--\\'tame\\'?\"  \"You do not live here,\" said the fox. \"What is it that you are looking for?\"  '),\n",
              " Document(metadata={'_id': '6787965b3c24f7045d2ca735', 'source': './data/TheLittlePrince.pdf', 'page': 47}, page_content='48\"It is your own fault,\" said the little prince. \"I never wished you any sort of harm; but you wanted me to tame you . . .\"  \"Yes, that is so,\" said the fox.  \"But now you are going to cry!\" said the little prince.  \"Yes, that is so,\" said the fox.  \"Then it has done you no good at all!\"  \"It has done me good,\" said the fox, \"because of the color of the wheat fields.\" And then he added:  \"Go and look again at the roses. You will understand now that yours is unique in all the world. Then come back to say goodbye to me, and I will make you a present of a secret.\"   The little prince went away, to look again at the roses.  \"You are not at all like my rose,\" he said. \"As yet you are nothing. No one has tamed you, and you have tamed no one. You are like my fox when I first knew him. He was only a fox like a hundred thousand other foxes. But I have made him my friend, and now he is unique in all the world.\"  And the roses were very much embarrassed.  \"You are beautiful, but you are empty,\" he went on. \"One could not die for you. To be sure, an ordinary passerby would think that my rose looked just like you--the rose that belongs to me. But in herself alone she is more important than all the hundreds of you other roses: because it is she that I have watered; because it is she that I have put under the glass globe; because it is she that I have sheltered behind the screen; because it is for her that I have killed the caterpillars (except the two or three that we saved to become butterflies); because it is she that I have listened to, when she grumbled, or boasted, or ever sometimes when she said nothing. Because she is my rose.   And he went back to meet the fox.  \"Goodbye,\" he said.  \"Goodbye,\" said the fox. \"And now here is my secret, a very simple secret: It is only with the heart that one can see rightly; what is essential is invisible to the eye.\"  \"What is essential is invisible to the eye,\" the little prince repeated, so that he would be sure to remember.  \"It is the time you have wasted for your rose that makes your rose so important.\"  \"It is the time I have wasted for my rose--\" said the little prince, so that he would be sure to remember.  \"Men have forgotten this truth,\" said the fox. \"But you must not forget it. You become responsible, forever, for what you have tamed. You are responsible for your rose . . .\"  \"I am responsible for my rose,\" the little prince repeated, so that he would be sure to remember.  ')]"
            ]
          },
          "execution_count": 16,
          "metadata": {},
          "output_type": "execute_result"
        }
      ],
      "source": [
        "vector_store.similarity_search(query=query)"
      ]
    },
    {
      "cell_type": "markdown",
      "id": "d55ac5dd",
      "metadata": {},
      "source": [
        "### Semantic Search with Score\n",
        "\n",
        "`similarity_search_with_score` method also performs a semantic search.\n",
        "\n",
        "The difference with the `similarity_search` method is that it returns a **relevance score** of documents between 0 and 1.\n",
        "\n",
        "The `k` parameter in the example below specifies the number of documents. This is also supported by `similarity_search` method.\n"
      ]
    },
    {
      "cell_type": "code",
      "execution_count": 18,
      "id": "3313b168",
      "metadata": {},
      "outputs": [
        {
          "data": {
            "text/plain": [
              "[(Document(metadata={'_id': '6787965b3c24f7045d2ca734', 'source': './data/TheLittlePrince.pdf', 'page': 46}, page_content='47\\n \"Please--tame me!\" he said.  \"I want to, very much,\" the little prince replied. \"But I have not much time. I have friends to discover, and a great many things to understand.\"  \"One only understands the things that one tames,\" said the fox. \"Men have no more time to understand anything. They buy things all ready made at the shops. But there is no shop anywhere where one can buy friendship, and so men have no friends any more. If you want a friend, tame me . . .\"  \"What must I do, to tame you?\" asked the little prince.  \"You must be very patient,\" replied the fox. \"First you will sit down at a little distance from me--like that--in the grass. I shall look at you out of the corner of my eye, and you will say nothing. Words are the source of misunderstandings. But you will sit a little closer to me, every day . . .\"  The next day the little prince came back.  \"It would have been better to come back at the same hour,\" said the fox. \"If, for example, you come at four o\\'clock in the afternoon, then at three o\\'clock I shall begin to be happy. I shall feel happier and happier as the hour advances. At four o\\'clock, I shall already be worrying and jumping about. I shall show you how happy I am! But if you come at just any time, I shall never know at what hour my heart is to be ready to greet you . . . One must observe the proper rites . . .\"  \"What is a rite?\" asked the little prince.  \"Those also are actions too often neglected,\" said the fox. \"They are what make one day different from other days, one hour from other hours. There is a rite, for example, among my hunters. Every Thursday they dance with the village girls. So Thursday is a wonderful day for me! I can take a walk as far as the vineyards. But if the hunters danced at just any time, every day would be like every other day, and I should never have any vacation at all.\"   So the little prince tamed the fox. And when the hour of his departure drew near--  \"Ah,\" said the fox, \"I shall cry.\"  '),\n",
              "  0.7943663597106934),\n",
              " (Document(metadata={'_id': '6787965b3c24f7045d2ca733', 'source': './data/TheLittlePrince.pdf', 'page': 45}, page_content='46\"I am looking for men,\" said the little prince. \"What does that mean--\\'tame\\'?\"  \"Men,\" said the fox. \"They have guns, and they hunt. It is very disturbing. They also raise chickens. These are their only interests. Are you looking for chickens?\"  \"No,\" said the little prince. \"I am looking for friends. What does that mean--\\'tame\\'?\"  \"It is an act too often neglected,\" said the fox. It means to establish ties.\"  \"\\'To establish ties\\'?\"  \"Just that,\" said the fox. \"To me, you are still nothing more than a little boy who is just like a hundred thousand other little boys. And I have no need of you. And you, on your part, have no need of me. To you, I am nothing more than a fox like a hundred thousand other foxes. But if you tame me, then we shall need each other. To me, you will be unique in all the world. To you, I shall be unique in all the world . . .\"  \"I am beginning to understand,\" said the little prince. \"There is a flower . . . I think that she has tamed me . . .\"  \"It is possible,\" said the fox. \"On the Earth one sees all sorts of things.\"  \"Oh, but this is not on the Earth!\" said the little prince.  The fox seemed perplexed, and very curious.  \"On another planet?\"  \"Yes.\"  \"Are there hunters on that planet?\"  \"No.\"  \"Ah, that is interesting! Are there chickens?\"  \"No.\"  \"Nothing is perfect,\" sighed the fox.  But he came back to his idea.  \"My life is very monotonous,\" the fox said. \"I hunt chickens; men hunt me. All the chickens are just alike, and all the men are just alike. And, in consequence, I am a little bored. But if you tame me, it will be as if the sun came to shine on my life. I shall know the sound of a step that will be different from all the others. Other steps send me hurrying back underneath the ground. Yours will call me, like music, out of my burrow. And then look: you see the grain-fields down yonder? I do not eat bread. Wheat is of no use to me. The wheat fields have nothing to say to me. And that is sad. But you have hair that is the color of gold. Think how wonderful that will be when you have tamed me! The grain, which is also golden, will bring me back the thought of you. And I shall love to listen to the wind in the wheat . . .\"  The fox gazed at the little prince, for a long time.  '),\n",
              "  0.7858192324638367),\n",
              " (Document(metadata={'_id': '6787965b3c24f7045d2ca732', 'source': './data/TheLittlePrince.pdf', 'page': 44}, page_content='4521  It was then that the fox appeared.  \"Good morning,\" said the fox.  \"Good morning,\" the little prince responded politely, although when he turned around he saw nothing.  \"I am right here,\" the voice said, \"under the apple tree.\"  \\n \"Who are you?\" asked the little prince, and added, \"You are very pretty to look at.\"  \"I am a fox,\" the fox said.  \"Come and play with me,\" proposed the little prince. \"I am so unhappy.\"  \"I cannot play with you,\" the fox said. \"I am not tamed.\"  \"Ah! Please excuse me,\" said the little prince.  But, after some thought, he added:  \"What does that mean--\\'tame\\'?\"  \"You do not live here,\" said the fox. \"What is it that you are looking for?\"  '),\n",
              "  0.7807549238204956),\n",
              " (Document(metadata={'_id': '6787965b3c24f7045d2ca735', 'source': './data/TheLittlePrince.pdf', 'page': 47}, page_content='48\"It is your own fault,\" said the little prince. \"I never wished you any sort of harm; but you wanted me to tame you . . .\"  \"Yes, that is so,\" said the fox.  \"But now you are going to cry!\" said the little prince.  \"Yes, that is so,\" said the fox.  \"Then it has done you no good at all!\"  \"It has done me good,\" said the fox, \"because of the color of the wheat fields.\" And then he added:  \"Go and look again at the roses. You will understand now that yours is unique in all the world. Then come back to say goodbye to me, and I will make you a present of a secret.\"   The little prince went away, to look again at the roses.  \"You are not at all like my rose,\" he said. \"As yet you are nothing. No one has tamed you, and you have tamed no one. You are like my fox when I first knew him. He was only a fox like a hundred thousand other foxes. But I have made him my friend, and now he is unique in all the world.\"  And the roses were very much embarrassed.  \"You are beautiful, but you are empty,\" he went on. \"One could not die for you. To be sure, an ordinary passerby would think that my rose looked just like you--the rose that belongs to me. But in herself alone she is more important than all the hundreds of you other roses: because it is she that I have watered; because it is she that I have put under the glass globe; because it is she that I have sheltered behind the screen; because it is for her that I have killed the caterpillars (except the two or three that we saved to become butterflies); because it is she that I have listened to, when she grumbled, or boasted, or ever sometimes when she said nothing. Because she is my rose.   And he went back to meet the fox.  \"Goodbye,\" he said.  \"Goodbye,\" said the fox. \"And now here is my secret, a very simple secret: It is only with the heart that one can see rightly; what is essential is invisible to the eye.\"  \"What is essential is invisible to the eye,\" the little prince repeated, so that he would be sure to remember.  \"It is the time you have wasted for your rose that makes your rose so important.\"  \"It is the time I have wasted for my rose--\" said the little prince, so that he would be sure to remember.  \"Men have forgotten this truth,\" said the fox. \"But you must not forget it. You become responsible, forever, for what you have tamed. You are responsible for your rose . . .\"  \"I am responsible for my rose,\" the little prince repeated, so that he would be sure to remember.  '),\n",
              "  0.6809426546096802),\n",
              " (Document(metadata={'_id': '6787965b3c24f7045d2ca73c', 'source': './data/TheLittlePrince.pdf', 'page': 54}, page_content='55\"Oh, that will be all right,\" he said, \"children understand.\"  So then I made a pencil sketch of a muzzle. And as I gave it to him my heart was torn.  \"You have plans that I do not know about,\" I said.  But he did not answer me. He said to me, instead:  \"You know--my descent to the earth . . . Tomorrow will be its anniversary.\"  Then, after a silence, he went on:  \"I came down very near here.\"  And he flushed.  And once again, without understanding why, I had a queer sense of sorrow. One question, however, occurred to me:  \"Then it was not by chance that on the morning when I first met you--a week ago--you were strolling along like that, all alone, a thousand miles from any inhabited region? You were on the your back to the place where you landed?\"  The little prince flushed again.  And I added, with some hesitancy:  \"Perhaps it was because of the anniversary?\"  The little prince flushed once more. He never answered questions--but when one flushes does that not mean \"Yes\"?  \"Ah,\" I said to him, \"I am a little frightened--\"  But he interrupted me.  \"Now you must work. You must return to your engine. I will be waiting for you here. Come back tomorrow evening . . .\"  But I was not reassured. I remembered the fox. One runs the risk of weeping a little, if one lets himself be tamed . . .       '),\n",
              "  0.6611337065696716),\n",
              " (Document(metadata={'_id': '6787965b3c24f7045d2ca70f', 'source': './data/TheLittlePrince.pdf', 'page': 9}, page_content='10\"The thing that is so good about the box you have given me is that at night he can use it as his house.\"  \"That is so. And if you are good I will give you a string, too, so that you can tie him during the day, and a post to tie him to.\"  But the little prince seemed shocked by this offer:  \"Tie him! What a queer idea!\"  \"But if you don\\'t tie him,\" I said, \"he will wander off somewhere, and get lost.\"  My friend broke into another peal of laughter:  \"But where do you think he would go?\"  \"Anywhere. Straight ahead of him.\"  Then the little prince said, earnestly:  \"That doesn\\'t matter. Where I live, everything is so small!\"  And, with perhaps a hint of sadness, he added:  \"Straight ahead of him, nobody can go very far . . .\"                '),\n",
              "  0.6380619406700134),\n",
              " (Document(metadata={'_id': '6787965b3c24f7045d2ca71a', 'source': './data/TheLittlePrince.pdf', 'page': 20}, page_content='21So the little prince, in spite of all the good will that was inseparable from his love, had soon come to doubt her. He had taken seriously words which were without importance, and it made him very unhappy.  \"I ought not to have listened to her,\" he confided to me one day. \"One never ought to listen to the flowers. One should simply look at them and breathe their fragrance. Mine perfumed all my planet. But I did not know how to take pleasure in all her grace. This tale of claws, which disturbed me so much, should only have filled my heart with tenderness and pity.\"  And he continued his confidences:  \"The fact is that I did not know how to understand anything! I ought to have judged by deeds and not by words. She cast her fragrance and her radiance over me. I ought never to have run away from her . . . I ought to have guessed all the affection that lay behind her poor little stratagems. Flowers are so inconsistent! But I was too young to know how to love her . . .\"                      '),\n",
              "  0.6318292617797852),\n",
              " (Document(metadata={'_id': '6787965b3c24f7045d2ca73b', 'source': './data/TheLittlePrince.pdf', 'page': 53}, page_content='54I hoisted the bucket slowly to the edge of the well and set it there--happy, tired as I was, over my achievement. The song of the pulley was still in my ears, and I could see the sunlight shimmer in the still trembling water.  \"I am thirsty for this water,\" said the little prince. \"Give me some of it to drink . . .\"  And I understood what he had been looking for.  I raised the bucket to his lips. He drank, his eyes closed. It was as sweet as some special festival treat. This water was indeed a different thing from ordinary nourishment. Its sweetness was born of the walk under the stars, the song of the pulley, the effort of my arms. It was good for the heart, like a present. When I was a little boy, the lights of the Christmas tree, the music of the Midnight Mass, the tenderness of smiling faces, used to make up, so, the radiance of the gifts I received.  \"The men where you live,\" said the little prince, \"raise five thousand roses in the same garden--and they do not find in it what they are looking for.\"  \"They do not find it,\" I replied.  \"And yet what they are looking for could be found in one single rose, or in a little water.\"  \"Yes, that is true,\" I said.  And the little prince added:  \"But the eyes are blind. One must look with the heart . . .\"   I had drunk the water. I breathed easily. At sunrise the sand is the color of honey. And that honey color was making me happy, too. What brought me, then, this sense of grief?  \"You must keep your promise,\" said the little prince, softly, as he sat down beside me once more.  \"What promise?\"  \"You know--a muzzle for my sheep . . . I am responsible for this flower . . .\"  I took my rough drafts of drawings out of my pocket. The little prince looked them over, and laughed as he said:  \"Your baobabs--they look a little like cabbages.\"  \"Oh!\"  I had been so proud of my baobabs!  \"Your fox--his ears look a little like horns; and they are too long.\"  And he laughed again.  \"You are not fair, little prince,\" I said. \"I don\\'t know how to draw anything except boa constrictors from the outside and boa constrictors from the inside.\"  '),\n",
              "  0.6312503218650818),\n",
              " (Document(metadata={'_id': '6787965b3c24f7045d2ca719', 'source': './data/TheLittlePrince.pdf', 'page': 19}, page_content='20\"I think it is time for breakfast,\" she added an instant later. \"If you would have the kindness to think of my needs--\"  And the little prince, completely abashed, went to look for a sprinkling-can of fresh water. So, he tended the flower.  \\n So, too, she began very quickly to torment him with her vanity--which was, if the truth be known, a little difficult to deal with. One day, for instance, when she was speaking of her four thorns, she said to the little prince:  \"Let the tigers come with their claws!\"  \"There are no tigers on my planet,\" the little prince objected. \"And, anyway, tigers do not eat weeds.\"  \"I am not a weed,\" the flower replied, sweetly.  \"Please excuse me . . .\"  \"I am not at all afraid of tigers,\" she went on, \"but I have a horror of drafts. I suppose you wouldn\\'t have a screen for me?\"  \"A horror of drafts--that is bad luck, for a plant,\" remarked the little prince, and added to himself, \"This flower is a very complex creature . . .\"  \"At night I want you to put me under a glass globe. It is very cold where you live. In the place I came from--\"  But she interrupted herself at that point. She had come in the form of a seed. She could not have known anything of any other worlds. Embarrassed over having let herself be caught on the verge of such a naïve untruth, she coughed two or three times, in order to put the little prince in the wrong.  \"The screen?\"  \"I was just going to look for it when you spoke to me . . .\"  Then she forced her cough a little more so that he should suffer from remorse just the same.  '),\n",
              "  0.627493143081665),\n",
              " (Document(metadata={'_id': '6787965b3c24f7045d2ca70d', 'source': './data/TheLittlePrince.pdf', 'page': 7}, page_content='8\\n But it was rejected too, just like the others.  \"This one is too old. I want a sheep that will live a long time.\"  By this time my patience was exhausted, because I was in a hurry to start taking my engine apart. So I tossed off this drawing.  \\n And I threw out an explanation with it.  \"This is only his box. The sheep you asked for is inside.\"  I was very surprised to see a light break over the face of my young judge:  \"That is exactly the way I wanted it! Do you think that this sheep will have to have a great deal of grass?\"  \"Why?\"  \"Because where I live everything is very small . . .\"  \"There will surely be enough grass for him,\" I said. \"It is a very small sheep that I have given you.\"  He bent his head over the drawing.  \"Not so small that--Look! He has gone to sleep . . .\"  And that is how I made the acquaintance of the little prince.       '),\n",
              "  0.6266195178031921)]"
            ]
          },
          "execution_count": 18,
          "metadata": {},
          "output_type": "execute_result"
        }
      ],
      "source": [
        "vector_store.similarity_search_with_score(query=query, k=10)"
      ]
    },
    {
      "cell_type": "markdown",
      "id": "f5d3c754",
      "metadata": {},
      "source": [
        "### Semantic Search with Filtering\n",
        "\n",
        "**MongoDB Atlas** supports pre-filtering your data using **MongoDB Query Language(MQL) Operators**.\n",
        "\n",
        "You must update the index definition using `create_vector_search_index`.\n"
      ]
    },
    {
      "cell_type": "code",
      "execution_count": 23,
      "id": "bccbed02",
      "metadata": {},
      "outputs": [],
      "source": [
        "vector_store.create_vector_search_index(dimensions=1536, filters=[\"page\"], update=True)"
      ]
    },
    {
      "cell_type": "markdown",
      "id": "64ded051",
      "metadata": {},
      "source": [
        "Compare the image below to when you first created the index in [Initialize MongoDBAtlasVectorSearch](#initialize-mongodbatlasvectorsearch).\n",
        "\n",
        "Notice that `page` have been added to the **Index Fields** and **Documents** have been added as well.\n",
        "\n",
        "![mongodb-atlas-index-update](./assets/07-mongodb-atlas-vectorstore-03.png)\n"
      ]
    },
    {
      "cell_type": "markdown",
      "id": "96e11a7a",
      "metadata": {},
      "source": [
        "There are **comparison query operators** that find values that match a condition.\n",
        "\n",
        "For example, the `$eq` operator finds **documents** that match a specified value.\n",
        "\n",
        "In [Semantic Search with Score](#semantic-search-with-score), `similarity_search_with_score` result that contains the beginning part of a book.\n",
        "\n",
        "Now you can add a `pre_filter` condition that documents **page** are greater than or equal to 20 using the `$gte` operator.\n"
      ]
    },
    {
      "cell_type": "code",
      "execution_count": 24,
      "id": "ffaa421c",
      "metadata": {},
      "outputs": [
        {
          "data": {
            "text/plain": [
              "[(Document(metadata={'_id': '6787965b3c24f7045d2ca734', 'source': './data/TheLittlePrince.pdf', 'page': 46}, page_content='47\\n \"Please--tame me!\" he said.  \"I want to, very much,\" the little prince replied. \"But I have not much time. I have friends to discover, and a great many things to understand.\"  \"One only understands the things that one tames,\" said the fox. \"Men have no more time to understand anything. They buy things all ready made at the shops. But there is no shop anywhere where one can buy friendship, and so men have no friends any more. If you want a friend, tame me . . .\"  \"What must I do, to tame you?\" asked the little prince.  \"You must be very patient,\" replied the fox. \"First you will sit down at a little distance from me--like that--in the grass. I shall look at you out of the corner of my eye, and you will say nothing. Words are the source of misunderstandings. But you will sit a little closer to me, every day . . .\"  The next day the little prince came back.  \"It would have been better to come back at the same hour,\" said the fox. \"If, for example, you come at four o\\'clock in the afternoon, then at three o\\'clock I shall begin to be happy. I shall feel happier and happier as the hour advances. At four o\\'clock, I shall already be worrying and jumping about. I shall show you how happy I am! But if you come at just any time, I shall never know at what hour my heart is to be ready to greet you . . . One must observe the proper rites . . .\"  \"What is a rite?\" asked the little prince.  \"Those also are actions too often neglected,\" said the fox. \"They are what make one day different from other days, one hour from other hours. There is a rite, for example, among my hunters. Every Thursday they dance with the village girls. So Thursday is a wonderful day for me! I can take a walk as far as the vineyards. But if the hunters danced at just any time, every day would be like every other day, and I should never have any vacation at all.\"   So the little prince tamed the fox. And when the hour of his departure drew near--  \"Ah,\" said the fox, \"I shall cry.\"  '),\n",
              "  0.7943663597106934),\n",
              " (Document(metadata={'_id': '6787965b3c24f7045d2ca733', 'source': './data/TheLittlePrince.pdf', 'page': 45}, page_content='46\"I am looking for men,\" said the little prince. \"What does that mean--\\'tame\\'?\"  \"Men,\" said the fox. \"They have guns, and they hunt. It is very disturbing. They also raise chickens. These are their only interests. Are you looking for chickens?\"  \"No,\" said the little prince. \"I am looking for friends. What does that mean--\\'tame\\'?\"  \"It is an act too often neglected,\" said the fox. It means to establish ties.\"  \"\\'To establish ties\\'?\"  \"Just that,\" said the fox. \"To me, you are still nothing more than a little boy who is just like a hundred thousand other little boys. And I have no need of you. And you, on your part, have no need of me. To you, I am nothing more than a fox like a hundred thousand other foxes. But if you tame me, then we shall need each other. To me, you will be unique in all the world. To you, I shall be unique in all the world . . .\"  \"I am beginning to understand,\" said the little prince. \"There is a flower . . . I think that she has tamed me . . .\"  \"It is possible,\" said the fox. \"On the Earth one sees all sorts of things.\"  \"Oh, but this is not on the Earth!\" said the little prince.  The fox seemed perplexed, and very curious.  \"On another planet?\"  \"Yes.\"  \"Are there hunters on that planet?\"  \"No.\"  \"Ah, that is interesting! Are there chickens?\"  \"No.\"  \"Nothing is perfect,\" sighed the fox.  But he came back to his idea.  \"My life is very monotonous,\" the fox said. \"I hunt chickens; men hunt me. All the chickens are just alike, and all the men are just alike. And, in consequence, I am a little bored. But if you tame me, it will be as if the sun came to shine on my life. I shall know the sound of a step that will be different from all the others. Other steps send me hurrying back underneath the ground. Yours will call me, like music, out of my burrow. And then look: you see the grain-fields down yonder? I do not eat bread. Wheat is of no use to me. The wheat fields have nothing to say to me. And that is sad. But you have hair that is the color of gold. Think how wonderful that will be when you have tamed me! The grain, which is also golden, will bring me back the thought of you. And I shall love to listen to the wind in the wheat . . .\"  The fox gazed at the little prince, for a long time.  '),\n",
              "  0.7858192324638367),\n",
              " (Document(metadata={'_id': '6787965b3c24f7045d2ca732', 'source': './data/TheLittlePrince.pdf', 'page': 44}, page_content='4521  It was then that the fox appeared.  \"Good morning,\" said the fox.  \"Good morning,\" the little prince responded politely, although when he turned around he saw nothing.  \"I am right here,\" the voice said, \"under the apple tree.\"  \\n \"Who are you?\" asked the little prince, and added, \"You are very pretty to look at.\"  \"I am a fox,\" the fox said.  \"Come and play with me,\" proposed the little prince. \"I am so unhappy.\"  \"I cannot play with you,\" the fox said. \"I am not tamed.\"  \"Ah! Please excuse me,\" said the little prince.  But, after some thought, he added:  \"What does that mean--\\'tame\\'?\"  \"You do not live here,\" said the fox. \"What is it that you are looking for?\"  '),\n",
              "  0.7807549238204956),\n",
              " (Document(metadata={'_id': '6787965b3c24f7045d2ca735', 'source': './data/TheLittlePrince.pdf', 'page': 47}, page_content='48\"It is your own fault,\" said the little prince. \"I never wished you any sort of harm; but you wanted me to tame you . . .\"  \"Yes, that is so,\" said the fox.  \"But now you are going to cry!\" said the little prince.  \"Yes, that is so,\" said the fox.  \"Then it has done you no good at all!\"  \"It has done me good,\" said the fox, \"because of the color of the wheat fields.\" And then he added:  \"Go and look again at the roses. You will understand now that yours is unique in all the world. Then come back to say goodbye to me, and I will make you a present of a secret.\"   The little prince went away, to look again at the roses.  \"You are not at all like my rose,\" he said. \"As yet you are nothing. No one has tamed you, and you have tamed no one. You are like my fox when I first knew him. He was only a fox like a hundred thousand other foxes. But I have made him my friend, and now he is unique in all the world.\"  And the roses were very much embarrassed.  \"You are beautiful, but you are empty,\" he went on. \"One could not die for you. To be sure, an ordinary passerby would think that my rose looked just like you--the rose that belongs to me. But in herself alone she is more important than all the hundreds of you other roses: because it is she that I have watered; because it is she that I have put under the glass globe; because it is she that I have sheltered behind the screen; because it is for her that I have killed the caterpillars (except the two or three that we saved to become butterflies); because it is she that I have listened to, when she grumbled, or boasted, or ever sometimes when she said nothing. Because she is my rose.   And he went back to meet the fox.  \"Goodbye,\" he said.  \"Goodbye,\" said the fox. \"And now here is my secret, a very simple secret: It is only with the heart that one can see rightly; what is essential is invisible to the eye.\"  \"What is essential is invisible to the eye,\" the little prince repeated, so that he would be sure to remember.  \"It is the time you have wasted for your rose that makes your rose so important.\"  \"It is the time I have wasted for my rose--\" said the little prince, so that he would be sure to remember.  \"Men have forgotten this truth,\" said the fox. \"But you must not forget it. You become responsible, forever, for what you have tamed. You are responsible for your rose . . .\"  \"I am responsible for my rose,\" the little prince repeated, so that he would be sure to remember.  '),\n",
              "  0.6809426546096802),\n",
              " (Document(metadata={'_id': '6787965b3c24f7045d2ca73c', 'source': './data/TheLittlePrince.pdf', 'page': 54}, page_content='55\"Oh, that will be all right,\" he said, \"children understand.\"  So then I made a pencil sketch of a muzzle. And as I gave it to him my heart was torn.  \"You have plans that I do not know about,\" I said.  But he did not answer me. He said to me, instead:  \"You know--my descent to the earth . . . Tomorrow will be its anniversary.\"  Then, after a silence, he went on:  \"I came down very near here.\"  And he flushed.  And once again, without understanding why, I had a queer sense of sorrow. One question, however, occurred to me:  \"Then it was not by chance that on the morning when I first met you--a week ago--you were strolling along like that, all alone, a thousand miles from any inhabited region? You were on the your back to the place where you landed?\"  The little prince flushed again.  And I added, with some hesitancy:  \"Perhaps it was because of the anniversary?\"  The little prince flushed once more. He never answered questions--but when one flushes does that not mean \"Yes\"?  \"Ah,\" I said to him, \"I am a little frightened--\"  But he interrupted me.  \"Now you must work. You must return to your engine. I will be waiting for you here. Come back tomorrow evening . . .\"  But I was not reassured. I remembered the fox. One runs the risk of weeping a little, if one lets himself be tamed . . .       '),\n",
              "  0.6611337065696716),\n",
              " (Document(metadata={'_id': '6787965b3c24f7045d2ca71a', 'source': './data/TheLittlePrince.pdf', 'page': 20}, page_content='21So the little prince, in spite of all the good will that was inseparable from his love, had soon come to doubt her. He had taken seriously words which were without importance, and it made him very unhappy.  \"I ought not to have listened to her,\" he confided to me one day. \"One never ought to listen to the flowers. One should simply look at them and breathe their fragrance. Mine perfumed all my planet. But I did not know how to take pleasure in all her grace. This tale of claws, which disturbed me so much, should only have filled my heart with tenderness and pity.\"  And he continued his confidences:  \"The fact is that I did not know how to understand anything! I ought to have judged by deeds and not by words. She cast her fragrance and her radiance over me. I ought never to have run away from her . . . I ought to have guessed all the affection that lay behind her poor little stratagems. Flowers are so inconsistent! But I was too young to know how to love her . . .\"                      '),\n",
              "  0.6318292617797852),\n",
              " (Document(metadata={'_id': '6787965b3c24f7045d2ca73b', 'source': './data/TheLittlePrince.pdf', 'page': 53}, page_content='54I hoisted the bucket slowly to the edge of the well and set it there--happy, tired as I was, over my achievement. The song of the pulley was still in my ears, and I could see the sunlight shimmer in the still trembling water.  \"I am thirsty for this water,\" said the little prince. \"Give me some of it to drink . . .\"  And I understood what he had been looking for.  I raised the bucket to his lips. He drank, his eyes closed. It was as sweet as some special festival treat. This water was indeed a different thing from ordinary nourishment. Its sweetness was born of the walk under the stars, the song of the pulley, the effort of my arms. It was good for the heart, like a present. When I was a little boy, the lights of the Christmas tree, the music of the Midnight Mass, the tenderness of smiling faces, used to make up, so, the radiance of the gifts I received.  \"The men where you live,\" said the little prince, \"raise five thousand roses in the same garden--and they do not find in it what they are looking for.\"  \"They do not find it,\" I replied.  \"And yet what they are looking for could be found in one single rose, or in a little water.\"  \"Yes, that is true,\" I said.  And the little prince added:  \"But the eyes are blind. One must look with the heart . . .\"   I had drunk the water. I breathed easily. At sunrise the sand is the color of honey. And that honey color was making me happy, too. What brought me, then, this sense of grief?  \"You must keep your promise,\" said the little prince, softly, as he sat down beside me once more.  \"What promise?\"  \"You know--a muzzle for my sheep . . . I am responsible for this flower . . .\"  I took my rough drafts of drawings out of my pocket. The little prince looked them over, and laughed as he said:  \"Your baobabs--they look a little like cabbages.\"  \"Oh!\"  I had been so proud of my baobabs!  \"Your fox--his ears look a little like horns; and they are too long.\"  And he laughed again.  \"You are not fair, little prince,\" I said. \"I don\\'t know how to draw anything except boa constrictors from the outside and boa constrictors from the inside.\"  '),\n",
              "  0.6312503218650818),\n",
              " (Document(metadata={'_id': '6787965b3c24f7045d2ca738', 'source': './data/TheLittlePrince.pdf', 'page': 50}, page_content='5124  It was now the eighth day since I had had my accident in the desert, and I had listened to the story of the merchant as I was drinking the last drop of my water supply.  \"Ah,\" I said to the little prince, \"these memories of yours are very charming; but I have not yet succeeded in repairing my plane; I have nothing more to drink; and I, too, should be very happy if I could walk at my leisure toward a spring of fresh water!\"  \"My friend the fox--\" the little prince said to me.  \"My dear little man, this is no longer a matter that has anything to do with the fox!\"  \"Why not?\"  \"Because I am about to die of thirst . . .\"  He did not follow my reasoning, and he answered me:  \"It is a good thing to have had a friend, even if one is about to die. I, for instance, am very glad to have had a fox as a friend . . .\"  \"He has no way of guessing the danger,\" I said to myself. \"He has never been either hungry or thirsty. A little sunshine is all he needs . . .\"  But he looked at me steadily, and replied to my thought:  \"I am thirsty, too. Let us look for a well . . .\"  I made a gesture of weariness. It is absurd to look for a well, at random, in the immensity of the desert. But nevertheless we started walking.  When we had trudged along for several hours, in silence, the darkness fell, and the stars began to come out. Thirst had made me a little feverish, and I looked at them as if I were in a dream. The little prince\\'s last words came reeling back into my memory:  \"Then you are thirsty, too?\" I demanded.  But he did not reply to my question. He merely said to me:  \"Water may also be good for the heart . . .\"  I did not understand this answer, but I said nothing. I knew very well that it was impossible to cross-examine him.  He was tired. He sat down. I sat down beside him. And, after a little silence, he spoke again:  \"The stars are beautiful, because of a flower that cannot be seen.\"  '),\n",
              "  0.6217113137245178),\n",
              " (Document(metadata={'_id': '6787965b3c24f7045d2ca71f', 'source': './data/TheLittlePrince.pdf', 'page': 25}, page_content='26\"Hum! Hum!\" said the king. \"I have good reason to believe that somewhere on my planet there is an old rat. I hear him at night. You can judge this old rat. From time to time you will condemn him to death. Thus his life will depend on your justice. But you will pardon him on each occasion; for he must be treated thriftily. He is the only one we have.\"  \"I,\" replied the little prince, \"do not like to condemn anyone to death. And now I think I will go on my way.\"  \"No,\" said the king.  But the little prince, having now completed his preparations for departure, had no wish to grieve the old monarch.  \"If Your Majesty wishes to be promptly obeyed,\" he said, \"he should be able to give me a reasonable order. He should be able, for example, to order me to be gone by the end of one minute. It seems to me that conditions are favorable . . .\"  As the king made no answer, the little prince hesitated a moment. Then, with a sigh, he took his leave.  \"I make you my Ambassador,\" the king called out, hastily.  He had a magnificent air of authority.  \"The grown-ups are very strange,\" the little prince said to himself, as he continued on his journey.                '),\n",
              "  0.6208781003952026),\n",
              " (Document(metadata={'_id': '6787965b3c24f7045d2ca739', 'source': './data/TheLittlePrince.pdf', 'page': 51}, page_content='52I replied, \"Yes, that is so.\" And, without saying anything more, I looked across the ridges of sand that were stretched out before us in the moonlight.  \"The desert is beautiful,\" the little prince added.  And that was true. I have always loved the desert. One sits down on a desert sand dune, sees nothing, hears nothing. Yet through the silence something throbs, and gleams . . .  \"What makes the desert beautiful,\" said the little prince, \"is that somewhere it hides a well . . .\"  I was astonished by a sudden understanding of that mysterious radiation of the sands. When I was a little boy I lived in an old house, and legend told us that a treasure was buried there. To be sure, no one had ever known how to find it; perhaps no one had ever even looked for it. But it cast an enchantment over that house. My home was hiding a secret in the depths of its heart . . .  \"Yes,\" I said to the little prince. \"The house, the stars, the desert--what gives them their beauty is something that is invisible!\"  \"I am glad,\" he said, \"that you agree with my fox.\"  As the little prince dropped off to sleep, I took him in my arms and set out walking once more. I felt deeply moved, and stirred. It seemed to me that I was carrying a very fragile treasure. It seemed to me, even, that there was nothing more fragile on all Earth. In the moonlight I looked at his pale forehead, his closed eyes, his locks of hair that trembled in the wind, and I said to myself: \"What I see here is nothing but a shell. What is most important is invisible . . .\"  As his lips opened slightly with the suspicion of a half-smile, I said to myself, again: \"What moves me so deeply, about this little prince who is sleeping here, is his loyalty to a flower--the image of a rose that shines through his whole being like the flame of a lamp, even when he is asleep . . .\" And I felt him to be more fragile still. I felt the need of protecting him, as if he himself were a flame that might be extinguished by a little puff of wind . . .  And, as I walked on so, I found the well, at daybreak.            '),\n",
              "  0.6203534007072449)]"
            ]
          },
          "execution_count": 24,
          "metadata": {},
          "output_type": "execute_result"
        }
      ],
      "source": [
        "vector_store.similarity_search_with_score(\n",
        "    query=query, k=10, pre_filter={\"page\": {\"$gte\": 20}}\n",
        ")"
      ]
    }
  ],
  "metadata": {
    "kernelspec": {
      "display_name": "venv",
      "language": "python",
      "name": ".venv"
    },
    "language_info": {
      "codemirror_mode": {
        "name": "ipython",
        "version": 3
      },
      "file_extension": ".py",
      "mimetype": "text/x-python",
      "name": "python",
      "nbconvert_exporter": "python",
      "pygments_lexer": "ipython3",
      "version": "3.12.4"
    }
  },
  "nbformat": 4,
  "nbformat_minor": 5
}
