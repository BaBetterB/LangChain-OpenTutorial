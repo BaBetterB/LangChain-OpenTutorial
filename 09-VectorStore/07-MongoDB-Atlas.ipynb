{
  "cells": [
    {
      "cell_type": "markdown",
      "id": "635d8ebb",
      "metadata": {},
      "source": [
        "# MongoDB Atlas\n",
        "\n",
        "- Author: [Ivy Bae](https://github.com/ivybae)\n",
        "- Design:\n",
        "- Peer Review :\n",
        "- This is a part of [LangChain Open Tutorial](https://github.com/LangChain-OpenTutorial/LangChain-OpenTutorial)\n",
        "\n",
        "[![Open in Colab](https://colab.research.google.com/assets/colab-badge.svg)](https://colab.research.google.com/github/LangChain-OpenTutorial/LangChain-OpenTutorial/blob/main/09-VectorStore/07-MongoDB.ipynb) [![Open in GitHub](https://img.shields.io/badge/Open%20in%20GitHub-181717?style=flat-square&logo=github&logoColor=white)](https://github.com/LangChain-OpenTutorial/LangChain-OpenTutorial/blob/main/09-VectorStore/07-MongoDB.ipynb)\n",
        "\n",
        "## Overview\n",
        "\n",
        "This tutorial covers ...\n",
        "\n",
        "### Table of Contents\n",
        "\n",
        "- [Overview](#overview)\n",
        "- [Environement Setup](#environment-setup)\n",
        "- [Initialization](#initialization)\n",
        "- [Load Sample Data](#load-sample-data)\n",
        "- [Vector Store](#vectorstore)\n",
        "\n",
        "### References\n",
        "\n",
        "- [Get Started with Atlas](https://www.mongodb.com/docs/atlas/getting-started/)\n",
        "- [Deploy a Free Cluster](https://www.mongodb.com/docs/atlas/tutorial/deploy-free-tier-cluster/)\n",
        "- [Connection Strings](https://www.mongodb.com/docs/manual/reference/connection-string/)\n",
        "- [Integrate Atlas Vector Search with LangChain](https://www.mongodb.com/docs/atlas/atlas-vector-search/ai-integrations/langchain/)\n",
        "- [Load Data into Atlas](https://www.mongodb.com/docs/atlas/sample-data/)\n",
        "- [MongoDB Atlas](https://python.langchain.com/docs/integrations/vectorstores/mongodb_atlas/)\n",
        "\n",
        "---\n"
      ]
    },
    {
      "cell_type": "markdown",
      "id": "c6c7aba4",
      "metadata": {},
      "source": [
        "## Environment Setup\n",
        "\n",
        "Set up the environment. You may refer to [Environment Setup](https://wikidocs.net/257836) for more details.\n",
        "\n",
        "**[Note]**\n",
        "\n",
        "- `langchain-opentutorial` is a package that provides a set of easy-to-use environment setup, useful functions and utilities for tutorials.\n",
        "- You can checkout the [`langchain-opentutorial`](https://github.com/LangChain-OpenTutorial/langchain-opentutorial-pypi) for more details.\n"
      ]
    },
    {
      "cell_type": "code",
      "execution_count": 1,
      "id": "21943adb",
      "metadata": {},
      "outputs": [],
      "source": [
        "%%capture --no-stderr\n",
        "%pip install langchain-opentutorial"
      ]
    },
    {
      "cell_type": "code",
      "execution_count": 2,
      "id": "f25ec196",
      "metadata": {},
      "outputs": [
        {
          "name": "stderr",
          "output_type": "stream",
          "text": [
            "\n",
            "\u001b[1m[\u001b[0m\u001b[34;49mnotice\u001b[0m\u001b[1;39;49m]\u001b[0m\u001b[39;49m A new release of pip is available: \u001b[0m\u001b[31;49m24.1\u001b[0m\u001b[39;49m -> \u001b[0m\u001b[32;49m24.3.1\u001b[0m\n",
            "\u001b[1m[\u001b[0m\u001b[34;49mnotice\u001b[0m\u001b[1;39;49m]\u001b[0m\u001b[39;49m To update, run: \u001b[0m\u001b[32;49mpip install --upgrade pip\u001b[0m\n"
          ]
        }
      ],
      "source": [
        "# Install required packages\n",
        "from langchain_opentutorial import package\n",
        "\n",
        "package.install(\n",
        "    [\n",
        "        \"langchain_openai\",\n",
        "        \"langsmith\",\n",
        "        \"langchain_core\",\n",
        "        \"langchain_community\",\n",
        "        \"langchain-mongodb\",\n",
        "        \"pymongo\",\n",
        "        \"certifi\",\n",
        "    ],\n",
        "    verbose=False,\n",
        "    upgrade=False,\n",
        ")"
      ]
    },
    {
      "cell_type": "code",
      "execution_count": 3,
      "id": "1caacc00",
      "metadata": {},
      "outputs": [
        {
          "name": "stdout",
          "output_type": "stream",
          "text": [
            "Environment variables have been set successfully.\n"
          ]
        }
      ],
      "source": [
        "# Set environment variables\n",
        "from langchain_opentutorial import set_env\n",
        "\n",
        "set_env(\n",
        "    {\n",
        "        \"OPENAI_API_KEY\": \"\",\n",
        "        \"LANGCHAIN_API_KEY\": \"\",\n",
        "        \"MONGODB_ATLAS_CLUSTER_URI\": \"\",\n",
        "        \"LANGCHAIN_TRACING_V2\": \"true\",\n",
        "        \"LANGCHAIN_ENDPOINT\": \"https://api.smith.langchain.com\",\n",
        "        \"LANGCHAIN_PROJECT\": \"09-Ollama\",\n",
        "    }\n",
        ")"
      ]
    },
    {
      "cell_type": "markdown",
      "id": "311ebf6d",
      "metadata": {},
      "source": [
        "You can alternatively set API keys such as `OPENAI_API_KEY` in a `.env` file and load them.\n",
        "\n",
        "[Note] This is not necessary if you've already set the required API keys in previous steps.\n",
        "\n",
        "`MONGODB_ATLAS_CLUSTER_URI` is required to use **MongoDB Atlas** and is explained in the [Connect to your cluster](#connect-to-your-cluster).\n",
        "\n",
        "If you are already using **MongoDB Atlas**, you can set the cluster **connection string** to `MONGODB_ATLAS_CLUSTER_URI` in your `.env` file.\n"
      ]
    },
    {
      "cell_type": "code",
      "execution_count": 4,
      "id": "c394720f",
      "metadata": {},
      "outputs": [
        {
          "data": {
            "text/plain": [
              "True"
            ]
          },
          "execution_count": 4,
          "metadata": {},
          "output_type": "execute_result"
        }
      ],
      "source": [
        "# Load API keys from .env file\n",
        "from dotenv import load_dotenv\n",
        "\n",
        "load_dotenv(override=True)"
      ]
    },
    {
      "cell_type": "markdown",
      "id": "aa00c3f4",
      "metadata": {},
      "source": [
        "## Initialization\n",
        "\n",
        "**MongoDB Atlas** is a multi-cloud database service that provides an easy way to host and manage your data in the cloud.\n",
        "\n",
        "After you register with and log in to **Atlas**, you can create a Free cluster.\n",
        "\n",
        "**Atlas** can be started with [Atlas CLI](https://www.mongodb.com/docs/atlas/cli/current/atlas-cli-getting-started/) or **Atlas UI**.\n",
        "\n",
        "**Atlas CLI** can be difficult to use if you're not used to working with development tools, so this tutorial will walk you through how to use **Atlas UI**.\n",
        "\n",
        "### Deploy a cluster\n",
        "\n",
        "Please select the appropriate project in your **Organization**. If the project doesn't exist, you'll need to create it.\n",
        "\n",
        "If you select a project, you can create a cluster.\n",
        "\n",
        "![mongodb-atlas-project](./assets/07-mongodb-atlas-initialization-01.png)\n",
        "\n",
        "Follow the procedure below to deploy a cluster\n",
        "\n",
        "- select **Cluster**: **M0** Free cluster option\n",
        "\n",
        "> Note: You can deploy only one Free cluster per Atlas project\n",
        "\n",
        "- select **Provider**: **M0** on AWS, GCP, and Azure\n",
        "\n",
        "- select **Region**\n",
        "\n",
        "- create a database user and add your IP address settings.\n",
        "\n",
        "After you deploy a cluster, you can see the cluster you deployed as shown in the image below.\n",
        "\n",
        "![mongodb-atlas-cluster-deploy](./assets/07-mongodb-atlas-initialization-02.png)\n"
      ]
    },
    {
      "cell_type": "markdown",
      "id": "35618384",
      "metadata": {},
      "source": [
        "### Connect to your cluster\n",
        "\n",
        "Click **Get connection string** in the image above to get the cluster URI and set the value of `MONGODB_ATLAS_CLUSTER_URI` in the `.env` file.\n",
        "\n",
        "The **connection string** resembles the following example:\n",
        "\n",
        "> mongodb+srv://[databaseUser]:[databasePassword]@[clusterName].[hostName].mongodb.net/?retryWrites=true&w=majority\n",
        "\n",
        "Then go back to the [Environment Setup](#environment-setup) and run the `load_dotenv` function again.\n"
      ]
    },
    {
      "cell_type": "markdown",
      "id": "037183c7",
      "metadata": {},
      "source": [
        "### Initialize MongoDB python client\n",
        "\n",
        "To integrate with LangChain, you need to connect to the cluster using [PyMongo](https://github.com/mongodb/mongo-python-driver), the MongoDB python driver.\n"
      ]
    },
    {
      "cell_type": "code",
      "execution_count": 5,
      "id": "0980874c",
      "metadata": {},
      "outputs": [],
      "source": [
        "import os\n",
        "import certifi\n",
        "from pymongo import MongoClient\n",
        "\n",
        "MONGODB_ATLAS_CLUSTER_URI = os.getenv(\"MONGODB_ATLAS_CLUSTER_URI\")\n",
        "client = MongoClient(MONGODB_ATLAS_CLUSTER_URI, tlsCAFile=certifi.where())"
      ]
    },
    {
      "cell_type": "markdown",
      "id": "29f5df61",
      "metadata": {},
      "source": [
        "## Load Sample Data\n",
        "\n",
        "A MongoDB database stores a collections of documents.\n",
        "\n",
        "You can browse **collections** and view sample data provided by Atlas.\n",
        "\n",
        "- [available sample datasets](https://www.mongodb.com/docs/atlas/sample-data/#std-label-available-sample-datasets)\n",
        "\n",
        "![mongodb-atlas-collection](./assets/07-mongodb-atlas-database-01.png)\n",
        "\n",
        "In this tutorial, we will use the **movies** collection in the **sample_mflix** dataset.\n"
      ]
    },
    {
      "cell_type": "code",
      "execution_count": 6,
      "id": "5777d224",
      "metadata": {},
      "outputs": [],
      "source": [
        "collection = client[\"sample_mflix\"][\"movies\"]"
      ]
    },
    {
      "cell_type": "markdown",
      "id": "2f087b18",
      "metadata": {},
      "source": [
        "## VectorStore\n",
        "\n",
        "Create a vector store using `MongoDBAtlasVectorSearch`.\n",
        "\n",
        "- `collection`: documents to store in the vector database\n",
        "\n",
        "- `embedding`: use OpenAI `text-embedding-3-large` model\n",
        "\n",
        "- `index_name`: index to use when querying the vector store.\n"
      ]
    },
    {
      "cell_type": "code",
      "execution_count": null,
      "id": "463ff42b",
      "metadata": {},
      "outputs": [],
      "source": [
        "from langchain_openai import OpenAIEmbeddings\n",
        "from langchain_mongodb import MongoDBAtlasVectorSearch\n",
        "\n",
        "embeddings = OpenAIEmbeddings(model=\"text-embedding-3-large\")\n",
        "\n",
        "ATLAS_VECTOR_SEARCH_INDEX_NAME = \"langchain-opentutorial-index\"\n",
        "\n",
        "vector_store = MongoDBAtlasVectorSearch(\n",
        "    collection=collection,\n",
        "    embedding=embeddings,\n",
        "    index_name=ATLAS_VECTOR_SEARCH_INDEX_NAME,\n",
        "    relevance_score_fn=\"cosine\",\n",
        ")\n",
        "vector_store.create_vector_search_index(dimensions=3072)"
      ]
    },
    {
      "cell_type": "code",
      "execution_count": 17,
      "id": "61eaa863",
      "metadata": {},
      "outputs": [],
      "source": [
        "# TODO Vector Search Index"
      ]
    }
  ],
  "metadata": {
    "kernelspec": {
      "display_name": "venv",
      "language": "python",
      "name": ".venv"
    },
    "language_info": {
      "codemirror_mode": {
        "name": "ipython",
        "version": 3
      },
      "file_extension": ".py",
      "mimetype": "text/x-python",
      "name": "python",
      "nbconvert_exporter": "python",
      "pygments_lexer": "ipython3",
      "version": "3.12.4"
    }
  },
  "nbformat": 4,
  "nbformat_minor": 5
}
