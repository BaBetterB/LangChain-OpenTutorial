{
 "cells": [
  {
   "cell_type": "markdown",
   "id": "5e3856e6",
   "metadata": {},
   "source": [
    "# LangGraph Streaming Outputs\n",
    "\n",
    "- Author: [hong-seongmin](https://github.com/hong-seongmin)\n",
    "- Design: \n",
    "- Peer Review: \n",
    "- This is a part of [LangChain OpenTutorial](https://github.com/LangChain-OpenTutorial/LangChain-OpenTutorial)\n",
    "\n",
    "[![Open in Colab](https://colab.research.google.com/assets/colab-badge.svg)](https://colab.research.google.com/github/LangChain-OpenTutorial/LangChain-OpenTutorial/blob/main/10-Retriever/06-MultiQueryRetriever.ipynb) [![Open in GitHub](https://img.shields.io/badge/Open%20in%20GitHub-181717?style=flat-square&logo=github&logoColor=white)](https://github.com/LangChain-OpenTutorial/LangChain-OpenTutorial/blob/main/10-Retriever/06-MultiQueryRetriever.ipynb)\n",
    "\n",
    "\n",
    "## Overview\n",
    "\n",
    "`LangGraph Streaming Outputs` explores the step-by-step streaming capabilities within LangGraph. \n",
    "\n",
    "This approach allows developers to observe and interact with each graph processing stage in real-time, offering insights into the internal workings and progress of graph computations.\n",
    "\n",
    "- **Step-by-Step Streaming**  \n",
    "  The streaming functionality breaks down the graph execution into individual steps, providing detailed outputs at each stage. This makes it easier to debug and understand how data flows through the graph, as well as how decisions are made along the way.\n",
    "\n",
    "- **Real-Time Feedback**  \n",
    "  By leveraging streaming outputs, users receive immediate feedback from the system. This real-time interaction can greatly enhance the debugging process and the ability to fine-tune graph configurations on the fly.\n",
    "\n",
    "- **Enhanced Transparency and Control**  \n",
    "  Streaming outputs offer greater transparency into the execution of LangGraph pipelines. Users can monitor each transformation or computation, enabling more precise control over the process and facilitating a deeper comprehension of complex graph-based workflows.\n",
    "\n",
    "### Table of Contents\n",
    "\n",
    "- [Overview](#overview)\n",
    "- [Environment Setup](#environment-setup)\n",
    "- [Step-by-step Streaming Output with LangGraph](#Step-by-step-Streaming-Output-with-LangGraph)\n",
    "- [The stream Method of StateGraph](#The-stream-Method-of-StateGraph)\n",
    "- [Advanced Streaming Options](#advanced-streaming-options)\n",
    "\n",
    "### References\n",
    "\n",
    "- [LangChain Documentation: LangGraph](https://langchain-ai.github.io/langgraph/tutorials/introduction/)\n",
    "- [LangChain Documentation: Streaming](https://python.langchain.com/docs/concepts/streaming/)\n",
    "- [LangChain-ai Github: LangGraph Streaming](https://langchain-ai.github.io/langgraph/concepts/streaming/)\n",
    "\n",
    "---"
   ]
  },
  {
   "cell_type": "markdown",
   "id": "d94c995e",
   "metadata": {},
   "source": [
    "## Environment Setup\n",
    "\n",
    "Set up the environment. You may refer to [Environment Setup](https://wikidocs.net/257836) for more details.\n",
    "\n",
    "**[Note]**\n",
    "- `langchain-opentutorial` is a package that provides a set of easy-to-use environment setup, useful functions and utilities for tutorials. \n",
    "- You can checkout the [`langchain-opentutorial`](https://github.com/LangChain-OpenTutorial/langchain-opentutorial-pypi) for more details."
   ]
  },
  {
   "cell_type": "code",
   "execution_count": null,
   "id": "3c8898f5",
   "metadata": {},
   "outputs": [],
   "source": [
    "%%capture --no-stderr\n",
    "%pip install langchain-opentutorial"
   ]
  },
  {
   "cell_type": "code",
   "execution_count": 23,
   "id": "fd66580f",
   "metadata": {},
   "outputs": [],
   "source": [
    "# Install required packages\n",
    "from langchain_opentutorial import package\n",
    "\n",
    "package.install(\n",
    "    [\n",
    "        \"langchain\",\n",
    "        \"langchain_core\",\n",
    "        \"langchain_openai\",\n",
    "        \"langgraph\",\n",
    "        \"GoogleNews\"\n",
    "    ],\n",
    "    verbose=False,\n",
    "    upgrade=False,\n",
    ")"
   ]
  },
  {
   "cell_type": "code",
   "execution_count": 3,
   "id": "015518d9",
   "metadata": {},
   "outputs": [
    {
     "name": "stdout",
     "output_type": "stream",
     "text": [
      "Environment variables have been set successfully.\n"
     ]
    }
   ],
   "source": [
    "# Set environment variables\n",
    "from langchain_opentutorial import set_env\n",
    "\n",
    "set_env(\n",
    "    {\n",
    "        \"LANGCHAIN_TRACING_V2\": \"true\",\n",
    "        \"LANGCHAIN_ENDPOINT\": \"https://api.smith.langchain.com\",\n",
    "        \"LANGCHAIN_PROJECT\": \"10-LangGraph-Streaming-Outputs\",\n",
    "    }\n",
    ")"
   ]
  },
  {
   "cell_type": "markdown",
   "id": "3863fcd1",
   "metadata": {},
   "source": [
    "Alternatively, environment variables can also be set using a `.env` file.\n",
    "\n",
    "**[Note]**\n",
    "\n",
    "- This is not necessary if you've already set the environment variables in the previous step."
   ]
  },
  {
   "cell_type": "code",
   "execution_count": 4,
   "id": "77848329",
   "metadata": {},
   "outputs": [
    {
     "data": {
      "text/plain": [
       "True"
      ]
     },
     "execution_count": 4,
     "metadata": {},
     "output_type": "execute_result"
    }
   ],
   "source": [
    "# Configuration file to manage API keys as environment variables\n",
    "from dotenv import load_dotenv\n",
    "\n",
    "# Load API key information\n",
    "load_dotenv()"
   ]
  },
  {
   "cell_type": "markdown",
   "id": "eec680f5",
   "metadata": {},
   "source": [
    "## Step-by-step Streaming Output with LangGraph\n",
    "\n",
    "This time, we'll take a closer look at the `stream()` output function in LangGraph.\n",
    "\n",
    "LangGraph's streaming output function provides the ability to stream each step of the graph.\n",
    "\n"
   ]
  },
  {
   "cell_type": "markdown",
   "id": "1b2184f4",
   "metadata": {},
   "source": [
    "Note: The LangGraph example below is identical to the example from the previous section."
   ]
  },
  {
   "cell_type": "code",
   "execution_count": 24,
   "id": "51549b1d",
   "metadata": {},
   "outputs": [
    {
     "data": {
      "image/png": "[encoded data removed]",
      "text/plain": [
       "<IPython.core.display.Image object>"
      ]
     },
     "metadata": {},
     "output_type": "display_data"
    }
   ],
   "source": [
    "from typing import Annotated, List, Dict\n",
    "from typing_extensions import TypedDict\n",
    "\n",
    "from langchain_core.tools import tool\n",
    "from langchain_openai import ChatOpenAI\n",
    "from langgraph.checkpoint.memory import MemorySaver\n",
    "from langgraph.graph import StateGraph, START, END\n",
    "from langgraph.graph.message import add_messages\n",
    "from langgraph.prebuilt import ToolNode, tools_condition\n",
    "from GoogleNews import GoogleNews  # Using GoogleNews library for news search\n",
    "\n",
    "# Import for Mermaid visualization\n",
    "from IPython.display import Image, display\n",
    "from langchain_core.runnables.graph import MermaidDrawMethod\n",
    "\n",
    "########## 1. State Definition ##########\n",
    "# Define state\n",
    "class State(TypedDict):\n",
    "    # Add comment for the list of messages\n",
    "    messages: Annotated[list, add_messages]\n",
    "    dummy_data: Annotated[str, \"dummy\"]\n",
    "\n",
    "########## 2. Tool Definition and Binding ##########\n",
    "# Tool initialization\n",
    "# Create a tool to search news by keyword using GoogleNews\n",
    "news_tool = GoogleNews()\n",
    "\n",
    "@tool\n",
    "def search_keyword(query: str) -> List[Dict[str, str]]:\n",
    "    \"\"\"Look up news by keyword\"\"\"\n",
    "    news_tool = GoogleNews()\n",
    "    news_tool.search(query)\n",
    "    results = news_tool.results(sort=True)\n",
    "    # Limit to top 5 results\n",
    "    limited_results = results[:5] if results else []\n",
    "    # Extract title and link from each result\n",
    "    return [{\"title\": item[\"title\"], \"link\": item[\"link\"]} for item in limited_results]\n",
    "\n",
    "tools = [search_keyword]\n",
    "\n",
    "# Initialize the LLM\n",
    "llm = ChatOpenAI(model=\"gpt-4o-mini\")\n",
    "\n",
    "# Combine tools with LLM\n",
    "llm_with_tools = llm.bind_tools(tools)\n",
    "\n",
    "########## 3. Add Nodes ##########\n",
    "# Define a chatbot function\n",
    "def chatbot(state: State):\n",
    "    # Invoke and return messages\n",
    "    return {\n",
    "        \"messages\": [llm_with_tools.invoke(state[\"messages\"])],\n",
    "        \"dummy_data\": \"[chatbot] called, dummy data\",  # Add dummy data for testing\n",
    "    }\n",
    "\n",
    "# Create a state graph\n",
    "graph_builder = StateGraph(State)\n",
    "\n",
    "# Add chatbot node\n",
    "graph_builder.add_node(\"chatbot\", chatbot)\n",
    "\n",
    "# Create and add a tool node\n",
    "tool_node = ToolNode(tools=tools)\n",
    "graph_builder.add_node(\"tools\", tool_node)\n",
    "\n",
    "# Conditional edges\n",
    "graph_builder.add_conditional_edges(\n",
    "    \"chatbot\",\n",
    "    tools_condition,\n",
    ")\n",
    "\n",
    "########## 4. Add Edges ##########\n",
    "\n",
    "# tools > chatbot\n",
    "graph_builder.add_edge(\"tools\", \"chatbot\")\n",
    "\n",
    "# START > chatbot\n",
    "graph_builder.add_edge(START, \"chatbot\")\n",
    "\n",
    "# chatbot > END\n",
    "graph_builder.add_edge(\"chatbot\", END)\n",
    "\n",
    "########## 5. Compile the Graph ##########\n",
    "\n",
    "# Compile the graph builder\n",
    "graph = graph_builder.compile()\n",
    "\n",
    "########## 6. Visualize the Graph with Mermaid ##########\n",
    "# Visualize the graph using Mermaid\n",
    "display(\n",
    "    Image(\n",
    "        graph.get_graph().draw_mermaid_png(\n",
    "            draw_method=MermaidDrawMethod.API,\n",
    "        )\n",
    "    )\n",
    ")\n"
   ]
  },
  {
   "cell_type": "markdown",
   "id": "bea7dc51",
   "metadata": {},
   "source": [
    "## The `stream` Method of StateGraph\n",
    "\n",
    "The `stream` method provides the ability to stream graph steps for a single input.\n",
    "\n",
    "**Parameters**\n",
    "- `input` (Union[dict[str, Any], Any]): Input to the graph\n",
    "- `config` (Optional[RunnableConfig]): Execution configuration\n",
    "- `stream_mode` (Optional[Union[StreamMode, list[StreamMode]]]): Output streaming mode\n",
    "- `output_keys` (Optional[Union[str, Sequence[str]]]): Keys to stream\n",
    "- `interrupt_before` (Optional[Union[All, Sequence[str]]]): Nodes to interrupt before execution\n",
    "- `interrupt_after` (Optional[Union[All, Sequence[str]]]): Nodes to interrupt after execution\n",
    "- `debug` (Optional[bool]): Whether to output debug information\n",
    "- `subgraphs` (bool): Whether to stream subgraphs\n",
    "\n",
    "**Returns**\n",
    "- Iterator[Union[dict[str, Any], Any]]: Outputs from each step of the graph. The output format depends on `stream_mode`.\n",
    "\n",
    "**Key Features**\n",
    "1. Processes graph execution in a streaming manner according to the given configuration\n",
    "2. Supports various streaming modes (`values`, `updates`, `debug`)\n",
    "3. Manages callbacks and error handling\n",
    "4. Handles recursion limits and interruption conditions\n",
    "\n",
    "**Streaming Modes**\n",
    "- `values`: Outputs the current state values at each step\n",
    "- `updates`: Outputs only state updates at each step\n",
    "- `debug`: Outputs debug events at each step"
   ]
  },
  {
   "cell_type": "code",
   "execution_count": 14,
   "id": "3ae917b7",
   "metadata": {},
   "outputs": [],
   "source": [
    "from langchain_core.runnables import RunnableConfig\n",
    "\n",
    "# Question\n",
    "question = \"Please provide the latest news about the 2024 Nobel Prize in Literature.\"\n",
    "\n",
    "# Define the initial input state\n",
    "input = State(dummy_data=\"Test string\", messages=[(\"user\", question)])\n",
    "\n",
    "# Configure config\n",
    "config = RunnableConfig(\n",
    "    recursion_limit=10,  # Visit up to 10 nodes; beyond that, RecursionError will occur\n",
    "    configurable={\"thread_id\": \"1\"},  # Set the thread ID\n",
    "    tags=[\"my-tag\"],  # Tag\n",
    ")"
   ]
  },
  {
   "cell_type": "markdown",
   "id": "e931823b",
   "metadata": {},
   "source": [
    "We set up the `config` and proceed with streaming output."
   ]
  },
  {
   "cell_type": "code",
   "execution_count": 15,
   "id": "ab5c0bad",
   "metadata": {},
   "outputs": [
    {
     "name": "stderr",
     "output_type": "stream",
     "text": [
      "c:\\Users\\user\\AppData\\Local\\Programs\\Python\\Python310\\lib\\site-packages\\langsmith\\client.py:234: LangSmithMissingAPIKeyWarning: API key must be provided when using hosted LangSmith API\n",
      "  warnings.warn(\n",
      "Failed to multipart ingest runs: langsmith.utils.LangSmithAuthError: Authentication failed for https://api.smith.langchain.com/runs/multipart. HTTPError('401 Client Error: Unauthorized for url: https://api.smith.langchain.com/runs/multipart', '{\"detail\":\"Invalid token\"}')trace=305135ef-9ab8-4daa-bd7d-e0a339cd3496,id=305135ef-9ab8-4daa-bd7d-e0a339cd3496; trace=305135ef-9ab8-4daa-bd7d-e0a339cd3496,id=e398bc25-2a19-4db4-8e78-f13264eb1a69; trace=305135ef-9ab8-4daa-bd7d-e0a339cd3496,id=40295abe-d8b3-4807-b415-70bd4cc8d387; trace=305135ef-9ab8-4daa-bd7d-e0a339cd3496,id=6a45be64-2700-4dfa-b8cc-dd56e6fd2136\n"
     ]
    },
    {
     "name": "stdout",
     "output_type": "stream",
     "text": [
      "\n",
      "[ chatbot ]\n",
      "\n",
      "==================================\u001b[1m Ai Message \u001b[0m==================================\n",
      "Tool Calls:\n",
      "  search_keyword (call_mFl7SXjouBoSpWTjGXu3oeV7)\n",
      " Call ID: call_mFl7SXjouBoSpWTjGXu3oeV7\n",
      "  Args:\n",
      "    query: 2024 Nobel Prize in Literature\n"
     ]
    },
    {
     "name": "stderr",
     "output_type": "stream",
     "text": [
      "Failed to multipart ingest runs: langsmith.utils.LangSmithAuthError: Authentication failed for https://api.smith.langchain.com/runs/multipart. HTTPError('401 Client Error: Unauthorized for url: https://api.smith.langchain.com/runs/multipart', '{\"detail\":\"Invalid token\"}')trace=305135ef-9ab8-4daa-bd7d-e0a339cd3496,id=c19ebb7d-a730-4c2d-b534-7a946b2c825a; trace=305135ef-9ab8-4daa-bd7d-e0a339cd3496,id=890b9694-c7f0-4bdc-b8ac-a5a936938793; trace=305135ef-9ab8-4daa-bd7d-e0a339cd3496,id=350b1b1a-d942-4634-8d2e-7703d5c49759; trace=305135ef-9ab8-4daa-bd7d-e0a339cd3496,id=b5de8bc9-850c-490c-b5ba-d278b2404d1b; trace=305135ef-9ab8-4daa-bd7d-e0a339cd3496,id=40295abe-d8b3-4807-b415-70bd4cc8d387; trace=305135ef-9ab8-4daa-bd7d-e0a339cd3496,id=6a45be64-2700-4dfa-b8cc-dd56e6fd2136\n"
     ]
    },
    {
     "name": "stdout",
     "output_type": "stream",
     "text": [
      "\n",
      "[ tools ]\n",
      "\n",
      "=================================\u001b[1m Tool Message \u001b[0m=================================\n",
      "Name: search_keyword\n",
      "\n",
      "[{\"title\": \"2024 Nobel Prize for Literature #KoreaNetPerson of the Year #Vegetarian #TheBoy Is ComingNovelist H..\", \"link\": \"https://www.mk.co.kr/en/culture/11206720&ved=2ahUKEwjr5IjexYSLAxVfb_UHHdtjBSEQxfQBegQIBBAC&usg=AOvVaw2YcpKpAqWDfhBp0UhQ-cbb\"}, {\"title\": \"2024 Nobel Prize LIVE: Science and Literature laureates honored by Sweden’s King Carl XVI Gustaf\", \"link\": \"https://www.mississippivalleypublishing.com/2024-nobel-prize-live-science-and-literature-laureates-honored-by-sweden-s-king-carl-xvi/video_930e66bd-219d-5dae-97ec-3fcb5ce1601b.html&ved=2ahUKEwjr5IjexYSLAxVfb_UHHdtjBSEQxfQBegQIBRAC&usg=AOvVaw2H5vtHkFgzXgiYqHDYFHxp\"}, {\"title\": \"Nobel Week 2024 at U of T\", \"link\": \"https://www.utoronto.ca/utogether/nobel-week-u-of-t-2024&ved=2ahUKEwjr5IjexYSLAxVfb_UHHdtjBSEQxfQBegQIBxAC&usg=AOvVaw16CODBClDxWARGsFKMSsT9\"}, {\"title\": \"[Nobel Week 2024] Han Kang writes history at Nobel Prize award ceremony\", \"link\": \"https://www.youtube.com/watch%3Fv%3DJXFXIYtGYsk&ved=2ahUKEwjr5IjexYSLAxVfb_UHHdtjBSEQxfQBegQIARAC&usg=AOvVaw1-Q8mA0-Q85iL7DqMC4WXO\"}, {\"title\": \"Han Kang Wins Nobel Prize in Literature at Ceremony in Sweden\", \"link\": \"http://www.koreapost.com/news/articleView.html%3Fidxno%3D43692&ved=2ahUKEwjr5IjexYSLAxVfb_UHHdtjBSEQxfQBegQIAhAC&usg=AOvVaw0Aiac5N6YLCK-90_dSvr7z\"}]\n"
     ]
    },
    {
     "name": "stderr",
     "output_type": "stream",
     "text": [
      "WARNING:langsmith.client:Failed to multipart ingest runs: langsmith.utils.LangSmithAuthError: Authentication failed for https://api.smith.langchain.com/runs/multipart. HTTPError('401 Client Error: Unauthorized for url: https://api.smith.langchain.com/runs/multipart', '{\"detail\":\"Invalid token\"}')trace=305135ef-9ab8-4daa-bd7d-e0a339cd3496,id=3fa28eaf-9aaf-44fa-aa4d-a6502697f0e3; trace=305135ef-9ab8-4daa-bd7d-e0a339cd3496,id=c179e5c4-326d-4ce5-87e9-6f965d88cf98; trace=305135ef-9ab8-4daa-bd7d-e0a339cd3496,id=adae427d-7b6e-4688-975a-a590bf59b0f7; trace=305135ef-9ab8-4daa-bd7d-e0a339cd3496,id=b5de8bc9-850c-490c-b5ba-d278b2404d1b; trace=305135ef-9ab8-4daa-bd7d-e0a339cd3496,id=350b1b1a-d942-4634-8d2e-7703d5c49759\n"
     ]
    },
    {
     "name": "stdout",
     "output_type": "stream",
     "text": [
      "\n",
      "[ chatbot ]\n",
      "\n",
      "==================================\u001b[1m Ai Message \u001b[0m==================================\n",
      "\n",
      "Here are the latest news articles about the 2024 Nobel Prize in Literature:\n",
      "\n",
      "1. **Han Kang Wins Nobel Prize in Literature at Ceremony in Sweden**  \n",
      "   Read more: [Korea Post](http://www.koreapost.com/news/articleView.html%3Fidxno%3D43692)\n",
      "\n",
      "2. **Nobel Week 2024 at U of T**  \n",
      "   Read more: [University of Toronto](https://www.utoronto.ca/utogether/nobel-week-u-of-t-2024)\n",
      "\n",
      "3. **2024 Nobel Prize LIVE: Science and Literature laureates honored by Sweden’s King Carl XVI Gustaf**  \n",
      "   Read more: [Mississippi Valley Publishing](https://www.mississippivalleypublishing.com/2024-nobel-prize-live-science-and-literature-laureates-honored-by-sweden-s-king-carl-xvi/video_930e66bd-219d-5dae-97ec-3fcb5ce1601b.html)\n",
      "\n",
      "4. **[Nobel Week 2024] Han Kang writes history at Nobel Prize award ceremony**  \n",
      "   Watch here: [YouTube](https://www.youtube.com/watch%3Fv%3DJXFXIYtGYsk)\n",
      "\n",
      "5. **2024 Nobel Prize for Literature #KoreaNetPerson of the Year #Vegetarian #TheBoy Is ComingNovelist H..**  \n",
      "   Read more: [MK News](https://www.mk.co.kr/en/culture/11206720)\n",
      "\n",
      "Feel free to check these links for more detailed information!\n"
     ]
    },
    {
     "name": "stderr",
     "output_type": "stream",
     "text": [
      "WARNING:langsmith.client:Failed to multipart ingest runs: langsmith.utils.LangSmithAuthError: Authentication failed for https://api.smith.langchain.com/runs/multipart. HTTPError('401 Client Error: Unauthorized for url: https://api.smith.langchain.com/runs/multipart', '{\"detail\":\"Invalid token\"}')trace=305135ef-9ab8-4daa-bd7d-e0a339cd3496,id=1664b1a9-7c4e-402b-b4cb-484ed76816f7; trace=305135ef-9ab8-4daa-bd7d-e0a339cd3496,id=61f71a13-5188-42a2-aa50-e6731397b7bc; trace=305135ef-9ab8-4daa-bd7d-e0a339cd3496,id=c179e5c4-326d-4ce5-87e9-6f965d88cf98; trace=305135ef-9ab8-4daa-bd7d-e0a339cd3496,id=adae427d-7b6e-4688-975a-a590bf59b0f7; trace=305135ef-9ab8-4daa-bd7d-e0a339cd3496,id=305135ef-9ab8-4daa-bd7d-e0a339cd3496\n",
      "WARNING:langsmith.client:Failed to multipart ingest runs: langsmith.utils.LangSmithAuthError: Authentication failed for https://api.smith.langchain.com/runs/multipart. HTTPError('401 Client Error: Unauthorized for url: https://api.smith.langchain.com/runs/multipart', '{\"detail\":\"Invalid token\"}')trace=544b6f23-1b2a-4814-8607-67d52dfc42fb,id=544b6f23-1b2a-4814-8607-67d52dfc42fb; trace=544b6f23-1b2a-4814-8607-67d52dfc42fb,id=35e6477e-342e-480e-9eb9-aa65a3dca571; trace=544b6f23-1b2a-4814-8607-67d52dfc42fb,id=1420866c-90c6-4b78-93fb-d97de7b800e0; trace=544b6f23-1b2a-4814-8607-67d52dfc42fb,id=6f461cbd-beb8-4821-b4b2-1237c993fed1\n",
      "WARNING:langsmith.client:Failed to multipart ingest runs: langsmith.utils.LangSmithAuthError: Authentication failed for https://api.smith.langchain.com/runs/multipart. HTTPError('401 Client Error: Unauthorized for url: https://api.smith.langchain.com/runs/multipart', '{\"detail\":\"Invalid token\"}')trace=544b6f23-1b2a-4814-8607-67d52dfc42fb,id=82a865cc-1f19-46e1-b4ff-181cf8802043; trace=544b6f23-1b2a-4814-8607-67d52dfc42fb,id=d6a8d26e-280a-4c8b-a856-0c7f92155fb5; trace=544b6f23-1b2a-4814-8607-67d52dfc42fb,id=33e59941-0276-4572-bde0-54026a89f4ea; trace=544b6f23-1b2a-4814-8607-67d52dfc42fb,id=2fa83f37-260a-47f1-841b-8a9289178643; trace=544b6f23-1b2a-4814-8607-67d52dfc42fb,id=1420866c-90c6-4b78-93fb-d97de7b800e0; trace=544b6f23-1b2a-4814-8607-67d52dfc42fb,id=6f461cbd-beb8-4821-b4b2-1237c993fed1\n",
      "WARNING:langsmith.client:Failed to multipart ingest runs: langsmith.utils.LangSmithAuthError: Authentication failed for https://api.smith.langchain.com/runs/multipart. HTTPError('401 Client Error: Unauthorized for url: https://api.smith.langchain.com/runs/multipart', '{\"detail\":\"Invalid token\"}')trace=544b6f23-1b2a-4814-8607-67d52dfc42fb,id=cd66771f-c05e-4b24-8b1e-5fcd5dbf4913; trace=544b6f23-1b2a-4814-8607-67d52dfc42fb,id=de683961-e001-4aaf-bbdc-2c88b52c2659; trace=544b6f23-1b2a-4814-8607-67d52dfc42fb,id=b822d2e0-0729-42e2-a176-36ee519a8e23; trace=544b6f23-1b2a-4814-8607-67d52dfc42fb,id=2fa83f37-260a-47f1-841b-8a9289178643; trace=544b6f23-1b2a-4814-8607-67d52dfc42fb,id=33e59941-0276-4572-bde0-54026a89f4ea\n",
      "WARNING:langsmith.client:Failed to multipart ingest runs: langsmith.utils.LangSmithAuthError: Authentication failed for https://api.smith.langchain.com/runs/multipart. HTTPError('401 Client Error: Unauthorized for url: https://api.smith.langchain.com/runs/multipart', '{\"detail\":\"Invalid token\"}')trace=544b6f23-1b2a-4814-8607-67d52dfc42fb,id=a085d6d2-39b9-43b2-980d-c7848b336722; trace=544b6f23-1b2a-4814-8607-67d52dfc42fb,id=36e470a5-08da-4088-9243-4202eab8ff0e; trace=544b6f23-1b2a-4814-8607-67d52dfc42fb,id=de683961-e001-4aaf-bbdc-2c88b52c2659; trace=544b6f23-1b2a-4814-8607-67d52dfc42fb,id=b822d2e0-0729-42e2-a176-36ee519a8e23; trace=544b6f23-1b2a-4814-8607-67d52dfc42fb,id=544b6f23-1b2a-4814-8607-67d52dfc42fb\n",
      "WARNING:langsmith.client:Failed to multipart ingest runs: langsmith.utils.LangSmithAuthError: Authentication failed for https://api.smith.langchain.com/runs/multipart. HTTPError('401 Client Error: Unauthorized for url: https://api.smith.langchain.com/runs/multipart', '{\"detail\":\"Invalid token\"}')trace=9feea16c-22ab-4414-bd27-559ba6285b95,id=9feea16c-22ab-4414-bd27-559ba6285b95; trace=9feea16c-22ab-4414-bd27-559ba6285b95,id=28a041c9-66a1-467f-81d6-773d2ee33e69; trace=9feea16c-22ab-4414-bd27-559ba6285b95,id=f81520b5-ffa8-4c62-9cbe-a5a8d0088c61; trace=9feea16c-22ab-4414-bd27-559ba6285b95,id=08bed003-4278-4136-81ae-a78d7dc57391\n",
      "WARNING:langsmith.client:Failed to multipart ingest runs: langsmith.utils.LangSmithAuthError: Authentication failed for https://api.smith.langchain.com/runs/multipart. HTTPError('401 Client Error: Unauthorized for url: https://api.smith.langchain.com/runs/multipart', '{\"detail\":\"Invalid token\"}')trace=9feea16c-22ab-4414-bd27-559ba6285b95,id=57b9352e-2790-4620-a532-6da017c1cd2c; trace=9feea16c-22ab-4414-bd27-559ba6285b95,id=be3c3011-970b-4e96-94dd-62d2cfbf0bf3; trace=9feea16c-22ab-4414-bd27-559ba6285b95,id=1c4c7b76-1ddf-4333-a6fa-7cae022baca7; trace=9feea16c-22ab-4414-bd27-559ba6285b95,id=e45154f5-21b4-4162-91a3-6773c20cca9d; trace=9feea16c-22ab-4414-bd27-559ba6285b95,id=f81520b5-ffa8-4c62-9cbe-a5a8d0088c61; trace=9feea16c-22ab-4414-bd27-559ba6285b95,id=08bed003-4278-4136-81ae-a78d7dc57391\n",
      "WARNING:langsmith.client:Failed to multipart ingest runs: langsmith.utils.LangSmithAuthError: Authentication failed for https://api.smith.langchain.com/runs/multipart. HTTPError('401 Client Error: Unauthorized for url: https://api.smith.langchain.com/runs/multipart', '{\"detail\":\"Invalid token\"}')trace=9feea16c-22ab-4414-bd27-559ba6285b95,id=505c6d03-610a-43f3-b14b-eb28d4fc5be1; trace=9feea16c-22ab-4414-bd27-559ba6285b95,id=ec3fcc3d-d7a6-41b6-850d-6ff82b02a336; trace=9feea16c-22ab-4414-bd27-559ba6285b95,id=45084d95-7f61-40da-bf7e-ef30ab553432; trace=9feea16c-22ab-4414-bd27-559ba6285b95,id=e45154f5-21b4-4162-91a3-6773c20cca9d; trace=9feea16c-22ab-4414-bd27-559ba6285b95,id=1c4c7b76-1ddf-4333-a6fa-7cae022baca7\n",
      "WARNING:langsmith.client:Failed to multipart ingest runs: langsmith.utils.LangSmithAuthError: Authentication failed for https://api.smith.langchain.com/runs/multipart. HTTPError('401 Client Error: Unauthorized for url: https://api.smith.langchain.com/runs/multipart', '{\"detail\":\"Invalid token\"}')trace=9feea16c-22ab-4414-bd27-559ba6285b95,id=bb120a34-46d6-4021-9393-958000fb15d0; trace=9feea16c-22ab-4414-bd27-559ba6285b95,id=a73b1368-25c4-4b3b-bd49-593c590eebb6; trace=28b9d175-be6f-4b7e-a7da-6949dfe0a57b,id=28b9d175-be6f-4b7e-a7da-6949dfe0a57b; trace=28b9d175-be6f-4b7e-a7da-6949dfe0a57b,id=352cf632-c559-4715-b833-a634dba35076; trace=28b9d175-be6f-4b7e-a7da-6949dfe0a57b,id=8f0848a6-31e3-41d2-9794-190d54f24159; trace=28b9d175-be6f-4b7e-a7da-6949dfe0a57b,id=283e44c0-56e1-487e-bede-a562b5189fa5; trace=9feea16c-22ab-4414-bd27-559ba6285b95,id=ec3fcc3d-d7a6-41b6-850d-6ff82b02a336; trace=9feea16c-22ab-4414-bd27-559ba6285b95,id=45084d95-7f61-40da-bf7e-ef30ab553432; trace=9feea16c-22ab-4414-bd27-559ba6285b95,id=9feea16c-22ab-4414-bd27-559ba6285b95\n",
      "WARNING:langsmith.client:Failed to multipart ingest runs: langsmith.utils.LangSmithAuthError: Authentication failed for https://api.smith.langchain.com/runs/multipart. HTTPError('401 Client Error: Unauthorized for url: https://api.smith.langchain.com/runs/multipart', '{\"detail\":\"Invalid token\"}')trace=28b9d175-be6f-4b7e-a7da-6949dfe0a57b,id=af14ba67-426d-46a3-957b-22b36051d52b; trace=28b9d175-be6f-4b7e-a7da-6949dfe0a57b,id=164ce28b-7a26-4755-8421-0eeb70d75295; trace=28b9d175-be6f-4b7e-a7da-6949dfe0a57b,id=ed64fd64-c0df-464c-bc79-2890d61c9c09; trace=28b9d175-be6f-4b7e-a7da-6949dfe0a57b,id=c410eed1-76f2-4261-ba06-97c5a317d838; trace=28b9d175-be6f-4b7e-a7da-6949dfe0a57b,id=8f0848a6-31e3-41d2-9794-190d54f24159; trace=28b9d175-be6f-4b7e-a7da-6949dfe0a57b,id=283e44c0-56e1-487e-bede-a562b5189fa5\n",
      "WARNING:langsmith.client:Failed to multipart ingest runs: langsmith.utils.LangSmithAuthError: Authentication failed for https://api.smith.langchain.com/runs/multipart. HTTPError('401 Client Error: Unauthorized for url: https://api.smith.langchain.com/runs/multipart', '{\"detail\":\"Invalid token\"}')trace=28b9d175-be6f-4b7e-a7da-6949dfe0a57b,id=ff73286e-703f-4b9d-aaf4-7259b371d9c8; trace=28b9d175-be6f-4b7e-a7da-6949dfe0a57b,id=8268adb3-d8f1-4c54-bf4f-d2368c93f9a1; trace=28b9d175-be6f-4b7e-a7da-6949dfe0a57b,id=01624db7-1d92-43b4-a13a-2ecac04beff9; trace=28b9d175-be6f-4b7e-a7da-6949dfe0a57b,id=c410eed1-76f2-4261-ba06-97c5a317d838; trace=28b9d175-be6f-4b7e-a7da-6949dfe0a57b,id=ed64fd64-c0df-464c-bc79-2890d61c9c09\n",
      "WARNING:langsmith.client:Failed to multipart ingest runs: langsmith.utils.LangSmithAuthError: Authentication failed for https://api.smith.langchain.com/runs/multipart. HTTPError('401 Client Error: Unauthorized for url: https://api.smith.langchain.com/runs/multipart', '{\"detail\":\"Invalid token\"}')trace=28b9d175-be6f-4b7e-a7da-6949dfe0a57b,id=5239dba8-e146-4cb8-b778-49a5d05686c7; trace=28b9d175-be6f-4b7e-a7da-6949dfe0a57b,id=98e53de8-dfcb-4dba-a0fe-4b9dc06af4bd; trace=fcf553fd-9b32-43f4-a39d-f4d2f0a74753,id=fcf553fd-9b32-43f4-a39d-f4d2f0a74753; trace=fcf553fd-9b32-43f4-a39d-f4d2f0a74753,id=4af02975-c5a4-4c29-a011-8c4d29b20133; trace=fcf553fd-9b32-43f4-a39d-f4d2f0a74753,id=672945cf-a307-4556-a5d6-f912572a7ec4; trace=fcf553fd-9b32-43f4-a39d-f4d2f0a74753,id=abf7b8bf-dbac-4e89-818d-6e9235638277; trace=28b9d175-be6f-4b7e-a7da-6949dfe0a57b,id=8268adb3-d8f1-4c54-bf4f-d2368c93f9a1; trace=28b9d175-be6f-4b7e-a7da-6949dfe0a57b,id=01624db7-1d92-43b4-a13a-2ecac04beff9; trace=28b9d175-be6f-4b7e-a7da-6949dfe0a57b,id=28b9d175-be6f-4b7e-a7da-6949dfe0a57b\n",
      "WARNING:langsmith.client:Failed to multipart ingest runs: langsmith.utils.LangSmithAuthError: Authentication failed for https://api.smith.langchain.com/runs/multipart. HTTPError('401 Client Error: Unauthorized for url: https://api.smith.langchain.com/runs/multipart', '{\"detail\":\"Invalid token\"}')trace=fcf553fd-9b32-43f4-a39d-f4d2f0a74753,id=148a4f82-335b-4e74-b462-8b5806c4a74e; trace=fcf553fd-9b32-43f4-a39d-f4d2f0a74753,id=5f2029e6-f9e5-416c-8e11-5261182dce1d; trace=fcf553fd-9b32-43f4-a39d-f4d2f0a74753,id=9a439d60-509f-40db-a45e-82a787dd3998; trace=fcf553fd-9b32-43f4-a39d-f4d2f0a74753,id=76781dca-ad2e-4e71-a26e-09a0647b8bcb; trace=fcf553fd-9b32-43f4-a39d-f4d2f0a74753,id=672945cf-a307-4556-a5d6-f912572a7ec4; trace=fcf553fd-9b32-43f4-a39d-f4d2f0a74753,id=abf7b8bf-dbac-4e89-818d-6e9235638277\n",
      "WARNING:langsmith.client:Failed to multipart ingest runs: langsmith.utils.LangSmithAuthError: Authentication failed for https://api.smith.langchain.com/runs/multipart. HTTPError('401 Client Error: Unauthorized for url: https://api.smith.langchain.com/runs/multipart', '{\"detail\":\"Invalid token\"}')trace=fcf553fd-9b32-43f4-a39d-f4d2f0a74753,id=fbe6da91-5d04-4d88-8d9f-cc3ad868771a; trace=fcf553fd-9b32-43f4-a39d-f4d2f0a74753,id=32f217f9-4550-40d6-86ab-917bfe57ffb6; trace=fcf553fd-9b32-43f4-a39d-f4d2f0a74753,id=c114d5ad-0044-4cf9-b6f6-863dee1793ed; trace=fcf553fd-9b32-43f4-a39d-f4d2f0a74753,id=76781dca-ad2e-4e71-a26e-09a0647b8bcb; trace=fcf553fd-9b32-43f4-a39d-f4d2f0a74753,id=9a439d60-509f-40db-a45e-82a787dd3998\n",
      "WARNING:langsmith.client:Failed to multipart ingest runs: langsmith.utils.LangSmithAuthError: Authentication failed for https://api.smith.langchain.com/runs/multipart. HTTPError('401 Client Error: Unauthorized for url: https://api.smith.langchain.com/runs/multipart', '{\"detail\":\"Invalid token\"}')trace=fcf553fd-9b32-43f4-a39d-f4d2f0a74753,id=4d72d3ae-3d39-4bd1-9b83-8134346e5b9e; trace=fcf553fd-9b32-43f4-a39d-f4d2f0a74753,id=7e10c09e-c2b6-41c5-879b-17f39bfc457c; trace=8fb002d0-1d01-4940-905a-c94d4397f5ab,id=8fb002d0-1d01-4940-905a-c94d4397f5ab; trace=8fb002d0-1d01-4940-905a-c94d4397f5ab,id=d455e02d-d9a8-403e-b3e6-88bce2549911; trace=8fb002d0-1d01-4940-905a-c94d4397f5ab,id=077a7ad5-31c8-469e-afee-85f051ad2975; trace=8fb002d0-1d01-4940-905a-c94d4397f5ab,id=3b0423da-8422-49bc-914e-9572dd8eb680; trace=fcf553fd-9b32-43f4-a39d-f4d2f0a74753,id=32f217f9-4550-40d6-86ab-917bfe57ffb6; trace=fcf553fd-9b32-43f4-a39d-f4d2f0a74753,id=c114d5ad-0044-4cf9-b6f6-863dee1793ed; trace=fcf553fd-9b32-43f4-a39d-f4d2f0a74753,id=fcf553fd-9b32-43f4-a39d-f4d2f0a74753\n",
      "WARNING:langsmith.client:Failed to multipart ingest runs: langsmith.utils.LangSmithAuthError: Authentication failed for https://api.smith.langchain.com/runs/multipart. HTTPError('401 Client Error: Unauthorized for url: https://api.smith.langchain.com/runs/multipart', '{\"detail\":\"Invalid token\"}')trace=8fb002d0-1d01-4940-905a-c94d4397f5ab,id=a16939e6-7293-40b2-867d-1f7176612178; trace=8fb002d0-1d01-4940-905a-c94d4397f5ab,id=9b12e21e-905f-465e-8bbe-8038d44f7fc4; trace=8c0a7288-3691-4a00-8b3e-8154c56ec665,id=8c0a7288-3691-4a00-8b3e-8154c56ec665; trace=8c0a7288-3691-4a00-8b3e-8154c56ec665,id=74ee7b29-c53c-408d-b361-3e5b9319c9c3; trace=8c0a7288-3691-4a00-8b3e-8154c56ec665,id=62637a8b-dfcc-4a31-97b4-d913b56bf6a9; trace=8c0a7288-3691-4a00-8b3e-8154c56ec665,id=19cb8256-6943-4b94-b074-d691141b6648; trace=8fb002d0-1d01-4940-905a-c94d4397f5ab,id=8fb002d0-1d01-4940-905a-c94d4397f5ab; trace=8fb002d0-1d01-4940-905a-c94d4397f5ab,id=077a7ad5-31c8-469e-afee-85f051ad2975; trace=8fb002d0-1d01-4940-905a-c94d4397f5ab,id=3b0423da-8422-49bc-914e-9572dd8eb680\n",
      "WARNING:langsmith.client:Failed to multipart ingest runs: langsmith.utils.LangSmithAuthError: Authentication failed for https://api.smith.langchain.com/runs/multipart. HTTPError('401 Client Error: Unauthorized for url: https://api.smith.langchain.com/runs/multipart', '{\"detail\":\"Invalid token\"}')trace=8c0a7288-3691-4a00-8b3e-8154c56ec665,id=9fa3c39e-0e22-47c1-97b9-71f232ee8dc9; trace=8c0a7288-3691-4a00-8b3e-8154c56ec665,id=a62a18a4-e9b2-4bd3-8a0c-818cb1711de0; trace=8c0a7288-3691-4a00-8b3e-8154c56ec665,id=66c28a54-8ea2-4c82-9c90-f2683a0e2ede; trace=8c0a7288-3691-4a00-8b3e-8154c56ec665,id=88f24e6a-413c-4ea5-a020-924af5a9adf6; trace=8c0a7288-3691-4a00-8b3e-8154c56ec665,id=62637a8b-dfcc-4a31-97b4-d913b56bf6a9; trace=8c0a7288-3691-4a00-8b3e-8154c56ec665,id=19cb8256-6943-4b94-b074-d691141b6648\n",
      "WARNING:langsmith.client:Failed to multipart ingest runs: langsmith.utils.LangSmithAuthError: Authentication failed for https://api.smith.langchain.com/runs/multipart. HTTPError('401 Client Error: Unauthorized for url: https://api.smith.langchain.com/runs/multipart', '{\"detail\":\"Invalid token\"}')trace=8c0a7288-3691-4a00-8b3e-8154c56ec665,id=618d6f96-0460-4f22-8d11-7895acc16ff9; trace=8c0a7288-3691-4a00-8b3e-8154c56ec665,id=88f24e6a-413c-4ea5-a020-924af5a9adf6; trace=8c0a7288-3691-4a00-8b3e-8154c56ec665,id=66c28a54-8ea2-4c82-9c90-f2683a0e2ede; trace=8c0a7288-3691-4a00-8b3e-8154c56ec665,id=8c0a7288-3691-4a00-8b3e-8154c56ec665\n"
     ]
    }
   ],
   "source": [
    "for event in graph.stream(input=input, config=config):\n",
    "    for key, value in event.items():\n",
    "        print(f\"\\n[ {key} ]\\n\")\n",
    "        # If messages exist in value\n",
    "        if \"messages\" in value:\n",
    "            messages = value[\"messages\"]\n",
    "            # Print only the most recent message\n",
    "            value[\"messages\"][-1].pretty_print()"
   ]
  },
  {
   "cell_type": "markdown",
   "id": "b0d00b51",
   "metadata": {},
   "source": [
    "## Advanced Streaming Options\n",
    "\n",
    "Advanced streaming options in LangGraph allow for more fine-grained control over how graph execution outputs are handled. By configuring parameters like `output_keys`, `stream_mode`, `interrupt_before`, and `interrupt_after`, users can tailor the streaming behavior to their specific debugging and monitoring needs.\n",
    "\n",
    "\n",
    "### The `output_keys` Option\n",
    "\n",
    "The `output_keys` option is used to specify which keys to stream.\n",
    "\n",
    "You can specify it in list format, and it must be one of the keys defined in **channels**.\n",
    "\n",
    "**Tip**\n",
    "\n",
    "- If a large number of State keys is output at each step, this is useful when you only want to stream some of them."
   ]
  },
  {
   "cell_type": "code",
   "execution_count": 16,
   "id": "efe63155",
   "metadata": {},
   "outputs": [
    {
     "name": "stdout",
     "output_type": "stream",
     "text": [
      "['messages', 'dummy_data', '__start__', 'chatbot', 'tools', 'start:chatbot', 'branch:chatbot:tools_condition:chatbot', 'branch:chatbot:tools_condition:tools']\n"
     ]
    }
   ],
   "source": [
    "# Print the list of keys defined in channels\n",
    "print(list(graph.channels.keys()))"
   ]
  },
  {
   "cell_type": "code",
   "execution_count": 17,
   "id": "87efc73e",
   "metadata": {},
   "outputs": [
    {
     "name": "stdout",
     "output_type": "stream",
     "text": [
      "\n",
      "[ chatbot ]\n",
      "\n",
      "dict_keys(['dummy_data'])\n",
      "[chatbot] called, dummy data\n",
      "\n",
      "[ tools ]\n",
      "\n",
      "\n",
      "[ chatbot ]\n",
      "\n",
      "dict_keys(['dummy_data'])\n",
      "[chatbot] called, dummy data\n"
     ]
    }
   ],
   "source": [
    "# Question\n",
    "question = \"Please provide the latest news about the 2024 Nobel Prize in Literature.\"\n",
    "\n",
    "# Define the initial input State\n",
    "input = State(dummy_data=\"Test string\", messages=[(\"user\", question)])\n",
    "\n",
    "# Configure config\n",
    "config = RunnableConfig(\n",
    "    recursion_limit=10,  # Visit up to 10 nodes; beyond that, RecursionError will occur\n",
    "    configurable={\"thread_id\": \"1\"},  # Set the thread ID\n",
    "    tags=[\"my-rag\"],  # Tag\n",
    ")\n",
    "\n",
    "for event in graph.stream(\n",
    "    input=input,\n",
    "    config=config,\n",
    "    output_keys=[\"dummy_data\"],  # Try adding messages!\n",
    "):\n",
    "    for key, value in event.items():\n",
    "        # key is the node name\n",
    "        print(f\"\\n[ {key} ]\\n\")\n",
    "\n",
    "        # If dummy_data exists\n",
    "        if value:\n",
    "            # value is the node output\n",
    "            print(value.keys())\n",
    "            if \"dummy_data\" in value:\n",
    "                print(value[\"dummy_data\"])"
   ]
  },
  {
   "cell_type": "code",
   "execution_count": 18,
   "id": "9cecf357",
   "metadata": {},
   "outputs": [
    {
     "name": "stdout",
     "output_type": "stream",
     "text": [
      "\n",
      "[ chatbot ]\n",
      "\n",
      "\n",
      "\n",
      "[ tools ]\n",
      "\n",
      "[{\"title\": \"2024 Nobel Prize for Literature #KoreaNetPerson of the Year #Vegetarian #TheBoy Is ComingNovelist H..\", \"link\": \"https://www.mk.co.kr/en/culture/11206720&ved=2ahUKEwiPuoXnxYSLAxUBbfUHHU17HWUQxfQBegQICBAC&usg=AOvVaw0zL0FqE5bGzxrYwMwGlZhA\"}, {\"title\": \"Han Kang – Banquet speech\", \"link\": \"https://www.nobelprize.org/prizes/literature/2024/han/speech/&ved=2ahUKEwiPuoXnxYSLAxUBbfUHHU17HWUQxfQBegQIBxAC&usg=AOvVaw0_0qwgsLKKNfErtXXveof-\"}, {\"title\": \"2024 Nobel Prize LIVE: Science and Literature laureates honored by Sweden’s King Carl XVI Gustaf\", \"link\": \"https://lufkindailynews.com/ap_video/2024-nobel-prize-live-science-and-literature-laureates-honored-by-sweden-s-king-carl-xvi/video_5c996f58-8f84-5ce8-9f6d-5a157bf91d99.html&ved=2ahUKEwiPuoXnxYSLAxUBbfUHHU17HWUQxfQBegQIARAC&usg=AOvVaw2mOUzddFmPmicENKP6tNdY\"}, {\"title\": \"[Nobel Week 2024] Han Kang writes history at Nobel Prize award ceremony\", \"link\": \"https://www.youtube.com/watch%3Fv%3DJXFXIYtGYsk&ved=2ahUKEwiPuoXnxYSLAxUBbfUHHU17HWUQxfQBegQIBRAC&usg=AOvVaw3QMbSpI54rz9DHWVUg3uxt\"}, {\"title\": \"Han Kang receives Nobel Prize in literature in Stockholm\", \"link\": \"https://www.chosun.com/english/people-en/2024/12/11/65WIVULLMJGIJCQZHE4Z2IPMVY/&ved=2ahUKEwiPuoXnxYSLAxUBbfUHHU17HWUQxfQBegQIAxAC&usg=AOvVaw1YWc8L7QaEvNkQ-vKcCEqV\"}]\n",
      "\n",
      "[ chatbot ]\n",
      "\n",
      "Here are the latest news articles regarding the 2024 Nobel Prize in Literature:\n",
      "\n",
      "1. **2024 Nobel Prize for Literature #KoreaNetPerson of the Year #Vegetarian #TheBoy Is ComingNovelist H..**\n",
      "   - [Read more](https://www.mk.co.kr/en/culture/11206720&ved=2ahUKEwiPuoXnxYSLAxUBbfUHHU17HWUQxfQBegQICBAC&usg=AOvVaw0zL0FqE5bGzxrYwMwGlZhA)\n",
      "\n",
      "2. **Han Kang – Banquet speech**\n",
      "   - [Read more](https://www.nobelprize.org/prizes/literature/2024/han/speech/&ved=2ahUKEwiPuoXnxYSLAxUBbfUHHU17HWUQxfQBegQIBxAC&usg=AOvVaw0_0qwgsLKKNfErtXXveof-)\n",
      "\n",
      "3. **2024 Nobel Prize LIVE: Science and Literature laureates honored by Sweden’s King Carl XVI Gustaf**\n",
      "   - [Read more](https://lufkindailynews.com/ap_video/2024-nobel-prize-live-science-and-literature-laureates-honored-by-sweden-s-king-carl-xvi/video_5c996f58-8f84-5ce8-9f6d-5a157bf91d99.html&ved=2ahUKEwiPuoXnxYSLAxUBbfUHHU17HWUQxfQBegQIARAC&usg=AOvVaw2mOUzddFmPmicENKP6tNdY)\n",
      "\n",
      "4. **[Nobel Week 2024] Han Kang writes history at Nobel Prize award ceremony**\n",
      "   - [Watch on YouTube](https://www.youtube.com/watch%3Fv%3DJXFXIYtGYsk&ved=2ahUKEwiPuoXnxYSLAxUBbfUHHU17HWUQxfQBegQIBRAC&usg=AOvVaw3QMbSpI54rz9DHWVUg3uxt)\n",
      "\n",
      "5. **Han Kang receives Nobel Prize in literature in Stockholm**\n",
      "   - [Read more](https://www.chosun.com/english/people-en/2024/12/11/65WIVULLMJGIJCQZHE4Z2IPMVY/&ved=2ahUKEwiPuoXnxYSLAxUBbfUHHU17HWUQxfQBegQIAxAC&usg=AOvVaw1YWc8L7QaEvNkQ-vKcCEqV)\n",
      "\n",
      "These articles cover various aspects of the Nobel Prize ceremony and the laureate, Han Kang.\n"
     ]
    }
   ],
   "source": [
    "# Question\n",
    "question = \"Please provide the latest news about the 2024 Nobel Prize in Literature.\"\n",
    "\n",
    "# Define the initial input State\n",
    "input = State(dummy_data=\"Test string\", messages=[(\"user\", question)])\n",
    "\n",
    "# Configure config\n",
    "config = RunnableConfig(\n",
    "    recursion_limit=10,  # Visit up to 10 nodes; beyond that, RecursionError will occur\n",
    "    configurable={\"thread_id\": \"1\"},  # Set the thread ID\n",
    "    tags=[\"my-rag\"],  # Tag\n",
    ")\n",
    "\n",
    "for event in graph.stream(\n",
    "    input=input,\n",
    "    config=config,\n",
    "    output_keys=[\"messages\"],  # Only output messages\n",
    "):\n",
    "    for key, value in event.items():\n",
    "        # If messages exist\n",
    "        if value and \"messages\" in value:\n",
    "            # key is the node name\n",
    "            print(f\"\\n[ {key} ]\\n\")\n",
    "            # Print the content of the last message\n",
    "            print(value[\"messages\"][-1].content)"
   ]
  },
  {
   "cell_type": "markdown",
   "id": "6f6be39d",
   "metadata": {},
   "source": [
    "### The `stream_mode` Option\n",
    "\n",
    "The `stream_mode` option is used to specify the streaming output mode.\n",
    "\n",
    "- `values`: Outputs the current state values at each step\n",
    "- `updates`: Outputs only state updates at each step (default)"
   ]
  },
  {
   "cell_type": "markdown",
   "id": "86f700fc",
   "metadata": {},
   "source": [
    "### `stream_mode = \"values\"`\n",
    "\n",
    "In `values` mode, the current state values of each step are output.\n",
    "\n",
    "**Note**\n",
    "\n",
    "`event.items()`\n",
    "\n",
    "- `key`: Key of the State\n",
    "- `value`: The value corresponding to the key of the State"
   ]
  },
  {
   "cell_type": "code",
   "execution_count": 19,
   "id": "89eff21c",
   "metadata": {},
   "outputs": [
    {
     "name": "stdout",
     "output_type": "stream",
     "text": [
      "\n",
      "[ messages ]\n",
      "\n",
      "Number of messages: 1\n",
      "\n",
      "[ dummy_data ]\n",
      "\n",
      "==============================  Step  ==============================\n",
      "\n",
      "[ messages ]\n",
      "\n",
      "Number of messages: 2\n",
      "\n",
      "[ dummy_data ]\n",
      "\n",
      "==============================  Step  ==============================\n",
      "\n",
      "[ messages ]\n",
      "\n",
      "Number of messages: 3\n",
      "\n",
      "[ dummy_data ]\n",
      "\n",
      "==============================  Step  ==============================\n",
      "\n",
      "[ messages ]\n",
      "\n",
      "Number of messages: 4\n",
      "\n",
      "[ dummy_data ]\n",
      "\n",
      "==============================  Step  ==============================\n"
     ]
    }
   ],
   "source": [
    "# Question\n",
    "question = \"Please provide the latest news about the 2024 Nobel Prize in Literature.\"\n",
    "\n",
    "# Define the initial input State\n",
    "input = State(dummy_data=\"Test string\", messages=[(\"user\", question)])\n",
    "\n",
    "# Configure config\n",
    "config = RunnableConfig(\n",
    "    recursion_limit=10,  # Visit up to 10 nodes; beyond that, RecursionError will occur\n",
    "    configurable={\"thread_id\": \"1\"},  # Set the thread ID\n",
    "    tags=[\"my-rag\"],  # Tag\n",
    ")\n",
    "\n",
    "# Stream output in values mode\n",
    "for event in graph.stream(\n",
    "    input=input,\n",
    "    stream_mode=\"values\",  # Default\n",
    "):\n",
    "    for key, value in event.items():\n",
    "        # key is the State key\n",
    "        print(f\"\\n[ {key} ]\\n\")\n",
    "        if key == \"messages\":\n",
    "            print(f\"Number of messages: {len(value)}\")\n",
    "    print(\"===\" * 10, \" Step \", \"===\" * 10)"
   ]
  },
  {
   "cell_type": "markdown",
   "id": "ef295683",
   "metadata": {},
   "source": [
    "### `stream_mode = \"updates\"`\n",
    "\n",
    "In `updates` mode, only the updated State for each step is output.\n",
    "\n",
    "- The output is a dictionary whose key is the node name, and values are the updated outputs.\n",
    "\n",
    "**Note**\n",
    "\n",
    "`event.items()`\n",
    "\n",
    "- `key`: The node name\n",
    "- `value`: The output of that node in dictionary form (it can have multiple key-value pairs)."
   ]
  },
  {
   "cell_type": "code",
   "execution_count": 20,
   "id": "2124b916",
   "metadata": {},
   "outputs": [
    {
     "name": "stdout",
     "output_type": "stream",
     "text": [
      "\n",
      "[ chatbot ]\n",
      "\n",
      "dict_keys(['messages', 'dummy_data'])\n",
      "Number of messages: 1\n",
      "==============================  Step  ==============================\n",
      "\n",
      "[ tools ]\n",
      "\n",
      "dict_keys(['messages'])\n",
      "Number of messages: 1\n",
      "==============================  Step  ==============================\n",
      "\n",
      "[ chatbot ]\n",
      "\n",
      "dict_keys(['messages', 'dummy_data'])\n",
      "Number of messages: 1\n",
      "==============================  Step  ==============================\n"
     ]
    }
   ],
   "source": [
    "# Question\n",
    "question = \"Please provide the latest news about the 2024 Nobel Prize in Literature.\"\n",
    "\n",
    "# Define the initial input State\n",
    "input = State(dummy_data=\"Test string\", messages=[(\"user\", question)])\n",
    "\n",
    "# Configure config\n",
    "config = RunnableConfig(\n",
    "    recursion_limit=10,  # Visit up to 10 nodes; beyond that, RecursionError will occur\n",
    "    configurable={\"thread_id\": \"1\"},  # Set the thread ID\n",
    "    tags=[\"my-rag\"],  # Tag\n",
    ")\n",
    "\n",
    "# Stream output in updates mode\n",
    "for event in graph.stream(\n",
    "    input=input,\n",
    "    stream_mode=\"updates\",  # Default\n",
    "):\n",
    "    for key, value in event.items():\n",
    "        # key is the node name\n",
    "        print(f\"\\n[ {key} ]\\n\")\n",
    "\n",
    "        # value is the output of the node\n",
    "        print(value.keys())\n",
    "\n",
    "        # The state is stored in dict form under the keys of 'values'\n",
    "        if \"messages\" in value:\n",
    "            print(f\"Number of messages: {len(value['messages'])}\")\n",
    "    print(\"===\" * 10, \" Step \", \"===\" * 10)"
   ]
  },
  {
   "cell_type": "markdown",
   "id": "d98b21a8",
   "metadata": {},
   "source": [
    "### The `interrupt_before` and `interrupt_after` Options\n",
    "\n",
    "The `interrupt_before` and `interrupt_after` options are used to specify when to interrupt streaming.\n",
    "\n",
    "- `interrupt_before`: Interrupt streaming before the specified node\n",
    "- `interrupt_after`: Interrupt streaming after the specified node\n"
   ]
  },
  {
   "cell_type": "code",
   "execution_count": 21,
   "id": "6f583a38",
   "metadata": {},
   "outputs": [
    {
     "name": "stdout",
     "output_type": "stream",
     "text": [
      "\n",
      "[chatbot]\n",
      "\n",
      "dict_keys(['messages', 'dummy_data'])\n",
      "[AIMessage(content='', additional_kwargs={'tool_calls': [{'id': 'call_wZijBoZBNahWrYNnelpGKey4', 'function': {'arguments': '{\"query\":\"2024 Nobel Prize in Literature\"}', 'name': 'search_keyword'}, 'type': 'function'}], 'refusal': None}, response_metadata={'token_usage': {'completion_tokens': 20, 'prompt_tokens': 58, 'total_tokens': 78, 'completion_tokens_details': {'accepted_prediction_tokens': 0, 'audio_tokens': 0, 'reasoning_tokens': 0, 'rejected_prediction_tokens': 0}, 'prompt_tokens_details': {'audio_tokens': 0, 'cached_tokens': 0}}, 'model_name': 'gpt-4o-mini-2024-07-18', 'system_fingerprint': 'fp_72ed7ab54c', 'finish_reason': 'tool_calls', 'logprobs': None}, id='run-3b0423da-8422-49bc-914e-9572dd8eb680-0', tool_calls=[{'name': 'search_keyword', 'args': {'query': '2024 Nobel Prize in Literature'}, 'id': 'call_wZijBoZBNahWrYNnelpGKey4', 'type': 'tool_call'}], usage_metadata={'input_tokens': 58, 'output_tokens': 20, 'total_tokens': 78, 'input_token_details': {'audio': 0, 'cache_read': 0}, 'output_token_details': {'audio': 0, 'reasoning': 0}})]\n",
      "Number of messages: 1\n",
      "==============================  Step  ==============================\n",
      "\n",
      "[__interrupt__]\n",
      "\n",
      "==============================  Step  ==============================\n"
     ]
    }
   ],
   "source": [
    "# Question\n",
    "question = \"Please provide the latest news about the 2024 Nobel Prize in Literature.\"\n",
    "\n",
    "# Define the initial input State\n",
    "input = State(dummy_data=\"Test string\", messages=[(\"user\", question)])\n",
    "\n",
    "# Configure config\n",
    "config = RunnableConfig(\n",
    "    recursion_limit=10,  # Visit up to 10 nodes; beyond that, RecursionError will occur\n",
    "    configurable={\"thread_id\": \"1\"},  # Set the thread ID\n",
    "    tags=[\"my-rag\"],  # Tag\n",
    ")\n",
    "\n",
    "for event in graph.stream(\n",
    "    input=input,\n",
    "    config=config,\n",
    "    stream_mode=\"updates\",  # Default\n",
    "    interrupt_before=[\"tools\"],  # Interrupt before the 'tools' node\n",
    "):\n",
    "    for key, value in event.items():\n",
    "        # key is the node name\n",
    "        print(f\"\\n[{key}]\\n\")\n",
    "\n",
    "        # value is the node's output\n",
    "        if isinstance(value, dict):\n",
    "            print(value.keys())\n",
    "            if \"messages\" in value:\n",
    "                print(value[\"messages\"])\n",
    "\n",
    "        # The state is stored as a dict (keys of 'values')\n",
    "        if \"messages\" in value:\n",
    "            print(f\"Number of messages: {len(value['messages'])}\")\n",
    "    print(\"===\" * 10, \" Step \", \"===\" * 10)"
   ]
  },
  {
   "cell_type": "code",
   "execution_count": 22,
   "id": "33dc67a2",
   "metadata": {},
   "outputs": [
    {
     "name": "stdout",
     "output_type": "stream",
     "text": [
      "\n",
      "[__interrupt__]\n",
      "\n",
      "dict_keys(['messages', 'dummy_data'])\n",
      "[AIMessage(content='', additional_kwargs={'tool_calls': [{'id': 'call_vTAO4cRnNhKKwpFhhZjrLcCE', 'function': {'arguments': '{\"query\":\"2024 Nobel Prize in Literature\"}', 'name': 'search_keyword'}, 'type': 'function'}], 'refusal': None}, response_metadata={'token_usage': {'completion_tokens': 20, 'prompt_tokens': 58, 'total_tokens': 78, 'completion_tokens_details': {'accepted_prediction_tokens': 0, 'audio_tokens': 0, 'reasoning_tokens': 0, 'rejected_prediction_tokens': 0}, 'prompt_tokens_details': {'audio_tokens': 0, 'cached_tokens': 0}}, 'model_name': 'gpt-4o-mini-2024-07-18', 'system_fingerprint': 'fp_72ed7ab54c', 'finish_reason': 'tool_calls', 'logprobs': None}, id='run-19cb8256-6943-4b94-b074-d691141b6648-0', tool_calls=[{'name': 'search_keyword', 'args': {'query': '2024 Nobel Prize in Literature'}, 'id': 'call_vTAO4cRnNhKKwpFhhZjrLcCE', 'type': 'tool_call'}], usage_metadata={'input_tokens': 58, 'output_tokens': 20, 'total_tokens': 78, 'input_token_details': {'audio': 0, 'cache_read': 0}, 'output_token_details': {'audio': 0, 'reasoning': 0}})]\n",
      "Number of messages: 1\n",
      "\n",
      "[__interrupt__]\n",
      "\n",
      "dict_keys(['messages'])\n",
      "[ToolMessage(content='[{\"title\": \"2024 Nobel Prize for Literature #KoreaNetPerson of the Year #Vegetarian #TheBoy Is ComingNovelist H..\", \"link\": \"https://www.mk.co.kr/en/culture/11206720&ved=2ahUKEwiox4r4xYSLAxXTdvUHHR1bHFsQxfQBegQIBBAC&usg=AOvVaw0MmHqdjzFBv2pisz-xrQIX\"}, {\"title\": \"What time is the 2024 Nobel Prize ceremony? All about this year\\'s awards\", \"link\": \"https://www.marca.com/en/lifestyle/world-news/2024/12/10/6757934322601df2618b4594.html&ved=2ahUKEwiox4r4xYSLAxXTdvUHHR1bHFsQxfQBegQIAxAC&usg=AOvVaw2aVc2TeX0zICTz5QfCULsx\"}, {\"title\": \"Nobel Week 2024 at U of T\", \"link\": \"https://www.utoronto.ca/utogether/nobel-week-u-of-t-2024&ved=2ahUKEwiox4r4xYSLAxXTdvUHHR1bHFsQxfQBegQIBRAC&usg=AOvVaw0Kwm0A6ctgMF4LwseRVKUT\"}, {\"title\": \"[Nobel Week 2024] Han Kang writes history at Nobel Prize award ceremony\", \"link\": \"https://www.youtube.com/watch%3Fv%3DJXFXIYtGYsk&ved=2ahUKEwiox4r4xYSLAxXTdvUHHR1bHFsQxfQBegQIAhAC&usg=AOvVaw0uVCa4rhRTgh1hFccDoZs9\"}, {\"title\": \"Han Kang receives Nobel Prize in literature in Stockholm\", \"link\": \"https://www.chosun.com/english/people-en/2024/12/11/65WIVULLMJGIJCQZHE4Z2IPMVY/&ved=2ahUKEwiox4r4xYSLAxXTdvUHHR1bHFsQxfQBegQICBAC&usg=AOvVaw026-H1UBqSLO7oyYQnL5qQ\"}]', name='search_keyword', id='54f77327-89ce-4c42-b7c2-e27c5b90e385', tool_call_id='call_vTAO4cRnNhKKwpFhhZjrLcCE')]\n",
      "Number of messages: 1\n",
      "\n",
      "[__interrupt__]\n",
      "\n"
     ]
    }
   ],
   "source": [
    "# Question\n",
    "question = \"Please provide the latest news about the 2024 Nobel Prize in Literature.\"\n",
    "\n",
    "# Define the initial input State\n",
    "input = State(dummy_data=\"Test string\", messages=[(\"user\", question)])\n",
    "\n",
    "# Configure config\n",
    "config = RunnableConfig(\n",
    "    recursion_limit=10,  # Visit up to 10 nodes; beyond that, RecursionError will occur\n",
    "    configurable={\"thread_id\": \"1\"},  # Set the thread ID\n",
    "    tags=[\"my-rag\"],  # Tag\n",
    ")\n",
    "\n",
    "for event in graph.stream(\n",
    "    input=input,\n",
    "    config=config,\n",
    "    stream_mode=\"updates\",\n",
    "    interrupt_after=[\"tools\"],  # Interrupt after executing 'tools'\n",
    "):\n",
    "    for value in event.values():\n",
    "        # key is the node name\n",
    "        print(f\"\\n[{key}]\\n\")\n",
    "\n",
    "        if isinstance(value, dict):\n",
    "            # value is the node's output\n",
    "            print(value.keys())\n",
    "            if \"messages\" in value:\n",
    "                print(value[\"messages\"])\n",
    "\n",
    "        # The state is stored as a dict (keys of 'values')\n",
    "        if \"messages\" in value:\n",
    "            print(f\"Number of messages: {len(value['messages'])}\")"
   ]
  }
 ],
 "metadata": {
  "kernelspec": {
   "display_name": "langchain-kr-lwwSZlnu-py3.11",
   "language": "python",
   "name": "python3"
  },
  "language_info": {
   "codemirror_mode": {
    "name": "ipython",
    "version": 3
   },
   "file_extension": ".py",
   "mimetype": "text/x-python",
   "name": "python",
   "nbconvert_exporter": "python",
   "pygments_lexer": "ipython3",
   "version": "3.10.11"
  }
 },
 "nbformat": 4,
 "nbformat_minor": 5
}
