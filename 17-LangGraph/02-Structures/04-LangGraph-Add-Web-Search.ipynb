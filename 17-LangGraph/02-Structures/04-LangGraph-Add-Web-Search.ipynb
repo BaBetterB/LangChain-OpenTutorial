{
 "cells": [
  {
   "cell_type": "markdown",
   "metadata": {},
   "source": [
    "# Adding a Web Search Module\n",
    "\n",
    "\n",
    "- Author: [Sun Hyoung Lee](https://github.com/LEE1026icarus)\n",
    "- Design: [LeeYuChul](https://github.com/LeeYuChul)\n",
    "- Peer Review :\n",
    "- Proofread:\n",
    "- This is a part of [LangChain Open Tutorial](https://github.com/LangChain-OpenTutorial/LangChain-OpenTutorial)\n",
    "\n",
    "[![Open in Colab](https://colab.research.google.com/assets/colab-badge.svg)](https://colab.research.google.com/github/LangChain-OpenTutorial/LangChain-OpenTutorial/blob/main/08-Embeeding/04-UpstageEmbeddings.ipynb) [![Open in GitHub](https://img.shields.io/badge/Open%20in%20GitHub-181717?style=flat-square&logo=github&logoColor=white)](https://github.com/LangChain-OpenTutorial/LangChain-OpenTutorial/blob/main/08-Embeeding/04-UpstageEmbeddings.ipynb)\n",
    "\n",
    "## Overview\n",
    "\n",
    "**Steps**\n",
    "\n",
    "1. Perform Naive RAG (Retrieve-and-Generate)  \n",
    "2. Conduct a Groundedness Check on Retrieved Documents  \n",
    "3. (This Tutorial) Add Web Search  \n",
    "\n",
    "**Notes**\n",
    "\n",
    "- This builds on content from the previous tutorial, so there may be overlapping sections. For any unclear explanations, please refer to the earlier tutorial.  \n",
    "\n",
    "![langgraph-web-search](assets/04-langgraph-add-web-search-langgraph-web-search.png)\n",
    "\n",
    "### Table of Contents\n",
    "\n",
    "- [Overview](#overview)\n",
    "- [Environement Setup](#environment-setup)\n",
    "- [Creating a Basic PDF-Based Retrieval Chain](#creating-a-basic-pdf-based-retrieval-chain)\n",
    "- [State Definition](#state-definition)\n",
    "- [Node Definition](#node-definition)\n",
    "- [Adding Search Node](#adding-search-node)\n",
    "- [Edges](#edges)\n",
    "- [Graph Execution](#graph-execution)\n",
    "\n",
    "### References\n",
    "\n",
    "- [LangGraph Tutorials](https://langchain-ai.github.io/langgraph/tutorials/)\n",
    "---\n"
   ]
  },
  {
   "cell_type": "markdown",
   "metadata": {},
   "source": [
    "## Environment Setup\n",
    "\n",
    "Set up the environment. You may refer to [Environment Setup](https://wikidocs.net/257836) for more details.\n",
    "\n",
    " **[Note]** \n",
    "- `langchain-opentutorial` is a package that provides a set of easy-to-use environment setup, useful functions and utilities for tutorials. \n",
    "- You can checkout the [ `langchain-opentutorial` ](https://github.com/LangChain-OpenTutorial/langchain-opentutorial-pypi) for more details.\n"
   ]
  },
  {
   "cell_type": "code",
   "execution_count": 14,
   "metadata": {},
   "outputs": [],
   "source": [
    "%%capture --no-stderr\n",
    "%pip install langchain-opentutorial"
   ]
  },
  {
   "cell_type": "code",
   "execution_count": 1,
   "metadata": {},
   "outputs": [
    {
     "data": {
      "text/plain": [
       "'0.0.6'"
      ]
     },
     "execution_count": 1,
     "metadata": {},
     "output_type": "execute_result"
    }
   ],
   "source": [
    "import langchain_opentutorial\n",
    "langchain_opentutorial.__version__"
   ]
  },
  {
   "cell_type": "code",
   "execution_count": 2,
   "metadata": {},
   "outputs": [],
   "source": [
    "# Install required packages\n",
    "from langchain_opentutorial import package\n",
    "\n",
    "package.install(\n",
    "    [\n",
    "        \"langchain_community\",\n",
    "        \"langgraph\",\n",
    "        \"typing\",\n",
    "        \"langchain_openai\",\n",
    "        \"langchain_core\"\n",
    "        \"langchain_opentutorial\"\n",
    "    ],\n",
    "    verbose=False,\n",
    "    upgrade=False,\n",
    ")"
   ]
  },
  {
   "cell_type": "markdown",
   "metadata": {},
   "source": [
    "You can set API keys in a `.env` file or set them manually.\n",
    "\n",
    "[Note] If you’re not using the `.env` file, no worries! Just enter the keys directly in the cell below, and you’re good to go."
   ]
  },
  {
   "cell_type": "code",
   "execution_count": 3,
   "metadata": {},
   "outputs": [],
   "source": [
    "from dotenv import load_dotenv\n",
    "from langchain_opentutorial import set_env\n",
    "\n",
    "# Attempt to load environment variables from a .env file; if unsuccessful, set them manually.\n",
    "if not load_dotenv():\n",
    "    set_env(\n",
    "        {\n",
    "            \"OPENAI_API_KEY\": \"\",\n",
    "            \"LANGCHAIN_API_KEY\": \"\",\n",
    "            \"LANGCHAIN_TRACING_V2\": \"true\",\n",
    "            \"LANGCHAIN_ENDPOINT\": \"https://api.smith.langchain.com\",\n",
    "            \"LANGCHAIN_PROJECT\": \"CH04-LangGraph-Add-Web-Search\",\n",
    "            \"TAVILY_API_KEY\": \"\"\n",
    "        }\n",
    "    )\n"
   ]
  },
  {
   "cell_type": "markdown",
   "metadata": {},
   "source": [
    "## Creating a Basic PDF-Based Retrieval Chain\n",
    "\n",
    "Here, we create a Retrieval Chain based on a PDF document. This represents the simplest structure of a Retrieval Chain.\n",
    "\n",
    "In LangGraph, the **Retriever** and **Chain** are created separately. This allows for detailed processing at each node.\n",
    "\n",
    "**Note**\n",
    "\n",
    "- Since this content builds on the previous tutorial, detailed explanations are omitted."
   ]
  },
  {
   "cell_type": "code",
   "execution_count": 29,
   "metadata": {},
   "outputs": [
    {
     "ename": "ModuleNotFoundError",
     "evalue": "No module named 'rag.pdf'",
     "output_type": "error",
     "traceback": [
      "\u001b[1;31m---------------------------------------------------------------------------\u001b[0m",
      "\u001b[1;31mModuleNotFoundError\u001b[0m                       Traceback (most recent call last)",
      "Cell \u001b[1;32mIn[29], line 1\u001b[0m\n\u001b[1;32m----> 1\u001b[0m \u001b[38;5;28;01mfrom\u001b[39;00m\u001b[38;5;250m \u001b[39m\u001b[38;5;21;01mrag\u001b[39;00m\u001b[38;5;21;01m.\u001b[39;00m\u001b[38;5;21;01mpdf\u001b[39;00m\u001b[38;5;250m \u001b[39m\u001b[38;5;28;01mimport\u001b[39;00m  PDFRetrievalChain\n\u001b[0;32m      2\u001b[0m \u001b[38;5;66;03m# Load the PDF document\u001b[39;00m\n\u001b[0;32m      3\u001b[0m pdf \u001b[38;5;241m=\u001b[39m PDFRetrievalChain(\n\u001b[0;32m      4\u001b[0m     [\u001b[38;5;124m\"\u001b[39m\u001b[38;5;124mdata/A European Approach to Artificial Intelligence - A Policy Perspective.pdf\u001b[39m\u001b[38;5;124m\"\u001b[39m]\n\u001b[0;32m      5\u001b[0m )\u001b[38;5;241m.\u001b[39mcreate_chain()\n",
      "\u001b[1;31mModuleNotFoundError\u001b[0m: No module named 'rag.pdf'"
     ]
    }
   ],
   "source": [
    "from rag.pdf import  PDFRetrievalChain\n",
    "# Load the PDF document\n",
    "pdf = PDFRetrievalChain(\n",
    "    [\"data/A European Approach to Artificial Intelligence - A Policy Perspective.pdf\"]\n",
    ").create_chain()\n",
    "\n",
    "# Create the retriever and chain.\n",
    "pdf_retriever = pdf.retriever\n",
    "pdf_chain = pdf.chain"
   ]
  },
  {
   "cell_type": "markdown",
   "metadata": {},
   "source": [
    "## State Definition\n",
    "`State` : Defines the shared state between nodes in a Graph. \n",
    "\n",
    "Typically uses the `TypedDict` format."
   ]
  },
  {
   "cell_type": "markdown",
   "metadata": {},
   "source": [
    "This time, we're adding relevance check results to the State.\n"
   ]
  },
  {
   "cell_type": "code",
   "execution_count": 18,
   "metadata": {},
   "outputs": [],
   "source": [
    "from typing import Annotated, TypedDict\n",
    "from langgraph.graph.message import add_messages\n",
    "\n",
    "# Definition of GraphState\n",
    "class GraphState(TypedDict):\n",
    "    question: Annotated[str, \"Question\"]  # The question\n",
    "    context: Annotated[str, \"Context\"]  # Search results from the document\n",
    "    answer: Annotated[str, \"Answer\"]  # The answer\n",
    "    messages: Annotated[list, add_messages]  # Messages (accumulated as a list)\n",
    "    relevance: Annotated[str, \"Relevance\"]  # Relevance\n"
   ]
  },
  {
   "cell_type": "markdown",
   "metadata": {},
   "source": [
    "## Node Definition\n",
    "\n",
    "- `Nodes` : These are nodes that process each step. They are typically implemented as Python functions. Both input and output are State values.\n",
    "\n",
    "**Note**\n",
    "\n",
    "- Receives a `State` as input, performs the defined logic, and returns an updated `State`."
   ]
  },
  {
   "cell_type": "code",
   "execution_count": 19,
   "metadata": {},
   "outputs": [],
   "source": [
    "from langchain_openai import ChatOpenAI\n",
    "from rag.evaluator import GroundednessChecker\n",
    "from rag.messages import messages_to_history\n",
    "from rag.utils import format_docs\n",
    "\n",
    "\n",
    "# Document Retrieval Node\n",
    "def retrieve_document(state: GraphState) -> GraphState:\n",
    "    # Retrieve the latest question from the state.\n",
    "    latest_question = state[\"question\"]\n",
    "\n",
    "    # Search the document to find relevant sections.\n",
    "    retrieved_docs = pdf_retriever.invoke(latest_question)\n",
    "\n",
    "    # Format the retrieved documents (to use as input for the prompt).\n",
    "    retrieved_docs = format_docs(retrieved_docs)\n",
    "\n",
    "    # Save the retrieved documents in the \"context\" key.\n",
    "    return GraphState(context=retrieved_docs)\n",
    "\n",
    "\n",
    "# Answer Generation Node\n",
    "def llm_answer(state: GraphState) -> GraphState:\n",
    "    # Retrieve the latest question from the state.\n",
    "    latest_question = state[\"question\"]\n",
    "\n",
    "    # Retrieve the context (search results) from the state.\n",
    "    context = state[\"context\"]\n",
    "\n",
    "    # Call the chain to generate an answer.\n",
    "    response = pdf_chain.invoke(\n",
    "        {\n",
    "            \"question\": latest_question,\n",
    "            \"context\": context,\n",
    "            \"chat_history\": messages_to_history(state[\"messages\"]),\n",
    "        }\n",
    "    )\n",
    "    # Save the generated answer and the (user question, answer) messages in the state.\n",
    "    return GraphState(\n",
    "        answer=response, messages=[(\"user\", latest_question), (\"assistant\", response)]\n",
    "    )\n",
    "\n",
    "\n",
    "# Relevance Checking Node\n",
    "def relevance_check(state: GraphState) -> GraphState:\n",
    "    # Create a relevance evaluator.\n",
    "    question_answer_relevant = GroundednessChecker(\n",
    "        llm=ChatOpenAI(model=\"gpt-4o-mini\", temperature=0), target=\"question-retrieval\"\n",
    "    ).create()\n",
    "\n",
    "    # Perform relevance check (\"yes\" or \"no\").\n",
    "    response = question_answer_relevant.invoke(\n",
    "        {\"question\": state[\"question\"], \"context\": state[\"context\"]}\n",
    "    )\n",
    "\n",
    "    print(\"==== [RELEVANCE CHECK] ====\")\n",
    "    print(response.score)\n",
    "\n",
    "    # Note: The relevance evaluator here can be customized with specific prompts.\n",
    "    # Feel free to create your own Groundedness Check!\n",
    "    return GraphState(relevance=response.score)\n",
    "\n",
    "\n",
    "# Function (Router) for Relevance Check\n",
    "def is_relevant(state: GraphState) -> GraphState:\n",
    "    if state[\"relevance\"] == \"yes\":\n",
    "        return \"relevant\"\n",
    "    else:\n",
    "        return \"not relevant\"\n"
   ]
  },
  {
   "cell_type": "markdown",
   "metadata": {},
   "source": [
    "## Adding Search Node\n",
    "\n",
    "This time, we'll perform a Web Search using the `TavilySearch` tool.\n",
    "\n",
    "Below is an example using the `TavilySearch` tool."
   ]
  },
  {
   "cell_type": "code",
   "execution_count": 22,
   "metadata": {},
   "outputs": [
    {
     "name": "stdout",
     "output_type": "stream",
     "text": [
      "[\"<document><title>Han Kang wins Nobel Prize in literature 2024 for 'intense ... - CNN</title><url>https://www.cnn.com/2024/10/10/style/han-kang-nobel-prize-literature-intl/index.html</url><content>The 2024 Nobel Prize in literature has been awarded to Han Kang, a South Korean author, for her “intense poetic prose that confronts historical traumas and exposes the fragility of human life.” In a statement posted to Facebook on Thursday, South Korean President Yoon Suk Yeol described Han’s win as “a great achievement in the history of Korean literature” and a “national occasion.” He added: “Han has turned the painful scars of our modern history into great literature.” Anna-Karin Palm, a member of the Nobel Committee for literature, said readers unfamiliar with Han’s work should begin with “Human Acts,” a 2014 novel reflecting on the 1980 Gwangju Uprising, when more than 100 civilians were killed during pro-democracy demonstrations led by students in the South Korean city.</content><raw>CNN values your feedback\\n\\n      Han Kang wins Nobel Prize in literature for ‘intense poetic prose’ confronting human fragility\\n    \\n\\n            The 2024 Nobel Prize in literature has been awarded to Han Kang, a South Korean author, for her “intense poetic prose that confronts historical traumas and exposes the fragility of human life.”\\n    \\n\\n            Han, 53, began her career with a group of poems in a South Korean magazine, before making her prose debut in 1995 with a short story collection.\\n    \\n\\n            She later began writing longer prose works, most notably “The Vegetarian,” one of her first books to be translated into English. The novel, which won the Man Booker International Prize in 2016, charts a young woman’s attempt to live a more “plant-like” existence after suffering macabre nightmares about human cruelty.\\n    \\n\\n            Han is the first South Korean author to win the literature prize, and just the 18th woman out of the 117 prizes awarded since 1901. The prize, announced in Sweden on Thursday, carries a cash award of 11 million Swedish kronor ($1 million).\\n    \\n\\n            In a statement posted to Facebook on Thursday, South Korean President Yoon Suk Yeol described Han’s win as “a great achievement in the history of Korean literature” and a “national occasion.” He added: “Han has turned the painful scars of our modern history into great literature.”\\n    \\n\\n            Much of Han’s work poses the question, voiced by a character in her 2019 novel “Europa,” whose protagonist is wracked by nightmares: “If you were able to live as you desire, what would you do with your life?”\\n    \\n\\n            Although many of Han’s protagonists are women, her prose works are often narrated from the perspective of men.\\n    \\n\\n            “Before my wife turned vegetarian, I’d always thought of her as completely unremarkable in every way,” her novel “The Vegetarian” begins. “However, if there wasn’t any special attraction, nor did any particular drawbacks present themselves, and therefore there was no reason for the two of us not to get married.”\\n    \\n\\n            Originally written and published in Korean, “The Vegetarian” was translated by Deborah Smith, who was 28 at the time. Smith, by her own admission, was “monolingual until the age of 21,” and only chose to pursue Korean due to a lack of English-Korean translators.\\n    \\n\\n            The Swedish Academy lauded Han’s work for her “unique awareness of the connections between body and soul, the living and the dead.” Through her “poetic and experimental style,” the Academy said, Han “has become an innovator in contemporary prose.”\\n    \\n\\n            Anna-Karin Palm, a member of the Nobel Committee for literature, said readers unfamiliar with Han’s work should begin with “Human Acts,” a 2014 novel reflecting on the 1980 Gwangju Uprising, when more than 100 civilians were killed during pro-democracy demonstrations led by students in the South Korean city.\\n    \\n\\nRelated article\\n‘Turning my life into something people can watch, pains me’: Wole Soyinka on having his memoir made into a movie\\n\\n\\n            “Human Acts” shows how “the living and the dead are always intertwined and how these kinds of traumas stay in a population for generations,” Palm said at Thursday’s announcement ceremony.\\n    \\n\\n            But Han’s “intense, lyrical” writing almost acts as consolation in the face of this historical violence, Palm added. “Her very tender, precise prose in itself almost becomes a counterforce to the brutal noisiness of power,” she said.\\n    \\n\\n            Han’s novels rocketed up South Korea’s bestseller lists following the announcement. As of Friday morning, her books occupied all of the top 10 spots in popular online retailer Yes24’s chart for Korean titles. The bookseller told CNN over the phone that three of them — “Human Acts,” “The Vegetarian” and “I Do Not Bid Farewell” — had racked up combined sales of 70,000 units during the 14 hours immediately following the news.\\n    \\n\\n            At the Seoul flagship of bookstore chain Kyobo Book Centre, shoppers welcomed Han’s win. “I’m very proud of her,” high-school teacher Choi Ji-hye told CNN, adding that she had been “shocked” to hear the news.\\n    \\n\\n            For engineering student Kim Jee-heon, meanwhile, the announcement sparked a newfound interest in the author’s work. “This is my first time hearing about her, but… I was really amazed to hear that a Korean woman writer had won the prize, so I came here to look for her books.”\\n    \\n\\n            Elsewhere, several high-profile figures paid tribute to the novelist via social media, including musicians RM and V, members of the K-pop group BTS. “I read ‘Human Acts’ in the army,” the latter wrote on Instagram Stories. “Congratulations!”\\n    \\n\\n            Before the announcement, Ellen Mattson, another member of the committee, detailed how the judging panel sets about selecting each year’s literature laureate.\\n    \\n\\n            “We start with a very long list of around 220 names,” Mattson said. “Then we have to navigate through this enormous mass of names – and there we need the help of experts from different parts of the world.”\\n    \\n\\n            Eventually, the committee reaches a collection of “about 20 names,” which is then narrowed down to a shortlist of five authors. “That’s where the real work starts,” Mattson said.\\n    \\n\\n            Each committee member then has to “read everything by these five writers” as they begin to home in on a single winner.\\n    \\n\\n            Announcing the award, Mats Malm, permanent secretary of the Swedish Academy, said Han was “having an ordinary day” and had “just finished supper with her son” when he phoned to congratulate her.\\n    \\n\\n            “She wasn’t really prepared for this, but we have begun to discuss preparations for December,” he said. The Nobel Prize award ceremony takes place in Stockholm on December 10, the anniversary of Alfred Nobel’s death in 1896.\\n    \\n\\n  This article has been updated with reactions to the announcement.\\n\\n\\n  CNN’s Gawon Bae, Charlie Miller and Oscar Holland contributed to this report.\\n\\n© 2024 Cable News Network. A Warner Bros. Discovery Company. All Rights Reserved.  CNN Sans ™ & © 2016 Cable News Network.\\n</raw></document>\", '<document><title>Han Kang of South Korea wins Nobel literature prize 2024</title><url>https://www.reuters.com/world/han-kang-wins-2024-nobel-literature-prize-2024-10-10/</url><content>Item 1 of 7 South Korean author Han Kang, the winner of the 2024 Nobel Prize in Literature, makes a speech in Gwangju, South Korea, in this photo taken in 2023. Yonhap via REUTERS</content></document>', '<document><title>Han Kang, \\'The Vegetarian\\' Author, Wins Nobel Prize Literature 2024</title><url>https://www.hollywoodreporter.com/lifestyle/arts/nobel-prize-literature-2024-han-kang-the-vegetarian-1235605955/</url><content>Han Kang, \\'The Vegetarian\\' Author, Wins Nobel Prize Literature 2024 Subscribe for full access to The Hollywood Reporter Subscribe for full access to The Hollywood Reporter Han Kang, Whose ‘The Vegetarian’ Was Made Into a Film, Wins Nobel Prize for Literature South Korean writer Han Kang, whose international breakthrough novel The Vegetarian was made into a film, has won the Nobel Prize in Literature 2024. The Nobel Prize in Literature 2023 went to Norwegian author Jon Fosse, while the 2022 honor was awarded to French author Annie Ernaux, whose autobiography\\xa0Happening\\xa0was adapted for the screen\\xa0by director Audrey Diwan\\xa0as the abortion drama under the same name that earned the Golden Lion at the\\xa0Venice Film Festival 2021. THR Charts Expand thr-charts menu</content><raw>Han Kang, \\'The Vegetarian\\' Author, Wins Nobel Prize Literature 2024\\n×\\nSkip to main content\\nPlus Icon Click to expand the Mega Menu\\nClick to expand search form\\nGot a tip?\\nThe Hollywood Reporter homepage\\nNewsletters\\nSubscribe\\n\\nThe Definitive Voice of Entertainment News\\nSubscribe for full access to The Hollywood Reporter\\nSee My Options Sign Up\\nsite categories\\n\\nNews\\nFilm\\nTV\\nAwards\\nLifestyle\\nBusiness\\nGlobal\\nVideo\\nMusic\\nCharts\\nLists\\n\\nPlus Icon Click to expand the Mega Menu Menu\\nClick to expand search form\\nThe Hollywood Reporter homepage\\nRead Next:\\nThe Best Online Meal Delivery Services for a Hassle-Free Thanksgiving Dinner, from Turkey Spreads to Vegetarian Feasts\\nSubscribe\\n\\nThe Definitive Voice of Entertainment News\\nSubscribe for full access to The Hollywood Reporter\\nSee My Options Sign Up\\n\\nHome\\nLifestyle\\nArts\\n\\nHan Kang, Whose ‘The Vegetarian’ Was Made Into a Film, Wins Nobel Prize for Literature\\nThe honor, one of the five Nobel Prizes established by the will of Alfred Nobel, the inventor of dynamite, went to the South Korean novelist for \"her intense poetic prose that confronts historical traumas.\"\\nBy Georg Szalai\\nPlus Icon\\nGeorg Szalai\\nGlobal Business Editor\\nMore Stories by Georg\\n\\nAMC Networks U.S. Ad Revenue Drops 10 Percent, Streaming Subs Rise to 11.8M\\nParamount Posts $49M Streaming Profit Amid Gain of 3.5M Subs, Film Unit Swings Back to Black\\nDavid Zaslav: Trump May Bring “Opportunity for Consolidation” That’s “Positive” for Business\\n\\nView All\\nOctober 10, 2024 4:30am\\n\\nShare on Facebook\\nShare on X\\nShare to Flipboard\\nSend an Email\\nShow additional share options\\nShare on LinkedIn\\nShare on Pinterest\\nShare on Reddit\\nShare on Tumblr\\nShare on Whats App\\nPrint the Article\\nPost a Comment\\n\\n\\nHan Kang Courtesy of Manuel Medir/Getty Images\\n\\nShare on Facebook\\nShare on X\\nShare to Flipboard\\nSend an Email\\nShow additional share options\\nShare on LinkedIn\\nShare on Pinterest\\nShare on Reddit\\nShare on Tumblr\\nShare on Whats App\\nPrint the Article\\nPost a Comment\\n\\nSouth Korean writer Han Kang, whose international breakthrough novel The Vegetarian was made into a film, has won the Nobel Prize in Literature 2024.\\nThe Swedish Academy unveiled the honoree Thursday, lauding “her intense poetic prose that confronts historical traumas and exposes the fragility of human life.”\\nHan’s 2007 novel The Vegetarian, her first novel to be translated into English, won the International Booker Prize in 2015. The story of Yeong-hye, a part-time graphic artist and homemaker, whose decision to\\xa0stop eating meat leads to mental health struggles and problems in her familial life, was adapted as a feature film by Woo-Seong Lim and screened at Sundance in 2010.\\nRelated Stories\\n\\nLifestyle\\nSeventeen\\'s Mingyu on His Personal Style, Being a Dior Ambassador and That Calvin Klein Campaign\\n\\nNews\\nU.K. Government Forum to Scrutinize Future of TV Broadcasting Amid Streaming Concerns\\nThe honor is one of the five Nobel Prizes established by the will of Alfred Nobel, the inventor of dynamite, in 1895. The others are prizes in chemistry, physics and medicine, as well as the Nobel Peace Prize.\\nHan Kang is\\xa0the first South Korean to win the literature Nobel.\\nChinese author Can Xue, Canada’s Margaret Atwood (The Handmaid’s Tale), Japanese writer Haruki Murakami (Burning, Drive My Car), India-born British-American novelist Salman Rushdie (Midnight’s Children), who was stabbed in 2022 before giving a lecture in New York, and American Don DeLillo (White Noise) were among the other favorites mentioned to win this year’s literature prize, according to bookmakers.\\nThe Nobel Prize in Literature 2023 went to Norwegian author Jon Fosse, while the 2022 honor was awarded to French author Annie Ernaux, whose autobiography\\xa0Happening\\xa0was adapted for the screen\\xa0by director Audrey Diwan\\xa0as the abortion drama under the same name that earned the Golden Lion at the\\xa0Venice Film Festival 2021.\\nSince 1901, the Nobel Prize for Literature prize has been awarded to an author from any country who has, according to Nobel’s will, written “the most outstanding work in an ideal direction.” It is presented by the Swedish Academy.\\nPast winners include U.S. writers Toni Morrison and Saul Bellow, Britain’s Harold Pinter and William Golding, Ireland’s Samuel Beckett, Canada’s Alice Munro, South Africa’s Nadine Gordimer and J.M. Coetzee, Colombia’s Gabriel Garcia Marquez, France’s Jean-Paul Sartre, Germany’s Gunter Grass, Turkey’s Orhan Pamuk and China’s Mo Yan.\\nSinger-songwriter Bob Dylan won the honor in 2016.\\nRead More About:\\n\\ninternational\\nNobel Prize\\n\\nTHR Newsletters\\nSign up for THR news straight to your inbox every day\\nSubscribe Sign Up\\nMore from The Hollywood Reporter\\n\\n\\nstyle\\nSeventeen’s Mingyu on His Personal Style, Being a Dior Ambassador and That Calvin Klein Campaign\\n\\n\\n\\nshopping\\nThe Best Online Meal Delivery Services for a Hassle-Free Thanksgiving Dinner, from Turkey Spreads to Vegetarian Feasts\\n\\n\\n\\ntarget\\nTarget’s Early Black Friday Sale Includes Exclusive ‘Wicked’ Merch, Celeb-Loved Beauty and Funko Pop! Collectibles\\n\\n\\n\\nshopping\\nThe Best Skin-Care Tools for At-Home Facials, From LED Face Masks to Pro-Approved Microcurrent Devices\\n\\n\\n\\nYellowstone\\n‘Yellowstone’ Returns, ‘Outer Banks’ Stars Bring Poguelandia to Life and This Week’s Best Events\\n\\n\\n\\nWicked\\nThe ‘Wicked’ Brand Collabs Are Flying in Hot Ahead of the Movie’s November Release\\n\\n\\n\\nShopping With THR\\n\\n\\nThe Best Online Meal Delivery Services for a Hassle-Free Thanksgiving Dinner, from Turkey Spreads to Vegetarian Feasts\\nBy Danielle Directo-Meston\\n\\n\\nTarget’s Early Black Friday Sale Includes Exclusive ‘Wicked’ Merch, Celeb-Loved Beauty and Funko Pop! Collectibles\\nBy Erin Lassner\\n\\n\\nThe Best Skin-Care Tools for At-Home Facials, From LED Face Masks to Pro-Approved Microcurrent Devices\\nBy Natalie Alcala, Danielle Directo-Meston\\n\\n\\nThe ‘Wicked’ Brand Collabs Are Flying in Hot Ahead of the Movie’s November Release\\nBy Erin Lassner\\nTHR Newsletters\\nSign up for THR news straight to your inbox every day\\nEmail Address \\nSubscribe Today Sign Up\\nBy providing your information, you agree to our Terms of Use and our Privacy Policy. We use vendors that may also process your information to help provide our services. // This site is protected by reCAPTCHA Enterprise and the Google Privacy Policy and Terms of Service apply.\\nMost Popular\\n\\n### Hollywood Reacts to Second Trump Presidency Win: “A Sign of Deep Nihilism”\\nBy Abid Rahman\\n\\n### Election 2024: Where to Stream the Victory and Concession Speeches Live Online Without Cable\\nBy Danielle Directo-Meston\\n\\n### Allison Janney Threw the Script for ‘The Diplomat’ Season 2 Finale Across the Room: “What the?”\\nBy Hilary Lewis\\n\\n### Tokyo: Kung Fu Legend Sammo Hung on His Seven-Decade Career, Working With Bruce Lee, Jackie Chan and Donnie Yen\\nBy Gavin J Blair\\n\\n### Salma Hayek Reveals She Never Signed a Prenup With Husband, Multi-Billionaire François-Henri Pinault\\nBy Christy Piña\\nMust Reads\\n\\nAll Those A-List Celebs Couldn’t Save Harris, But Joe Rogan Helped Trump\\nBy James Hibberd\\n\\n‘Yellowstone’ Director Reveals How They’ll Keep New Season Spoilers From Leaking\\nBy Jackie Strause\\n\\nHollywood’s 20 Best Political Movies, Ranked\\nBy David Rooney\\n\\nThe Definitive Voice of Entertainment News\\nSubscribe for full access to The Hollywood Reporter\\nSEE MY OPTIONS Sign Up\\n\\n\\n\\nPMC Logo\\nMost Popular\\n### 178 Amazon Favorites That Have Earned a Spot In Everyone\\'s Cart\\n### British Artist Sarah Cunningham Dies at 31, Trio Charged for Vandalizing Homes of Brooklyn Museum Execs, and More: Morning Links for November 5, 2024\\n### NFL Bettors Sting DraftKings, Cost Company $250 Million\\n### Diddy\\'s Birthday Meal Revealed As Mogul Spends 55th B-Day Behind Bars\\nYou may also like\\n ### The Best Yoga Mats for Any Practice, According to Instructors 8 months ago\\n ### 20 Stellar Gifts From Black-Owned Luxury Brands, From Bourbon to Bedding 1 day ago\\n ### Ab-Soul, FERG, Young Nudy, And Other New Hip-Hop Releases To Break The Weather 11 hours ago\\n ### Bad Bunny, Carín León y Karol G entre nominados latinos a Premios Pollstar 2025 8 hours ago\\n\\nSubscriber Support\\n\\nGet the Magazine\\nCustomer Service\\nBack Issues\\nE-edition Access\\n\\nThe Hollywood Reporter\\n\\nAbout Us\\nMedia Kit\\nCareers\\nContact Us\\nAccessibility\\n\\nLegal\\n\\nTerms of Use\\nPrivacy Policy\\nCalifornia Privacy Rights\\nAdChoices\\nYour Privacy Choices\\n\\nFollow Us\\n\\nFacebook Facebook\\nInstagram Instagram\\nX X\\nYouTube YouTube\\n\\nNewsletter Sign Up\\nSign Up \\nSubscribe Sign Up\\nBy providing your information, you agree to our Terms of Use and our Privacy Policy. We use vendors that may also process your information to help provide our services. // This site is protected by reCAPTCHA Enterprise and the Google Privacy Policy and Terms of Service apply.\\nHave a Tip?\\nSend us a tip using our anonymous form.\\nSend Us a Tip Sign Up\\nIcon Link Plus Icon\\nThe Hollywood Reporter is a part of Penske Media Corporation. © 2024 The Hollywood Reporter, LLC. All Rights Reserved.\\nTHE HOLLYWOOD REPORTER is a registered trademark of The Hollywood Reporter, LLC.\\nPowered by WordPress.com VIP\\nOur Sites\\n\\nArt in America\\nArtforum\\nArtnews\\nATX TV\\nATX TV Festival\\nBGR\\nBillboard\\nBlogHer\\nDeadline\\nFlow Space\\nFootwear News\\nGoldDerby\\nIndieWire\\nLA3C\\nLife is Beautiful\\nRobb Report\\nRolling Stone\\nSheKnows\\nSoaps\\nSourcing Journal\\nSportico\\nSpy\\nStyleCaster\\nThe Hollywood Reporter\\nTVLine\\nVariety\\nVibe\\nWWD\\n\\nClose the menu\\nThe Hollywood Reporter homepage\\n\\n\\nNews Expand news menu\\n\\nLatest News\\nLabor\\nCulture & Politics\\nTech & Digital\\nMusic\\nLA/Local\\nTHR Investigates\\nObituaries\\n\\nFilm Expand film menu\\n\\n\\nNews\\n\\nFeatures\\nReviews\\nBox Office\\nHeat Vision\\n\\nTV Expand tv menu\\n\\n\\nNews\\n\\nFeatures\\nReviews\\nRatings\\nLive Feed\\nHeat Vision\\nThe Fien Print\\nTV\\'s Top 5 Podcast\\n\\nAwards Expand awards menu\\n\\n\\nNews\\n\\nAwards Chatter Podcast\\nFeinberg Forecast\\nBehind The Screen\\nThe Race\\nTHR Presents\\nEmmys Hub\\n\\nLifestyle Expand lifestyle menu\\n\\n\\nNews\\n\\nStyle\\nShopping\\nArts\\nReal Estate\\nRambling Reporter\\n\\nBusiness Expand business menu\\n\\n\\nTHR, Esq\\n\\nLabor\\nFilm and TV Tax Credits\\nFeatures\\n\\nTHR Charts Expand thr-charts menu\\n\\n\\nStreaming Ratings\\n\\nBroadcast Ratings\\nBox Office\\nTHR Charts Videos\\n\\nMore Essentials Expand more-essentials menu\\n\\n\\nInternational News\\n\\nVideo\\nMusic\\nPodcasts\\nFeatured Voices\\n\\n\\n\\nFollow Us\\n\\nFollow THR on Facebook\\nFollow THR on Instagram\\nFollow THR on X\\nFollow THR on YouTube\\n\\nAlerts & Newsletters\\nYour Email \\nSubscribe Sign Up\\nBy providing your information, you agree to our Terms of Use and our Privacy Policy. We use vendors that may also process your information to help provide our services. // This site is protected by reCAPTCHA Enterprise and the Google Privacy Policy and Terms of Service apply.\\noptional screen reader\\n\\nAbout Us\\nAdvertise\\nCareers\\nContact Us\\n\\nIcon Link Plus Icon The Hollywood Reporter is a part of Penske Media Corporation. © 2024 The Hollywood Reporter, LLC. All Rights Reserved.\\nTHE HOLLYWOOD REPORTER is a registered trademark of The Hollywood Reporter, LLC.\\nad</raw></document>']\n"
     ]
    }
   ],
   "source": [
    "from rag.tavily import TavilySearch\n",
    "\n",
    "# Create the search tool\n",
    "tavily_tool = TavilySearch()\n",
    "\n",
    "search_query = \"Who is the 2024 Nobel Prize winner in Literature?\"\n",
    "\n",
    "# Example of search using various parameters\n",
    "search_result = tavily_tool.search(\n",
    "    query=search_query,  # Search query\n",
    "    max_results=3,  # Maximum number of search results\n",
    "    format_output=True,  # Format the output\n",
    ")\n",
    "\n",
    "# Print the search results\n",
    "print(search_result)\n"
   ]
  },
  {
   "cell_type": "markdown",
   "metadata": {},
   "source": [
    "Package it as a search node and add it (create a function)."
   ]
  },
  {
   "cell_type": "code",
   "execution_count": 23,
   "metadata": {},
   "outputs": [],
   "source": [
    "# Web Search Node\n",
    "def web_search(state: GraphState) -> GraphState:\n",
    "    # Create the search tool\n",
    "    tavily_tool = TavilySearch()\n",
    "\n",
    "    search_query = state[\"question\"]\n",
    "\n",
    "    # Example of search using various parameters\n",
    "    search_result = tavily_tool.search(\n",
    "        query=search_query,  # Search query\n",
    "        topic=\"general\",  # General topic\n",
    "        max_results=6,  # Maximum number of search results\n",
    "        format_output=True,  # Format the output\n",
    "    )\n",
    "\n",
    "    return {\"context\": search_result}\n"
   ]
  },
  {
   "cell_type": "markdown",
   "metadata": {},
   "source": [
    "## Edges\n",
    "\n",
    "- `Edges` : Python functions that determine the next `Node` to execute based on the current `State` .\n",
    "\n",
    "There are various types such as regular edges and conditional edges."
   ]
  },
  {
   "cell_type": "code",
   "execution_count": 24,
   "metadata": {},
   "outputs": [],
   "source": [
    "from langgraph.graph import END, StateGraph\n",
    "from langgraph.checkpoint.memory import MemorySaver\n",
    "\n",
    "# Define the graph\n",
    "workflow = StateGraph(GraphState)\n",
    "\n",
    "# Add nodes\n",
    "workflow.add_node(\"retrieve\", retrieve_document)\n",
    "workflow.add_node(\"relevance_check\", relevance_check)\n",
    "workflow.add_node(\"llm_answer\", llm_answer)\n",
    "\n",
    "# Add the Web Search node\n",
    "workflow.add_node(\"web_search\", web_search)\n",
    "\n",
    "# Add edges\n",
    "workflow.add_edge(\"retrieve\", \"relevance_check\")  # Retrieval -> Relevance Check\n",
    "\n",
    "# Add conditional edges\n",
    "workflow.add_conditional_edges(\n",
    "    \"relevance_check\",  # Pass the result from the relevance check node to the is_relevant function.\n",
    "    is_relevant,\n",
    "    {\n",
    "        \"relevant\": \"llm_answer\",  # If relevant, generate an answer.\n",
    "        \"not relevant\": \"web_search\",  # If not relevant, perform a web search.\n",
    "    },\n",
    ")\n",
    "\n",
    "workflow.add_edge(\"web_search\", \"llm_answer\")  # Web Search -> Answer\n",
    "workflow.add_edge(\"llm_answer\", END)  # Answer -> End\n",
    "\n",
    "# Set the entry point of the graph\n",
    "workflow.set_entry_point(\"retrieve\")\n",
    "\n",
    "# Set the checkpointer\n",
    "memory = MemorySaver()\n",
    "\n",
    "# Compile the graph\n",
    "app = workflow.compile(checkpointer=memory)"
   ]
  },
  {
   "cell_type": "markdown",
   "metadata": {},
   "source": [
    "Visualize the compiled graph."
   ]
  },
  {
   "cell_type": "code",
   "execution_count": 25,
   "metadata": {},
   "outputs": [
    {
     "data": {
      "image/png": "[encoded data removed]",
      "text/plain": [
       "<IPython.core.display.Image object>"
      ]
     },
     "metadata": {},
     "output_type": "display_data"
    }
   ],
   "source": [
    "from rag.graphs import visualize_graph\n",
    "\n",
    "visualize_graph(app)"
   ]
  },
  {
   "cell_type": "markdown",
   "metadata": {},
   "source": [
    "## Graph Execution\n",
    "\n",
    "- The `config` parameter passes configuration information needed for graph execution.\n",
    "- `recursion_limit` : Sets the maximum number of recursions during graph execution.\n",
    "- `inputs` : Passes the input information needed for graph execution."
   ]
  },
  {
   "cell_type": "markdown",
   "metadata": {},
   "source": [
    "If the `relevance_check` of the search results fails, it performs a search and provides web search results."
   ]
  },
  {
   "cell_type": "code",
   "execution_count": 26,
   "metadata": {},
   "outputs": [
    {
     "name": "stdout",
     "output_type": "stream",
     "text": [
      "==== [RELEVANCE CHECK] ====\n",
      "no\n",
      "\n",
      "==================================================\n",
      "🔄 Node: \u001b[1;36mrelevance_check\u001b[0m 🔄\n",
      "- - - - - - - - - - - - - - - - - - - - - - - - - \n",
      "==================================================\n",
      "\n",
      "==================================================\n",
      "🔄 Node: \u001b[1;36mllm_answer\u001b[0m 🔄\n",
      "- - - - - - - - - - - - - - - - - - - - - - - - - \n",
      "('user', 'Who is the 2024 Nobel Prize winner in Literature?')\n",
      "('assistant', 'The 2024 Nobel Prize in Literature has been awarded to Han Kang, a South Korean author, for her \"intense poetic prose that confronts historical traumas and exposes the fragility of human life.\"\\n\\n**Source**\\n- [CNN](https://www.cnn.com/2024/10/10/style/han-kang-nobel-prize-literature-intl/index.html)\\n- [CBC.ca](https://www.cbc.ca/news/entertainment/nobel-prize-literature-2024-1.7348300)\\n- [NobelPrize.org](https://www.nobelprize.org/prizes/literature/2024/prize-announcement/)\\n- [Los Angeles Times](https://www.latimes.com/world-nation/story/2024-10-16/what-to-know-about-han-kang-the-winner-of-the-2024-nobel-prize-in-literature)\\n- [Reuters](https://www.reuters.com/world/han-kang-wins-2024-nobel-literature-prize-2024-10-10/)')\n",
      "==================================================\n"
     ]
    }
   ],
   "source": [
    "from langchain_core.runnables import RunnableConfig\n",
    "from rag.messages import stream_graph, invoke_graph, random_uuid\n",
    "\n",
    "\n",
    "# Config settings (maximum recursion limit, thread_id)\n",
    "config = RunnableConfig(recursion_limit=10, configurable={\"thread_id\": random_uuid()})\n",
    "\n",
    "# Input question\n",
    "inputs = GraphState(question=\"Who is the 2024 Nobel Prize winner in Literature?\")\n",
    "\n",
    "# Execute the graph\n",
    "invoke_graph(app, inputs, config, [\"relevance_check\", \"llm_answer\"])\n"
   ]
  },
  {
   "cell_type": "code",
   "execution_count": 27,
   "metadata": {},
   "outputs": [
    {
     "name": "stdout",
     "output_type": "stream",
     "text": [
      "\n",
      "==================================================\n",
      "🔄 Node: \u001b[1;36mrelevance_check\u001b[0m 🔄\n",
      "- - - - - - - - - - - - - - - - - - - - - - - - - \n",
      "==== [RELEVANCE CHECK] ====\n",
      "no\n",
      "\n",
      "==================================================\n",
      "🔄 Node: \u001b[1;36mllm_answer\u001b[0m 🔄\n",
      "- - - - - - - - - - - - - - - - - - - - - - - - - \n",
      "The 2024 Nobel Prize in Literature has been awarded to Han Kang, a South Korean author, for her \"intense poetic prose that confronts historical traumas and exposes the fragility of human life.\"\n",
      "\n",
      "**Source**\n",
      "- [CNN](https://www.cnn.com/2024/10/10/style/han-kang-nobel-prize-literature-intl/index.html)\n",
      "- [CBC.ca](https://www.cbc.ca/news/entertainment/nobel-prize-literature-2024-1.7348300)\n",
      "- [NobelPrize.org](https://www.nobelprize.org/prizes/literature/2024/prize-announcement/)\n",
      "- [Los Angeles Times](https://www.latimes.com/world-nation/story/2024-10-16/what-to-know-about-han-kang-the-winner-of-the-2024-nobel-prize-in-literature)\n",
      "- [PBS](https://www.pbs.org/newshour/arts/watch-live-the-winner-of-the-2024-nobel-prize-in-literature-is)"
     ]
    }
   ],
   "source": [
    "# Graph Streaming Output\n",
    "stream_graph(app, inputs, config, [\"relevance_check\", \"llm_answer\"])\n"
   ]
  },
  {
   "cell_type": "code",
   "execution_count": 28,
   "metadata": {},
   "outputs": [
    {
     "name": "stdout",
     "output_type": "stream",
     "text": [
      "Question: Who is the 2024 Nobel Prize winner in Literature?\n",
      "============================================================\n",
      "Answer:\n",
      "The 2024 Nobel Prize in Literature has been awarded to Han Kang, a South Korean author, for her \"intense poetic prose that confronts historical traumas and exposes the fragility of human life.\"\n",
      "\n",
      "**Source**\n",
      "- [CNN](https://www.cnn.com/2024/10/10/style/han-kang-nobel-prize-literature-intl/index.html)\n",
      "- [CBC.ca](https://www.cbc.ca/news/entertainment/nobel-prize-literature-2024-1.7348300)\n",
      "- [NobelPrize.org](https://www.nobelprize.org/prizes/literature/2024/prize-announcement/)\n",
      "- [Los Angeles Times](https://www.latimes.com/world-nation/story/2024-10-16/what-to-know-about-han-kang-the-winner-of-the-2024-nobel-prize-in-literature)\n",
      "- [PBS](https://www.pbs.org/newshour/arts/watch-live-the-winner-of-the-2024-nobel-prize-in-literature-is)\n"
     ]
    }
   ],
   "source": [
    "# Final Output Check\n",
    "outputs = app.get_state(config).values\n",
    "\n",
    "print(f'Question: {outputs[\"question\"]}')\n",
    "print(\"===\" * 20)\n",
    "print(f'Answer:\\n{outputs[\"answer\"]}')\n"
   ]
  }
 ],
 "metadata": {
  "kernelspec": {
   "display_name": "langchain-kr-bpXWMSjn-py3.11",
   "language": "python",
   "name": "python3"
  },
  "language_info": {
   "codemirror_mode": {
    "name": "ipython",
    "version": 3
   },
   "file_extension": ".py",
   "mimetype": "text/x-python",
   "name": "python",
   "nbconvert_exporter": "python",
   "pygments_lexer": "ipython3",
   "version": "3.11.9"
  }
 },
 "nbformat": 4,
 "nbformat_minor": 2
}
