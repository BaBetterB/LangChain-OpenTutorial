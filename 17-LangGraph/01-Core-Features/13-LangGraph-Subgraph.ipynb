{
  "cells": [
    {
      "cell_type": "markdown",
      "id": "635d8ebb",
      "metadata": {},
      "source": [
        "# LangGrpah Subgraph\n",
        "\n",
        "- Author: [Sunyoung Park (arcthicetyou)](https://github.com/arcthicetyou)\n",
        "- Design: \n",
        "- Peer Review: \n",
        "- This is a part of [LangChain Open Tutorial](https://github.com/LangChain-OpenTutorial/LangChain-OpenTutorial)\n",
        "\n",
        "[![Open in Colab](https://colab.research.google.com/assets/colab-badge.svg)](https://colab.research.google.com/github/LangChain-OpenTutorial/LangChain-OpenTutorial/blob/main/99-TEMPLATE/00-BASE-TEMPLATE-EXAMPLE.ipynb) [![Open in GitHub](https://img.shields.io/badge/Open%20in%20GitHub-181717?style=flat-square&logo=github&logoColor=white)](https://github.com/LangChain-OpenTutorial/LangChain-OpenTutorial/blob/main/99-TEMPLATE/00-BASE-TEMPLATE-EXAMPLE.ipynb)\n",
        "\n",
        "## Overview\n",
        "\n",
        "Using **SubGraphs** allows you to build complex systems containing multiple components, where these components themselves can become graphs. A common use case for **SubGraphs** is building multi-agent systems.\n",
        "\n",
        "The main consideration when adding **SubGraphs** is how the parent graph and SubGraph communicate, specifically how they pass state to each other during graph execution.\n",
        "\n",
        "- There are two scenarios:\n",
        "1. When the parent graph and `subgraph` share schema keys. In this case, you can add nodes with the compiled `subgraph`.\n",
        "2. When the parent graph and `subgraph` have different schemas. In this case, you need to add a node function that calls the `subgraph`.\n",
        "\n",
        "This is useful when the parent graph and `subgraph` have different state schemas and the state needs to be transformed before and after calling the `subgraph`.\n",
        "\n",
        "I'll show you how to add subgraphs for each scenario below.\n",
        "\n",
        "\n",
        "### Table of Contents\n",
        "\n",
        "- [Overview](#overview)\n",
        "- [Environment Setup](#environment-setup)\n",
        "- [Case 1: When Sharing Schema Keys](#case-1-when-sharing-schema-keys)\n",
        "- [Case 2: When Not Sharing Schema Keys](#case-2-when-not-sharing-schema-keys)\n",
        "\n",
        "### References\n",
        "\n",
        "- [How to add and use subgraphs](https://langchain-ai.github.io/langgraph/how-tos/subgraph/)\n",
        "----"
      ]
    },
    {
      "cell_type": "markdown",
      "id": "c6c7aba4",
      "metadata": {},
      "source": [
        "## Environment Setup\n",
        "\n",
        "Setting up your environment is the first step. See the [Environment Setup](https://wikidocs.net/257836) guide for more details.\n",
        "\n",
        "\n",
        "**[Note]**\n",
        "\n",
        "The langchain-opentutorial is a package of easy-to-use environment setup guidance, useful functions and utilities for tutorials.\n",
        "Check out the  [`langchain-opentutorial`](https://github.com/LangChain-OpenTutorial/langchain-opentutorial-pypi) for more details."
      ]
    },
    {
      "cell_type": "code",
      "execution_count": 1,
      "id": "21943adb",
      "metadata": {},
      "outputs": [],
      "source": [
        "%%capture --no-stderr\n",
        "%pip install langchain-opentutorial"
      ]
    },
    {
      "cell_type": "code",
      "execution_count": 3,
      "id": "f25ec196",
      "metadata": {},
      "outputs": [
        {
          "name": "stderr",
          "output_type": "stream",
          "text": [
            "\n",
            "\u001b[1m[\u001b[0m\u001b[34;49mnotice\u001b[0m\u001b[1;39;49m]\u001b[0m\u001b[39;49m A new release of pip is available: \u001b[0m\u001b[31;49m24.2\u001b[0m\u001b[39;49m -> \u001b[0m\u001b[32;49m24.3.1\u001b[0m\n",
            "\u001b[1m[\u001b[0m\u001b[34;49mnotice\u001b[0m\u001b[1;39;49m]\u001b[0m\u001b[39;49m To update, run: \u001b[0m\u001b[32;49mpip install --upgrade pip\u001b[0m\n"
          ]
        }
      ],
      "source": [
        "# Install required packages\n",
        "from langchain_opentutorial import package\n",
        "\n",
        "package.install(\n",
        "    [\n",
        "        \"langgraph\",\n",
        "    ],\n",
        "    verbose=False,\n",
        "    upgrade=False,\n",
        ")"
      ]
    },
    {
      "cell_type": "markdown",
      "id": "690a9ae0",
      "metadata": {},
      "source": [
        "You can set API keys in a `.env` file or set them manually.\n",
        "\n",
        "[Note] If you’re not using the `.env` file, no worries! Just enter the keys directly in the cell below, and you’re good to go."
      ]
    },
    {
      "cell_type": "code",
      "execution_count": null,
      "id": "327c2c7c",
      "metadata": {},
      "outputs": [],
      "source": [
        "from dotenv import load_dotenv\n",
        "from langchain_opentutorial import set_env\n",
        "\n",
        "# Attempt to load environment variables from a .env file; if unsuccessful, set them manually.\n",
        "if not load_dotenv():\n",
        "    set_env(\n",
        "        {\n",
        "            \"OPENAI_API_KEY\": \"\",\n",
        "            \"LANGCHAIN_API_KEY\": \"\",\n",
        "            \"LANGCHAIN_TRACING_V2\": \"true\",\n",
        "            \"LANGCHAIN_ENDPOINT\": \"https://api.smith.langchain.com\",\n",
        "            \"LANGCHAIN_PROJECT\": \"LangGraph Subgraph\",\n",
        "        }\n",
        "    )"
      ]
    },
    {
      "cell_type": "markdown",
      "id": "aa00c3f4",
      "metadata": {},
      "source": [
        "## Case 1: When Sharing Schema Keys\n",
        "\n",
        "### Adding Nodes with Compiled SubGraphs\n",
        "\n",
        "It's a common case where the parent graph and subgraph communicate through shared state keys.\n",
        "For example, in multi-agent systems, agents typically communicate through a shared '`messages`' key.\n",
        "When a subgraph shares state keys with the parent graph, you can add it to the graph following these steps:\n",
        "\n",
        "1. Define and compile the subgraph workflow (`subgraph_builder` in the example below)\n",
        "2. Pass the compiled subgraph to the `.add_node` method when defining the parent graph workflow"
      ]
    },
    {
      "cell_type": "code",
      "execution_count": null,
      "id": "d34eac13",
      "metadata": {},
      "outputs": [],
      "source": [
        "from langgraph.graph import START, END, StateGraph\n",
        "from typing import TypedDict\n",
        "\n",
        "\n",
        "# 서브그래프 상태 정의를 위한 TypedDict 클래스, 부모 그래프와 공유되는 name 키와 서브그래프 전용 family_name 키 포함\n",
        "class ChildState(TypedDict):\n",
        "    name: str  # 부모 그래프와 공유되는 상태 키\n",
        "    family_name: str\n",
        "\n",
        "\n",
        "# 서브그래프의 첫 번째 노드, family_name 키에 초기값 설정\n",
        "def subgraph_node_1(state: ChildState):\n",
        "    return {\"family_name\": \"Lee\"}\n",
        "\n",
        "\n",
        "# 서브그래프의 두 번째 노드, 서브그래프 전용 family_name 키와 공유 name 키를 결합하여 새로운 상태 생성\n",
        "def subgraph_node_2(state: ChildState):\n",
        "    # 서브그래프 내부에서만 사용 가능한 family_name 키와 공유 상태 키 name를 사용하여 업데이트 수행\n",
        "    return {\"name\": f'{state[\"name\"]} {state[\"family_name\"]}'}\n",
        "\n",
        "\n",
        "# 서브그래프 구조 정의 및 노드 간 연결 관계 설정\n",
        "subgraph_builder = StateGraph(ChildState)\n",
        "subgraph_builder.add_node(subgraph_node_1)\n",
        "subgraph_builder.add_node(subgraph_node_2)\n",
        "subgraph_builder.add_edge(START, \"subgraph_node_1\")\n",
        "subgraph_builder.add_edge(\"subgraph_node_1\", \"subgraph_node_2\")\n",
        "subgraph = subgraph_builder.compile()"
      ]
    },
    {
      "cell_type": "markdown",
      "id": "bf9c6a34",
      "metadata": {},
      "source": [
        "Visualize the Graph"
      ]
    },
    {
      "cell_type": "code",
      "execution_count": null,
      "id": "715a67e6",
      "metadata": {},
      "outputs": [],
      "source": [
        "\n",
        "from langchain_teddynote.graphs import visualize_graph\n",
        "\n",
        "visualize_graph(subgraph, xray=True)"
      ]
    },
    {
      "cell_type": "code",
      "execution_count": null,
      "id": "377676b8",
      "metadata": {},
      "outputs": [],
      "source": [
        "# 부모 그래프의 상태 정의를 위한 TypedDict 클래스, name 키만 포함\n",
        "class ParentState(TypedDict):\n",
        "    name: str\n",
        "    company: str\n",
        "\n",
        "\n",
        "# 부모 그래프의 첫 번째 노드, name 키의 값을 수정하여 새로운 상태 생성\n",
        "def node_1(state: ParentState):\n",
        "    return {\"name\": f'My name is {state[\"name\"]}'}\n",
        "\n",
        "\n",
        "# 부모 그래프 구조 정의 및 서브그래프를 포함한 노드 간 연결 관계 설정\n",
        "builder = StateGraph(ParentState)\n",
        "builder.add_node(\"node_1\", node_1)\n",
        "# 컴파일된 서브그래프를 부모 그래프의 노드로 추가\n",
        "builder.add_node(\"node_2\", subgraph)\n",
        "builder.add_edge(START, \"node_1\")\n",
        "builder.add_edge(\"node_1\", \"node_2\")\n",
        "builder.add_edge(\"node_2\", END)\n",
        "graph = builder.compile()"
      ]
    },
    {
      "cell_type": "code",
      "execution_count": null,
      "id": "d681db5f",
      "metadata": {},
      "outputs": [],
      "source": [
        "from langchain_teddynote.graphs import visualize_graph\n",
        "\n",
        "visualize_graph(graph, xray=True)"
      ]
    },
    {
      "cell_type": "code",
      "execution_count": null,
      "id": "0f378726",
      "metadata": {},
      "outputs": [],
      "source": [
        "\n",
        "# 그래프 스트림에서 청크 단위로 데이터 처리 및 각 청크 출력\n",
        "for chunk in graph.stream({\"name\": \"Teddy\"}):\n",
        "    print(chunk)"
      ]
    },
    {
      "cell_type": "markdown",
      "id": "d6823547",
      "metadata": {},
      "source": [
        "The final output of the parent graph includes the results of the subgraph calls.\n",
        "\n",
        "To check the output of the subgraph, you can specify `subgraphs=True` when streaming."
      ]
    },
    {
      "cell_type": "code",
      "execution_count": null,
      "id": "0817a4e0",
      "metadata": {},
      "outputs": [],
      "source": [
        "# 그래프 스트리밍 처리를 통한 서브그래프 데이터 청크 단위 순차 출력\n",
        "# subgraphs 파라미터를 True로 설정하여 하위 그래프 포함 스트리밍 처리\n",
        "for chunk in graph.stream({\"name\": \"Teddy\"}, subgraphs=True):\n",
        "    print(chunk)"
      ]
    },
    {
      "cell_type": "markdown",
      "id": "da26218e",
      "metadata": {},
      "source": [
        "## Case 2: When Not Sharing Schema Keys\n",
        "\n",
        "### Adding Node Functions That Call Subgraphs\n",
        "\n",
        "In more complex systems, you might need to define subgraphs with completely different schemas from the parent graph (cases where there are no shared state keys).\n",
        "\n",
        "In such cases, you need to define a node function that calls the subgraph.\n",
        "\n",
        "This function must transform the parent state into child state before calling the subgraph, and transform the results back into parent state before returning state updates from the node.\n",
        "\n",
        "Below, we'll show how to modify the original example to call the subgraph within a node.\n",
        "\n",
        "\n",
        "[**Note**]\n",
        "- You **cannot** call more than one subgraph within the same node."
      ]
    },
    {
      "cell_type": "code",
      "execution_count": null,
      "id": "5fb3e924",
      "metadata": {},
      "outputs": [],
      "source": [
        "# 서브그래프의 상태 타입 정의 (부모 그래프와 키를 공유하지 않음)\n",
        "class ChildState(TypedDict):\n",
        "    # 부모 그래프와 공유되지 않는 키들\n",
        "    name: str\n",
        "\n",
        "\n",
        "# 서브그래프의 첫 번째 노드: name 키에 초기값 설정\n",
        "def subgraph_node_1(state: ChildState):\n",
        "    return {\"name\": \"Teddy \" + state[\"name\"]}\n",
        "\n",
        "\n",
        "# 서브그래프의 두 번째 노드: name 값 그대로 반환\n",
        "def subgraph_node_2(state: ChildState):\n",
        "    return {\"name\": f'My name is {state[\"name\"]}'}\n",
        "\n",
        "\n",
        "# 서브그래프 빌더 초기화 및 노드 연결 구성\n",
        "subgraph_builder = StateGraph(ChildState)\n",
        "subgraph_builder.add_node(subgraph_node_1)\n",
        "subgraph_builder.add_node(subgraph_node_2)\n",
        "subgraph_builder.add_edge(START, \"subgraph_node_1\")\n",
        "subgraph_builder.add_edge(\"subgraph_node_1\", \"subgraph_node_2\")\n",
        "subgraph = subgraph_builder.compile()\n",
        "\n",
        "\n",
        "# 부모 그래프의 상태 타입 정의\n",
        "class ParentState(TypedDict):\n",
        "    family_name: str\n",
        "    full_name: str\n",
        "\n",
        "\n",
        "# 부모 그래프의 첫 번째 노드: family_name 값 그대로 반환\n",
        "def node_1(state: ParentState):\n",
        "    return {\"family_name\": state[\"family_name\"]}\n",
        "\n",
        "\n",
        "# 부모 그래프의 두 번째 노드: 서브그래프와 상태 변환 및 결과 처리\n",
        "def node_2(state: ParentState):\n",
        "    # 부모 상태를 서브그래프 상태로 변환\n",
        "    response = subgraph.invoke({\"name\": state[\"family_name\"]})\n",
        "    # 서브그래프 응답을 부모 상태로 변환\n",
        "    return {\"full_name\": response[\"name\"]}\n",
        "\n",
        "\n",
        "# 부모 그래프 빌더 초기화 및 노드 연결 구성\n",
        "builder = StateGraph(ParentState)\n",
        "builder.add_node(\"node_1\", node_1)\n",
        "\n",
        "# 컴파일된 서브그래프 대신 서브그래프를 호출하는 node_2 함수 사용\n",
        "builder.add_node(\"node_2\", node_2)\n",
        "builder.add_edge(START, \"node_1\")\n",
        "builder.add_edge(\"node_1\", \"node_2\")\n",
        "builder.add_edge(\"node_2\", END)\n",
        "graph = builder.compile()"
      ]
    },
    {
      "cell_type": "markdown",
      "id": "9bfdf139",
      "metadata": {},
      "source": [
        "Visualize the Graph"
      ]
    },
    {
      "cell_type": "code",
      "execution_count": null,
      "id": "894cceff",
      "metadata": {},
      "outputs": [],
      "source": [
        "from langchain_teddynote.graphs import visualize_graph\n",
        "\n",
        "visualize_graph(graph, xray=True)"
      ]
    },
    {
      "cell_type": "code",
      "execution_count": 4,
      "id": "69cb77da",
      "metadata": {},
      "outputs": [],
      "source": [
        "# 그래프 스트리밍 처리를 통한 서브그래프 데이터 청크 단위 순차 출력\n",
        "# subgraphs=True 옵션으로 하위 그래프 포함하여 스트림 데이터 처리\n",
        "for chunk in graph.stream({\"family_name\": \"Lee\"}, subgraphs=True):\n",
        "    print(chunk)"
      ]
    }
  ],
  "metadata": {
    "kernelspec": {
      "display_name": "langchain-kr-lwwSZlnu-py3.11",
      "language": "python",
      "name": "python3"
    },
    "language_info": {
      "codemirror_mode": {
        "name": "ipython",
        "version": 3
      },
      "file_extension": ".py",
      "mimetype": "text/x-python",
      "name": "python",
      "nbconvert_exporter": "python",
      "pygments_lexer": "ipython3",
      "version": "3.11.10"
    }
  },
  "nbformat": 4,
  "nbformat_minor": 5
}
