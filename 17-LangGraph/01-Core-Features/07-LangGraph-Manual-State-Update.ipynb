{
 "cells": [
  {
   "cell_type": "markdown",
   "id": "6bc6fba4",
   "metadata": {},
   "source": [
    "# LangGraph Manual State Update\n",
    "\n",
    "- Author: [YooKyung Jeon](https://github.com/sirena1)\n",
    "- Peer Review:\n",
    "- This is a part of [LangChain Open Tutorial](https://github.com/LangChain-OpenTutorial/LangChain-OpenTutorial)\n",
    "\n",
    "[![Open in Colab](https://colab.research.google.com/assets/colab-badge.svg)](https://colab.research.google.com/github/LangChain-OpenTutorial/LangChain-OpenTutorial/blob/main/99-TEMPLATE/00-BASE-TEMPLATE-EXAMPLE.ipynb) [![Open in GitHub](https://img.shields.io/badge/Open%20in%20GitHub-181717?style=flat-square&logo=github&logoColor=white)](https://github.com/LangChain-OpenTutorial/LangChain-OpenTutorial/blob/main/99-TEMPLATE/00-BASE-TEMPLATE-EXAMPLE.ipynb)\n",
    "\n",
    "## Overview\n",
    "\n",
    "LangGraph provides a way to **manually update the intermediate state**.\n",
    "\n",
    "By updating the state, you can **control the path by modifying the agent's behavior**, and even revise the past.\n",
    "\n",
    "This feature is especially useful for **correcting the agent's mistakes**, **exploring alternative routes**, or **modifying the agent's behavior** according to a specific goal.\n",
    "\n",
    "- Note: The agent used in this tutorial defines the same graph as the previous tutorial.\n",
    "\n",
    "### Table of Contents\n",
    "\n",
    "- [Overview](#overview)\n",
    "- [Environment Setup](#environment-setup)\n",
    "- [Human in the loop](#human-in-the-loop)\n",
    "- [Update the message state after an interrupt](#update-the-message-state-after-an-interrupt)\n",
    "- [Modify the result of the past snapshot and replay](#modify-the-result-of-the-past-snapshot-and-replay)\n",
    "\n",
    "### References\n",
    "\n",
    "- [LangGraph Tutorial](https://langchain-ai.github.io/langgraph/tutorials)\n",
    "- [How to visualize your graph](https://langchain-ai.github.io/langgraph/how-tos/visualization/)\n",
    "----"
   ]
  },
  {
   "cell_type": "markdown",
   "id": "eb2c87fb",
   "metadata": {},
   "source": [
    "## Environment Setup\n",
    "\n",
    "Set up the environment. You may refer to [Environment Setup](https://wikidocs.net/257836) for more details.\n",
    "\n",
    "**[Note]**\n",
    "- `langchain-opentutorial` is a package that provides a set of easy-to-use environment setup, useful functions and utilities for tutorials. \n",
    "- You can checkout the [`langchain-opentutorial`](https://github.com/LangChain-OpenTutorial/langchain-opentutorial-pypi) for more details."
   ]
  },
  {
   "cell_type": "code",
   "execution_count": null,
   "id": "b3f8726c",
   "metadata": {},
   "outputs": [],
   "source": [
    "%%capture --no-stderr\n",
    "%pip install langchain-opentutorial"
   ]
  },
  {
   "cell_type": "code",
   "execution_count": null,
   "id": "69d141d6",
   "metadata": {},
   "outputs": [],
   "source": [
    "# Install required packages\n",
    "from langchain_opentutorial import package\n",
    "\n",
    "package.install(\n",
    "    [\n",
    "        \"langchain\",\n",
    "        \"langchain_openai\",\n",
    "        \"langchain_core\",\n",
    "        \"langchain_community\",\n",
    "        \"anytree\"\n",
    "    ],\n",
    "    verbose=False,\n",
    "    upgrade=False,\n",
    ")"
   ]
  },
  {
   "cell_type": "code",
   "execution_count": null,
   "id": "60cfadc2",
   "metadata": {},
   "outputs": [],
   "source": [
    "# Set environment variables\n",
    "from langchain_opentutorial import set_env\n",
    "\n",
    "set_env(\n",
    "    {\n",
    "        \"OPENAI_API_KEY\": \"\",\n",
    "        \"LANGCHAIN_API_KEY\": \"\",\n",
    "        \"LANGCHAIN_TRACING_V2\": \"true\",\n",
    "        \"LANGCHAIN_ENDPOINT\": \"https://api.smith.langchain.com\",\n",
    "        \"LANGCHAIN_PROJECT\": \"07-LangGraph-Manual-State-Update\",\n",
    "    }\n",
    ")"
   ]
  },
  {
   "cell_type": "code",
   "execution_count": 1,
   "id": "de9d9d8d",
   "metadata": {},
   "outputs": [
    {
     "data": {
      "text/plain": [
       "True"
      ]
     },
     "execution_count": 1,
     "metadata": {},
     "output_type": "execute_result"
    }
   ],
   "source": [
    "from dotenv import load_dotenv\n",
    "\n",
    "load_dotenv(override=True)"
   ]
  },
  {
   "cell_type": "code",
   "execution_count": 2,
   "id": "e5d857b9",
   "metadata": {},
   "outputs": [
    {
     "data": {
      "image/png": "[encoded data removed]",
      "text/plain": [
       "<IPython.core.display.Image object>"
      ]
     },
     "metadata": {},
     "output_type": "display_data"
    }
   ],
   "source": [
    "from typing import Annotated\n",
    "from typing_extensions import TypedDict\n",
    "\n",
    "from langchain_community.tools.tavily_search import TavilySearchResults\n",
    "from langchain_openai import ChatOpenAI\n",
    "from langgraph.checkpoint.memory import MemorySaver\n",
    "from langgraph.graph import StateGraph, START, END\n",
    "from langgraph.graph.message import add_messages\n",
    "from langgraph.prebuilt import ToolNode, tools_condition\n",
    "\n",
    "from IPython.display import Image, display\n",
    "from langchain_core.runnables.graph import MermaidDrawMethod\n",
    "\n",
    "\n",
    "########## 1. Define State ##########\n",
    "# Define State\n",
    "class State(TypedDict):\n",
    "    # Add comments to the message list\n",
    "    messages: Annotated[list, add_messages]\n",
    "\n",
    "\n",
    "########## 2. Tool Definition and Binding ##########\n",
    "# Tool initialization\n",
    "tool = TavilySearchResults(max_results=3)\n",
    "\n",
    "# Define the list of tools\n",
    "tools = [tool]\n",
    "\n",
    "# LLM initialization\n",
    "llm = ChatOpenAI(model=\"gpt-4o-mini\")\n",
    "\n",
    "# Combine tools with LLM\n",
    "llm_with_tools = llm.bind_tools(tools)\n",
    "\n",
    "\n",
    "########## 3. Add Nodes ##########\n",
    "# Define chatbot function\n",
    "def chatbot(state: State):\n",
    "    # Call and return messages\n",
    "    return {\"messages\": [llm_with_tools.invoke(state[\"messages\"])]}\n",
    "\n",
    "\n",
    "# Create state graph\n",
    "graph_builder = StateGraph(State)\n",
    "\n",
    "# Add chatbot node\n",
    "graph_builder.add_node(\"chatbot\", chatbot)\n",
    "\n",
    "\n",
    "# Create and add tool node\n",
    "tool_node = ToolNode(tools=tools)\n",
    "\n",
    "# Add tool node\n",
    "graph_builder.add_node(\"tools\", tool_node)\n",
    "\n",
    "# Conditional edges\n",
    "graph_builder.add_conditional_edges(\n",
    "    \"chatbot\",\n",
    "    tools_condition,\n",
    ")\n",
    "\n",
    "########## 4. Add Edges ##########\n",
    "\n",
    "# tools > chatbot\n",
    "graph_builder.add_edge(\"tools\", \"chatbot\")\n",
    "\n",
    "# START > chatbot\n",
    "graph_builder.add_edge(START, \"chatbot\")\n",
    "\n",
    "# chatbot > END\n",
    "graph_builder.add_edge(\"chatbot\", END)\n",
    "\n",
    "########## 5. Graph Compile ##########\n",
    "# Initialize memory store\n",
    "memory = MemorySaver()\n",
    "\n",
    "# Compile graph builder\n",
    "graph = graph_builder.compile(checkpointer=memory)\n",
    "\n",
    "########## 6. Graph Visualization ##########\n",
    "display(\n",
    "    Image(\n",
    "        graph.get_graph().draw_mermaid_png(\n",
    "            draw_method=MermaidDrawMethod.API,\n",
    "        )\n",
    "    )\n",
    ")"
   ]
  },
  {
   "cell_type": "code",
   "execution_count": 3,
   "id": "d0b61953",
   "metadata": {},
   "outputs": [],
   "source": [
    "from langchain_core.runnables import RunnableConfig\n",
    "\n",
    "# question\n",
    "question = \"Please research and tell me what LangGraph is!\"\n",
    "\n",
    "# Define initial state\n",
    "input = State(messages=[(\"user\", question)])\n",
    "\n",
    "# Define config\n",
    "config = RunnableConfig(\n",
    "    configurable={\"thread_id\": \"1\"},  # Set thread ID\n",
    ")"
   ]
  },
  {
   "cell_type": "markdown",
   "id": "6ab2ab8a",
   "metadata": {},
   "source": [
    "First, display the list of channels to show the options where **interrupt_before** and **interrupt_after** can be applied."
   ]
  },
  {
   "cell_type": "code",
   "execution_count": 4,
   "id": "005ec550",
   "metadata": {},
   "outputs": [
    {
     "data": {
      "text/plain": [
       "['messages',\n",
       " '__start__',\n",
       " 'chatbot',\n",
       " 'tools',\n",
       " 'branch:__start__:__self__:chatbot',\n",
       " 'branch:__start__:__self__:tools',\n",
       " 'branch:chatbot:__self__:chatbot',\n",
       " 'branch:chatbot:__self__:tools',\n",
       " 'branch:tools:__self__:chatbot',\n",
       " 'branch:tools:__self__:tools',\n",
       " 'start:chatbot',\n",
       " 'branch:chatbot:tools_condition:tools']"
      ]
     },
     "execution_count": 4,
     "metadata": {},
     "output_type": "execute_result"
    }
   ],
   "source": [
    "# Display the list of graph channels\n",
    "list(graph.channels)"
   ]
  },
  {
   "cell_type": "code",
   "execution_count": 5,
   "id": "cf1b5314",
   "metadata": {},
   "outputs": [
    {
     "name": "stdout",
     "output_type": "stream",
     "text": [
      "================================\u001b[1m Human Message \u001b[0m=================================\n",
      "\n",
      "Please research and tell me what LangGraph is!\n",
      "==================================\u001b[1m Ai Message \u001b[0m==================================\n",
      "Tool Calls:\n",
      "  tavily_search_results_json (call_bBGkxqgvfIQUBBPtJ2IImtBi)\n",
      " Call ID: call_bBGkxqgvfIQUBBPtJ2IImtBi\n",
      "  Args:\n",
      "    query: LangGraph\n"
     ]
    }
   ],
   "source": [
    "# Call graph stream\n",
    "events = graph.stream(\n",
    "    input=input, config=config, interrupt_before=[\"tools\"], stream_mode=\"values\"\n",
    ")\n",
    "\n",
    "# Iterate over events\n",
    "for event in events:\n",
    "    # If the message is included in the event\n",
    "    if \"messages\" in event:\n",
    "        # Pretty print the last message\n",
    "        event[\"messages\"][-1].pretty_print()"
   ]
  },
  {
   "cell_type": "markdown",
   "id": "8ee8250e",
   "metadata": {},
   "source": [
    "The current step is interrupted by `ToolNode`.\n",
    "\n",
    "Check the most recent message to see that `ToolNode` contains the `query` before performing the search.\n",
    "\n",
    "Here, the `query` contains only the word `LangGraph`. (The original question was `\"Please research and tell me what LangGraph is!\"`)\n",
    "\n",
    "Of course, the web search result may not be what we want."
   ]
  },
  {
   "cell_type": "code",
   "execution_count": 6,
   "id": "731587a0",
   "metadata": {},
   "outputs": [
    {
     "name": "stdout",
     "output_type": "stream",
     "text": [
      "==================================\u001b[1m Ai Message \u001b[0m==================================\n",
      "Tool Calls:\n",
      "  tavily_search_results_json (call_bBGkxqgvfIQUBBPtJ2IImtBi)\n",
      " Call ID: call_bBGkxqgvfIQUBBPtJ2IImtBi\n",
      "  Args:\n",
      "    query: LangGraph\n"
     ]
    }
   ],
   "source": [
    "# Create graph state snapshot\n",
    "snapshot = graph.get_state(config)\n",
    "\n",
    "# Extract the most recent message\n",
    "last_message = snapshot.values[\"messages\"][-1]\n",
    "\n",
    "# Print the message\n",
    "last_message.pretty_print()"
   ]
  },
  {
   "cell_type": "markdown",
   "id": "3dad6839",
   "metadata": {},
   "source": [
    "## Human in the loop\n",
    "\n",
    "- Modify the **search result** from `TavilySearch` tool\n",
    "\n",
    "We often find that the result of `ToolMessage` is not satisfactory.\n",
    "\n",
    "In particular, the answer obtained from web search may contain incorrect information, which can also affect the chatbot's answer.\n",
    "\n",
    "If you want to modify the `ToolMessage` from the `Tavily Tool` and pass it to the LLM, how can you do it?"
   ]
  },
  {
   "cell_type": "markdown",
   "id": "9e301863",
   "metadata": {},
   "source": [
    "![](./image/langgraph-01.png)"
   ]
  },
  {
   "cell_type": "markdown",
   "id": "f3a0d4cc",
   "metadata": {},
   "source": [
    "Below is a modified virtual web search result that is slightly different from the original web search result."
   ]
  },
  {
   "cell_type": "code",
   "execution_count": 7,
   "id": "0d8efa7d",
   "metadata": {},
   "outputs": [
    {
     "name": "stdout",
     "output_type": "stream",
     "text": [
      "[Modified web search result] \n",
      "LangGraph supports building state-based multi-actor applications using LLMs.\n",
      "LangGraph is an open-source library that provides features such as cyclic flow, controllability, persistence, and cloud deployment capabilities.\n",
      "\n",
      "For detailed tutorials, refer to [LangGraph Tutorial](https://langchain-ai.github.io/langgraph/tutorials/).\n"
     ]
    }
   ],
   "source": [
    "modified_search_result = \"\"\"[Modified web search result] \n",
    "LangGraph supports building state-based multi-actor applications using LLMs.\n",
    "LangGraph is an open-source library that provides features such as cyclic flow, controllability, persistence, and cloud deployment capabilities.\n",
    "\n",
    "For detailed tutorials, refer to [LangGraph Tutorial](https://langchain-ai.github.io/langgraph/tutorials/).\"\"\"\n",
    "\n",
    "print(modified_search_result)"
   ]
  },
  {
   "cell_type": "markdown",
   "id": "a18cff2a",
   "metadata": {},
   "source": [
    "Next, inject the modified search result into the `ToolMessage`. \n",
    "\n",
    "**중요**\n",
    "\n",
    "- To modify the message, you need to specify the `tool_call_id` that matches the message you want to modify."
   ]
  },
  {
   "cell_type": "code",
   "execution_count": 8,
   "id": "52368d6e",
   "metadata": {},
   "outputs": [
    {
     "name": "stdout",
     "output_type": "stream",
     "text": [
      "call_bBGkxqgvfIQUBBPtJ2IImtBi\n"
     ]
    }
   ],
   "source": [
    "# Extract the `tool_call_id` of the `ToolMessage` you want to modify\n",
    "tool_call_id = last_message.tool_calls[0][\"id\"]\n",
    "print(tool_call_id)"
   ]
  },
  {
   "cell_type": "code",
   "execution_count": 9,
   "id": "1acabaac",
   "metadata": {},
   "outputs": [
    {
     "name": "stdout",
     "output_type": "stream",
     "text": [
      "=================================\u001b[1m Tool Message \u001b[0m=================================\n",
      "\n",
      "[Modified web search result] \n",
      "LangGraph supports building state-based multi-actor applications using LLMs.\n",
      "LangGraph is an open-source library that provides features such as cyclic flow, controllability, persistence, and cloud deployment capabilities.\n",
      "\n",
      "For detailed tutorials, refer to [LangGraph Tutorial](https://langchain-ai.github.io/langgraph/tutorials/).\n"
     ]
    }
   ],
   "source": [
    "from langchain_core.messages import AIMessage, ToolMessage\n",
    "\n",
    "new_messages = [\n",
    "    # A `ToolMessage` that matches the tool call of the LLM API is required\n",
    "    ToolMessage(\n",
    "        content=modified_search_result,\n",
    "        tool_call_id=tool_call_id,\n",
    "    ),\n",
    "    # Add content directly to the LLM's response\n",
    "    # AIMessage(content=modified_search_result),\n",
    "]\n",
    "\n",
    "new_messages[-1].pretty_print()"
   ]
  },
  {
   "cell_type": "markdown",
   "id": "b970602d",
   "metadata": {},
   "source": [
    "### StateGraph's `update_state` Method\n",
    "\n",
    "The `update_state` method updates the state of the graph with the given values. This method operates as if the values originated from `as_node`.\n",
    "\n",
    "**Parameters** \n",
    "\n",
    "- `config` (RunnableConfig): Execution configuration\n",
    "- `values` (Optional[Union[dict[str, Any], Any]]): Values to update\n",
    "- `as_node` (Optional[str]): The node name to consider as the source of the values. The default value is None\n",
    "\n",
    "**Return** \n",
    "\n",
    "- RunnableConfig\n",
    "\n",
    "**Main Features**\n",
    "\n",
    "1. Load the previous state through the checkpoint and save the new state.\n",
    "2. Process the state update for the subgraph.\n",
    "3. If `as_node` is not specified, find the node that last updated the state.\n",
    "4. Update the state using the writers of the specified node.\n",
    "5. Save the updated state to the checkpoint.\n",
    "\n",
    "**Main Logic**\n",
    "\n",
    "1. Check the checkpoint and raise a ValueError if it is not found.\n",
    "2. If the update is for the subgraph, call the `update_state` method of the subgraph. \n",
    "3. Load the previous checkpoint and determine `as_node` if necessary.\n",
    "4. Update the state using the writers of the specified node. \n",
    "5. Save the updated state to the new checkpoint.\n",
    "\n",
    "**참고**\n",
    "\n",
    "- This method is used when manually updating the state of the graph. \n",
    "- Use the checkpoint to ensure version management and persistence of the state.\n",
    "- `as_node` is automatically determined, but if it is ambiguous, an error may occur.\n",
    "- Writing to SharedValues is not allowed during state update."
   ]
  },
  {
   "cell_type": "code",
   "execution_count": 10,
   "id": "15691b8c",
   "metadata": {},
   "outputs": [
    {
     "name": "stdout",
     "output_type": "stream",
     "text": [
      "(Display the most recent message)\n",
      "\n",
      "content='[Modified web search result] \\nLangGraph supports building state-based multi-actor applications using LLMs.\\nLangGraph is an open-source library that provides features such as cyclic flow, controllability, persistence, and cloud deployment capabilities.\\n\\nFor detailed tutorials, refer to [LangGraph Tutorial](https://langchain-ai.github.io/langgraph/tutorials/).' id='2d44302a-a404-4e8c-b150-561da2a7a042' tool_call_id='call_bBGkxqgvfIQUBBPtJ2IImtBi'\n"
     ]
    }
   ],
   "source": [
    "graph.update_state(\n",
    "    # Specify the state to update\n",
    "    config,\n",
    "    # Provide the updated values. `State`'s messages are \"add-only\" and added to the existing state.\n",
    "    {\"messages\": new_messages},\n",
    "    as_node=\"tools\",\n",
    ")\n",
    "\n",
    "print(\"(Display the most recent message)\\n\")\n",
    "print(graph.get_state(config).values[\"messages\"][-1])"
   ]
  },
  {
   "cell_type": "markdown",
   "id": "d0b868cb",
   "metadata": {},
   "source": [
    "Now, the graph is complete. \n",
    "\n",
    "Since the final response message was provided! \n",
    "\n",
    "State update simulates the graph step, so it also creates the corresponding `traces`.\n",
    "\n",
    "`messages` were processed with the predefined `add_messages` function. (This ensures that the existing list is not overwritten directly in the graph and always adds values.)\n",
    "\n",
    "The same logic is applied here, so the message passed to `update_state` is added in the same way. \n",
    "\n",
    "The `update_state` function operates as if it were one of the nodes in the graph! By default, the update process uses the last executed node, but it can be manually specified as shown below. Let's add an update and instruct the graph to treat it as coming from \"chatbot.\"\n",
    "\n"
   ]
  },
  {
   "cell_type": "code",
   "execution_count": 11,
   "id": "3a4c1fbb",
   "metadata": {},
   "outputs": [
    {
     "data": {
      "text/plain": [
       "('chatbot',)"
      ]
     },
     "execution_count": 11,
     "metadata": {},
     "output_type": "execute_result"
    }
   ],
   "source": [
    "snapshot = graph.get_state(config)\n",
    "snapshot.next"
   ]
  },
  {
   "cell_type": "code",
   "execution_count": 12,
   "id": "36223336",
   "metadata": {},
   "outputs": [
    {
     "name": "stdout",
     "output_type": "stream",
     "text": [
      "=================================\u001b[1m Tool Message \u001b[0m=================================\n",
      "\n",
      "[Modified web search result] \n",
      "LangGraph supports building state-based multi-actor applications using LLMs.\n",
      "LangGraph is an open-source library that provides features such as cyclic flow, controllability, persistence, and cloud deployment capabilities.\n",
      "\n",
      "For detailed tutorials, refer to [LangGraph Tutorial](https://langchain-ai.github.io/langgraph/tutorials/).\n",
      "==================================\u001b[1m Ai Message \u001b[0m==================================\n",
      "\n",
      "LangGraph is an open-source library designed for building state-based multi-actor applications using Large Language Models (LLMs). It offers features such as cyclic flow, controllability, persistence, and cloud deployment capabilities. For those interested in learning more, detailed tutorials are available on the [LangGraph Tutorial page](https://langchain-ai.github.io/langgraph/tutorials/).\n"
     ]
    }
   ],
   "source": [
    "# `None` is not added to the current state\n",
    "events = graph.stream(None, config, stream_mode=\"values\")\n",
    "\n",
    "# Iterate over events\n",
    "for event in events:\n",
    "    # If the message is included in the event\n",
    "    if \"messages\" in event:\n",
    "        # Pretty print the last message\n",
    "        event[\"messages\"][-1].pretty_print()"
   ]
  },
  {
   "cell_type": "markdown",
   "id": "ad62e348",
   "metadata": {},
   "source": [
    "The following code can be used if you want to modify the state of the final answer."
   ]
  },
  {
   "cell_type": "code",
   "execution_count": null,
   "id": "0889cbf7",
   "metadata": {},
   "outputs": [],
   "source": [
    "# Specify the node where this function operates. This node is automatically processed as if it was just executed.\n",
    "# graph.update_state(\n",
    "#     config,\n",
    "#     {\n",
    "#         \"messages\": [\n",
    "#             AIMessage(content=\"Finally, add the final message to complete the process.\")\n",
    "#         ]\n",
    "#     },\n",
    "#     as_node=\"chatbot\",\n",
    "# )"
   ]
  },
  {
   "cell_type": "markdown",
   "id": "697183db",
   "metadata": {},
   "source": [
    "Let's visualize the graph and check the entire output."
   ]
  },
  {
   "cell_type": "code",
   "execution_count": 13,
   "id": "458ada94",
   "metadata": {},
   "outputs": [
    {
     "data": {
      "image/png": "[encoded data removed]",
      "text/plain": [
       "<IPython.core.display.Image object>"
      ]
     },
     "metadata": {},
     "output_type": "display_data"
    }
   ],
   "source": [
    "display(\n",
    "    Image(\n",
    "        graph.get_graph().draw_mermaid_png(\n",
    "            draw_method=MermaidDrawMethod.API,\n",
    "        )\n",
    "    )\n",
    ")"
   ]
  },
  {
   "cell_type": "markdown",
   "id": "2a63f4cf",
   "metadata": {},
   "source": [
    "Check the current state as before to confirm that the checkpoint reflects the manual update."
   ]
  },
  {
   "cell_type": "code",
   "execution_count": 14,
   "id": "b2d31c27",
   "metadata": {},
   "outputs": [
    {
     "name": "stdout",
     "output_type": "stream",
     "text": [
      "================================\u001b[1m Human Message \u001b[0m=================================\n",
      "\n",
      "Please research and tell me what LangGraph is!\n",
      "==================================\u001b[1m Ai Message \u001b[0m==================================\n",
      "Tool Calls:\n",
      "  tavily_search_results_json (call_bBGkxqgvfIQUBBPtJ2IImtBi)\n",
      " Call ID: call_bBGkxqgvfIQUBBPtJ2IImtBi\n",
      "  Args:\n",
      "    query: LangGraph\n",
      "=================================\u001b[1m Tool Message \u001b[0m=================================\n",
      "\n",
      "[Modified web search result] \n",
      "LangGraph supports building state-based multi-actor applications using LLMs.\n",
      "LangGraph is an open-source library that provides features such as cyclic flow, controllability, persistence, and cloud deployment capabilities.\n",
      "\n",
      "For detailed tutorials, refer to [LangGraph Tutorial](https://langchain-ai.github.io/langgraph/tutorials/).\n",
      "==================================\u001b[1m Ai Message \u001b[0m==================================\n",
      "\n",
      "LangGraph is an open-source library designed for building state-based multi-actor applications using Large Language Models (LLMs). It offers features such as cyclic flow, controllability, persistence, and cloud deployment capabilities. For those interested in learning more, detailed tutorials are available on the [LangGraph Tutorial page](https://langchain-ai.github.io/langgraph/tutorials/).\n"
     ]
    }
   ],
   "source": [
    "# Create a graph state snapshot\n",
    "snapshot = graph.get_state(config)\n",
    "\n",
    "# Print the last three messages\n",
    "for message in snapshot.values[\"messages\"]:\n",
    "    message.pretty_print()"
   ]
  },
  {
   "cell_type": "markdown",
   "id": "457828d2",
   "metadata": {},
   "source": [
    "Check if there is a next node to proceed. `()` is empty, indicating that the entire process has been completed normally."
   ]
  },
  {
   "cell_type": "code",
   "execution_count": 15,
   "id": "c6ea87c0",
   "metadata": {},
   "outputs": [
    {
     "name": "stdout",
     "output_type": "stream",
     "text": [
      "()\n"
     ]
    }
   ],
   "source": [
    "# Print the next state\n",
    "print(snapshot.next)"
   ]
  },
  {
   "cell_type": "markdown",
   "id": "98fcbffe",
   "metadata": {},
   "source": [
    "## Update the message state after an interrupt – continue the process.\n",
    "\n",
    "- Modify the **search query** in the `TavilySearch` tool\n",
    "\n",
    "This time, interrupt before proceeding to the next node and update the state, then continue the process.\n",
    "\n",
    "First, create a new `thread_id`.\n",
    "\n",
    "Here, we use the `generate_random_hash` function to generate a random hash value."
   ]
  },
  {
   "cell_type": "code",
   "execution_count": 16,
   "id": "5c7fe37d",
   "metadata": {},
   "outputs": [
    {
     "name": "stdout",
     "output_type": "stream",
     "text": [
      "thread_id: f24b4859-517d-4115-a510-200e7762d5a1\n",
      "================================\u001b[1m Human Message \u001b[0m=================================\n",
      "\n",
      "I want to learn about LangGraph. Can you recommend useful materials?\n",
      "==================================\u001b[1m Ai Message \u001b[0m==================================\n",
      "Tool Calls:\n",
      "  tavily_search_results_json (call_Pa7kfeWiSrkamTkxb06T7RVh)\n",
      " Call ID: call_Pa7kfeWiSrkamTkxb06T7RVh\n",
      "  Args:\n",
      "    query: LangGraph\n"
     ]
    }
   ],
   "source": [
    "import uuid\n",
    "\n",
    "def generate_random_hash():\n",
    "    return str(uuid.uuid4())\n",
    "\n",
    "thread_id = generate_random_hash()\n",
    "print(f\"thread_id: {thread_id}\")\n",
    "\n",
    "question = \"I want to learn about LangGraph. Can you recommend useful materials?\"\n",
    "\n",
    "# Define the initial input state\n",
    "input = State(messages=[(\"user\", question)])\n",
    "\n",
    "# Create a new config\n",
    "config = {\"configurable\": {\"thread_id\": thread_id}}\n",
    "\n",
    "events = graph.stream(\n",
    "    input=input,\n",
    "    config=config,\n",
    "    interrupt_before=[\"tools\"],\n",
    "    stream_mode=\"values\",\n",
    ")\n",
    "for event in events:\n",
    "    if \"messages\" in event:\n",
    "        event[\"messages\"][-1].pretty_print()"
   ]
  },
  {
   "cell_type": "markdown",
   "id": "2c49b0e0",
   "metadata": {},
   "source": [
    "Next, let's update the tool call for the agent. "
   ]
  },
  {
   "cell_type": "markdown",
   "id": "f88483e9",
   "metadata": {},
   "source": [
    "First, get the `Message ID`. "
   ]
  },
  {
   "cell_type": "code",
   "execution_count": 17,
   "id": "72d210f5",
   "metadata": {},
   "outputs": [],
   "source": [
    "# Copy config\n",
    "config_copy = config.copy()"
   ]
  },
  {
   "cell_type": "code",
   "execution_count": 18,
   "id": "2bac7050",
   "metadata": {},
   "outputs": [
    {
     "name": "stdout",
     "output_type": "stream",
     "text": [
      "Message ID run-633f99fa-6d8d-45fd-a3f4-c7613dafff39-0\n"
     ]
    }
   ],
   "source": [
    "from langchain_core.messages import AIMessage\n",
    "\n",
    "# Get the snapshot state\n",
    "snapshot = graph.get_state(config)\n",
    "\n",
    "# Get the last message of messages\n",
    "existing_message = snapshot.values[\"messages\"][-1]\n",
    "\n",
    "# Print the message ID\n",
    "print(\"Message ID\", existing_message.id)"
   ]
  },
  {
   "cell_type": "markdown",
   "id": "2ed080b7",
   "metadata": {},
   "source": [
    "The last message is a message related to the `tavily_web_search` tool call.\n",
    "\n",
    "The main properties are as follows.\n",
    "\n",
    "- `name`: The name of the tool\n",
    "- `args`: The search query\n",
    "- `id`: The tool call ID\n",
    "- `type`: The tool call type (tool_call)"
   ]
  },
  {
   "cell_type": "code",
   "execution_count": 19,
   "id": "64c27714",
   "metadata": {},
   "outputs": [
    {
     "name": "stdout",
     "output_type": "stream",
     "text": [
      "{'name': 'tavily_search_results_json', 'args': {'query': 'LangGraph'}, 'id': 'call_Pa7kfeWiSrkamTkxb06T7RVh', 'type': 'tool_call'}\n"
     ]
    }
   ],
   "source": [
    "# Print the first tool call\n",
    "print(existing_message.tool_calls[0])"
   ]
  },
  {
   "cell_type": "markdown",
   "id": "b2f3e04e",
   "metadata": {},
   "source": [
    "Let's update the `query` in `args`. \n",
    "\n",
    "Copy the `existing_message` and create a new tool call `new_tool_call`.\n",
    "\n",
    "Since we used the `copy()` method, all property values are copied.\n",
    "\n",
    "Then, input the desired **search query** to the `query` parameter.\n",
    "\n",
    "**Important**\n",
    "\n",
    "- The `id` uses the same `id` as the existing message. (If the `id` changes, the message reducer will not update the message but instead add it.)\n"
   ]
  },
  {
   "cell_type": "code",
   "execution_count": 20,
   "id": "97b66610",
   "metadata": {},
   "outputs": [
    {
     "data": {
      "text/plain": [
       "{'name': 'tavily_search_results_json',\n",
       " 'args': {'query': 'LangGraph site:langchain-opentutorial.gitbook.io/langchain-opentutorial'},\n",
       " 'id': 'call_Pa7kfeWiSrkamTkxb06T7RVh',\n",
       " 'type': 'tool_call'}"
      ]
     },
     "execution_count": 20,
     "metadata": {},
     "output_type": "execute_result"
    }
   ],
   "source": [
    "# Copy tool_calls to create a new tool call\n",
    "new_tool_call = existing_message.tool_calls[0].copy()\n",
    "\n",
    "# Update the query parameter\n",
    "new_tool_call[\"args\"] = {\"query\": \"LangGraph site:langchain-opentutorial.gitbook.io/langchain-opentutorial\"}\n",
    "new_tool_call"
   ]
  },
  {
   "cell_type": "code",
   "execution_count": 21,
   "id": "8891040b",
   "metadata": {},
   "outputs": [
    {
     "name": "stdout",
     "output_type": "stream",
     "text": [
      "run-633f99fa-6d8d-45fd-a3f4-c7613dafff39-0\n",
      "==================================\u001b[1m Ai Message \u001b[0m==================================\n",
      "Tool Calls:\n",
      "  tavily_search_results_json (call_Pa7kfeWiSrkamTkxb06T7RVh)\n",
      " Call ID: call_Pa7kfeWiSrkamTkxb06T7RVh\n",
      "  Args:\n",
      "    query: LangGraph site:langchain-opentutorial.gitbook.io/langchain-opentutorial\n"
     ]
    }
   ],
   "source": [
    "# Create a new AIMessage\n",
    "new_message = AIMessage(\n",
    "    content=existing_message.content,\n",
    "    tool_calls=[new_tool_call],\n",
    "    # Important! ID is a method to replace the message instead of adding it to the state.\n",
    "    id=existing_message.id,\n",
    ")\n",
    "\n",
    "print(new_message.id)\n",
    "\n",
    "# Print the modified message\n",
    "new_message.pretty_print()"
   ]
  },
  {
   "cell_type": "markdown",
   "id": "3e18fa63",
   "metadata": {},
   "source": [
    "We can see that the search query has been updated."
   ]
  },
  {
   "cell_type": "code",
   "execution_count": 22,
   "id": "7dbb6442",
   "metadata": {},
   "outputs": [
    {
     "name": "stdout",
     "output_type": "stream",
     "text": [
      "{'name': 'tavily_search_results_json', 'args': {'query': 'LangGraph site:langchain-opentutorial.gitbook.io/langchain-opentutorial'}, 'id': 'call_Pa7kfeWiSrkamTkxb06T7RVh', 'type': 'tool_call'}\n",
      "\n",
      "Message ID run-633f99fa-6d8d-45fd-a3f4-c7613dafff39-0\n"
     ]
    },
    {
     "data": {
      "text/plain": [
       "{'configurable': {'thread_id': 'f24b4859-517d-4115-a510-200e7762d5a1',\n",
       "  'checkpoint_ns': '',\n",
       "  'checkpoint_id': '1efd788b-47b1-6625-8002-54b3caaacb0f'}}"
      ]
     },
     "execution_count": 22,
     "metadata": {},
     "output_type": "execute_result"
    }
   ],
   "source": [
    "# Print the updated tool call\n",
    "print(new_message.tool_calls[0])\n",
    "\n",
    "# Print the message ID\n",
    "print(\"\\nMessage ID\", new_message.id)\n",
    "\n",
    "# Update the state\n",
    "graph.update_state(config, {\"messages\": [new_message]})"
   ]
  },
  {
   "cell_type": "markdown",
   "id": "2f791a61",
   "metadata": {},
   "source": [
    "Check the `tool_calls` of the updated last message.\n",
    "\n",
    "- The `query` in `args` has been updated."
   ]
  },
  {
   "cell_type": "code",
   "execution_count": 23,
   "id": "f9dbecb3",
   "metadata": {},
   "outputs": [
    {
     "data": {
      "text/plain": [
       "[{'name': 'tavily_search_results_json',\n",
       "  'args': {'query': 'LangGraph site:langchain-opentutorial.gitbook.io/langchain-opentutorial'},\n",
       "  'id': 'call_Pa7kfeWiSrkamTkxb06T7RVh',\n",
       "  'type': 'tool_call'}]"
      ]
     },
     "execution_count": 23,
     "metadata": {},
     "output_type": "execute_result"
    }
   ],
   "source": [
    "# Get the tool call of the last message\n",
    "graph.get_state(config).values[\"messages\"][-1].tool_calls"
   ]
  },
  {
   "cell_type": "markdown",
   "id": "e0ae770e",
   "metadata": {},
   "source": [
    "You can see that the search query has been changed from the original **\"LangGraph\"** to the updated query **\"LangGraph site:github.com/LangChain-OpenTutorial/LangChain-GitBook\"**.\n",
    "\n",
    "Continue streaming the graph using the previous settings and a `None` input.\n"
   ]
  },
  {
   "cell_type": "code",
   "execution_count": 24,
   "id": "80be43c4",
   "metadata": {},
   "outputs": [
    {
     "name": "stdout",
     "output_type": "stream",
     "text": [
      "==================================\u001b[1m Ai Message \u001b[0m==================================\n",
      "Tool Calls:\n",
      "  tavily_search_results_json (call_Pa7kfeWiSrkamTkxb06T7RVh)\n",
      " Call ID: call_Pa7kfeWiSrkamTkxb06T7RVh\n",
      "  Args:\n",
      "    query: LangGraph site:langchain-opentutorial.gitbook.io/langchain-opentutorial\n",
      "=================================\u001b[1m Tool Message \u001b[0m=================================\n",
      "Name: tavily_search_results_json\n",
      "\n",
      "[]\n",
      "==================================\u001b[1m Ai Message \u001b[0m==================================\n",
      "Tool Calls:\n",
      "  tavily_search_results_json (call_GhQpVnET8maa8StpUk2kGg1J)\n",
      " Call ID: call_GhQpVnET8maa8StpUk2kGg1J\n",
      "  Args:\n",
      "    query: LangGraph tutorials and documentation\n",
      "=================================\u001b[1m Tool Message \u001b[0m=================================\n",
      "Name: tavily_search_results_json\n",
      "\n",
      "[{\"url\": \"https://langchain-ai.github.io/langgraph/\", \"content\": \"Documentation¶ Tutorials: Learn to build with LangGraph through guided examples. How-to Guides: Accomplish specific things within LangGraph, from streaming, to adding memory & persistence, to common design patterns (branching, subgraphs, etc.), these are the place to go if you want to copy and run a specific code snippet.\"}, {\"url\": \"https://langchain-ai.github.io/langgraph/tutorials/\", \"content\": \"Tutorials¶. New to LangGraph or LLM app development? Read this material to get up and running building your first applications. Get Started 🚀¶. LangGraph Quickstart: Build a chatbot that can use tools and keep track of conversation history.Add human-in-the-loop capabilities and explore how time-travel works.\"}, {\"url\": \"https://github.com/langchain-ai/langgraph/blob/main/docs/docs/tutorials/index.md\", \"content\": \"langgraph/docs/docs/tutorials/index.md at main · langchain-ai/langgraph · GitHub GitHub Copilot Write better code with AI GitHub Copilot Enterprise-grade AI features Search code, repositories, users, issues, pull requests... These notebooks introduce LangGraph through building various language agents and applications. Learn the basics of LangGraph through a comprehensive quick start in which you will build an agent from scratch. Agentic RAG Language Agent Tree Search: Use reflection and rewards to drive a tree search over agents Agent-based: Evaluate chatbots via simulated user interactions Web Navigation: Build an agent that can navigate and interact with websites Competitive Programming: Build an agent with few-shot \\\"episodic memory\\\" and human-in-the-loop collaboration to solve problems from the USA Computing Olympiad; adapted from the \\\"Can Language Models Solve Olympiad Programming?\\\" paper by Shi, Tang, Narasimhan, and Yao. Complex data extraction: Build an agent that can use function calling to do complex extraction tasks\"}]\n",
      "==================================\u001b[1m Ai Message \u001b[0m==================================\n",
      "\n",
      "Here are some useful materials to learn about LangGraph:\n",
      "\n",
      "1. **Official Documentation**: \n",
      "   - [LangGraph Documentation](https://langchain-ai.github.io/langgraph/) - This provides a comprehensive overview of LangGraph, including tutorials and how-to guides to accomplish specific tasks such as streaming, adding memory, and common design patterns.\n",
      "   \n",
      "2. **Getting Started with LangGraph**:\n",
      "   - [LangGraph Quickstart](https://langchain-ai.github.io/langgraph/tutorials/) - This tutorial is designed for beginners and guides you in building your first applications, including a chatbot that can use tools and maintain conversation history.\n",
      "\n",
      "3. **GitHub Tutorials**:\n",
      "   - [LangGraph GitHub Tutorials](https://github.com/langchain-ai/langgraph/blob/main/docs/docs/tutorials/index.md) - This resource includes various notebooks that introduce LangGraph by building language agents and applications. It covers topics like agent-based evaluations, web navigation, and complex data extraction tasks.\n",
      "\n",
      "These materials should provide a solid foundation for understanding and using LangGraph effectively.\n"
     ]
    }
   ],
   "source": [
    "# Receive events from the graph stream\n",
    "events = graph.stream(None, config, stream_mode=\"values\")\n",
    "\n",
    "# Process each event\n",
    "for event in events:\n",
    "    # If the message is included in the event\n",
    "    if \"messages\" in event:\n",
    "        event[\"messages\"][-1].pretty_print()"
   ]
  },
  {
   "cell_type": "code",
   "execution_count": 25,
   "id": "df57c7da",
   "metadata": {},
   "outputs": [
    {
     "name": "stdout",
     "output_type": "stream",
     "text": [
      "================================\u001b[1m Human Message \u001b[0m=================================\n",
      "\n",
      "Please provide a kind and detailed answer in English about what I have learned so far! Be sure to include the sources!\n",
      "==================================\u001b[1m Ai Message \u001b[0m==================================\n",
      "\n",
      "Based on your request to learn about LangGraph, you have discovered several valuable resources that provide insights into its functionalities and applications. Here’s a detailed summary of what you have learned:\n",
      "\n",
      "1. **Official Documentation**: \n",
      "   - You can access the [LangGraph Documentation](https://langchain-ai.github.io/langgraph/), which serves as a comprehensive guide to understanding the framework. This documentation includes various tutorials that help you build applications using LangGraph, as well as how-to guides that provide specific instructions on tasks like streaming, adding memory, and implementing design patterns such as branching and subgraphs.\n",
      "\n",
      "2. **Getting Started with LangGraph**:\n",
      "   - The [LangGraph Quickstart](https://langchain-ai.github.io/langgraph/tutorials/) is an excellent starting point for newcomers to LangGraph or LLM app development. This tutorial guides you through building your first applications, such as a chatbot that can utilize tools and track conversation history. It also introduces you to advanced features like human-in-the-loop capabilities and time-travel functionalities.\n",
      "\n",
      "3. **GitHub Tutorials**:\n",
      "   - The [LangGraph GitHub Tutorials](https://github.com/langchain-ai/langgraph/blob/main/docs/docs/tutorials/index.md) provide practical, hands-on experience. These notebooks walk you through building various language agents and applications, starting from the basics and progressing to more complex tasks. You’ll learn how to create agent-based systems, navigate and interact with websites, and perform complex data extraction using function calling.\n",
      "\n",
      "These resources collectively offer a well-rounded understanding of LangGraph, equipping you with the knowledge to start building applications and leveraging its capabilities effectively. Whether you are interested in chatbot development or more complex language agent functionalities, these materials will serve as a useful guide in your learning journey.\n"
     ]
    }
   ],
   "source": [
    "# Create an event stream\n",
    "events = graph.stream(\n",
    "    {\n",
    "        \"messages\": (\n",
    "            \"user\",\n",
    "            \"Please provide a kind and detailed answer in English about what I have learned so far! Be sure to include the sources!\",\n",
    "        )\n",
    "    },\n",
    "    config,\n",
    "    stream_mode=\"values\",\n",
    ")\n",
    "\n",
    "# Process message events\n",
    "for event in events:\n",
    "    if \"messages\" in event:\n",
    "        # Print the last message\n",
    "        event[\"messages\"][-1].pretty_print()"
   ]
  },
  {
   "cell_type": "markdown",
   "id": "40da8a3c",
   "metadata": {},
   "source": [
    "Check the last message in `messages` of the final state. (This is the final response message.)"
   ]
  },
  {
   "cell_type": "code",
   "execution_count": 26,
   "id": "f0e4a062",
   "metadata": {},
   "outputs": [
    {
     "name": "stdout",
     "output_type": "stream",
     "text": [
      "==================================\u001b[1m Ai Message \u001b[0m==================================\n",
      "\n",
      "Based on your request to learn about LangGraph, you have discovered several valuable resources that provide insights into its functionalities and applications. Here’s a detailed summary of what you have learned:\n",
      "\n",
      "1. **Official Documentation**: \n",
      "   - You can access the [LangGraph Documentation](https://langchain-ai.github.io/langgraph/), which serves as a comprehensive guide to understanding the framework. This documentation includes various tutorials that help you build applications using LangGraph, as well as how-to guides that provide specific instructions on tasks like streaming, adding memory, and implementing design patterns such as branching and subgraphs.\n",
      "\n",
      "2. **Getting Started with LangGraph**:\n",
      "   - The [LangGraph Quickstart](https://langchain-ai.github.io/langgraph/tutorials/) is an excellent starting point for newcomers to LangGraph or LLM app development. This tutorial guides you through building your first applications, such as a chatbot that can utilize tools and track conversation history. It also introduces you to advanced features like human-in-the-loop capabilities and time-travel functionalities.\n",
      "\n",
      "3. **GitHub Tutorials**:\n",
      "   - The [LangGraph GitHub Tutorials](https://github.com/langchain-ai/langgraph/blob/main/docs/docs/tutorials/index.md) provide practical, hands-on experience. These notebooks walk you through building various language agents and applications, starting from the basics and progressing to more complex tasks. You’ll learn how to create agent-based systems, navigate and interact with websites, and perform complex data extraction using function calling.\n",
      "\n",
      "These resources collectively offer a well-rounded understanding of LangGraph, equipping you with the knowledge to start building applications and leveraging its capabilities effectively. Whether you are interested in chatbot development or more complex language agent functionalities, these materials will serve as a useful guide in your learning journey.\n"
     ]
    }
   ],
   "source": [
    "graph.get_state(config).values[\"messages\"][-1].pretty_print()"
   ]
  },
  {
   "cell_type": "markdown",
   "id": "21173667",
   "metadata": {},
   "source": [
    "## Modify the result of the past snapshot and replay\n",
    "\n",
    "This time, we will look at how to modify the result of the past snapshot and replay.\n",
    "\n",
    "Check the past snapshot and return to a specific node, then **modify the state and continue from that node**.\n",
    "\n",
    "This is called Replay.\n",
    "\n",
    "First, get the state of the past snapshot."
   ]
  },
  {
   "cell_type": "code",
   "execution_count": 27,
   "id": "3eba0794",
   "metadata": {},
   "outputs": [
    {
     "name": "stdout",
     "output_type": "stream",
     "text": [
      "run-ef22c442-1cc8-49d3-adf6-c6f2d608c4b1-0\n",
      "the number of chat messages:  8 next node:  ()\n",
      "--------------------------------------------------------------------------------\n",
      "c07a53cc-3b62-4366-b779-80ef601090ff\n",
      "the number of chat messages:  7 next node:  ('chatbot',)\n",
      "--------------------------------------------------------------------------------\n",
      "run-b34f4cfc-adc8-407f-b7dd-bde88bba67fa-0\n",
      "the number of chat messages:  6 next node:  ('__start__',)\n",
      "--------------------------------------------------------------------------------\n",
      "run-b34f4cfc-adc8-407f-b7dd-bde88bba67fa-0\n",
      "the number of chat messages:  6 next node:  ()\n",
      "--------------------------------------------------------------------------------\n",
      "f795a886-01f1-49db-9160-11f6a4582041\n",
      "the number of chat messages:  5 next node:  ('chatbot',)\n",
      "--------------------------------------------------------------------------------\n",
      "run-bc83e60b-3142-450a-9392-e82d494d764c-0\n",
      "the number of chat messages:  4 next node:  ('tools',)\n",
      "--------------------------------------------------------------------------------\n",
      "a6a496e0-2983-43d0-8e91-322dfd2ce995\n",
      "the number of chat messages:  3 next node:  ('chatbot',)\n",
      "--------------------------------------------------------------------------------\n",
      "run-633f99fa-6d8d-45fd-a3f4-c7613dafff39-0\n",
      "the number of chat messages:  2 next node:  ('tools',)\n",
      "--------------------------------------------------------------------------------\n",
      "run-633f99fa-6d8d-45fd-a3f4-c7613dafff39-0\n",
      "the number of chat messages:  2 next node:  ('tools',)\n",
      "--------------------------------------------------------------------------------\n",
      "5350d1b6-e8d9-47f1-9a29-b845cbc2fbb7\n",
      "the number of chat messages:  1 next node:  ('chatbot',)\n",
      "--------------------------------------------------------------------------------\n"
     ]
    }
   ],
   "source": [
    "to_replay_state = None\n",
    "\n",
    "# Get the state history\n",
    "for state in graph.get_state_history(config):\n",
    "\n",
    "    messages = state.values[\"messages\"]\n",
    "\n",
    "    if len(messages) > 0:\n",
    "        print(state.values[\"messages\"][-1].id)\n",
    "        # Print the number of messages and the next state\n",
    "        print(\"the number of chat messages: \", len(state.values[\"messages\"]), \"next node: \", state.next)\n",
    "        print(\"-\" * 80)\n",
    "        # Select the specific state based on the number of chat messages\n",
    "        if len(state.values[\"messages\"]) == 2:\n",
    "            # Select the specific message ID\n",
    "            to_replay_state = state"
   ]
  },
  {
   "cell_type": "markdown",
   "id": "23cadcca",
   "metadata": {},
   "source": [
    "Check the content of the selected message."
   ]
  },
  {
   "cell_type": "code",
   "execution_count": 28,
   "id": "6bcc4505",
   "metadata": {},
   "outputs": [
    {
     "name": "stdout",
     "output_type": "stream",
     "text": [
      "content='' additional_kwargs={'tool_calls': [{'id': 'call_Pa7kfeWiSrkamTkxb06T7RVh', 'function': {'arguments': '{\"query\":\"LangGraph\"}', 'name': 'tavily_search_results_json'}, 'type': 'function'}], 'refusal': None} response_metadata={'token_usage': {'completion_tokens': 20, 'prompt_tokens': 93, 'total_tokens': 113, 'completion_tokens_details': {'accepted_prediction_tokens': 0, 'audio_tokens': 0, 'reasoning_tokens': 0, 'rejected_prediction_tokens': 0}, 'prompt_tokens_details': {'audio_tokens': 0, 'cached_tokens': 0}}, 'model_name': 'gpt-4o-mini-2024-07-18', 'system_fingerprint': 'fp_bd83329f63', 'finish_reason': 'tool_calls', 'logprobs': None} id='run-633f99fa-6d8d-45fd-a3f4-c7613dafff39-0' tool_calls=[{'name': 'tavily_search_results_json', 'args': {'query': 'LangGraph'}, 'id': 'call_Pa7kfeWiSrkamTkxb06T7RVh', 'type': 'tool_call'}] usage_metadata={'input_tokens': 93, 'output_tokens': 20, 'total_tokens': 113, 'input_token_details': {'audio': 0, 'cache_read': 0}, 'output_token_details': {'audio': 0, 'reasoning': 0}}\n"
     ]
    }
   ],
   "source": [
    "existing_message = to_replay_state.values[\"messages\"][-1]\n",
    "print(existing_message)"
   ]
  },
  {
   "cell_type": "code",
   "execution_count": 32,
   "id": "a668d454",
   "metadata": {},
   "outputs": [
    {
     "name": "stdout",
     "output_type": "stream",
     "text": [
      "Message\n",
      "├── content: \n",
      "├── additional_kwargs:\n",
      "│   ├── tool_calls:\n",
      "│   │   └── index [0]:\n",
      "│   │       ├── id: call_Pa7kfeWiSrkamTkxb06T7RVh\n",
      "│   │       ├── function:\n",
      "│   │       │   ├── arguments: {\"query\":\"LangGraph\"}\n",
      "│   │       │   └── name: tavily_search_results_json\n",
      "│   │       └── type: function\n",
      "│   └── refusal: None\n",
      "├── response_metadata:\n",
      "│   ├── token_usage:\n",
      "│   │   ├── completion_tokens: 20\n",
      "│   │   ├── prompt_tokens: 93\n",
      "│   │   ├── total_tokens: 113\n",
      "│   │   ├── completion_tokens_details:\n",
      "│   │   │   ├── accepted_prediction_tokens: 0\n",
      "│   │   │   ├── audio_tokens: 0\n",
      "│   │   │   ├── reasoning_tokens: 0\n",
      "│   │   │   └── rejected_prediction_tokens: 0\n",
      "│   │   └── prompt_tokens_details:\n",
      "│   │       ├── audio_tokens: 0\n",
      "│   │       └── cached_tokens: 0\n",
      "│   ├── model_name: gpt-4o-mini-2024-07-18\n",
      "│   ├── system_fingerprint: fp_bd83329f63\n",
      "│   ├── finish_reason: tool_calls\n",
      "│   └── logprobs: None\n",
      "├── type: ai\n",
      "├── name: None\n",
      "├── id: run-633f99fa-6d8d-45fd-a3f4-c7613dafff39-0\n",
      "├── example: False\n",
      "├── tool_calls:\n",
      "│   └── index [0]:\n",
      "│       ├── name: tavily_search_results_json\n",
      "│       ├── args:\n",
      "│       │   └── query: LangGraph\n",
      "│       ├── id: call_Pa7kfeWiSrkamTkxb06T7RVh\n",
      "│       └── type: tool_call\n",
      "├── invalid_tool_calls:\n",
      "└── usage_metadata:\n",
      "    ├── input_tokens: 93\n",
      "    ├── output_tokens: 20\n",
      "    ├── total_tokens: 113\n",
      "    ├── input_token_details:\n",
      "    │   ├── audio: 0\n",
      "    │   └── cache_read: 0\n",
      "    └── output_token_details:\n",
      "        ├── audio: 0\n",
      "        └── reasoning: 0\n"
     ]
    }
   ],
   "source": [
    "from anytree import Node, RenderTree\n",
    "\n",
    "def display_message_tree(message):\n",
    "    def add_node(parent, key, value):\n",
    "        if isinstance(value, dict):\n",
    "            node = Node(f\"{key}:\", parent=parent)\n",
    "            for k, v in value.items():\n",
    "                add_node(node, k, v)\n",
    "        elif isinstance(value, list):\n",
    "            node = Node(f\"{key}:\", parent=parent)\n",
    "            for i, item in enumerate(value):\n",
    "                add_node(node, f\"index [{i}]\", item)\n",
    "        else:\n",
    "            Node(f\"{key}: {value}\", parent=parent)\n",
    "\n",
    "    root = Node(\"Message\")\n",
    "    for key, value in message.__dict__.items():\n",
    "        add_node(root, key, value)\n",
    "\n",
    "    for pre, _, node in RenderTree(root):\n",
    "        print(f\"{pre}{node.name}\")\n",
    "\n",
    "# Get the selected message\n",
    "existing_message = to_replay_state.values[\"messages\"][-1]\n",
    "\n",
    "# Print the message tree\n",
    "display_message_tree(existing_message)"
   ]
  },
  {
   "cell_type": "markdown",
   "id": "770063e4",
   "metadata": {},
   "source": [
    "Check if the search query has been updated."
   ]
  },
  {
   "cell_type": "code",
   "execution_count": 33,
   "id": "7dbc1f15",
   "metadata": {},
   "outputs": [
    {
     "data": {
      "text/plain": [
       "{'name': 'tavily_search_results_json',\n",
       " 'args': {'query': 'LangGraph human-in-the-loop workflow site:reddit.com'},\n",
       " 'id': 'call_Pa7kfeWiSrkamTkxb06T7RVh',\n",
       " 'type': 'tool_call'}"
      ]
     },
     "execution_count": 33,
     "metadata": {},
     "output_type": "execute_result"
    }
   ],
   "source": [
    "tool_call = existing_message.tool_calls[0].copy()\n",
    "tool_call[\"args\"] = {\"query\": \"LangGraph human-in-the-loop workflow site:reddit.com\"}\n",
    "tool_call"
   ]
  },
  {
   "cell_type": "markdown",
   "id": "20a66f6d",
   "metadata": {},
   "source": [
    "Create an updated AIMessage."
   ]
  },
  {
   "cell_type": "code",
   "execution_count": 34,
   "id": "2656f8db",
   "metadata": {},
   "outputs": [
    {
     "data": {
      "text/plain": [
       "{'query': 'LangGraph human-in-the-loop workflow site:reddit.com'}"
      ]
     },
     "execution_count": 34,
     "metadata": {},
     "output_type": "execute_result"
    }
   ],
   "source": [
    "# Create an updated AIMessage\n",
    "new_message = AIMessage(\n",
    "    content=existing_message.content,\n",
    "    tool_calls=[tool_call],\n",
    "    # Important! ID is a method to replace the message instead of adding it to the state.\n",
    "    id=existing_message.id,\n",
    ")\n",
    "\n",
    "# Print the updated message\n",
    "new_message.tool_calls[0][\"args\"]"
   ]
  },
  {
   "cell_type": "markdown",
   "id": "13751a91",
   "metadata": {},
   "source": [
    "Below is the message before the update."
   ]
  },
  {
   "cell_type": "code",
   "execution_count": 35,
   "id": "27eb7447",
   "metadata": {},
   "outputs": [
    {
     "data": {
      "text/plain": [
       "[{'name': 'tavily_search_results_json',\n",
       "  'args': {'query': 'LangGraph'},\n",
       "  'id': 'call_Pa7kfeWiSrkamTkxb06T7RVh',\n",
       "  'type': 'tool_call'}]"
      ]
     },
     "execution_count": 35,
     "metadata": {},
     "output_type": "execute_result"
    }
   ],
   "source": [
    "# Check the message before the update\n",
    "graph.get_state(to_replay_state.config).values[\"messages\"][-1].tool_calls"
   ]
  },
  {
   "cell_type": "markdown",
   "id": "cabf5572",
   "metadata": {},
   "source": [
    "Use the `update_state` method in `graph` to update the state. \n",
    "\n",
    "Save the updated state to `updated_state`."
   ]
  },
  {
   "cell_type": "code",
   "execution_count": 36,
   "id": "41a6e114",
   "metadata": {},
   "outputs": [
    {
     "data": {
      "text/plain": [
       "{'configurable': {'thread_id': 'f24b4859-517d-4115-a510-200e7762d5a1',\n",
       "  'checkpoint_ns': '',\n",
       "  'checkpoint_id': '1efd78aa-c121-6296-8002-d5b55177686c'}}"
      ]
     },
     "execution_count": 36,
     "metadata": {},
     "output_type": "execute_result"
    }
   ],
   "source": [
    "# Update the state\n",
    "updated_state = graph.update_state(\n",
    "    to_replay_state.config,\n",
    "    {\"messages\": [new_message]},\n",
    ")\n",
    "updated_state"
   ]
  },
  {
   "cell_type": "markdown",
   "id": "9036c5e4",
   "metadata": {},
   "source": [
    "Now, stream the updated state. Here, the input is `None` to replay."
   ]
  },
  {
   "cell_type": "code",
   "execution_count": 37,
   "id": "fe04786b",
   "metadata": {},
   "outputs": [
    {
     "name": "stdout",
     "output_type": "stream",
     "text": [
      "==================================\u001b[1m Ai Message \u001b[0m==================================\n",
      "Tool Calls:\n",
      "  tavily_search_results_json (call_Pa7kfeWiSrkamTkxb06T7RVh)\n",
      " Call ID: call_Pa7kfeWiSrkamTkxb06T7RVh\n",
      "  Args:\n",
      "    query: LangGraph human-in-the-loop workflow site:reddit.com\n",
      "=================================\u001b[1m Tool Message \u001b[0m=================================\n",
      "Name: tavily_search_results_json\n",
      "\n",
      "[{\"url\": \"https://www.reddit.com/r/LangChain/comments/1bjnmu4/human_intervention_in_agent_workflows/\", \"content\": \"When building LLM workflows with LangChain/LangGraph what's the best way to build a node in the workflow where a human can validate/approve/reject a flow? I know there is a Human-in-the-loop component in LangGraph that will prompt the user for input. But what if I'm not creating a user-initiated chat conversation, but a flow that reacts to e.g\"}, {\"url\": \"https://www.reddit.com/r/LangChain/comments/1bsblmu/langgraph_workflow_for_quality_assurance/\", \"content\": \"Get app Get the Reddit app Log In Log in to Reddit Get the Reddit app I've been working on a concept to automate the Quality Assurance (QA) process for complex legal documents using LangGraph, aiming to streamline the workflow, reduce manual effort, and improve compliance efficiency. Handling specific parts of the QA process using AI rather human reviews, from initial document submission to final approval. Policy Compliance Checker Node (PCCN): Checks documents against policy rules. Quality Assurance Node (QAN): Final review to ensure document quality. Has anyone automated a Quality Assurance process with langchain/graph? Communities Best of Reddit Topics Reddit, Inc. Password New to Reddit? Enter the 6-digit code from your authenticator app Use a code from an authenticator app Password Password Choose a Reddit account to continue\"}, {\"url\": \"https://www.reddit.com/r/LangChain/comments/1cvavh7/example_of_a_chatless_agentic_workflow_that_keeps/\", \"content\": \"Reddit - Dive into anything r/LangChain A chip A close button Get app Get the Reddit app Log In Log in to Reddit Log In / Sign Up Advertise on Reddit Shop Collectible Avatars Get the Reddit app Go to LangChain r/LangChain r/LangChain Communities Best of Reddit Topics Reddit, Inc. Password New to Reddit? Enter the 6-digit code from your authenticator app Check code Use a code from an authenticator app Check code Reddit is anonymous, so your username is what you’ll go by here. Password Reddit is anonymous, so your username is what you’ll go by here. Password Enter your email address or username and we’ll send you a link to reset your password Choose a Reddit account to continue\"}]\n",
      "==================================\u001b[1m Ai Message \u001b[0m==================================\n",
      "Tool Calls:\n",
      "  tavily_search_results_json (call_DCQqwmy0nPwdE8KvUu7DH6sy)\n",
      " Call ID: call_DCQqwmy0nPwdE8KvUu7DH6sy\n",
      "  Args:\n",
      "    query: LangGraph resources tutorials documentation\n",
      "=================================\u001b[1m Tool Message \u001b[0m=================================\n",
      "Name: tavily_search_results_json\n",
      "\n",
      "[{\"url\": \"https://langchain-ai.github.io/langgraph/\", \"content\": \"Documentation¶ Tutorials: Learn to build with LangGraph through guided examples. How-to Guides: Accomplish specific things within LangGraph, from streaming, to adding memory & persistence, to common design patterns (branching, subgraphs, etc.), these are the place to go if you want to copy and run a specific code snippet.\"}, {\"url\": \"https://github.com/LangGraph-GUI/LangGraph-learn/\", \"content\": \"GitHub - LangGraph-GUI/LangGraph-learn: learning resource of langgraph for dummy Search code, repositories, users, issues, pull requests... LangGraph-learn Welcome to LangGraph-learn, a community-driven project aimed at mastering LangGraph and other AI-related topics. This repository provides a variety of hands-on examples and resources to help you learn how to create and manage language model workflows using LangGraph and related tools. LangGraph-learn is designed to foster a collaborative learning environment for individuals interested in AI and machine learning. Our goal is to provide practical examples and tutorials that demonstrate how to use LangGraph, LangChain, and other related tools to build efficient and reusable workflows involving language models. To get started with LangGraph-learn, you will need to set up your environment. We welcome contributions to LangGraph-learn!\"}, {\"url\": \"https://langchain-ai.github.io/langgraph/tutorials/\", \"content\": \"Tutorials¶. New to LangGraph or LLM app development? Read this material to get up and running building your first applications. Get Started 🚀¶. LangGraph Quickstart: Build a chatbot that can use tools and keep track of conversation history.Add human-in-the-loop capabilities and explore how time-travel works.\"}]\n",
      "==================================\u001b[1m Ai Message \u001b[0m==================================\n",
      "\n",
      "Here are some useful materials to help you learn about LangGraph:\n",
      "\n",
      "1. **Official Documentation**:\n",
      "   - [LangGraph Documentation](https://langchain-ai.github.io/langgraph/): This is the comprehensive guide for LangGraph, including tutorials and how-to guides. It's a great starting point for understanding the framework and its capabilities.\n",
      "\n",
      "2. **Tutorials**:\n",
      "   - [LangGraph Tutorials](https://langchain-ai.github.io/langgraph/tutorials/): This section provides step-by-step tutorials for building applications with LangGraph, including a quickstart guide for creating a chatbot.\n",
      "\n",
      "3. **Community Learning Resources**:\n",
      "   - [LangGraph-learn GitHub Repository](https://github.com/LangGraph-GUI/LangGraph-learn/): This is a community-driven project that offers hands-on examples and resources for mastering LangGraph and related AI topics. It’s a collaborative environment aimed at helping you build efficient workflows.\n",
      "\n",
      "4. **Reddit Discussions**:\n",
      "   - [Human Intervention in Agent Workflows](https://www.reddit.com/r/LangChain/comments/1bjnmu4/human_intervention_in_agent_workflows/): A discussion about integrating human-in-the-loop components in workflows using LangGraph.\n",
      "   - [Quality Assurance Automation with LangGraph](https://www.reddit.com/r/LangChain/comments/1bsblmu/langgraph_workflow_for_quality_assurance/): An exploration of automating quality assurance processes using LangGraph.\n",
      "\n",
      "These resources should provide a solid foundation for learning about LangGraph and its applications in language model workflows.\n"
     ]
    }
   ],
   "source": [
    "# Pass the `updated_state` to the config. This involves passing an arbitrarily updated state.\n",
    "for event in graph.stream(None, updated_state, stream_mode=\"values\"):\n",
    "    # If the message is included in the event\n",
    "    if \"messages\" in event:\n",
    "        # display the last message\n",
    "        event[\"messages\"][-1].pretty_print()"
   ]
  },
  {
   "cell_type": "markdown",
   "id": "c8dedf06",
   "metadata": {},
   "source": [
    "Output the final result.\n",
    "\n",
    "The `config` used here is not to retrieve the final state but serves as the initial `config` to obtain the final state."
   ]
  },
  {
   "cell_type": "code",
   "execution_count": 38,
   "id": "24d3e865",
   "metadata": {},
   "outputs": [
    {
     "name": "stdout",
     "output_type": "stream",
     "text": [
      "================================\u001b[1m Human Message \u001b[0m=================================\n",
      "\n",
      "I want to learn about LangGraph. Can you recommend useful materials?\n",
      "==================================\u001b[1m Ai Message \u001b[0m==================================\n",
      "Tool Calls:\n",
      "  tavily_search_results_json (call_Pa7kfeWiSrkamTkxb06T7RVh)\n",
      " Call ID: call_Pa7kfeWiSrkamTkxb06T7RVh\n",
      "  Args:\n",
      "    query: LangGraph human-in-the-loop workflow site:reddit.com\n",
      "=================================\u001b[1m Tool Message \u001b[0m=================================\n",
      "Name: tavily_search_results_json\n",
      "\n",
      "[{\"url\": \"https://www.reddit.com/r/LangChain/comments/1bjnmu4/human_intervention_in_agent_workflows/\", \"content\": \"When building LLM workflows with LangChain/LangGraph what's the best way to build a node in the workflow where a human can validate/approve/reject a flow? I know there is a Human-in-the-loop component in LangGraph that will prompt the user for input. But what if I'm not creating a user-initiated chat conversation, but a flow that reacts to e.g\"}, {\"url\": \"https://www.reddit.com/r/LangChain/comments/1bsblmu/langgraph_workflow_for_quality_assurance/\", \"content\": \"Get app Get the Reddit app Log In Log in to Reddit Get the Reddit app I've been working on a concept to automate the Quality Assurance (QA) process for complex legal documents using LangGraph, aiming to streamline the workflow, reduce manual effort, and improve compliance efficiency. Handling specific parts of the QA process using AI rather human reviews, from initial document submission to final approval. Policy Compliance Checker Node (PCCN): Checks documents against policy rules. Quality Assurance Node (QAN): Final review to ensure document quality. Has anyone automated a Quality Assurance process with langchain/graph? Communities Best of Reddit Topics Reddit, Inc. Password New to Reddit? Enter the 6-digit code from your authenticator app Use a code from an authenticator app Password Password Choose a Reddit account to continue\"}, {\"url\": \"https://www.reddit.com/r/LangChain/comments/1cvavh7/example_of_a_chatless_agentic_workflow_that_keeps/\", \"content\": \"Reddit - Dive into anything r/LangChain A chip A close button Get app Get the Reddit app Log In Log in to Reddit Log In / Sign Up Advertise on Reddit Shop Collectible Avatars Get the Reddit app Go to LangChain r/LangChain r/LangChain Communities Best of Reddit Topics Reddit, Inc. Password New to Reddit? Enter the 6-digit code from your authenticator app Check code Use a code from an authenticator app Check code Reddit is anonymous, so your username is what you’ll go by here. Password Reddit is anonymous, so your username is what you’ll go by here. Password Enter your email address or username and we’ll send you a link to reset your password Choose a Reddit account to continue\"}]\n",
      "==================================\u001b[1m Ai Message \u001b[0m==================================\n",
      "Tool Calls:\n",
      "  tavily_search_results_json (call_DCQqwmy0nPwdE8KvUu7DH6sy)\n",
      " Call ID: call_DCQqwmy0nPwdE8KvUu7DH6sy\n",
      "  Args:\n",
      "    query: LangGraph resources tutorials documentation\n",
      "=================================\u001b[1m Tool Message \u001b[0m=================================\n",
      "Name: tavily_search_results_json\n",
      "\n",
      "[{\"url\": \"https://langchain-ai.github.io/langgraph/\", \"content\": \"Documentation¶ Tutorials: Learn to build with LangGraph through guided examples. How-to Guides: Accomplish specific things within LangGraph, from streaming, to adding memory & persistence, to common design patterns (branching, subgraphs, etc.), these are the place to go if you want to copy and run a specific code snippet.\"}, {\"url\": \"https://github.com/LangGraph-GUI/LangGraph-learn/\", \"content\": \"GitHub - LangGraph-GUI/LangGraph-learn: learning resource of langgraph for dummy Search code, repositories, users, issues, pull requests... LangGraph-learn Welcome to LangGraph-learn, a community-driven project aimed at mastering LangGraph and other AI-related topics. This repository provides a variety of hands-on examples and resources to help you learn how to create and manage language model workflows using LangGraph and related tools. LangGraph-learn is designed to foster a collaborative learning environment for individuals interested in AI and machine learning. Our goal is to provide practical examples and tutorials that demonstrate how to use LangGraph, LangChain, and other related tools to build efficient and reusable workflows involving language models. To get started with LangGraph-learn, you will need to set up your environment. We welcome contributions to LangGraph-learn!\"}, {\"url\": \"https://langchain-ai.github.io/langgraph/tutorials/\", \"content\": \"Tutorials¶. New to LangGraph or LLM app development? Read this material to get up and running building your first applications. Get Started 🚀¶. LangGraph Quickstart: Build a chatbot that can use tools and keep track of conversation history.Add human-in-the-loop capabilities and explore how time-travel works.\"}]\n",
      "==================================\u001b[1m Ai Message \u001b[0m==================================\n",
      "\n",
      "Here are some useful materials to help you learn about LangGraph:\n",
      "\n",
      "1. **Official Documentation**:\n",
      "   - [LangGraph Documentation](https://langchain-ai.github.io/langgraph/): This is the comprehensive guide for LangGraph, including tutorials and how-to guides. It's a great starting point for understanding the framework and its capabilities.\n",
      "\n",
      "2. **Tutorials**:\n",
      "   - [LangGraph Tutorials](https://langchain-ai.github.io/langgraph/tutorials/): This section provides step-by-step tutorials for building applications with LangGraph, including a quickstart guide for creating a chatbot.\n",
      "\n",
      "3. **Community Learning Resources**:\n",
      "   - [LangGraph-learn GitHub Repository](https://github.com/LangGraph-GUI/LangGraph-learn/): This is a community-driven project that offers hands-on examples and resources for mastering LangGraph and related AI topics. It’s a collaborative environment aimed at helping you build efficient workflows.\n",
      "\n",
      "4. **Reddit Discussions**:\n",
      "   - [Human Intervention in Agent Workflows](https://www.reddit.com/r/LangChain/comments/1bjnmu4/human_intervention_in_agent_workflows/): A discussion about integrating human-in-the-loop components in workflows using LangGraph.\n",
      "   - [Quality Assurance Automation with LangGraph](https://www.reddit.com/r/LangChain/comments/1bsblmu/langgraph_workflow_for_quality_assurance/): An exploration of automating quality assurance processes using LangGraph.\n",
      "\n",
      "These resources should provide a solid foundation for learning about LangGraph and its applications in language model workflows.\n"
     ]
    }
   ],
   "source": [
    "# Output the final result\n",
    "for msg in graph.get_state(config).values[\"messages\"]:\n",
    "    msg.pretty_print()"
   ]
  }
 ],
 "metadata": {
  "kernelspec": {
   "display_name": "langchain-kr-lwwSZlnu-py3.11",
   "language": "python",
   "name": "python3"
  },
  "language_info": {
   "codemirror_mode": {
    "name": "ipython",
    "version": 3
   },
   "file_extension": ".py",
   "mimetype": "text/x-python",
   "name": "python",
   "nbconvert_exporter": "python",
   "pygments_lexer": "ipython3",
   "version": "3.10.9"
  }
 },
 "nbformat": 4,
 "nbformat_minor": 5
}
