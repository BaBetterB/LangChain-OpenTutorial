{
 "cells": [
  {
   "cell_type": "markdown",
   "metadata": {},
   "source": [
    "# JSON\n",
    "\n",
    "Let's look at how to load files with the `.json` extension using a loader.\n",
    "\n",
    "- Author: [leebeanbin](https://github.com/leebeanbin)\n",
    "- Design:\n",
    "- Peer Review : [syshin0116](https://github.com/syshin0116), [Teddy Lee](https://github.com/teddylee777)\n",
    "- Proofread: \n",
    "- This is a part of [LangChain Open Tutorial](https://github.com/LangChain-OpenTutorial/LangChain-OpenTutorial/tree/main/06-DocumentLoader)\n",
    "\n",
    "[![Open in Colab](https://colab.research.google.com/assets/colab-badge.svg)](https://colab.research.google.com/github/LangChain-OpenTutorial/LangChain-OpenTutorial/blob/main/06-DocumentLoader/10-JSON-Loader.ipynb) [![Open in GitHub](https://img.shields.io/badge/Open%20in%20GitHub-181717?style=flat-square&logo=github&logoColor=white)](https://github.com/LangChain-OpenTutorial/LangChain-OpenTutorial/blob/main/06-DocumentLoader/10-JSON-Loader.ipynb)\n",
    "\n",
    "## Environment Setup\n",
    "\n",
    "Setting up your environment is the first step. See the [Environment Setup](https://wikidocs.net/257836) guide for more details.\n",
    "\n",
    "**[Note]**\n",
    "- The `langchain-opentutorial` is a bundle of easy-to-use environment setup guidance, useful functions and utilities for tutorials.\n",
    "- Check out the [`langchain-opentutorial`](https://github.com/LangChain-OpenTutorial/langchain-opentutorial-pypi) for more details.\n",
    "\n",
    "## Overview\n",
    "This tutorial demonstrates how to use LangChain's JSONLoader to load and process JSON files. We'll explore how to extract specific data from structured JSON files using jq-style queries.\n",
    "\n",
    "### Table of Contents\n",
    "- [Environment Set up](#environment-setup)\n",
    "- [JSON](#json)\n",
    "- [Overview](#overview)\n",
    "- [Generate JSON Data](#generate-json-data)\n",
    "- [JSONLoader](#jsonloader)\n",
    "  \n",
    "When you want to extract values under the content field within the message key of JSON data, you can easily do this using JSONLoader as shown below.\n",
    "\n",
    "\n",
    "### reference\n",
    "- https://python.langchain.com/docs/how_to/document_loader_json/"
   ]
  },
  {
   "cell_type": "markdown",
   "metadata": {},
   "source": [
    "## Environment Setup\n",
    "\n",
    "Set up the environment. You may refer to [Environment Setup](https://wikidocs.net/257836) for more details.\n",
    "\n",
    "[Note]\n",
    "- `langchain-opentutorial` is a package that provides a set of easy-to-use environment setup, useful functions and utilities for tutorials. \n",
    "- You can check out the [`langchain-opentutorial`](https://github.com/LangChain-OpenTutorial/langchain-opentutorial-pypi) for more details.\n"
   ]
  },
  {
   "cell_type": "code",
   "execution_count": 2,
   "metadata": {
    "ExecuteTime": {
     "end_time": "2025-01-15T15:41:12.573841Z",
     "start_time": "2025-01-15T15:41:11.543850Z"
    }
   },
   "outputs": [],
   "source": [
    "%%capture --no-stderr\n",
    "%pip install langchain-opentutorial"
   ]
  },
  {
   "cell_type": "code",
   "execution_count": 5,
   "metadata": {
    "ExecuteTime": {
     "end_time": "2025-01-15T15:41:52.291361Z",
     "start_time": "2025-01-15T15:41:51.196674Z"
    }
   },
   "outputs": [],
   "source": [
    "# Install required packages\n",
    "from langchain_opentutorial import package\n",
    "\n",
    "package.install(\n",
    "    [\n",
    "        \"langsmith\",\n",
    "        \"langchain\",\n",
    "        \"langchain_community\",\n",
    "        \"langchain_openai\"\n",
    "    ],\n",
    "    verbose=False,\n",
    "    upgrade=True,\n",
    ")"
   ]
  },
  {
   "cell_type": "code",
   "execution_count": 4,
   "metadata": {
    "ExecuteTime": {
     "end_time": "2025-01-15T15:41:47.390589Z",
     "start_time": "2025-01-15T15:41:45.746900Z"
    }
   },
   "outputs": [
    {
     "name": "stdout",
     "output_type": "stream",
     "text": [
      "Requirement already satisfied: rq in /Users/leejungbin/Library/Caches/pypoetry/virtualenvs/langchain-opentutorial-LGorndcz-py3.11/lib/python3.11/site-packages (2.1.0)\r\n",
      "Requirement already satisfied: click>=5 in /Users/leejungbin/Library/Caches/pypoetry/virtualenvs/langchain-opentutorial-LGorndcz-py3.11/lib/python3.11/site-packages (from rq) (8.1.8)\r\n",
      "Requirement already satisfied: redis>=3.5 in /Users/leejungbin/Library/Caches/pypoetry/virtualenvs/langchain-opentutorial-LGorndcz-py3.11/lib/python3.11/site-packages (from rq) (5.2.1)\r\n",
      "Note: you may need to restart the kernel to use updated packages.\n"
     ]
    }
   ],
   "source": [
    "%pip install rq"
   ]
  },
  {
   "cell_type": "markdown",
   "metadata": {},
   "source": [
    "You can alternatively set `OPENAI_API_KEY` in `.env` file and load it. \n",
    "\n",
    "[Note] This is not necessary if you've already set `OPENAI_API_KEY` in previous steps."
   ]
  },
  {
   "cell_type": "code",
   "execution_count": null,
   "metadata": {},
   "outputs": [],
   "source": [
    "# Set environment variables\n",
    "from langchain_opentutorial import set_env\n",
    "\n",
    "set_env(\n",
    "    {\n",
    "        \"OPENAI_API_KEY\": \"\",\n",
    "        \"LANGCHAIN_API_KEY\": \"\",\n",
    "        \"LANGCHAIN_TRACING_V2\": \"true\",\n",
    "        \"LANGCHAIN_ENDPOINT\": \"https://api.smith.langchain.com\",\n",
    "        \"LANGCHAIN_PROJECT\": \"09-JSONLoader\",\n",
    "    }\n",
    ")"
   ]
  },
  {
   "cell_type": "code",
   "execution_count": 6,
   "metadata": {
    "ExecuteTime": {
     "end_time": "2025-01-15T15:43:02.972522Z",
     "start_time": "2025-01-15T15:43:02.928063Z"
    }
   },
   "outputs": [
    {
     "data": {
      "text/plain": [
       "True"
      ]
     },
     "execution_count": 6,
     "metadata": {},
     "output_type": "execute_result"
    }
   ],
   "source": [
    "# Load environment variables\n",
    "# Reload any variables that need to be overwritten from the previous cell\n",
    "\n",
    "from dotenv import load_dotenv\n",
    "\n",
    "load_dotenv(override=True)"
   ]
  },
  {
   "cell_type": "markdown",
   "metadata": {},
   "source": [
    "## Generate JSON Data\n",
    "\n",
    "---\n",
    "\n",
    "if you want to generate JSON data, you can use the following code.\n"
   ]
  },
  {
   "cell_type": "code",
   "execution_count": 7,
   "metadata": {
    "ExecuteTime": {
     "end_time": "2025-01-15T15:43:38.820498Z",
     "start_time": "2025-01-15T15:43:18.827444Z"
    }
   },
   "outputs": [
    {
     "name": "stdout",
     "output_type": "stream",
     "text": [
      "Generated and saved JSON data:\n",
      "{'people': [{'address': {'city': 'Springfield',\n",
      "                         'state': 'IL',\n",
      "                         'street': '123 Maple Street',\n",
      "                         'zipCode': '62701'},\n",
      "             'age': 29,\n",
      "             'contactDetails': {'email': 'alice.johnson@example.com',\n",
      "                                'phone': '+1-555-0123'},\n",
      "             'interestingFacts': ['Has visited 15 countries',\n",
      "                                  'Speaks 3 languages fluently',\n",
      "                                  'Loves to try new recipes every week'],\n",
      "             'name': 'Alice Johnson',\n",
      "             'personalPreferences': {'favoriteColor': 'Blue',\n",
      "                                     'favoriteCuisine': 'Italian',\n",
      "                                     'hobbies': ['Photography',\n",
      "                                                 'Traveling',\n",
      "                                                 'Cooking']}},\n",
      "            {'address': {'city': 'Metropolis',\n",
      "                         'state': 'NY',\n",
      "                         'street': '456 Oak Avenue',\n",
      "                         'zipCode': '10001'},\n",
      "             'age': 34,\n",
      "             'contactDetails': {'email': 'bob.smith@example.com',\n",
      "                                'phone': '+1-555-0456'},\n",
      "             'interestingFacts': ['Completed a marathon last year',\n",
      "                                  'Is a certified yoga instructor',\n",
      "                                  'Has a collection of over 200 video games'],\n",
      "             'name': 'Bob Smith',\n",
      "             'personalPreferences': {'favoriteColor': 'Green',\n",
      "                                     'favoriteCuisine': 'Mexican',\n",
      "                                     'hobbies': ['Cycling',\n",
      "                                                 'Reading',\n",
      "                                                 'Gaming']}},\n",
      "            {'address': {'city': 'Gotham',\n",
      "                         'state': 'NJ',\n",
      "                         'street': '789 Pine Lane',\n",
      "                         'zipCode': '07001'},\n",
      "             'age': 42,\n",
      "             'contactDetails': {'email': 'charlie.davis@example.com',\n",
      "                                'phone': '+1-555-0789'},\n",
      "             'interestingFacts': ['Has built his own cabin in the woods',\n",
      "                                  'Loves to go fishing every weekend',\n",
      "                                  'Is a member of a local hiking club'],\n",
      "             'name': 'Charlie Davis',\n",
      "             'personalPreferences': {'favoriteColor': 'Red',\n",
      "                                     'favoriteCuisine': 'American',\n",
      "                                     'hobbies': ['Hiking',\n",
      "                                                 'Fishing',\n",
      "                                                 'Woodworking']}},\n",
      "            {'address': {'city': 'Themyscira',\n",
      "                         'state': 'WA',\n",
      "                         'street': '321 Birch Road',\n",
      "                         'zipCode': '98001'},\n",
      "             'age': 26,\n",
      "             'contactDetails': {'email': 'diana.prince@example.com',\n",
      "                                'phone': '+1-555-0912'},\n",
      "             'interestingFacts': ['Practices martial arts for over 10 years',\n",
      "                                  'Volunteers at a local animal shelter',\n",
      "                                  'Has a pet rescue dog named Zeus'],\n",
      "             'name': 'Diana Prince',\n",
      "             'personalPreferences': {'favoriteColor': 'Purple',\n",
      "                                     'favoriteCuisine': 'Greek',\n",
      "                                     'hobbies': ['Martial Arts',\n",
      "                                                 'Reading',\n",
      "                                                 'Volunteering']}},\n",
      "            {'address': {'city': 'Mission City',\n",
      "                         'state': 'CA',\n",
      "                         'street': '654 Cedar Boulevard',\n",
      "                         'zipCode': '90210'},\n",
      "             'age': 38,\n",
      "             'contactDetails': {'email': 'ethan.hunt@example.com',\n",
      "                                'phone': '+1-555-1234'},\n",
      "             'interestingFacts': ['Has gone skydiving over 20 times',\n",
      "                                  'Runs a travel blog with over 50,000 '\n",
      "                                  'followers',\n",
      "                                  'Is a sushi-making enthusiast'],\n",
      "             'name': 'Ethan Hunt',\n",
      "             'personalPreferences': {'favoriteColor': 'Black',\n",
      "                                     'favoriteCuisine': 'Japanese',\n",
      "                                     'hobbies': ['Skydiving',\n",
      "                                                 'Travel Blogging',\n",
      "                                                 'Cooking']}}]}\n"
     ]
    }
   ],
   "source": [
    "from langchain import PromptTemplate\n",
    "from langchain_openai import ChatOpenAI\n",
    "from pathlib import Path\n",
    "from dotenv import load_dotenv\n",
    "from pprint import pprint\n",
    "import json\n",
    "import os\n",
    "\n",
    "# Load .env file\n",
    "load_dotenv()\n",
    "\n",
    "# Initialize ChatOpenAI\n",
    "llm = ChatOpenAI(\n",
    "    model=\"gpt-4o-mini\",\n",
    "    temperature=0.7,\n",
    "    model_kwargs={\"response_format\": {\"type\": \"json_object\"}}\n",
    ")\n",
    "\n",
    "# Create prompt template\n",
    "prompt = PromptTemplate(\n",
    "    input_variables=[],\n",
    "    template=\"\"\"Generate a JSON array containing detailed personal information for 5 people. \n",
    "        Include various fields like name, age, contact details, address, personal preferences, and any other interesting information you think would be relevant.\"\"\"\n",
    ")\n",
    "\n",
    "# Create and invoke runnable sequence using the new pipe syntax\n",
    "response = (prompt | llm).invoke({})\n",
    "generated_data = json.loads(response.content)\n",
    "\n",
    "# Save to JSON file\n",
    "current_dir = Path().absolute()\n",
    "data_dir = current_dir / \"data\"\n",
    "data_dir.mkdir(exist_ok=True)\n",
    "\n",
    "file_path = data_dir / \"people.json\"\n",
    "with open(file_path, \"w\", encoding=\"utf-8\") as f:\n",
    "    json.dump(generated_data, f, ensure_ascii=False, indent=2)\n",
    "\n",
    "print(\"Generated and saved JSON data:\")\n",
    "pprint(generated_data)"
   ]
  },
  {
   "cell_type": "markdown",
   "metadata": {},
   "source": [
    "The case of loading JSON data is as follows when you want to load your own JSON data."
   ]
  },
  {
   "cell_type": "code",
   "execution_count": 8,
   "metadata": {
    "ExecuteTime": {
     "end_time": "2025-01-15T15:43:48.302353Z",
     "start_time": "2025-01-15T15:43:48.281593Z"
    }
   },
   "outputs": [
    {
     "name": "stdout",
     "output_type": "stream",
     "text": [
      "{'people': [{'address': {'city': 'Springfield',\n",
      "                         'state': 'IL',\n",
      "                         'street': '123 Maple Street',\n",
      "                         'zipCode': '62701'},\n",
      "             'age': 29,\n",
      "             'contactDetails': {'email': 'alice.johnson@example.com',\n",
      "                                'phone': '+1-555-0123'},\n",
      "             'interestingFacts': ['Has visited 15 countries',\n",
      "                                  'Speaks 3 languages fluently',\n",
      "                                  'Loves to try new recipes every week'],\n",
      "             'name': 'Alice Johnson',\n",
      "             'personalPreferences': {'favoriteColor': 'Blue',\n",
      "                                     'favoriteCuisine': 'Italian',\n",
      "                                     'hobbies': ['Photography',\n",
      "                                                 'Traveling',\n",
      "                                                 'Cooking']}},\n",
      "            {'address': {'city': 'Metropolis',\n",
      "                         'state': 'NY',\n",
      "                         'street': '456 Oak Avenue',\n",
      "                         'zipCode': '10001'},\n",
      "             'age': 34,\n",
      "             'contactDetails': {'email': 'bob.smith@example.com',\n",
      "                                'phone': '+1-555-0456'},\n",
      "             'interestingFacts': ['Completed a marathon last year',\n",
      "                                  'Is a certified yoga instructor',\n",
      "                                  'Has a collection of over 200 video games'],\n",
      "             'name': 'Bob Smith',\n",
      "             'personalPreferences': {'favoriteColor': 'Green',\n",
      "                                     'favoriteCuisine': 'Mexican',\n",
      "                                     'hobbies': ['Cycling',\n",
      "                                                 'Reading',\n",
      "                                                 'Gaming']}},\n",
      "            {'address': {'city': 'Gotham',\n",
      "                         'state': 'NJ',\n",
      "                         'street': '789 Pine Lane',\n",
      "                         'zipCode': '07001'},\n",
      "             'age': 42,\n",
      "             'contactDetails': {'email': 'charlie.davis@example.com',\n",
      "                                'phone': '+1-555-0789'},\n",
      "             'interestingFacts': ['Has built his own cabin in the woods',\n",
      "                                  'Loves to go fishing every weekend',\n",
      "                                  'Is a member of a local hiking club'],\n",
      "             'name': 'Charlie Davis',\n",
      "             'personalPreferences': {'favoriteColor': 'Red',\n",
      "                                     'favoriteCuisine': 'American',\n",
      "                                     'hobbies': ['Hiking',\n",
      "                                                 'Fishing',\n",
      "                                                 'Woodworking']}},\n",
      "            {'address': {'city': 'Themyscira',\n",
      "                         'state': 'WA',\n",
      "                         'street': '321 Birch Road',\n",
      "                         'zipCode': '98001'},\n",
      "             'age': 26,\n",
      "             'contactDetails': {'email': 'diana.prince@example.com',\n",
      "                                'phone': '+1-555-0912'},\n",
      "             'interestingFacts': ['Practices martial arts for over 10 years',\n",
      "                                  'Volunteers at a local animal shelter',\n",
      "                                  'Has a pet rescue dog named Zeus'],\n",
      "             'name': 'Diana Prince',\n",
      "             'personalPreferences': {'favoriteColor': 'Purple',\n",
      "                                     'favoriteCuisine': 'Greek',\n",
      "                                     'hobbies': ['Martial Arts',\n",
      "                                                 'Reading',\n",
      "                                                 'Volunteering']}},\n",
      "            {'address': {'city': 'Mission City',\n",
      "                         'state': 'CA',\n",
      "                         'street': '654 Cedar Boulevard',\n",
      "                         'zipCode': '90210'},\n",
      "             'age': 38,\n",
      "             'contactDetails': {'email': 'ethan.hunt@example.com',\n",
      "                                'phone': '+1-555-1234'},\n",
      "             'interestingFacts': ['Has gone skydiving over 20 times',\n",
      "                                  'Runs a travel blog with over 50,000 '\n",
      "                                  'followers',\n",
      "                                  'Is a sushi-making enthusiast'],\n",
      "             'name': 'Ethan Hunt',\n",
      "             'personalPreferences': {'favoriteColor': 'Black',\n",
      "                                     'favoriteCuisine': 'Japanese',\n",
      "                                     'hobbies': ['Skydiving',\n",
      "                                                 'Travel Blogging',\n",
      "                                                 'Cooking']}}]}\n"
     ]
    }
   ],
   "source": [
    "import json\n",
    "from pathlib import Path\n",
    "from pprint import pprint\n",
    "\n",
    "\n",
    "file_path = \"data/people.json\"\n",
    "data = json.loads(Path(file_path).read_text())\n",
    "\n",
    "pprint(data)"
   ]
  },
  {
   "cell_type": "code",
   "execution_count": 9,
   "metadata": {
    "ExecuteTime": {
     "end_time": "2025-01-15T15:43:51.528403Z",
     "start_time": "2025-01-15T15:43:51.521987Z"
    }
   },
   "outputs": [
    {
     "name": "stdout",
     "output_type": "stream",
     "text": [
      "<class 'dict'>\n"
     ]
    }
   ],
   "source": [
    "print(type(data))"
   ]
  },
  {
   "cell_type": "markdown",
   "metadata": {},
   "source": [
    "## JSONLoader\n",
    "\n",
    "---\n",
    "\n",
    "When you want to extract values under the content field within the message key of JSON data, you can easily do this using JSONLoader as shown below."
   ]
  },
  {
   "cell_type": "markdown",
   "metadata": {},
   "source": [
    "### Basic Usage"
   ]
  },
  {
   "cell_type": "code",
   "execution_count": 10,
   "metadata": {
    "ExecuteTime": {
     "end_time": "2025-01-15T15:45:27.522400Z",
     "start_time": "2025-01-15T15:45:27.312572Z"
    }
   },
   "outputs": [
    {
     "name": "stdout",
     "output_type": "stream",
     "text": [
      "[Document(metadata={'source': '/Users/leejungbin/Downloads/LangChain-OpenTutorial/06-DocumentLoader/data/people.json', 'seq_num': 1}, page_content='{\"name\": \"Alice Johnson\", \"age\": 29, \"contactDetails\": {\"email\": \"alice.johnson@example.com\", \"phone\": \"+1-555-0123\"}, \"address\": {\"street\": \"123 Maple Street\", \"city\": \"Springfield\", \"state\": \"IL\", \"zipCode\": \"62701\"}, \"personalPreferences\": {\"favoriteColor\": \"Blue\", \"hobbies\": [\"Photography\", \"Traveling\", \"Cooking\"], \"favoriteCuisine\": \"Italian\"}, \"interestingFacts\": [\"Has visited 15 countries\", \"Speaks 3 languages fluently\", \"Loves to try new recipes every week\"]}'),\n",
      " Document(metadata={'source': '/Users/leejungbin/Downloads/LangChain-OpenTutorial/06-DocumentLoader/data/people.json', 'seq_num': 2}, page_content='{\"name\": \"Bob Smith\", \"age\": 34, \"contactDetails\": {\"email\": \"bob.smith@example.com\", \"phone\": \"+1-555-0456\"}, \"address\": {\"street\": \"456 Oak Avenue\", \"city\": \"Metropolis\", \"state\": \"NY\", \"zipCode\": \"10001\"}, \"personalPreferences\": {\"favoriteColor\": \"Green\", \"hobbies\": [\"Cycling\", \"Reading\", \"Gaming\"], \"favoriteCuisine\": \"Mexican\"}, \"interestingFacts\": [\"Completed a marathon last year\", \"Is a certified yoga instructor\", \"Has a collection of over 200 video games\"]}'),\n",
      " Document(metadata={'source': '/Users/leejungbin/Downloads/LangChain-OpenTutorial/06-DocumentLoader/data/people.json', 'seq_num': 3}, page_content='{\"name\": \"Charlie Davis\", \"age\": 42, \"contactDetails\": {\"email\": \"charlie.davis@example.com\", \"phone\": \"+1-555-0789\"}, \"address\": {\"street\": \"789 Pine Lane\", \"city\": \"Gotham\", \"state\": \"NJ\", \"zipCode\": \"07001\"}, \"personalPreferences\": {\"favoriteColor\": \"Red\", \"hobbies\": [\"Hiking\", \"Fishing\", \"Woodworking\"], \"favoriteCuisine\": \"American\"}, \"interestingFacts\": [\"Has built his own cabin in the woods\", \"Loves to go fishing every weekend\", \"Is a member of a local hiking club\"]}'),\n",
      " Document(metadata={'source': '/Users/leejungbin/Downloads/LangChain-OpenTutorial/06-DocumentLoader/data/people.json', 'seq_num': 4}, page_content='{\"name\": \"Diana Prince\", \"age\": 26, \"contactDetails\": {\"email\": \"diana.prince@example.com\", \"phone\": \"+1-555-0912\"}, \"address\": {\"street\": \"321 Birch Road\", \"city\": \"Themyscira\", \"state\": \"WA\", \"zipCode\": \"98001\"}, \"personalPreferences\": {\"favoriteColor\": \"Purple\", \"hobbies\": [\"Martial Arts\", \"Reading\", \"Volunteering\"], \"favoriteCuisine\": \"Greek\"}, \"interestingFacts\": [\"Practices martial arts for over 10 years\", \"Volunteers at a local animal shelter\", \"Has a pet rescue dog named Zeus\"]}'),\n",
      " Document(metadata={'source': '/Users/leejungbin/Downloads/LangChain-OpenTutorial/06-DocumentLoader/data/people.json', 'seq_num': 5}, page_content='{\"name\": \"Ethan Hunt\", \"age\": 38, \"contactDetails\": {\"email\": \"ethan.hunt@example.com\", \"phone\": \"+1-555-1234\"}, \"address\": {\"street\": \"654 Cedar Boulevard\", \"city\": \"Mission City\", \"state\": \"CA\", \"zipCode\": \"90210\"}, \"personalPreferences\": {\"favoriteColor\": \"Black\", \"hobbies\": [\"Skydiving\", \"Travel Blogging\", \"Cooking\"], \"favoriteCuisine\": \"Japanese\"}, \"interestingFacts\": [\"Has gone skydiving over 20 times\", \"Runs a travel blog with over 50,000 followers\", \"Is a sushi-making enthusiast\"]}')]\n"
     ]
    }
   ],
   "source": [
    "from langchain_community.document_loaders import JSONLoader\n",
    "\n",
    "# Create JSONLoader\n",
    "loader = JSONLoader(\n",
    "    file_path=\"data/people.json\",\n",
    "    jq_schema=\".people[]\",  # Access each item in the people array\n",
    "    text_content=False,\n",
    ")\n",
    "\n",
    "# Load documents\n",
    "docs = loader.load()\n",
    "pprint(docs)"
   ]
  },
  {
   "cell_type": "markdown",
   "metadata": {},
   "source": [
    "### Loading Each Person as a Separate Document\n",
    "\n",
    "We can load each person object from `people.json` as an individual document using the `jq_schema=\".people[]\"`"
   ]
  },
  {
   "cell_type": "code",
   "execution_count": 7,
   "metadata": {},
   "outputs": [
    {
     "data": {
      "text/plain": [
       "[Document(metadata={'source': '/Users/leejungbin/Downloads/LangChain-OpenTutorial/06-DocumentLoader/data/people.json', 'seq_num': 1}, page_content='{\"name\": \"Alice Johnson\", \"age\": 29, \"contactDetails\": {\"email\": \"alice.johnson@example.com\", \"phone\": \"+1-555-0123\"}, \"address\": {\"street\": \"123 Maple Street\", \"city\": \"Springfield\", \"state\": \"IL\", \"zipCode\": \"62701\"}, \"personalPreferences\": {\"favoriteColor\": \"Blue\", \"hobbies\": [\"Photography\", \"Traveling\", \"Cooking\"], \"favoriteCuisine\": \"Italian\"}, \"interestingFacts\": [\"Has visited 15 countries\", \"Speaks 3 languages fluently\", \"Loves to try new recipes every week\"]}'),\n",
       " Document(metadata={'source': '/Users/leejungbin/Downloads/LangChain-OpenTutorial/06-DocumentLoader/data/people.json', 'seq_num': 2}, page_content='{\"name\": \"Bob Smith\", \"age\": 34, \"contactDetails\": {\"email\": \"bob.smith@example.com\", \"phone\": \"+1-555-0456\"}, \"address\": {\"street\": \"456 Oak Avenue\", \"city\": \"Metropolis\", \"state\": \"NY\", \"zipCode\": \"10001\"}, \"personalPreferences\": {\"favoriteColor\": \"Green\", \"hobbies\": [\"Cycling\", \"Reading\", \"Gaming\"], \"favoriteCuisine\": \"Mexican\"}, \"interestingFacts\": [\"Completed a marathon last year\", \"Is a certified yoga instructor\", \"Has a collection of over 200 video games\"]}'),\n",
       " Document(metadata={'source': '/Users/leejungbin/Downloads/LangChain-OpenTutorial/06-DocumentLoader/data/people.json', 'seq_num': 3}, page_content='{\"name\": \"Charlie Davis\", \"age\": 42, \"contactDetails\": {\"email\": \"charlie.davis@example.com\", \"phone\": \"+1-555-0789\"}, \"address\": {\"street\": \"789 Pine Lane\", \"city\": \"Gotham\", \"state\": \"NJ\", \"zipCode\": \"07001\"}, \"personalPreferences\": {\"favoriteColor\": \"Red\", \"hobbies\": [\"Hiking\", \"Fishing\", \"Woodworking\"], \"favoriteCuisine\": \"American\"}, \"interestingFacts\": [\"Has built his own cabin in the woods\", \"Loves to go fishing every weekend\", \"Is a member of a local hiking club\"]}'),\n",
       " Document(metadata={'source': '/Users/leejungbin/Downloads/LangChain-OpenTutorial/06-DocumentLoader/data/people.json', 'seq_num': 4}, page_content='{\"name\": \"Diana Prince\", \"age\": 26, \"contactDetails\": {\"email\": \"diana.prince@example.com\", \"phone\": \"+1-555-0912\"}, \"address\": {\"street\": \"321 Birch Road\", \"city\": \"Themyscira\", \"state\": \"WA\", \"zipCode\": \"98001\"}, \"personalPreferences\": {\"favoriteColor\": \"Purple\", \"hobbies\": [\"Martial Arts\", \"Reading\", \"Volunteering\"], \"favoriteCuisine\": \"Greek\"}, \"interestingFacts\": [\"Practices martial arts for over 10 years\", \"Volunteers at a local animal shelter\", \"Has a pet rescue dog named Zeus\"]}'),\n",
       " Document(metadata={'source': '/Users/leejungbin/Downloads/LangChain-OpenTutorial/06-DocumentLoader/data/people.json', 'seq_num': 5}, page_content='{\"name\": \"Ethan Hunt\", \"age\": 38, \"contactDetails\": {\"email\": \"ethan.hunt@example.com\", \"phone\": \"+1-555-1234\"}, \"address\": {\"street\": \"654 Cedar Boulevard\", \"city\": \"Mission City\", \"state\": \"CA\", \"zipCode\": \"90210\"}, \"personalPreferences\": {\"favoriteColor\": \"Black\", \"hobbies\": [\"Skydiving\", \"Travel Blogging\", \"Cooking\"], \"favoriteCuisine\": \"Japanese\"}, \"interestingFacts\": [\"Has gone skydiving over 20 times\", \"Runs a travel blog with over 50,000 followers\", \"Is a sushi-making enthusiast\"]}')]"
      ]
     },
     "execution_count": 7,
     "metadata": {},
     "output_type": "execute_result"
    }
   ],
   "source": [
    "loader = JSONLoader(\n",
    "    file_path=\"data/people.json\",\n",
    "    jq_schema=\".people[]\",\n",
    "    text_content=False,\n",
    ")\n",
    "\n",
    "data = loader.load()\n",
    "data"
   ]
  },
  {
   "cell_type": "markdown",
   "metadata": {},
   "source": [
    "### Using `content_key` within `jq_schema`\n",
    "\n",
    "To load documents from a JSON file using `content_key` within the `jq_schema`, set `is_content_key_jq_parsable=True`. Ensure that `content_key` is compatible and can be parsed using the `jq_schema`."
   ]
  },
  {
   "cell_type": "code",
   "execution_count": 8,
   "metadata": {},
   "outputs": [
    {
     "data": {
      "text/plain": [
       "[Document(metadata={'source': '/Users/leejungbin/Downloads/LangChain-OpenTutorial/06-DocumentLoader/data/people.json', 'seq_num': 1}, page_content='Alice Johnson'),\n",
       " Document(metadata={'source': '/Users/leejungbin/Downloads/LangChain-OpenTutorial/06-DocumentLoader/data/people.json', 'seq_num': 2}, page_content='Bob Smith'),\n",
       " Document(metadata={'source': '/Users/leejungbin/Downloads/LangChain-OpenTutorial/06-DocumentLoader/data/people.json', 'seq_num': 3}, page_content='Charlie Davis'),\n",
       " Document(metadata={'source': '/Users/leejungbin/Downloads/LangChain-OpenTutorial/06-DocumentLoader/data/people.json', 'seq_num': 4}, page_content='Diana Prince'),\n",
       " Document(metadata={'source': '/Users/leejungbin/Downloads/LangChain-OpenTutorial/06-DocumentLoader/data/people.json', 'seq_num': 5}, page_content='Ethan Hunt')]"
      ]
     },
     "execution_count": 8,
     "metadata": {},
     "output_type": "execute_result"
    }
   ],
   "source": [
    "loader = JSONLoader(\n",
    "    file_path=\"data/people.json\",\n",
    "    jq_schema=\".people[]\",\n",
    "    content_key=\"name\",\n",
    "    text_content=False\n",
    ")\n",
    "\n",
    "data = loader.load()\n",
    "data"
   ]
  },
  {
   "cell_type": "markdown",
   "metadata": {},
   "source": [
    "### Extracting Metadata from `people.json`\n",
    "\n",
    "Let's define a `metadata_func` to extract relevant information like name, age, and city from each person object.\n"
   ]
  },
  {
   "cell_type": "code",
   "execution_count": 9,
   "metadata": {},
   "outputs": [
    {
     "data": {
      "text/plain": [
       "[Document(metadata={'source': '/Users/leejungbin/Downloads/LangChain-OpenTutorial/06-DocumentLoader/data/people.json', 'seq_num': 1, 'name': 'Alice Johnson', 'age': 29, 'city': 'Springfield'}, page_content='Alice Johnson'),\n",
       " Document(metadata={'source': '/Users/leejungbin/Downloads/LangChain-OpenTutorial/06-DocumentLoader/data/people.json', 'seq_num': 2, 'name': 'Bob Smith', 'age': 34, 'city': 'Metropolis'}, page_content='Bob Smith'),\n",
       " Document(metadata={'source': '/Users/leejungbin/Downloads/LangChain-OpenTutorial/06-DocumentLoader/data/people.json', 'seq_num': 3, 'name': 'Charlie Davis', 'age': 42, 'city': 'Gotham'}, page_content='Charlie Davis'),\n",
       " Document(metadata={'source': '/Users/leejungbin/Downloads/LangChain-OpenTutorial/06-DocumentLoader/data/people.json', 'seq_num': 4, 'name': 'Diana Prince', 'age': 26, 'city': 'Themyscira'}, page_content='Diana Prince'),\n",
       " Document(metadata={'source': '/Users/leejungbin/Downloads/LangChain-OpenTutorial/06-DocumentLoader/data/people.json', 'seq_num': 5, 'name': 'Ethan Hunt', 'age': 38, 'city': 'Mission City'}, page_content='Ethan Hunt')]"
      ]
     },
     "execution_count": 9,
     "metadata": {},
     "output_type": "execute_result"
    }
   ],
   "source": [
    "def metadata_func(record: dict, metadata: dict) -> dict:\n",
    "    metadata[\"name\"] = record.get(\"name\")\n",
    "    metadata[\"age\"] = record.get(\"age\")\n",
    "    metadata[\"city\"] = record.get(\"address\", {}).get(\"city\")\n",
    "    return metadata\n",
    "\n",
    "loader = JSONLoader(\n",
    "    file_path=\"data/people.json\",\n",
    "    jq_schema=\".people[]\",\n",
    "    content_key=\"name\",\n",
    "    metadata_func=metadata_func,\n",
    "    text_content=False\n",
    ")\n",
    "\n",
    "data = loader.load()\n",
    "data"
   ]
  },
  {
   "cell_type": "markdown",
   "metadata": {},
   "source": [
    "### Understanding JSON Query Syntax\n",
    "\n",
    "Let's explore the basic syntax of jq-style queries used in JSONLoader:\n",
    "\n",
    "1. Basic Selectors\n",
    "   - `.` : Current object\n",
    "   - `.key` : Access specific key in object\n",
    "   - `.[]` : Iterate over array elements\n",
    "\n",
    "2. Pipe Operator\n",
    "   - `|` : Pass result of left expression as input to right expression\n",
    "   \n",
    "3. Object Construction\n",
    "   - `{key: value}` : Create new object\n",
    "\n",
    "Example JSON:\n",
    "```json\n",
    "{\n",
    "  \"people\": [\n",
    "    {\"name\": \"Alice\", \"age\": 30, \"contactDetails\": {\"email\": \"alice@example.com\", \"phone\": \"123-456-7890\"}},\n",
    "    {\"name\": \"Bob\", \"age\": 25, \"contactDetails\": {\"email\": \"bob@example.com\", \"phone\": \"098-765-4321\"}}\n",
    "  ]\n",
    "}\n",
    "```\n",
    "\n",
    "**Common Query Patterns**:\n",
    "- `.people[]` : Access each array element\n",
    "- `.people[].name` : Get all names\n",
    "- `.people[] | {name: .name}` : Create new object with name\n",
    "- `.people[] | {name, email: .contact.email}` : Extract nested data\n",
    "\n",
    "[Note] \n",
    "- Always use `text_content=False` when working with complex JSON data\n",
    "- This ensures proper handling of non-string values (objects, arrays, numbers)"
   ]
  },
  {
   "cell_type": "markdown",
   "metadata": {},
   "source": [
    "### Advanced Queries\n",
    "\n",
    "Here are examples of extracting specific information using different jq schemas:"
   ]
  },
  {
   "cell_type": "code",
   "execution_count": 22,
   "metadata": {
    "ExecuteTime": {
     "end_time": "2025-01-15T15:52:35.336989Z",
     "start_time": "2025-01-15T15:52:35.308059Z"
    }
   },
   "outputs": [
    {
     "data": {
      "text/plain": [
       "[Document(metadata={'source': '/Users/leejungbin/Downloads/LangChain-OpenTutorial/06-DocumentLoader/data/people.json', 'seq_num': 1}, page_content='{\"name\": \"Alice Johnson\", \"contact\": {\"email\": \"alice.johnson@example.com\", \"phone\": \"+1-555-0123\"}}'),\n",
       " Document(metadata={'source': '/Users/leejungbin/Downloads/LangChain-OpenTutorial/06-DocumentLoader/data/people.json', 'seq_num': 2}, page_content='{\"name\": \"Bob Smith\", \"contact\": {\"email\": \"bob.smith@example.com\", \"phone\": \"+1-555-0456\"}}'),\n",
       " Document(metadata={'source': '/Users/leejungbin/Downloads/LangChain-OpenTutorial/06-DocumentLoader/data/people.json', 'seq_num': 3}, page_content='{\"name\": \"Charlie Davis\", \"contact\": {\"email\": \"charlie.davis@example.com\", \"phone\": \"+1-555-0789\"}}'),\n",
       " Document(metadata={'source': '/Users/leejungbin/Downloads/LangChain-OpenTutorial/06-DocumentLoader/data/people.json', 'seq_num': 4}, page_content='{\"name\": \"Diana Prince\", \"contact\": {\"email\": \"diana.prince@example.com\", \"phone\": \"+1-555-0912\"}}'),\n",
       " Document(metadata={'source': '/Users/leejungbin/Downloads/LangChain-OpenTutorial/06-DocumentLoader/data/people.json', 'seq_num': 5}, page_content='{\"name\": \"Ethan Hunt\", \"contact\": {\"email\": \"ethan.hunt@example.com\", \"phone\": \"+1-555-1234\"}}')]"
      ]
     },
     "execution_count": 22,
     "metadata": {},
     "output_type": "execute_result"
    }
   ],
   "source": [
    "# Extract only contact details\n",
    "contact_loader = JSONLoader(\n",
    "    file_path=\"data/people.json\",\n",
    "    jq_schema=\".people[] | {name: .name, contact: .contactDetails}\",\n",
    "    text_content=False\n",
    ")\n",
    "\n",
    "docs = contact_loader.load()\n",
    "docs"
   ]
  },
  {
   "cell_type": "code",
   "execution_count": 21,
   "metadata": {
    "ExecuteTime": {
     "end_time": "2025-01-15T15:52:28.373220Z",
     "start_time": "2025-01-15T15:52:28.336252Z"
    }
   },
   "outputs": [
    {
     "data": {
      "text/plain": [
       "[Document(metadata={'source': '/Users/leejungbin/Downloads/LangChain-OpenTutorial/06-DocumentLoader/data/people.json', 'seq_num': 1}, page_content='{\"name\": \"Alice Johnson\", \"hobbies\": [\"Photography\", \"Traveling\", \"Cooking\"]}'),\n",
       " Document(metadata={'source': '/Users/leejungbin/Downloads/LangChain-OpenTutorial/06-DocumentLoader/data/people.json', 'seq_num': 2}, page_content='{\"name\": \"Bob Smith\", \"hobbies\": [\"Cycling\", \"Reading\", \"Gaming\"]}'),\n",
       " Document(metadata={'source': '/Users/leejungbin/Downloads/LangChain-OpenTutorial/06-DocumentLoader/data/people.json', 'seq_num': 3}, page_content='{\"name\": \"Charlie Davis\", \"hobbies\": [\"Hiking\", \"Fishing\", \"Woodworking\"]}'),\n",
       " Document(metadata={'source': '/Users/leejungbin/Downloads/LangChain-OpenTutorial/06-DocumentLoader/data/people.json', 'seq_num': 4}, page_content='{\"name\": \"Diana Prince\", \"hobbies\": [\"Martial Arts\", \"Reading\", \"Volunteering\"]}'),\n",
       " Document(metadata={'source': '/Users/leejungbin/Downloads/LangChain-OpenTutorial/06-DocumentLoader/data/people.json', 'seq_num': 5}, page_content='{\"name\": \"Ethan Hunt\", \"hobbies\": [\"Skydiving\", \"Travel Blogging\", \"Cooking\"]}')]"
      ]
     },
     "execution_count": 21,
     "metadata": {},
     "output_type": "execute_result"
    }
   ],
   "source": [
    "docs = loader.load()\n",
    "\n",
    "# Extract nested data\n",
    "hobbies_loader = JSONLoader(\n",
    "    file_path=\"data/people.json\",\n",
    "    jq_schema=\".people[] | {name: .name, hobbies: .personalPreferences.hobbies}\",\n",
    "    text_content=False\n",
    ")\n",
    "\n",
    "docs = hobbies_loader.load()\n",
    "docs"
   ]
  },
  {
   "cell_type": "code",
   "execution_count": 23,
   "metadata": {
    "ExecuteTime": {
     "end_time": "2025-01-15T15:53:06.021705Z",
     "start_time": "2025-01-15T15:53:06.003135Z"
    }
   },
   "outputs": [
    {
     "data": {
      "text/plain": [
       "[Document(metadata={'source': '/Users/leejungbin/Downloads/LangChain-OpenTutorial/06-DocumentLoader/data/people.json', 'seq_num': 1}, page_content='{\"name\": \"Alice Johnson\", \"facts\": [\"Has visited 15 countries\", \"Speaks 3 languages fluently\", \"Loves to try new recipes every week\"]}'),\n",
       " Document(metadata={'source': '/Users/leejungbin/Downloads/LangChain-OpenTutorial/06-DocumentLoader/data/people.json', 'seq_num': 2}, page_content='{\"name\": \"Bob Smith\", \"facts\": [\"Completed a marathon last year\", \"Is a certified yoga instructor\", \"Has a collection of over 200 video games\"]}'),\n",
       " Document(metadata={'source': '/Users/leejungbin/Downloads/LangChain-OpenTutorial/06-DocumentLoader/data/people.json', 'seq_num': 3}, page_content='{\"name\": \"Charlie Davis\", \"facts\": [\"Has built his own cabin in the woods\", \"Loves to go fishing every weekend\", \"Is a member of a local hiking club\"]}'),\n",
       " Document(metadata={'source': '/Users/leejungbin/Downloads/LangChain-OpenTutorial/06-DocumentLoader/data/people.json', 'seq_num': 4}, page_content='{\"name\": \"Diana Prince\", \"facts\": [\"Practices martial arts for over 10 years\", \"Volunteers at a local animal shelter\", \"Has a pet rescue dog named Zeus\"]}'),\n",
       " Document(metadata={'source': '/Users/leejungbin/Downloads/LangChain-OpenTutorial/06-DocumentLoader/data/people.json', 'seq_num': 5}, page_content='{\"name\": \"Ethan Hunt\", \"facts\": [\"Has gone skydiving over 20 times\", \"Runs a travel blog with over 50,000 followers\", \"Is a sushi-making enthusiast\"]}')]"
      ]
     },
     "execution_count": 23,
     "metadata": {},
     "output_type": "execute_result"
    }
   ],
   "source": [
    "# Get all interesting facts\n",
    "facts_loader = JSONLoader(\n",
    "    file_path=\"data/people.json\",\n",
    "    jq_schema=\".people[] | {name: .name, facts: .interestingFacts}\",\n",
    "    text_content=False\n",
    ")\n",
    "\n",
    "docs = facts_loader.load()\n",
    "docs"
   ]
  },
  {
   "cell_type": "code",
   "execution_count": 25,
   "metadata": {
    "ExecuteTime": {
     "end_time": "2025-01-15T15:56:02.311901Z",
     "start_time": "2025-01-15T15:56:02.274901Z"
    }
   },
   "outputs": [
    {
     "data": {
      "text/plain": [
       "[Document(metadata={'source': '/Users/leejungbin/Downloads/LangChain-OpenTutorial/06-DocumentLoader/data/people.json', 'seq_num': 1}, page_content='{\"name\": \"Alice Johnson\", \"contact\": {\"email\": \"alice.johnson@example.com\", \"phone\": \"+1-555-0123\"}}'),\n",
       " Document(metadata={'source': '/Users/leejungbin/Downloads/LangChain-OpenTutorial/06-DocumentLoader/data/people.json', 'seq_num': 2}, page_content='{\"name\": \"Bob Smith\", \"contact\": {\"email\": \"bob.smith@example.com\", \"phone\": \"+1-555-0456\"}}'),\n",
       " Document(metadata={'source': '/Users/leejungbin/Downloads/LangChain-OpenTutorial/06-DocumentLoader/data/people.json', 'seq_num': 3}, page_content='{\"name\": \"Charlie Davis\", \"contact\": {\"email\": \"charlie.davis@example.com\", \"phone\": \"+1-555-0789\"}}'),\n",
       " Document(metadata={'source': '/Users/leejungbin/Downloads/LangChain-OpenTutorial/06-DocumentLoader/data/people.json', 'seq_num': 4}, page_content='{\"name\": \"Diana Prince\", \"contact\": {\"email\": \"diana.prince@example.com\", \"phone\": \"+1-555-0912\"}}'),\n",
       " Document(metadata={'source': '/Users/leejungbin/Downloads/LangChain-OpenTutorial/06-DocumentLoader/data/people.json', 'seq_num': 5}, page_content='{\"name\": \"Ethan Hunt\", \"contact\": {\"email\": \"ethan.hunt@example.com\", \"phone\": \"+1-555-1234\"}}')]"
      ]
     },
     "execution_count": 25,
     "metadata": {},
     "output_type": "execute_result"
    }
   ],
   "source": [
    "# Extract email and phone together\n",
    "contact_info = JSONLoader(\n",
    "    file_path=\"data/people.json\",\n",
    "    jq_schema='.people[] | {name: .name, email: .contactDetails.email, phone: .contactDetails.phone}',\n",
    "    text_content=False\n",
    ")\n",
    "\n",
    "docs = contact_loader.load()\n",
    "docs"
   ]
  },
  {
   "cell_type": "markdown",
   "metadata": {},
   "source": [
    "These examples demonstrate the flexibility of jq queries in fetching data in various ways."
   ]
  }
 ],
 "metadata": {
  "kernelspec": {
   "display_name": "langchain-opentutorial-LGorndcz-py3.11",
   "language": "python",
   "name": "python3"
  },
  "language_info": {
   "codemirror_mode": {
    "name": "ipython",
    "version": 3
   },
   "file_extension": ".py",
   "mimetype": "text/x-python",
   "name": "python",
   "nbconvert_exporter": "python",
   "pygments_lexer": "ipython3",
   "version": "3.11.10"
  }
 },
 "nbformat": 4,
 "nbformat_minor": 2
}
